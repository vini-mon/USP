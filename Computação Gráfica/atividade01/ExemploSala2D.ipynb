{
 "cells": [
  {
   "cell_type": "markdown",
   "metadata": {},
   "source": [
    "# Praticando transformação geométrica 2D"
   ]
  },
  {
   "cell_type": "markdown",
   "metadata": {},
   "source": [
    "### Primeiro, vamos importar as bibliotecas necessárias.\n",
    "Verifique no código anterior um script para instalar as dependências necessárias (OpenGL e GLFW) antes de prosseguir."
   ]
  },
  {
   "cell_type": "code",
   "execution_count": 345,
   "metadata": {},
   "outputs": [],
   "source": [
    "import glfw\n",
    "from OpenGL.GL import *\n",
    "import OpenGL.GL.shaders\n",
    "import numpy as np\n",
    "import math"
   ]
  },
  {
   "cell_type": "markdown",
   "metadata": {},
   "source": [
    "### Inicializando janela"
   ]
  },
  {
   "cell_type": "code",
   "execution_count": 346,
   "metadata": {},
   "outputs": [],
   "source": [
    "glfw.init()\n",
    "glfw.window_hint(glfw.VISIBLE, glfw.FALSE);\n",
    "window = glfw.create_window(800, 800, \"Transformação Geométrica\", None, None)\n",
    "glfw.make_context_current(window)"
   ]
  },
  {
   "cell_type": "markdown",
   "metadata": {},
   "source": [
    "### GLSL (OpenGL Shading Language)\n",
    "\n",
    "Aqui veremos nosso primeiro código GLSL.\n",
    "\n",
    "É uma linguagem de shading de alto nível baseada na linguagem de programação C.\n",
    "\n",
    "Nós estamos escrevendo código GLSL como se \"strings\" de uma variável (mas podemos ler de arquivos texto). Esse código, depois, terá que ser compilado e linkado ao nosso programa. \n",
    "\n",
    "Iremos aprender GLSL conforme a necessidade do curso. Usarmos uma versão do GLSL mais antiga, compatível com muitos dispositivos."
   ]
  },
  {
   "cell_type": "markdown",
   "metadata": {},
   "source": [
    "### GLSL para Vertex Shader\n",
    "\n",
    "No Pipeline programável, podemos interagir com Vertex Shaders.\n",
    "\n",
    "No código abaixo, estamos fazendo o seguinte:\n",
    "\n",
    "* Definindo uma variável chamada position do tipo vec2.\n",
    "* Definindo uma variável chamada mat_transformation do tipo mat4 (matriz 4x4).\n",
    "* Usamos vec2, pois nosso programa (na CPU) irá enviar apenas duas coordenadas para plotar um ponto. Podemos mandar três coordenadas (vec3) e até mesmo quatro coordenadas (vec4).\n",
    "* void main() é o ponto de entrada do nosso programa (função principal)\n",
    "* gl_Position é uma variável especial do GLSL. Variáveis que começam com 'gl_' são desse tipo. Nesse caso, determina a posição de um vértice. Observe que todo vértice tem 4 coordenadas, por isso nós combinamos nossa variável vec2 com uma variável vec4. Além disso, nós modificamos nosso vetor com base em uma matriz de transformação."
   ]
  },
  {
   "cell_type": "code",
   "execution_count": 347,
   "metadata": {},
   "outputs": [],
   "source": [
    "vertex_code = \"\"\"\n",
    "        attribute vec2 position;\n",
    "        uniform mat4 mat;\n",
    "        void main(){\n",
    "            gl_Position = mat * vec4(position,0.0,1.0);\n",
    "        }\n",
    "        \"\"\""
   ]
  },
  {
   "cell_type": "markdown",
   "metadata": {},
   "source": [
    "### GLSL para Fragment Shader\n",
    "\n",
    "No Pipeline programável, podemos interagir com Fragment Shaders.\n",
    "\n",
    "No código abaixo, estamos fazendo o seguinte:\n",
    "\n",
    "* void main() é o ponto de entrada do nosso programa (função principal)\n",
    "* gl_FragColor é uma variável especial do GLSL. Variáveis que começam com 'gl_' são desse tipo. Nesse caso, determina a cor de um fragmento. Nesse caso é um ponto, mas poderia ser outro objeto (ponto, linha, triangulos, etc)."
   ]
  },
  {
   "cell_type": "markdown",
   "metadata": {},
   "source": [
    "### Possibilitando modificar a cor.\n",
    "\n",
    "Nos exemplos anteriores, a variável gl_FragColor estava definida de forma fixa (com cor R=0, G=0, B=0).\n",
    "\n",
    "Agora, nós vamos criar uma variável do tipo \"uniform\", de quatro posições (vec4), para receber o dado de cor do nosso programa rodando em CPU."
   ]
  },
  {
   "cell_type": "code",
   "execution_count": 348,
   "metadata": {},
   "outputs": [],
   "source": [
    "fragment_code = \"\"\"\n",
    "        void main(){\n",
    "            gl_FragColor = vec4(1.0,0.0,0.0,1.0);\n",
    "        }\n",
    "        \"\"\""
   ]
  },
  {
   "cell_type": "markdown",
   "metadata": {},
   "source": [
    "### Requisitando slot para a GPU para nossos programas Vertex e Fragment Shaders"
   ]
  },
  {
   "cell_type": "code",
   "execution_count": 349,
   "metadata": {},
   "outputs": [],
   "source": [
    "# Request a program and shader slots from GPU\n",
    "program  = glCreateProgram()\n",
    "vertex   = glCreateShader(GL_VERTEX_SHADER)\n",
    "fragment = glCreateShader(GL_FRAGMENT_SHADER)\n"
   ]
  },
  {
   "cell_type": "markdown",
   "metadata": {},
   "source": [
    "### Associando nosso código-fonte aos slots solicitados"
   ]
  },
  {
   "cell_type": "code",
   "execution_count": 350,
   "metadata": {},
   "outputs": [],
   "source": [
    "# Set shaders source\n",
    "glShaderSource(vertex, vertex_code)\n",
    "glShaderSource(fragment, fragment_code)"
   ]
  },
  {
   "cell_type": "markdown",
   "metadata": {},
   "source": [
    "### Compilando o Vertex Shader\n",
    "\n",
    "Se há algum erro em nosso programa Vertex Shader, nosso app para por aqui."
   ]
  },
  {
   "cell_type": "code",
   "execution_count": 351,
   "metadata": {},
   "outputs": [],
   "source": [
    "# Compile shaders\n",
    "glCompileShader(vertex)\n",
    "if not glGetShaderiv(vertex, GL_COMPILE_STATUS):\n",
    "    error = glGetShaderInfoLog(vertex).decode()\n",
    "    print(error)\n",
    "    raise RuntimeError(\"Erro de compilacao do Vertex Shader\")\n"
   ]
  },
  {
   "cell_type": "markdown",
   "metadata": {},
   "source": [
    "### Compilando o Fragment Shader\n",
    "\n",
    "Se há algum erro em nosso programa Fragment Shader, nosso app para por aqui."
   ]
  },
  {
   "cell_type": "code",
   "execution_count": 352,
   "metadata": {},
   "outputs": [],
   "source": [
    "glCompileShader(fragment)\n",
    "if not glGetShaderiv(fragment, GL_COMPILE_STATUS):\n",
    "    error = glGetShaderInfoLog(fragment).decode()\n",
    "    print(error)\n",
    "    raise RuntimeError(\"Erro de compilacao do Fragment Shader\")"
   ]
  },
  {
   "cell_type": "markdown",
   "metadata": {},
   "source": [
    "### Associando os programas compilado ao programa principal"
   ]
  },
  {
   "cell_type": "code",
   "execution_count": 353,
   "metadata": {},
   "outputs": [],
   "source": [
    "# Attach shader objects to the program\n",
    "glAttachShader(program, vertex)\n",
    "glAttachShader(program, fragment)\n"
   ]
  },
  {
   "cell_type": "markdown",
   "metadata": {},
   "source": [
    "### Linkagem do programa"
   ]
  },
  {
   "cell_type": "code",
   "execution_count": 354,
   "metadata": {},
   "outputs": [],
   "source": [
    "# Build program\n",
    "glLinkProgram(program)\n",
    "if not glGetProgramiv(program, GL_LINK_STATUS):\n",
    "    print(glGetProgramInfoLog(program))\n",
    "    raise RuntimeError('Linking error')\n",
    "    \n",
    "# Make program the default program\n",
    "glUseProgram(program)"
   ]
  },
  {
   "cell_type": "markdown",
   "metadata": {},
   "source": [
    "### Preparando dados para enviar a GPU\n",
    "\n",
    "Nesse momento, nós compilamos nossos Vertex e Program Shaders para que a GPU possa processá-los.\n",
    "\n",
    "Por outro lado, as informações de vértices geralmente estão na CPU e devem ser transmitidas para a GPU.\n"
   ]
  },
  {
   "cell_type": "code",
   "execution_count": 355,
   "metadata": {},
   "outputs": [],
   "source": [
    "# preparando espaço para 3 vértices usando 2 coordenadas (x,y)\n",
    "vertices = np.zeros(6, [(\"position\", np.float32, 2)])"
   ]
  },
  {
   "cell_type": "code",
   "execution_count": 356,
   "metadata": {},
   "outputs": [],
   "source": [
    "# preenchendo as coordenadas de cada vértice\n",
    "vertices['position'] = [\n",
    "                            ( 0.00, +0.05), \n",
    "                            (-0.05, -0.05), \n",
    "                            (+0.05, -0.05),\n",
    "                            ( 0.00, +0.01), \n",
    "                            (-0.01, -0.01), \n",
    "                            (+0.01, -0.01)\n",
    "                        ]"
   ]
  },
  {
   "cell_type": "markdown",
   "metadata": {},
   "source": [
    "### Para enviar nossos dados da CPU para a GPU, precisamos requisitar um slot."
   ]
  },
  {
   "cell_type": "code",
   "execution_count": 357,
   "metadata": {},
   "outputs": [],
   "source": [
    "# Request a buffer slot from GPU\n",
    "buffer = glGenBuffers(1)\n",
    "# Make this buffer the default one\n",
    "glBindBuffer(GL_ARRAY_BUFFER, buffer)\n"
   ]
  },
  {
   "cell_type": "markdown",
   "metadata": {},
   "source": [
    "### Abaixo, nós enviamos todo o conteúdo da variável vertices.\n",
    "\n",
    "Veja os parâmetros da função glBufferData [https://www.khronos.org/registry/OpenGL-Refpages/gl4/html/glBufferData.xhtml]"
   ]
  },
  {
   "cell_type": "code",
   "execution_count": 358,
   "metadata": {},
   "outputs": [],
   "source": [
    "# Upload data\n",
    "glBufferData(GL_ARRAY_BUFFER, vertices.nbytes, vertices, GL_DYNAMIC_DRAW)\n",
    "glBindBuffer(GL_ARRAY_BUFFER, buffer)"
   ]
  },
  {
   "cell_type": "markdown",
   "metadata": {},
   "source": [
    "### Associando variáveis do programa GLSL (Vertex Shaders) com nossos dados\n",
    "\n",
    "Primeiro, definimos o byte inicial e o offset dos dados."
   ]
  },
  {
   "cell_type": "code",
   "execution_count": 359,
   "metadata": {},
   "outputs": [],
   "source": [
    "# Bind the position attribute\n",
    "# --------------------------------------\n",
    "stride = vertices.strides[0]\n",
    "offset = ctypes.c_void_p(0)\n"
   ]
  },
  {
   "cell_type": "markdown",
   "metadata": {},
   "source": [
    "Em seguida, soliciamos à GPU a localização da variável \"position\" (que guarda coordenadas dos nossos vértices). Nós definimos essa variável no Vertex Shader."
   ]
  },
  {
   "cell_type": "code",
   "execution_count": 360,
   "metadata": {},
   "outputs": [],
   "source": [
    "loc = glGetAttribLocation(program, \"position\")\n",
    "glEnableVertexAttribArray(loc)"
   ]
  },
  {
   "cell_type": "markdown",
   "metadata": {},
   "source": [
    "A partir da localização anterior, nós indicamos à GPU onde está o conteúdo (via posições stride/offset) para a variável position (aqui identificada na posição loc).\n",
    "\n",
    "Outros parâmetros:\n",
    "\n",
    "* Definimos que possui duas coordenadas\n",
    "* Que cada coordenada é do tipo float (GL_FLOAT)\n",
    "* Que não se deve normalizar a coordenada (False)\n",
    "\n",
    "Mais detalhes: https://www.khronos.org/registry/OpenGL-Refpages/gl4/html/glVertexAttribPointer.xhtml"
   ]
  },
  {
   "cell_type": "code",
   "execution_count": 361,
   "metadata": {},
   "outputs": [],
   "source": [
    "glVertexAttribPointer(loc, 2, GL_FLOAT, False, stride, offset)"
   ]
  },
  {
   "cell_type": "markdown",
   "metadata": {},
   "source": [
    "### Capturando eventos de teclado e modificando variáveis para a matriz de transformação"
   ]
  },
  {
   "cell_type": "code",
   "execution_count": 362,
   "metadata": {},
   "outputs": [],
   "source": [
    "# translacao\n",
    "x_inc = 0.0\n",
    "y_inc = 0.0\n",
    "\n",
    "# rotacao\n",
    "r_inc = 0.0\n",
    "\n",
    "# coeficiente de escala\n",
    "s_inc = 1.0\n",
    "\n",
    "\n",
    "def key_event(window,key,scancode,action,mods):\n",
    "    global x_inc, y_inc, r_inc, s_inc\n",
    "    \n",
    "    if key == 263: x_inc -= 0.0001\n",
    "    if key == 262: x_inc += 0.0001\n",
    "\n",
    "    if key == 265: y_inc += 0.0001\n",
    "    if key == 264: y_inc -= 0.0001\n",
    "        \n",
    "    if key == 65: r_inc += 0.1\n",
    "    if key == 83: r_inc -= 0.1\n",
    "        \n",
    "    if key == 90: s_inc += 0.1\n",
    "    if key == 88: s_inc -= 0.1\n",
    "        \n",
    "    print(key)\n",
    "    print(x_inc,y_inc)\n",
    "        \n",
    "    #print(key)\n",
    "    \n",
    "glfw.set_key_callback(window,key_event)\n",
    "\n"
   ]
  },
  {
   "cell_type": "markdown",
   "metadata": {},
   "source": [
    "### Nesse momento, nós exibimos a janela!\n"
   ]
  },
  {
   "cell_type": "code",
   "execution_count": 363,
   "metadata": {},
   "outputs": [],
   "source": [
    "glfw.show_window(window)"
   ]
  },
  {
   "cell_type": "markdown",
   "metadata": {},
   "source": [
    "### Loop principal da janela.\n",
    "Enquanto a janela não for fechada, esse laço será executado. É neste espaço que trabalhamos com algumas interações com a OpenGL.\n",
    "\n",
    "A novidade agora é a função glDrawArrays()\n",
    "\n",
    "Tal função recebe o tipo de primitiva (GL_TRIANGLES), o índice inicial do array de vértices (vamos mostrar todos os três vértices, por isso começamos com 0) e a quantidade de vértices ( len(vertices) )."
   ]
  },
  {
   "cell_type": "code",
   "execution_count": 364,
   "metadata": {},
   "outputs": [
    {
     "name": "stdout",
     "output_type": "stream",
     "text": [
      "264\n",
      "0.0 -0.0001\n",
      "264\n",
      "0.0 -0.0002\n",
      "264\n",
      "0.0 -0.00030000000000000003\n",
      "264\n",
      "0.0 -0.0004\n",
      "263\n",
      "-0.0001 -0.0004\n",
      "263\n",
      "-0.0002 -0.0004\n",
      "265\n",
      "-0.0002 -0.00030000000000000003\n",
      "265\n",
      "-0.0002 -0.00020000000000000004\n",
      "265\n",
      "-0.0002 -0.00010000000000000003\n",
      "265\n",
      "-0.0002 -2.710505431213761e-20\n",
      "262\n",
      "-0.0001 -2.710505431213761e-20\n",
      "262\n",
      "0.0 -2.710505431213761e-20\n",
      "265\n",
      "0.0 9.999999999999998e-05\n",
      "265\n",
      "0.0 0.00019999999999999998\n",
      "264\n",
      "0.0 9.999999999999998e-05\n",
      "264\n",
      "0.0 -2.710505431213761e-20\n",
      "83\n",
      "0.0 -2.710505431213761e-20\n",
      "83\n",
      "0.0 -2.710505431213761e-20\n",
      "262\n",
      "0.0001 -2.710505431213761e-20\n",
      "262\n",
      "0.0002 -2.710505431213761e-20\n",
      "262\n",
      "0.00030000000000000003 -2.710505431213761e-20\n",
      "262\n",
      "0.0004 -2.710505431213761e-20\n",
      "263\n",
      "0.00030000000000000003 -2.710505431213761e-20\n",
      "263\n",
      "0.00020000000000000004 -2.710505431213761e-20\n",
      "263\n",
      "0.00010000000000000003 -2.710505431213761e-20\n",
      "263\n",
      "2.710505431213761e-20 -2.710505431213761e-20\n",
      "263\n",
      "-9.999999999999998e-05 -2.710505431213761e-20\n",
      "263\n",
      "-0.00019999999999999998 -2.710505431213761e-20\n",
      "263\n",
      "-0.0003 -2.710505431213761e-20\n",
      "263\n",
      "-0.00039999999999999996 -2.710505431213761e-20\n",
      "263\n",
      "-0.0005 -2.710505431213761e-20\n",
      "263\n",
      "-0.0006000000000000001 -2.710505431213761e-20\n",
      "263\n",
      "-0.0007000000000000001 -2.710505431213761e-20\n",
      "263\n",
      "-0.0008000000000000001 -2.710505431213761e-20\n",
      "263\n",
      "-0.0009000000000000002 -2.710505431213761e-20\n",
      "263\n",
      "-0.0010000000000000002 -2.710505431213761e-20\n",
      "264\n",
      "-0.0010000000000000002 -0.00010000000000000003\n",
      "264\n",
      "-0.0010000000000000002 -0.00020000000000000004\n",
      "265\n",
      "-0.0010000000000000002 -0.00010000000000000003\n",
      "265\n",
      "-0.0010000000000000002 -2.710505431213761e-20\n",
      "262\n",
      "-0.0009000000000000002 -2.710505431213761e-20\n",
      "262\n",
      "-0.0008000000000000001 -2.710505431213761e-20\n",
      "262\n",
      "-0.0007000000000000001 -2.710505431213761e-20\n",
      "262\n",
      "-0.0006000000000000001 -2.710505431213761e-20\n",
      "262\n",
      "-0.0005 -2.710505431213761e-20\n",
      "90\n",
      "-0.0005 -2.710505431213761e-20\n",
      "90\n",
      "-0.0005 -2.710505431213761e-20\n",
      "262\n",
      "-0.0004 -2.710505431213761e-20\n",
      "262\n",
      "-0.00030000000000000003 -2.710505431213761e-20\n",
      "262\n",
      "-0.00020000000000000004 -2.710505431213761e-20\n",
      "262\n",
      "-0.00010000000000000003 -2.710505431213761e-20\n",
      "262\n",
      "-2.710505431213761e-20 -2.710505431213761e-20\n",
      "262\n",
      "9.999999999999998e-05 -2.710505431213761e-20\n",
      "262\n",
      "0.00019999999999999998 -2.710505431213761e-20\n",
      "262\n",
      "0.0003 -2.710505431213761e-20\n",
      "262\n",
      "0.00039999999999999996 -2.710505431213761e-20\n",
      "262\n",
      "0.0005 -2.710505431213761e-20\n",
      "262\n",
      "0.0006000000000000001 -2.710505431213761e-20\n",
      "262\n",
      "0.0007000000000000001 -2.710505431213761e-20\n",
      "262\n",
      "0.0008000000000000001 -2.710505431213761e-20\n",
      "262\n",
      "0.0009000000000000002 -2.710505431213761e-20\n",
      "262\n",
      "0.0010000000000000002 -2.710505431213761e-20\n",
      "262\n",
      "0.0011000000000000003 -2.710505431213761e-20\n",
      "263\n",
      "0.0010000000000000002 -2.710505431213761e-20\n",
      "263\n",
      "0.0009000000000000002 -2.710505431213761e-20\n",
      "263\n",
      "0.0008000000000000001 -2.710505431213761e-20\n",
      "263\n",
      "0.0007000000000000001 -2.710505431213761e-20\n",
      "263\n",
      "0.0006000000000000001 -2.710505431213761e-20\n",
      "263\n",
      "0.0005 -2.710505431213761e-20\n",
      "263\n",
      "0.0004 -2.710505431213761e-20\n",
      "263\n",
      "0.00030000000000000003 -2.710505431213761e-20\n",
      "90\n",
      "0.00030000000000000003 -2.710505431213761e-20\n",
      "90\n",
      "0.00030000000000000003 -2.710505431213761e-20\n",
      "90\n",
      "0.00030000000000000003 -2.710505431213761e-20\n",
      "90\n",
      "0.00030000000000000003 -2.710505431213761e-20\n",
      "90\n",
      "0.00030000000000000003 -2.710505431213761e-20\n",
      "90\n",
      "0.00030000000000000003 -2.710505431213761e-20\n",
      "90\n",
      "0.00030000000000000003 -2.710505431213761e-20\n",
      "90\n",
      "0.00030000000000000003 -2.710505431213761e-20\n",
      "90\n",
      "0.00030000000000000003 -2.710505431213761e-20\n",
      "90\n",
      "0.00030000000000000003 -2.710505431213761e-20\n",
      "90\n",
      "0.00030000000000000003 -2.710505431213761e-20\n",
      "90\n",
      "0.00030000000000000003 -2.710505431213761e-20\n",
      "90\n",
      "0.00030000000000000003 -2.710505431213761e-20\n",
      "90\n",
      "0.00030000000000000003 -2.710505431213761e-20\n",
      "263\n",
      "0.00020000000000000004 -2.710505431213761e-20\n",
      "263\n",
      "0.00010000000000000003 -2.710505431213761e-20\n",
      "263\n",
      "2.710505431213761e-20 -2.710505431213761e-20\n",
      "263\n",
      "-9.999999999999998e-05 -2.710505431213761e-20\n",
      "262\n",
      "2.710505431213761e-20 -2.710505431213761e-20\n",
      "262\n",
      "0.00010000000000000003 -2.710505431213761e-20\n",
      "262\n",
      "0.00020000000000000004 -2.710505431213761e-20\n",
      "262\n",
      "0.00030000000000000003 -2.710505431213761e-20\n",
      "265\n",
      "0.00030000000000000003 9.999999999999998e-05\n",
      "265\n",
      "0.00030000000000000003 0.00019999999999999998\n",
      "264\n",
      "0.00030000000000000003 9.999999999999998e-05\n",
      "264\n",
      "0.00030000000000000003 -2.710505431213761e-20\n",
      "263\n",
      "0.00020000000000000004 -2.710505431213761e-20\n",
      "263\n",
      "0.00010000000000000003 -2.710505431213761e-20\n",
      "263\n",
      "2.710505431213761e-20 -2.710505431213761e-20\n",
      "263\n",
      "-9.999999999999998e-05 -2.710505431213761e-20\n",
      "263\n",
      "-0.00019999999999999998 -2.710505431213761e-20\n",
      "263\n",
      "-0.0003 -2.710505431213761e-20\n",
      "262\n",
      "-0.00019999999999999998 -2.710505431213761e-20\n",
      "262\n",
      "-9.999999999999998e-05 -2.710505431213761e-20\n",
      "264\n",
      "-9.999999999999998e-05 -0.00010000000000000003\n",
      "264\n",
      "-9.999999999999998e-05 -0.00020000000000000004\n",
      "265\n",
      "-9.999999999999998e-05 -0.00010000000000000003\n",
      "265\n",
      "-9.999999999999998e-05 -2.710505431213761e-20\n",
      "262\n",
      "2.710505431213761e-20 -2.710505431213761e-20\n",
      "262\n",
      "0.00010000000000000003 -2.710505431213761e-20\n",
      "342\n",
      "0.00010000000000000003 -2.710505431213761e-20\n",
      "342\n",
      "0.00010000000000000003 -2.710505431213761e-20\n"
     ]
    }
   ],
   "source": [
    "t_x = 0.0\n",
    "t_y = 0.0\n",
    "angulo = 0.0\n",
    "s_x = 1.0\n",
    "s_y = 1.0\n",
    "\n",
    "\n",
    "def multiplica_matriz(a,b):\n",
    "    m_a = a.reshape(4,4)\n",
    "    m_b = b.reshape(4,4)\n",
    "    m_c = np.dot(m_a,m_b)\n",
    "    c = m_c.reshape(1,16)\n",
    "    return c\n",
    "\n",
    "\n",
    "while not glfw.window_should_close(window):\n",
    "\n",
    "    t_x += x_inc\n",
    "    t_y += y_inc\n",
    "    angulo += r_inc\n",
    "    \n",
    "    s_x = s_inc\n",
    "    s_y = s_inc\n",
    "    \n",
    "    c = math.cos( math.radians(angulo) )\n",
    "    s = math.sin( math.radians(angulo) )\n",
    "    \n",
    "    glfw.poll_events() \n",
    "\n",
    "    \n",
    "    glClear(GL_COLOR_BUFFER_BIT) \n",
    "    glClearColor(1.0, 1.0, 1.0, 1.0)\n",
    "    \n",
    "    \n",
    "    #Draw Triangle\n",
    "    \n",
    "    mat_rotation = np.array([  c  , -s , 0.0, 0.0, \n",
    "                               s  , c  , 0.0, 0.0, \n",
    "                               0.0, 0.0, 1.0, 0.0, \n",
    "                               0.0, 0.0, 0.0, 1.0], np.float32)\n",
    "    \n",
    "    mat_scale =    np.array([  s_x  , 0.0 , 0.0, 0.0, \n",
    "                               0.0  , s_y  , 0.0, 0.0, \n",
    "                               0.0, 0.0, 1.0, 0.0, \n",
    "                               0.0, 0.0, 0.0, 1.0], np.float32)\n",
    "    \n",
    "    mat_translation = np.array([  1.0, 0.0, 0.0, t_x, \n",
    "                                  0.0, 1.0, 0.0, t_y, \n",
    "                                  0.0, 0.0, 1.0, 0.0, \n",
    "                                  0.0, 0.0, 0.0, 1.0], np.float32)\n",
    "    \n",
    "    \n",
    "#     #print(mat_rotation,\"\\n\\n\")\n",
    "\n",
    "    mat_transform = multiplica_matriz(mat_translation,mat_rotation)\n",
    "    mat_transform = multiplica_matriz(mat_transform,mat_scale)\n",
    "    \n",
    "\n",
    "    mat_identidade = np.array([  1.0, 0.0, 0.0, 0.0, \n",
    "                                  0.0, 1.0, 0.0, 0.0, \n",
    "                                  0.0, 0.0, 1.0, 0.0, \n",
    "                                  0.0, 0.0, 0.0, 1.0], np.float32)\n",
    "    \n",
    "    loc = glGetUniformLocation(program, \"mat\")\n",
    "    glUniformMatrix4fv(loc, 1, GL_TRUE, mat_transform)\n",
    "    glDrawArrays(GL_TRIANGLES, 0, 3)\n",
    "    \n",
    "    loc = glGetUniformLocation(program, \"mat\")\n",
    "    glUniformMatrix4fv(loc, 1, GL_TRUE, mat_rotation)\n",
    "    glDrawArrays(GL_TRIANGLES, 3, 3)\n",
    "    \n",
    "    \n",
    "\n",
    "\n",
    "    glfw.swap_buffers(window)\n",
    "\n",
    "glfw.terminate()"
   ]
  }
 ],
 "metadata": {
  "finalized": {
   "timestamp": 1598456757664,
   "trusted": true
  },
  "kernelspec": {
   "display_name": "Python 3",
   "language": "python",
   "name": "python3"
  },
  "language_info": {
   "codemirror_mode": {
    "name": "ipython",
    "version": 3
   },
   "file_extension": ".py",
   "mimetype": "text/x-python",
   "name": "python",
   "nbconvert_exporter": "python",
   "pygments_lexer": "ipython3",
   "version": "3.8.5"
  }
 },
 "nbformat": 4,
 "nbformat_minor": 2
}
