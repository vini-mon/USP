{
 "cells": [
  {
   "cell_type": "markdown",
   "metadata": {},
   "source": [
    "# Aula07.Ex03 - A matriz View - Passo a passo"
   ]
  },
  {
   "cell_type": "markdown",
   "metadata": {},
   "source": [
    "### Primeiro, vamos importar as bibliotecas necessárias.\n",
    "Verifique no código anterior um script para instalar as dependências necessárias (OpenGL e GLFW) antes de prosseguir."
   ]
  },
  {
   "cell_type": "code",
   "execution_count": 7,
   "metadata": {},
   "outputs": [],
   "source": [
    "import numpy as np\n",
    "import glm\n",
    "import math"
   ]
  },
  {
   "cell_type": "markdown",
   "metadata": {},
   "source": [
    "## Calculando Matriz View"
   ]
  },
  {
   "cell_type": "code",
   "execution_count": 8,
   "metadata": {},
   "outputs": [
    {
     "data": {
      "text/plain": [
       "array([0., 0., 1.])"
      ]
     },
     "execution_count": 8,
     "metadata": {},
     "output_type": "execute_result"
    }
   ],
   "source": [
    "cameraPos = np.array([0.0, 0.0, 2.0])\n",
    "cameraTarget = np.array([0.0, 0.0, 0.0])\n",
    "cameraUp = np.array([0.0, 1.0, 0.0])\n",
    "\n",
    "n = cameraPos-cameraTarget\n",
    "n = n / np.linalg.norm(n)\n",
    "n"
   ]
  },
  {
   "cell_type": "code",
   "execution_count": 9,
   "metadata": {},
   "outputs": [
    {
     "data": {
      "text/plain": [
       "array([1., 0., 0.])"
      ]
     },
     "execution_count": 9,
     "metadata": {},
     "output_type": "execute_result"
    }
   ],
   "source": [
    "u = np.cross(cameraUp, n)\n",
    "u = u / np.linalg.norm(u)\n",
    "u"
   ]
  },
  {
   "cell_type": "code",
   "execution_count": 10,
   "metadata": {},
   "outputs": [
    {
     "data": {
      "text/plain": [
       "array([0., 1., 0.])"
      ]
     },
     "execution_count": 10,
     "metadata": {},
     "output_type": "execute_result"
    }
   ],
   "source": [
    "v = np.cross(n, u)\n",
    "v"
   ]
  },
  {
   "cell_type": "code",
   "execution_count": 11,
   "metadata": {},
   "outputs": [
    {
     "data": {
      "text/plain": [
       "array([[ 1.,  0.,  0.,  0.],\n",
       "       [ 0.,  1.,  0.,  0.],\n",
       "       [ 0.,  0.,  1., -2.],\n",
       "       [ 0.,  0.,  0.,  1.]])"
      ]
     },
     "execution_count": 11,
     "metadata": {},
     "output_type": "execute_result"
    }
   ],
   "source": [
    "R = [\n",
    "        [u[0], u[1], u[2], 0.0],\n",
    "        [v[0], v[1], v[2], 0.0],\n",
    "        [n[0], n[1], n[2], 0.0],\n",
    "        [ 0.0,  0.0,  0.0, 1.0]\n",
    "    ]\n",
    "\n",
    "T = [\n",
    "        [1.0, 0.0, 0.0, -cameraPos[0]],\n",
    "        [0.0, 1.0, 0.0, -cameraPos[1]],\n",
    "        [0.0, 0.0, 1.0, -cameraPos[2]],\n",
    "        [0.0, 0.0, 0.0, 1.0          ],        \n",
    "    ]\n",
    "\n",
    "view = np.matmul(T,R)\n",
    "view"
   ]
  },
  {
   "cell_type": "markdown",
   "metadata": {},
   "source": [
    "## Calculando Matriz View com GLM"
   ]
  },
  {
   "cell_type": "code",
   "execution_count": 12,
   "metadata": {},
   "outputs": [
    {
     "data": {
      "text/plain": [
       "array([[ 1., -0.,  0., -0.],\n",
       "       [ 0.,  1.,  0., -0.],\n",
       "       [-0., -0.,  1., -2.],\n",
       "       [ 0.,  0.,  0.,  1.]], dtype=float32)"
      ]
     },
     "execution_count": 12,
     "metadata": {},
     "output_type": "execute_result"
    }
   ],
   "source": [
    "cameraPos = glm.vec3(0.0, 0.0, 2.0)\n",
    "cameraTarget = glm.vec3(0.0, 0.0, 0.0)\n",
    "cameraUp = glm.vec3(0.0, 1.0, 0.0)\n",
    "\n",
    "view = glm.lookAt(cameraPos, cameraTarget, cameraUp)\n",
    "np.array(view).T"
   ]
  }
 ],
 "metadata": {
  "finalized": {
   "timestamp": 1583114796072,
   "trusted": true
  },
  "kernelspec": {
   "display_name": "Python 3",
   "language": "python",
   "name": "python3"
  },
  "language_info": {
   "codemirror_mode": {
    "name": "ipython",
    "version": 3
   },
   "file_extension": ".py",
   "mimetype": "text/x-python",
   "name": "python",
   "nbconvert_exporter": "python",
   "pygments_lexer": "ipython3",
   "version": "3.7.1"
  }
 },
 "nbformat": 4,
 "nbformat_minor": 2
}
