{
 "cells": [
  {
   "cell_type": "markdown",
   "metadata": {},
   "source": [
    "# Aula07 - Transformações Geométricas 3D com a Biblioteca GLM\n",
    "\n",
    "Nas aulas anteriores, nós calculamos as operações de transformações geométricas de translação, rotação e escala por meio de multiplicação de suas respectivas matrizes. É uma estratégia didática interessante, pois ao implementar tais operações, o estudante acompanha os detalhes envolvidos nas transformações.\n",
    "\n",
    "A partir das aulas de Viewing 3D (Model, View e Projection) essas operações se tornarão muito mais frequentes e repetitivas. Dessa forma, agora iremos utilizar uma biblitoca de apoio chamada GLM (OpenGL Mathematics).\n",
    "\n",
    "https://glm.g-truc.net/"
   ]
  },
  {
   "cell_type": "markdown",
   "metadata": {},
   "source": [
    "## Instalando a biblioteca GLM\n",
    "\n",
    "A GLM está disponível para linguagens C/C++, Java e Python.\n",
    "\n",
    "* Usando GLM com GCC (https://github.com/g-truc/glm)\n",
    "* Usando GLM com Python (https://pypi.org/project/PyGLM/): pip install pyglm\n",
    "* Usando GLM com Java (https://github.com/kotlin-graphics/glm)"
   ]
  },
  {
   "cell_type": "markdown",
   "metadata": {},
   "source": [
    "## Importando a biblioteca GLM (Python)"
   ]
  },
  {
   "cell_type": "code",
   "execution_count": 2,
   "metadata": {},
   "outputs": [],
   "source": [
    "# !pip install pyglm\n",
    "import glm\n",
    "import numpy as np\n",
    "import math"
   ]
  },
  {
   "cell_type": "markdown",
   "metadata": {},
   "source": [
    "## Criando uma Matriz Identidade\n",
    "\n",
    "Uma matriz identidade (4x4) é usualmente o ponto de partida para várias transformações geométricas 3D"
   ]
  },
  {
   "cell_type": "code",
   "execution_count": 3,
   "metadata": {},
   "outputs": [
    {
     "data": {
      "text/plain": [
       "mat4x4( 1, 0, 0, 0 | 0, 1, 0, 0 | 0, 0, 1, 0 | 0, 0, 0, 1 )"
      ]
     },
     "execution_count": 3,
     "metadata": {},
     "output_type": "execute_result"
    }
   ],
   "source": [
    "matriz_identidade = glm.mat4(1.0)\n",
    "matriz_identidade"
   ]
  },
  {
   "cell_type": "markdown",
   "metadata": {},
   "source": [
    "Podemos converter o GLM para a estrutura do Numpy, na qual estamos acostumados até o momento."
   ]
  },
  {
   "cell_type": "code",
   "execution_count": 4,
   "metadata": {},
   "outputs": [
    {
     "data": {
      "text/plain": [
       "array([[1., 0., 0., 0.],\n",
       "       [0., 1., 0., 0.],\n",
       "       [0., 0., 1., 0.],\n",
       "       [0., 0., 0., 1.]], dtype=float32)"
      ]
     },
     "execution_count": 4,
     "metadata": {},
     "output_type": "execute_result"
    }
   ],
   "source": [
    "matriz_identidade_np = np.array(matriz_identidade).T # T obtem a transposta\n",
    "matriz_identidade_np"
   ]
  },
  {
   "cell_type": "markdown",
   "metadata": {},
   "source": [
    "## Translação\n",
    "\n",
    "* Primeiro vamos gerar a matriz translação 3D\n",
    "* Em seguida, vamos realizar a translação aplicando offsets em cada eixo: t_x, t_y, t_z"
   ]
  },
  {
   "cell_type": "code",
   "execution_count": 5,
   "metadata": {},
   "outputs": [
    {
     "data": {
      "text/plain": [
       "mat4x4( 1, 0, 0, 0 | 0, 1, 0, 0 | 0, 0, 1, 0 | -0.2, 0.5, 0.7, 1 )"
      ]
     },
     "execution_count": 5,
     "metadata": {},
     "output_type": "execute_result"
    }
   ],
   "source": [
    "t_x = -0.2\n",
    "t_y = +0.5\n",
    "t_z = +0.7\n",
    "matriz_translacao = glm.mat4(1.0) # inicializa uma matriz identidade\n",
    "matriz_translacao = glm.translate(matriz_translacao, glm.vec3(t_x, t_y, t_z))  # aplica translacao com base nos offsets  \n",
    "matriz_translacao"
   ]
  },
  {
   "cell_type": "markdown",
   "metadata": {},
   "source": [
    "Exibindo a matriz de translação no formato Numpy"
   ]
  },
  {
   "cell_type": "code",
   "execution_count": 6,
   "metadata": {},
   "outputs": [
    {
     "data": {
      "text/plain": [
       "array([[ 1. ,  0. ,  0. , -0.2],\n",
       "       [ 0. ,  1. ,  0. ,  0.5],\n",
       "       [ 0. ,  0. ,  1. ,  0.7],\n",
       "       [ 0. ,  0. ,  0. ,  1. ]], dtype=float32)"
      ]
     },
     "execution_count": 6,
     "metadata": {},
     "output_type": "execute_result"
    }
   ],
   "source": [
    "matriz_translacao = np.array(matriz_translacao).T # T obtem a transposta\n",
    "matriz_translacao"
   ]
  },
  {
   "cell_type": "markdown",
   "metadata": {},
   "source": [
    "## Escala\n",
    "* Primeiro vamos gerar a matriz rotação 3D\n",
    "* Em seguida, vamos aplicar escala a partir dos fatores em cada eixo: s_x, s_y, s_z"
   ]
  },
  {
   "cell_type": "code",
   "execution_count": 7,
   "metadata": {},
   "outputs": [
    {
     "data": {
      "text/plain": [
       "mat4x4( 0.5, 0, 0, 0 | 0, 1.5, 0, 0 | 0, 0, 2.5, 0 | 0, 0, 0, 1 )"
      ]
     },
     "execution_count": 7,
     "metadata": {},
     "output_type": "execute_result"
    }
   ],
   "source": [
    "s_x = 0.5\n",
    "s_y = 1.5\n",
    "s_z = 2.5\n",
    "\n",
    "matriz_escala = glm.mat4(1.0) # inicializa uma matriz identidade\n",
    "matriz_escala = glm.scale(matriz_escala, glm.vec3(s_x, s_y, s_z))  # aplica escala\n",
    "matriz_escala"
   ]
  },
  {
   "cell_type": "code",
   "execution_count": 8,
   "metadata": {},
   "outputs": [
    {
     "data": {
      "text/plain": [
       "array([[0.5, 0. , 0. , 0. ],\n",
       "       [0. , 1.5, 0. , 0. ],\n",
       "       [0. , 0. , 2.5, 0. ],\n",
       "       [0. , 0. , 0. , 1. ]], dtype=float32)"
      ]
     },
     "execution_count": 8,
     "metadata": {},
     "output_type": "execute_result"
    }
   ],
   "source": [
    "matriz_escala = np.array(matriz_escala).T # T obtem a transposta\n",
    "matriz_escala"
   ]
  },
  {
   "cell_type": "markdown",
   "metadata": {},
   "source": [
    "## Rotação\n",
    "* Primeiro vamos gerar a matriz rotação 3D\n",
    "* Em seguida, vamos aplicar rotação dado um ângulo e os eixos de rotação."
   ]
  },
  {
   "cell_type": "code",
   "execution_count": 9,
   "metadata": {},
   "outputs": [
    {
     "data": {
      "text/plain": [
       "mat4x4( 0.866025, 0.5, 0, 0 | -0.5, 0.866025, 0, 0 | 0, 0, 1, 0 | 0, 0, 0, 1 )"
      ]
     },
     "execution_count": 9,
     "metadata": {},
     "output_type": "execute_result"
    }
   ],
   "source": [
    "# Definindo o ângulo de rotação\n",
    "angulo = 30.0\n",
    "angulo = math.radians(angulo)\n",
    "\n",
    "# Definindo os eixos que serão rotacionados (1.0 ativa o eixo; 0.0 desativa o eixo)\n",
    "# Abaixo, rotação no eixo z.\n",
    "r_x = 0.0\n",
    "r_y = 0.0\n",
    "r_z = 1.0\n",
    "\n",
    "matriz_rotacao = glm.mat4(1.0) # inicializa uma matriz identidade\n",
    "matriz_rotacao = glm.rotate(matriz_rotacao, angulo, glm.vec3(r_x, r_y, r_z))  # aplica rotacao\n",
    "matriz_rotacao"
   ]
  },
  {
   "cell_type": "code",
   "execution_count": 10,
   "metadata": {},
   "outputs": [
    {
     "data": {
      "text/plain": [
       "array([[ 0.8660254, -0.5      ,  0.       ,  0.       ],\n",
       "       [ 0.5      ,  0.8660254,  0.       ,  0.       ],\n",
       "       [ 0.       ,  0.       ,  1.       ,  0.       ],\n",
       "       [ 0.       ,  0.       ,  0.       ,  1.       ]], dtype=float32)"
      ]
     },
     "execution_count": 10,
     "metadata": {},
     "output_type": "execute_result"
    }
   ],
   "source": [
    "matriz_rotacao = np.array(matriz_rotacao).T # T obtem a transposta\n",
    "matriz_rotacao"
   ]
  },
  {
   "cell_type": "markdown",
   "metadata": {},
   "source": [
    "## Multiplicando matrizes de transformação geométrica\n",
    "\n",
    "As transformações podem ser aplicadas em sequência, com base na multiplicação de suas matrizes.\n",
    "\n",
    "No exemplo a seguir, nós aplicamos rotação, seguida de translação e escala."
   ]
  },
  {
   "cell_type": "code",
   "execution_count": 11,
   "metadata": {},
   "outputs": [
    {
     "data": {
      "text/plain": [
       "mat4x4( 0.433013, 0, -0.25, 0 | 0, 1.5, 0, 0 | 1.25, 0, 2.16506, 0 | -0.2, 0.5, 0.7, 1 )"
      ]
     },
     "execution_count": 11,
     "metadata": {},
     "output_type": "execute_result"
    }
   ],
   "source": [
    "angulo = 30.0\n",
    "angulo = math.radians(angulo)\n",
    "    \n",
    "matrix_transform = glm.mat4(1.0) # instanciando uma matriz identidade\n",
    "\n",
    "# aplicando translacao\n",
    "t_x = -0.2\n",
    "t_y = +0.5\n",
    "t_z = +0.7\n",
    "matrix_transform = glm.translate(matrix_transform, glm.vec3(t_x, t_y, t_z))  \n",
    "\n",
    "# aplicando rotacao no eixo y\n",
    "r_x = 0.0\n",
    "r_y = 1.0\n",
    "r_z = 0.0\n",
    "matrix_transform = glm.rotate(matrix_transform, angulo, glm.vec3(r_x, r_y, r_z))\n",
    "    \n",
    "# aplicando escala\n",
    "s_x = 0.5\n",
    "s_y = 1.5\n",
    "s_z = 2.5\n",
    "matrix_transform = glm.scale(matrix_transform, glm.vec3(s_x, s_y, s_z))\n",
    "    \n",
    "# transformacao final\n",
    "matrix_transform"
   ]
  },
  {
   "cell_type": "markdown",
   "metadata": {},
   "source": [
    "Na matriz seguinte, estão embutidas as três operações anteriores."
   ]
  },
  {
   "cell_type": "code",
   "execution_count": 12,
   "metadata": {},
   "outputs": [
    {
     "data": {
      "text/plain": [
       "array([[ 0.4330127,  0.       ,  1.25     , -0.2      ],\n",
       "       [ 0.       ,  1.5      ,  0.       ,  0.5      ],\n",
       "       [-0.25     ,  0.       ,  2.1650634,  0.7      ],\n",
       "       [ 0.       ,  0.       ,  0.       ,  1.       ]], dtype=float32)"
      ]
     },
     "execution_count": 12,
     "metadata": {},
     "output_type": "execute_result"
    }
   ],
   "source": [
    "matrix_transform = np.array(matrix_transform).T # pegando a transposta da matriz (glm trabalha com ela invertida)\n",
    "matrix_transform"
   ]
  },
  {
   "cell_type": "code",
   "execution_count": null,
   "metadata": {},
   "outputs": [],
   "source": []
  }
 ],
 "metadata": {
  "kernelspec": {
   "display_name": "Python 3",
   "language": "python",
   "name": "python3"
  },
  "language_info": {
   "codemirror_mode": {
    "name": "ipython",
    "version": 3
   },
   "file_extension": ".py",
   "mimetype": "text/x-python",
   "name": "python",
   "nbconvert_exporter": "python",
   "pygments_lexer": "ipython3",
   "version": "3.7.1"
  }
 },
 "nbformat": 4,
 "nbformat_minor": 2
}
