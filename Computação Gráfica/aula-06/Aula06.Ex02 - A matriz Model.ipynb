{
 "cells": [
  {
   "cell_type": "markdown",
   "metadata": {},
   "source": [
    "# Aula06.Ex02 - A matriz Model"
   ]
  },
  {
   "cell_type": "markdown",
   "metadata": {},
   "source": [
    "### Primeiro, vamos importar as bibliotecas necessárias.\n",
    "Verifique no código anterior um script para instalar as dependências necessárias (OpenGL e GLFW) antes de prosseguir."
   ]
  },
  {
   "cell_type": "code",
   "execution_count": 346,
   "metadata": {},
   "outputs": [],
   "source": [
    "import glfw\n",
    "from OpenGL.GL import *\n",
    "import OpenGL.GL.shaders\n",
    "import numpy as np\n",
    "import glm\n",
    "import math"
   ]
  },
  {
   "cell_type": "markdown",
   "metadata": {},
   "source": [
    "### Inicializando janela"
   ]
  },
  {
   "cell_type": "code",
   "execution_count": 347,
   "metadata": {},
   "outputs": [],
   "source": [
    "glfw.init()\n",
    "glfw.window_hint(glfw.VISIBLE, glfw.FALSE);\n",
    "altura = 700\n",
    "largura = 700\n",
    "window = glfw.create_window(largura, altura, \"Matriz Model\", None, None)\n",
    "glfw.make_context_current(window)"
   ]
  },
  {
   "cell_type": "markdown",
   "metadata": {},
   "source": [
    "### GLSL (OpenGL Shading Language)\n",
    "\n",
    "Aqui veremos nosso primeiro código GLSL.\n",
    "\n",
    "É uma linguagem de shading de alto nível baseada na linguagem de programação C.\n",
    "\n",
    "Nós estamos escrevendo código GLSL como se \"strings\" de uma variável (mas podemos ler de arquivos texto). Esse código, depois, terá que ser compilado e linkado ao nosso programa. \n",
    "\n",
    "Iremos aprender GLSL conforme a necessidade do curso. Usarmos uma versão do GLSL mais antiga, compatível com muitos dispositivos."
   ]
  },
  {
   "cell_type": "markdown",
   "metadata": {},
   "source": [
    "### GLSL para Vertex Shader\n",
    "\n",
    "No Pipeline programável, podemos interagir com Vertex Shaders.\n",
    "\n",
    "No código abaixo, estamos fazendo o seguinte:\n",
    "\n",
    "* Definindo uma variável chamada position do tipo vec3.\n",
    "* Definindo matrizes Model, View e Projection que acumulam transformações geométricas 3D e permitem navegação no cenário.\n",
    "* void main() é o ponto de entrada do nosso programa (função principal)\n",
    "* gl_Position é uma variável especial do GLSL. Variáveis que começam com 'gl_' são desse tipo. Nesse caso, determina a posição de um vértice. Observe que todo vértice tem 4 coordenadas, por isso nós combinamos nossa variável vec2 com uma variável vec4. Além disso, nós modificamos nosso vetor com base nas transformações Model, View e Projection."
   ]
  },
  {
   "cell_type": "code",
   "execution_count": 348,
   "metadata": {},
   "outputs": [],
   "source": [
    "vertex_code = \"\"\"\n",
    "        attribute vec3 position;\n",
    "                \n",
    "        uniform mat4 model;\n",
    "        uniform mat4 view;\n",
    "        uniform mat4 projection;        \n",
    "        \n",
    "        void main(){\n",
    "            gl_Position = projection * view * model * vec4(position,1.0);\n",
    "        }\n",
    "        \"\"\""
   ]
  },
  {
   "cell_type": "markdown",
   "metadata": {},
   "source": [
    "### GLSL para Fragment Shader\n",
    "\n",
    "No Pipeline programável, podemos interagir com Fragment Shaders.\n",
    "\n",
    "No código abaixo, estamos fazendo o seguinte:\n",
    "\n",
    "* void main() é o ponto de entrada do nosso programa (função principal)\n",
    "* gl_FragColor é uma variável especial do GLSL. Variáveis que começam com 'gl_' são desse tipo. Nesse caso, determina a cor de um fragmento. Nesse caso é um ponto, mas poderia ser outro objeto (ponto, linha, triangulos, etc)."
   ]
  },
  {
   "cell_type": "markdown",
   "metadata": {},
   "source": [
    "### Possibilitando modificar a cor.\n",
    "\n",
    "Nos exemplos anteriores, a variável gl_FragColor estava definida de forma fixa (com cor R=0, G=0, B=0).\n",
    "\n",
    "Agora, nós vamos criar uma variável do tipo \"uniform\", de quatro posições (vec4), para receber o dado de cor do nosso programa rodando em CPU."
   ]
  },
  {
   "cell_type": "code",
   "execution_count": 349,
   "metadata": {},
   "outputs": [],
   "source": [
    "fragment_code = \"\"\"\n",
    "        uniform vec4 color;\n",
    "        void main(){\n",
    "            gl_FragColor = color;\n",
    "        }\n",
    "        \"\"\""
   ]
  },
  {
   "cell_type": "markdown",
   "metadata": {},
   "source": [
    "### Requisitando slot para a GPU para nossos programas Vertex e Fragment Shaders"
   ]
  },
  {
   "cell_type": "code",
   "execution_count": 350,
   "metadata": {},
   "outputs": [],
   "source": [
    "# Request a program and shader slots from GPU\n",
    "program  = glCreateProgram()\n",
    "vertex   = glCreateShader(GL_VERTEX_SHADER)\n",
    "fragment = glCreateShader(GL_FRAGMENT_SHADER)\n"
   ]
  },
  {
   "cell_type": "markdown",
   "metadata": {},
   "source": [
    "### Associando nosso código-fonte aos slots solicitados"
   ]
  },
  {
   "cell_type": "code",
   "execution_count": 351,
   "metadata": {},
   "outputs": [],
   "source": [
    "# Set shaders source\n",
    "glShaderSource(vertex, vertex_code)\n",
    "glShaderSource(fragment, fragment_code)"
   ]
  },
  {
   "cell_type": "markdown",
   "metadata": {},
   "source": [
    "### Compilando o Vertex Shader\n",
    "\n",
    "Se há algum erro em nosso programa Vertex Shader, nosso app para por aqui."
   ]
  },
  {
   "cell_type": "code",
   "execution_count": 352,
   "metadata": {},
   "outputs": [],
   "source": [
    "# Compile shaders\n",
    "glCompileShader(vertex)\n",
    "if not glGetShaderiv(vertex, GL_COMPILE_STATUS):\n",
    "    error = glGetShaderInfoLog(vertex).decode()\n",
    "    print(error)\n",
    "    raise RuntimeError(\"Erro de compilacao do Vertex Shader\")\n"
   ]
  },
  {
   "cell_type": "markdown",
   "metadata": {},
   "source": [
    "### Compilando o Fragment Shader\n",
    "\n",
    "Se há algum erro em nosso programa Fragment Shader, nosso app para por aqui."
   ]
  },
  {
   "cell_type": "code",
   "execution_count": 353,
   "metadata": {},
   "outputs": [],
   "source": [
    "glCompileShader(fragment)\n",
    "if not glGetShaderiv(fragment, GL_COMPILE_STATUS):\n",
    "    error = glGetShaderInfoLog(fragment).decode()\n",
    "    print(error)\n",
    "    raise RuntimeError(\"Erro de compilacao do Fragment Shader\")"
   ]
  },
  {
   "cell_type": "markdown",
   "metadata": {},
   "source": [
    "### Associando os programas compilado ao programa principal"
   ]
  },
  {
   "cell_type": "code",
   "execution_count": 354,
   "metadata": {},
   "outputs": [],
   "source": [
    "# Attach shader objects to the program\n",
    "glAttachShader(program, vertex)\n",
    "glAttachShader(program, fragment)\n"
   ]
  },
  {
   "cell_type": "markdown",
   "metadata": {},
   "source": [
    "### Linkagem do programa"
   ]
  },
  {
   "cell_type": "code",
   "execution_count": 355,
   "metadata": {},
   "outputs": [],
   "source": [
    "# Build program\n",
    "glLinkProgram(program)\n",
    "if not glGetProgramiv(program, GL_LINK_STATUS):\n",
    "    print(glGetProgramInfoLog(program))\n",
    "    raise RuntimeError('Linking error')\n",
    "    \n",
    "# Make program the default program\n",
    "glUseProgram(program)"
   ]
  },
  {
   "cell_type": "markdown",
   "metadata": {},
   "source": [
    "### Preparando dados para enviar a GPU\n",
    "\n",
    "Nesse momento, nós compilamos nossos Vertex e Program Shaders para que a GPU possa processá-los.\n",
    "\n",
    "Por outro lado, as informações de vértices geralmente estão na CPU e devem ser transmitidas para a GPU.\n"
   ]
  },
  {
   "cell_type": "markdown",
   "metadata": {},
   "source": [
    "### Modelando cubos\n",
    "\n",
    "Existem diferentes formas de modelar um cubo. Nós usaremos uma estratégia baseada no Quadrado com TRIANGLE_STRIP, conforme vimos na Aula04.Ex05. Assim, um quadrado é modelado usando dois triângulos e precisamos de apenas quatro vértices para isso (devido ao TRIANGLE_STRIP).\n",
    "\n",
    "Nessa aula, nós concatenamos vértices de num_cubos cubos, em que num_cubos é uma variável."
   ]
  },
  {
   "cell_type": "code",
   "execution_count": 356,
   "metadata": {},
   "outputs": [],
   "source": [
    "# preparando espaço para n cubos (cada cubo tem 24 vertices)\n",
    "num_cubos = 5 # cinco cubos\n",
    "vertices = np.zeros(num_cubos*24, [(\"position\", np.float32, 3)])"
   ]
  },
  {
   "cell_type": "code",
   "execution_count": 357,
   "metadata": {},
   "outputs": [],
   "source": [
    "def get_cubo():\n",
    "    cubo = [\n",
    "    # Face 1\n",
    "    (-0.1, -0.1, +0.1),\n",
    "    (+0.1, -0.1, +0.1),\n",
    "    (-0.1, +0.1, +0.1),\n",
    "    (+0.1, +0.1, +0.1),\n",
    "\n",
    "    # Face 2\n",
    "    (+0.1, -0.1, +0.1),\n",
    "    (+0.1, -0.1, -0.1),         \n",
    "    (+0.1, +0.1, +0.1),\n",
    "    (+0.1, +0.1, -0.1),\n",
    "    \n",
    "    # Face 3\n",
    "    (+0.1, -0.1, -0.1),\n",
    "    (-0.1, -0.1, -0.1),            \n",
    "    (+0.1, +0.1, -0.1),\n",
    "    (-0.1, +0.1, -0.1),\n",
    "\n",
    "    # Face 4\n",
    "    (-0.1, -0.1, -0.1),\n",
    "    (-0.1, -0.1, +0.1),         \n",
    "    (-0.1, +0.1, -0.1),\n",
    "    (-0.1, +0.1, +0.1),\n",
    "\n",
    "    # Face 5\n",
    "    (-0.1, -0.1, -0.1),\n",
    "    (+0.1, -0.1, -0.1),         \n",
    "    (-0.1, -0.1, +0.1),\n",
    "    (+0.1, -0.1, +0.1),\n",
    "    \n",
    "    # Face 6\n",
    "    (-0.1, +0.1, +0.1),\n",
    "    (+0.1, +0.1, +0.1),           \n",
    "    (-0.1, +0.1, -0.1),\n",
    "    (+0.1, +0.1, -0.1)]\n",
    "    \n",
    "    return cubo\n",
    "\n",
    "\n",
    "# preenchendo o vetor de vertices com todos os cubos (num_cubos)\n",
    "cubos = get_cubo() # cubo numero 1\n",
    "for i in range(1,num_cubos): # pegando o restante dos outros cubos\n",
    "    # pegando um novo cubo\n",
    "    vert_cubo = get_cubo()\n",
    "    \n",
    "    # adicionando os vertices do cubo no nosso vertor de vertices\n",
    "    cubos = np.concatenate((cubos, vert_cubo), axis=0)\n",
    "    \n",
    "vertices['position'] = cubos"
   ]
  },
  {
   "cell_type": "code",
   "execution_count": 358,
   "metadata": {},
   "outputs": [
    {
     "data": {
      "text/plain": [
       "array([([-0.1, -0.1,  0.1],), ([ 0.1, -0.1,  0.1],),\n",
       "       ([-0.1,  0.1,  0.1],), ([ 0.1,  0.1,  0.1],),\n",
       "       ([ 0.1, -0.1,  0.1],), ([ 0.1, -0.1, -0.1],),\n",
       "       ([ 0.1,  0.1,  0.1],), ([ 0.1,  0.1, -0.1],),\n",
       "       ([ 0.1, -0.1, -0.1],), ([-0.1, -0.1, -0.1],),\n",
       "       ([ 0.1,  0.1, -0.1],), ([-0.1,  0.1, -0.1],),\n",
       "       ([-0.1, -0.1, -0.1],), ([-0.1, -0.1,  0.1],),\n",
       "       ([-0.1,  0.1, -0.1],), ([-0.1,  0.1,  0.1],),\n",
       "       ([-0.1, -0.1, -0.1],), ([ 0.1, -0.1, -0.1],),\n",
       "       ([-0.1, -0.1,  0.1],), ([ 0.1, -0.1,  0.1],),\n",
       "       ([-0.1,  0.1,  0.1],), ([ 0.1,  0.1,  0.1],),\n",
       "       ([-0.1,  0.1, -0.1],), ([ 0.1,  0.1, -0.1],),\n",
       "       ([-0.1, -0.1,  0.1],), ([ 0.1, -0.1,  0.1],),\n",
       "       ([-0.1,  0.1,  0.1],), ([ 0.1,  0.1,  0.1],),\n",
       "       ([ 0.1, -0.1,  0.1],), ([ 0.1, -0.1, -0.1],),\n",
       "       ([ 0.1,  0.1,  0.1],), ([ 0.1,  0.1, -0.1],),\n",
       "       ([ 0.1, -0.1, -0.1],), ([-0.1, -0.1, -0.1],),\n",
       "       ([ 0.1,  0.1, -0.1],), ([-0.1,  0.1, -0.1],),\n",
       "       ([-0.1, -0.1, -0.1],), ([-0.1, -0.1,  0.1],),\n",
       "       ([-0.1,  0.1, -0.1],), ([-0.1,  0.1,  0.1],),\n",
       "       ([-0.1, -0.1, -0.1],), ([ 0.1, -0.1, -0.1],),\n",
       "       ([-0.1, -0.1,  0.1],), ([ 0.1, -0.1,  0.1],),\n",
       "       ([-0.1,  0.1,  0.1],), ([ 0.1,  0.1,  0.1],),\n",
       "       ([-0.1,  0.1, -0.1],), ([ 0.1,  0.1, -0.1],),\n",
       "       ([-0.1, -0.1,  0.1],), ([ 0.1, -0.1,  0.1],),\n",
       "       ([-0.1,  0.1,  0.1],), ([ 0.1,  0.1,  0.1],),\n",
       "       ([ 0.1, -0.1,  0.1],), ([ 0.1, -0.1, -0.1],),\n",
       "       ([ 0.1,  0.1,  0.1],), ([ 0.1,  0.1, -0.1],),\n",
       "       ([ 0.1, -0.1, -0.1],), ([-0.1, -0.1, -0.1],),\n",
       "       ([ 0.1,  0.1, -0.1],), ([-0.1,  0.1, -0.1],),\n",
       "       ([-0.1, -0.1, -0.1],), ([-0.1, -0.1,  0.1],),\n",
       "       ([-0.1,  0.1, -0.1],), ([-0.1,  0.1,  0.1],),\n",
       "       ([-0.1, -0.1, -0.1],), ([ 0.1, -0.1, -0.1],),\n",
       "       ([-0.1, -0.1,  0.1],), ([ 0.1, -0.1,  0.1],),\n",
       "       ([-0.1,  0.1,  0.1],), ([ 0.1,  0.1,  0.1],),\n",
       "       ([-0.1,  0.1, -0.1],), ([ 0.1,  0.1, -0.1],),\n",
       "       ([-0.1, -0.1,  0.1],), ([ 0.1, -0.1,  0.1],),\n",
       "       ([-0.1,  0.1,  0.1],), ([ 0.1,  0.1,  0.1],),\n",
       "       ([ 0.1, -0.1,  0.1],), ([ 0.1, -0.1, -0.1],),\n",
       "       ([ 0.1,  0.1,  0.1],), ([ 0.1,  0.1, -0.1],),\n",
       "       ([ 0.1, -0.1, -0.1],), ([-0.1, -0.1, -0.1],),\n",
       "       ([ 0.1,  0.1, -0.1],), ([-0.1,  0.1, -0.1],),\n",
       "       ([-0.1, -0.1, -0.1],), ([-0.1, -0.1,  0.1],),\n",
       "       ([-0.1,  0.1, -0.1],), ([-0.1,  0.1,  0.1],),\n",
       "       ([-0.1, -0.1, -0.1],), ([ 0.1, -0.1, -0.1],),\n",
       "       ([-0.1, -0.1,  0.1],), ([ 0.1, -0.1,  0.1],),\n",
       "       ([-0.1,  0.1,  0.1],), ([ 0.1,  0.1,  0.1],),\n",
       "       ([-0.1,  0.1, -0.1],), ([ 0.1,  0.1, -0.1],),\n",
       "       ([-0.1, -0.1,  0.1],), ([ 0.1, -0.1,  0.1],),\n",
       "       ([-0.1,  0.1,  0.1],), ([ 0.1,  0.1,  0.1],),\n",
       "       ([ 0.1, -0.1,  0.1],), ([ 0.1, -0.1, -0.1],),\n",
       "       ([ 0.1,  0.1,  0.1],), ([ 0.1,  0.1, -0.1],),\n",
       "       ([ 0.1, -0.1, -0.1],), ([-0.1, -0.1, -0.1],),\n",
       "       ([ 0.1,  0.1, -0.1],), ([-0.1,  0.1, -0.1],),\n",
       "       ([-0.1, -0.1, -0.1],), ([-0.1, -0.1,  0.1],),\n",
       "       ([-0.1,  0.1, -0.1],), ([-0.1,  0.1,  0.1],),\n",
       "       ([-0.1, -0.1, -0.1],), ([ 0.1, -0.1, -0.1],),\n",
       "       ([-0.1, -0.1,  0.1],), ([ 0.1, -0.1,  0.1],),\n",
       "       ([-0.1,  0.1,  0.1],), ([ 0.1,  0.1,  0.1],),\n",
       "       ([-0.1,  0.1, -0.1],), ([ 0.1,  0.1, -0.1],)],\n",
       "      dtype=[('position', '<f4', (3,))])"
      ]
     },
     "execution_count": 358,
     "metadata": {},
     "output_type": "execute_result"
    }
   ],
   "source": [
    "vertices"
   ]
  },
  {
   "cell_type": "markdown",
   "metadata": {},
   "source": [
    "### Para enviar nossos dados da CPU para a GPU, precisamos requisitar um slot."
   ]
  },
  {
   "cell_type": "code",
   "execution_count": 359,
   "metadata": {},
   "outputs": [],
   "source": [
    "# Request a buffer slot from GPU\n",
    "buffer = glGenBuffers(1)\n",
    "# Make this buffer the default one\n",
    "glBindBuffer(GL_ARRAY_BUFFER, buffer)\n"
   ]
  },
  {
   "cell_type": "markdown",
   "metadata": {},
   "source": [
    "### Abaixo, nós enviamos todo o conteúdo da variável vertices.\n",
    "\n",
    "Veja os parâmetros da função glBufferData [https://www.khronos.org/registry/OpenGL-Refpages/gl4/html/glBufferData.xhtml]"
   ]
  },
  {
   "cell_type": "code",
   "execution_count": 360,
   "metadata": {},
   "outputs": [],
   "source": [
    "# Upload data\n",
    "glBufferData(GL_ARRAY_BUFFER, vertices.nbytes, vertices, GL_DYNAMIC_DRAW)\n",
    "glBindBuffer(GL_ARRAY_BUFFER, buffer)"
   ]
  },
  {
   "cell_type": "markdown",
   "metadata": {},
   "source": [
    "### Associando variáveis do programa GLSL (Vertex Shaders) com nossos dados\n",
    "\n",
    "Primeiro, definimos o byte inicial e o offset dos dados."
   ]
  },
  {
   "cell_type": "code",
   "execution_count": 361,
   "metadata": {},
   "outputs": [],
   "source": [
    "# Bind the position attribute\n",
    "# --------------------------------------\n",
    "stride = vertices.strides[0]\n",
    "offset = ctypes.c_void_p(0)\n"
   ]
  },
  {
   "cell_type": "markdown",
   "metadata": {},
   "source": [
    "Em seguida, soliciamos à GPU a localização da variável \"position\" (que guarda coordenadas dos nossos vértices). Nós definimos essa variável no Vertex Shader."
   ]
  },
  {
   "cell_type": "code",
   "execution_count": 362,
   "metadata": {},
   "outputs": [],
   "source": [
    "loc = glGetAttribLocation(program, \"position\")\n",
    "glEnableVertexAttribArray(loc)"
   ]
  },
  {
   "cell_type": "markdown",
   "metadata": {},
   "source": [
    "A partir da localização anterior, nós indicamos à GPU onde está o conteúdo (via posições stride/offset) para a variável position (aqui identificada na posição loc).\n",
    "\n",
    "Outros parâmetros:\n",
    "\n",
    "* Definimos que possui duas coordenadas\n",
    "* Que cada coordenada é do tipo float (GL_FLOAT)\n",
    "* Que não se deve normalizar a coordenada (False)\n",
    "\n",
    "Mais detalhes: https://www.khronos.org/registry/OpenGL-Refpages/gl4/html/glVertexAttribPointer.xhtml"
   ]
  },
  {
   "cell_type": "code",
   "execution_count": 363,
   "metadata": {},
   "outputs": [],
   "source": [
    "glVertexAttribPointer(loc, 3, GL_FLOAT, False, stride, offset)"
   ]
  },
  {
   "cell_type": "markdown",
   "metadata": {},
   "source": [
    "###  Vamos pegar a localização da variável color (uniform) do Fragment Shader para que possamos alterá-la em nosso laço da janela!"
   ]
  },
  {
   "cell_type": "code",
   "execution_count": 364,
   "metadata": {},
   "outputs": [],
   "source": [
    "loc_color = glGetUniformLocation(program, \"color\")"
   ]
  },
  {
   "cell_type": "markdown",
   "metadata": {},
   "source": [
    "### Eventos para modificar a posição da câmera.\n",
    "* Aprenderemos mais detalhes na Aula sobre Matriz View.\n",
    "* Usei as teclas A, S, D e W para movimentação no espaço tridimensional\n",
    "* Usei a posição do mouse para \"direcionar\" a câmera"
   ]
  },
  {
   "cell_type": "code",
   "execution_count": 365,
   "metadata": {},
   "outputs": [],
   "source": [
    "cameraPos   = glm.vec3(0.0,  0.0,  1.0);\n",
    "cameraFront = glm.vec3(0.0,  0.0, -1.0);\n",
    "cameraUp    = glm.vec3(0.0,  1.0,  0.0);\n",
    "\n",
    "\n",
    "def key_event(window,key,scancode,action,mods):\n",
    "    global cameraPos, cameraFront, cameraUp\n",
    "    \n",
    "    cameraSpeed = 0.01\n",
    "    if key == 87 and (action==1 or action==2): # tecla W\n",
    "        cameraPos += cameraSpeed * cameraFront\n",
    "    \n",
    "    if key == 83 and (action==1 or action==2): # tecla S\n",
    "        cameraPos -= cameraSpeed * cameraFront\n",
    "    \n",
    "    if key == 65 and (action==1 or action==2): # tecla A\n",
    "        cameraPos -= glm.normalize(glm.cross(cameraFront, cameraUp)) * cameraSpeed\n",
    "        \n",
    "    if key == 68 and (action==1 or action==2): # tecla D\n",
    "        cameraPos += glm.normalize(glm.cross(cameraFront, cameraUp)) * cameraSpeed\n",
    "        \n",
    "firstMouse = True\n",
    "yaw = -90.0 \n",
    "pitch = 0.0\n",
    "lastX =  largura/2\n",
    "lastY =  altura/2\n",
    "\n",
    "def mouse_event(window, xpos, ypos):\n",
    "    global firstMouse, cameraFront, yaw, pitch, lastX, lastY\n",
    "    if firstMouse:\n",
    "        lastX = xpos\n",
    "        lastY = ypos\n",
    "        firstMouse = False\n",
    "\n",
    "    xoffset = xpos - lastX\n",
    "    yoffset = lastY - ypos\n",
    "    lastX = xpos\n",
    "    lastY = ypos\n",
    "\n",
    "    sensitivity = 0.3 \n",
    "    xoffset *= sensitivity\n",
    "    yoffset *= sensitivity\n",
    "\n",
    "    yaw += xoffset;\n",
    "    pitch += yoffset;\n",
    "\n",
    "    \n",
    "    if pitch >= 90.0: pitch = 90.0\n",
    "    if pitch <= -90.0: pitch = -90.0\n",
    "\n",
    "    front = glm.vec3()\n",
    "    front.x = math.cos(glm.radians(yaw)) * math.cos(glm.radians(pitch))\n",
    "    front.y = math.sin(glm.radians(pitch))\n",
    "    front.z = math.sin(glm.radians(yaw)) * math.cos(glm.radians(pitch))\n",
    "    cameraFront = glm.normalize(front)\n",
    "\n",
    "\n",
    "    \n",
    "glfw.set_key_callback(window,key_event)\n",
    "glfw.set_cursor_pos_callback(window, mouse_event)\n"
   ]
  },
  {
   "cell_type": "markdown",
   "metadata": {},
   "source": [
    "### Matrizes Model, View e Projection\n",
    "\n",
    "Teremos aulas específicas para entender o funcionamento de cada matriz de transformação Model, View e Projection."
   ]
  },
  {
   "cell_type": "code",
   "execution_count": 366,
   "metadata": {},
   "outputs": [],
   "source": [
    "def model(angle, r_x, r_y, r_z, t_x, t_y, t_z, s_x, s_y, s_z):\n",
    "    \n",
    "    angle = math.radians(angle)\n",
    "    \n",
    "    matrix_transform = glm.mat4(1.0) # instanciando uma matriz identidade\n",
    "    \n",
    "    \n",
    "    # aplicando translacao\n",
    "    matrix_transform = glm.translate(matrix_transform, glm.vec3(t_x, t_y, t_z))    \n",
    "    \n",
    "    # aplicando rotacao\n",
    "    if angle != 0:\n",
    "        matrix_transform = glm.rotate(matrix_transform, angle, glm.vec3(r_x, r_y, r_z))\n",
    "    \n",
    "    # aplicando escala\n",
    "    matrix_transform = glm.scale(matrix_transform, glm.vec3(s_x, s_y, s_z))\n",
    "    \n",
    "    matrix_transform = np.array(matrix_transform).T # pegando a transposta da matriz (glm trabalha com ela invertida)\n",
    "    \n",
    "    return matrix_transform\n",
    "\n",
    "def view():\n",
    "    global cameraPos, cameraFront, cameraUp\n",
    "    mat_view = glm.lookAt(cameraPos, cameraPos + cameraFront, cameraUp);\n",
    "    mat_view = np.array(mat_view)\n",
    "    return mat_view\n",
    "\n",
    "def projection():\n",
    "    global altura, largura\n",
    "    # perspective parameters: fovy, aspect, near, far\n",
    "    mat_projection = glm.perspective(glm.radians(45.0), largura/altura, 0.1, 100.0)\n",
    "    mat_projection = np.array(mat_projection)    \n",
    "    return mat_projection"
   ]
  },
  {
   "cell_type": "markdown",
   "metadata": {},
   "source": [
    "### Nesse momento, nós exibimos a janela!\n"
   ]
  },
  {
   "cell_type": "code",
   "execution_count": 367,
   "metadata": {},
   "outputs": [],
   "source": [
    "glfw.show_window(window)\n",
    "glfw.set_cursor_pos(window, lastX, lastY)"
   ]
  },
  {
   "cell_type": "markdown",
   "metadata": {},
   "source": [
    "### Loop principal da janela.\n",
    "Enquanto a janela não for fechada, esse laço será executado. É neste espaço que trabalhamos com algumas interações com a OpenGL.\n",
    "\n",
    "\n",
    "Usaremos o GL_TRIANGLE_STRIP e modelaremos uma face do Cubo por vez, por questões didáticas. Iremos colorir cada face do Cubo com uma cor diferente."
   ]
  },
  {
   "cell_type": "code",
   "execution_count": 368,
   "metadata": {},
   "outputs": [],
   "source": [
    "glEnable(GL_DEPTH_TEST) ### importante para 3D\n",
    "\n",
    "angulo_inc = 0\n",
    "scale_inc = 0\n",
    "def desenha_cubo(num_cubo, angle, r_x, r_y, r_z, t_x, t_y, t_z, s_x, s_y, s_z):\n",
    "    \n",
    "    global angulo_inc, scale_inc\n",
    "    \n",
    "    mat_model = model(angle, r_x, r_y, r_z, t_x, t_y, t_z, s_x, s_y, s_z)\n",
    "    \n",
    "    if num_cubo == 0:\n",
    "        angulo_inc+=0.1\n",
    "        mat_model = model(angle+angulo_inc, r_x, r_y, r_z, t_x, t_y, t_z, s_x, s_y, s_z)\n",
    "    \n",
    "    if num_cubo == 1:\n",
    "        scale_inc+=0.1\n",
    "        mat_model = model(angle, r_x, r_y, r_z, t_x, t_y, t_z, s_x+scale_inc, s_y+scale_inc, s_z+scale_inc)\n",
    "    \n",
    "    loc_model = glGetUniformLocation(program, \"model\")\n",
    "    glUniformMatrix4fv(loc_model, 1, GL_TRUE, mat_model)\n",
    "    \n",
    "    cores_face = [\n",
    "        [1.0, 0.0, 0.0], # R, G, B\n",
    "        [0.0, 0.0, 1.0],\n",
    "        [1.0, 1.0, 0.0],\n",
    "        [0.0, 1.0, 1.0],\n",
    "        [0.0, 1.0, 0.0],        \n",
    "        [1.0, 0.0, 1.0],\n",
    "    ]\n",
    "    \n",
    "    # DESENHANDO O CUBO\n",
    "    face = 0\n",
    "    for i in range(num_cubo*24,(num_cubo+1)*24,4): # incremento de 4 em 4 (desenhando cada face)\n",
    "        R = cores_face[face][0]\n",
    "        G = cores_face[face][1]\n",
    "        B = cores_face[face][2]\n",
    "        glUniform4f(loc_color, R, G, B, 1.0) ### definindo uma cor\n",
    "        glDrawArrays(GL_TRIANGLE_STRIP, i, 4) ## renderizando\n",
    "        face+=1\n",
    "        \n",
    "    \n",
    "\n",
    "\n",
    "while not glfw.window_should_close(window):\n",
    "\n",
    "    glfw.poll_events() \n",
    "    \n",
    "    \n",
    "    glClear(GL_COLOR_BUFFER_BIT | GL_DEPTH_BUFFER_BIT)\n",
    "    \n",
    "    glClearColor(1.0, 1.0, 1.0, 1.0)\n",
    "    \n",
    "    #glPolygonMode(GL_FRONT_AND_BACK,GL_LINE)\n",
    "    # computando e enviando matrizes Model, View e Projection para a GPU\n",
    "    \n",
    "    # temos uma matriz model por objeto!\n",
    "    num_cubo=0   \n",
    "    # angulo de rotacao e eixos\n",
    "    angle=0.0; r_x=0.0; r_y=0.0; r_z=1.0\n",
    "    # translacao\n",
    "    t_x=-0.5; t_y=0.0; t_z=0.5\n",
    "    # escala\n",
    "    s_x=1; s_y=1; s_z=1\n",
    "    desenha_cubo(num_cubo, angle, r_x, r_y, r_z, t_x, t_y, t_z, s_x, s_y, s_z)\n",
    "    \n",
    "    \n",
    "    num_cubo=1\n",
    "    # angulo de rotacao e eixos\n",
    "    angle=0.0; r_x=0.0; r_y=0.0; r_z=1.0\n",
    "    # translacao\n",
    "    t_x=0.5; t_y=0.0; t_z=0.0\n",
    "    # escala\n",
    "    s_x=1.0; s_y=1.0; s_z=1.0\n",
    "    desenha_cubo(num_cubo, angle, r_x, r_y, r_z, t_x, t_y, t_z, s_x, s_y, s_z)\n",
    "    \n",
    "    \n",
    "    num_cubo=2\n",
    "    # angulo de rotacao e eixos\n",
    "    angle=-20.0; r_x=0.0; r_y=0.0; r_z=1.0\n",
    "    # translacao\n",
    "    t_x=-0.2; t_y=0.0; t_z=-0.7\n",
    "    # escala\n",
    "    s_x=0.2; s_y=5.0; s_z=5.0\n",
    "    desenha_cubo(num_cubo, angle, r_x, r_y, r_z, t_x, t_y, t_z, s_x, s_y, s_z)\n",
    "    \n",
    "    \n",
    "    num_cubo=3\n",
    "    # angulo de rotacao e eixos\n",
    "    angle=20.0; r_x=0.0; r_y=0.0; r_z=1.0\n",
    "    # translacao\n",
    "    t_x=0.2; t_y=0.0; t_z=-0.7\n",
    "    # escala\n",
    "    s_x=0.2; s_y=5.0; s_z=5.0\n",
    "    desenha_cubo(num_cubo, angle, r_x, r_y, r_z, t_x, t_y, t_z, s_x, s_y, s_z)\n",
    "    \n",
    "    \n",
    "    num_cubo=4\n",
    "    # angulo de rotacao e eixos\n",
    "    angle=0.0; r_x=0.0; r_y=0.0; r_z=1.0\n",
    "    # translacao\n",
    "    t_x=0.0; t_y=-0.4; t_z=0.0\n",
    "    # escala\n",
    "    s_x=15.0; s_y=0.1; s_z=15.0\n",
    "    desenha_cubo(num_cubo, angle, r_x, r_y, r_z, t_x, t_y, t_z, s_x, s_y, s_z)\n",
    "    \n",
    "    mat_view = view()\n",
    "    loc_view = glGetUniformLocation(program, \"view\")\n",
    "    glUniformMatrix4fv(loc_view, 1, GL_FALSE, mat_view)\n",
    "\n",
    "    mat_projection = projection()\n",
    "    loc_projection = glGetUniformLocation(program, \"projection\")\n",
    "    glUniformMatrix4fv(loc_projection, 1, GL_FALSE, mat_projection)    \n",
    "    \n",
    "    \n",
    "    glfw.swap_buffers(window)\n",
    "\n",
    "glfw.terminate()"
   ]
  },
  {
   "cell_type": "markdown",
   "metadata": {},
   "source": [
    "# Exercício\n",
    "\n",
    "Modifique esse código para incluir outros objetos 3D na sua cena, como esferas e pirâmides.\n",
    "* Cada objeto deve ser iniciado com seu centro próximo da coordenada (0,0,0) no Espaço Local.\n",
    "* Cada objeto deve ter sua própria matriz Model, que o posiciona em relação ao Espaço Mundo."
   ]
  }
 ],
 "metadata": {
  "finalized": {
   "timestamp": 1583114796072,
   "trusted": true
  },
  "kernelspec": {
   "display_name": "Python 3",
   "language": "python",
   "name": "python3"
  },
  "language_info": {
   "codemirror_mode": {
    "name": "ipython",
    "version": 3
   },
   "file_extension": ".py",
   "mimetype": "text/x-python",
   "name": "python",
   "nbconvert_exporter": "python",
   "pygments_lexer": "ipython3",
   "version": "3.7.1"
  }
 },
 "nbformat": 4,
 "nbformat_minor": 2
}
