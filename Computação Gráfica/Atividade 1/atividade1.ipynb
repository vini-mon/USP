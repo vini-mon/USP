{
 "cells": [
  {
   "cell_type": "code",
   "execution_count": 89,
   "metadata": {},
   "outputs": [],
   "source": [
    "import glfw\n",
    "from OpenGL.GL import *\n",
    "import OpenGL.GL.shaders\n",
    "import numpy as np"
   ]
  },
  {
   "cell_type": "code",
   "execution_count": 90,
   "metadata": {},
   "outputs": [],
   "source": [
    "glfw.init()\n",
    "glfw.window_hint(glfw.VISIBLE, glfw.FALSE);\n",
    "window = glfw.create_window(800, 800, \"Atividade 1\", None, None)\n",
    "glfw.make_context_current(window)"
   ]
  },
  {
   "cell_type": "code",
   "execution_count": 91,
   "metadata": {},
   "outputs": [],
   "source": [
    "def key_event(window,key,scancode,action,mods):\n",
    "    print('[key event] key=',key)\n",
    "    print('[key event] scancode=',scancode)\n",
    "    print('[key event] action=',action)\n",
    "    print('[key event] mods=',mods)\n",
    "    print('-------')\n",
    "    \n",
    "glfw.set_key_callback(window,key_event)\n",
    "\n",
    "def mouse_event(window,button,action,mods):\n",
    "    print('[mouse event] button=',button)\n",
    "    print('[mouse event] action=',action)\n",
    "    print('[mouse event] mods=',mods)\n",
    "    print('-------')\n",
    "glfw.set_mouse_button_callback(window,mouse_event)"
   ]
  },
  {
   "cell_type": "code",
   "execution_count": 92,
   "metadata": {},
   "outputs": [],
   "source": [
    "vertex_code = \"\"\"\n",
    "        attribute vec2 position;\n",
    "        void main(){\n",
    "            gl_Position = vec4(position,0.0,1.0);\n",
    "        }\n",
    "        \"\"\"\n",
    "\n",
    "fragment_code = \"\"\"\n",
    "        void main(){\n",
    "            gl_FragColor = vec4(0.0, 0.0, 0.0, 1.0);\n",
    "        }\n",
    "        \"\"\""
   ]
  },
  {
   "cell_type": "code",
   "execution_count": 93,
   "metadata": {},
   "outputs": [],
   "source": [
    "# Request a program and shader slots from GPU\n",
    "program  = glCreateProgram()\n",
    "vertex   = glCreateShader(GL_VERTEX_SHADER)\n",
    "fragment = glCreateShader(GL_FRAGMENT_SHADER)\n"
   ]
  },
  {
   "cell_type": "code",
   "execution_count": 94,
   "metadata": {},
   "outputs": [],
   "source": [
    "\n",
    "# Set shaders source\n",
    "glShaderSource(vertex, vertex_code)\n",
    "glShaderSource(fragment, fragment_code)\n",
    "\n",
    "# Compile shaders\n",
    "glCompileShader(vertex)\n",
    "if not glGetShaderiv(vertex, GL_COMPILE_STATUS):\n",
    "    error = glGetShaderInfoLog(vertex).decode()\n",
    "    print(error)\n",
    "    raise RuntimeError(\"Erro de compilacao do Vertex Shader\")\n",
    "\n",
    "glCompileShader(fragment)\n",
    "if not glGetShaderiv(fragment, GL_COMPILE_STATUS):\n",
    "    error = glGetShaderInfoLog(fragment).decode()\n",
    "    print(error)\n",
    "    raise RuntimeError(\"Erro de compilacao do Fragment Shader\")"
   ]
  },
  {
   "cell_type": "code",
   "execution_count": 95,
   "metadata": {},
   "outputs": [],
   "source": [
    "# Attach shader objects to the program\n",
    "glAttachShader(program, vertex)\n",
    "glAttachShader(program, fragment)\n",
    "\n",
    "# Build program\n",
    "glLinkProgram(program)\n",
    "if not glGetProgramiv(program, GL_LINK_STATUS):\n",
    "    print(glGetProgramInfoLog(program))\n",
    "    raise RuntimeError('Linking error')\n",
    "    \n",
    "# Make program the default program\n",
    "glUseProgram(program)\n"
   ]
  },
  {
   "cell_type": "code",
   "execution_count": 96,
   "metadata": {},
   "outputs": [],
   "source": [
    "# preparando espaço para 4 vértices usando 2 coordenadas (x,y)\n",
    "vertices = np.zeros(70, [(\"position\", np.float32, 2)])\n",
    "\n",
    "# preenchendo as coordenadas de cada vértice\n",
    "vertices['position'] = [\n",
    "                            (0, -0.12),\n",
    "                            (0.04, -0.06),\n",
    "                            (0.05, -0.05),\n",
    "                            (0.06, -0.05),\n",
    "                            (0.07, -0.06),\n",
    "                            (0.08, -0.08),\n",
    "                            (0.09, -0.06),\n",
    "                            (0.1, -0.05),\n",
    "                            (0.11, -0.05),\n",
    "                            (0.12, -0.06),\n",
    "                            (0.13, -0.08),\n",
    "                            (0.13, -0.09),\n",
    "                            (0.12, -0.11),\n",
    "                            (0.11, -0.12),\n",
    "                            (0.14, -0.11),\n",
    "                            (0.17, -0.09),\n",
    "                            (0.19, -0.07),\n",
    "                            (0.2, -0.05),\n",
    "                            (0.21, -0.02),\n",
    "                            (0.21, 0.01),\n",
    "                            (0.2, 0.04),\n",
    "                            (0.19, 0.06),\n",
    "                            (0.17, 0.08),\n",
    "                            (0.14, 0.1),\n",
    "                            (0.11, 0.11),\n",
    "                            (0.12, 0.1),\n",
    "                            (0.13, 0.08),\n",
    "                            (0.13, 0.07),\n",
    "                            (0.12, 0.05),\n",
    "                            (0.11, 0.04),\n",
    "                            (0.09, 0.03),\n",
    "                            (0.06, 0.03),\n",
    "                            (0.03, 0.04),\n",
    "                            (0.03, 0.12),\n",
    "                            (0.01, 0.09),\n",
    "                            (-0.01, 0.09),\n",
    "                            (-0.03, 0.12),\n",
    "                            (-0.03, 0.04),\n",
    "                            (-0.06, 0.03),\n",
    "                            (-0.09, 0.03),\n",
    "                            (-0.11, 0.04),\n",
    "                            (-0.12, 0.05),\n",
    "                            (-0.13, 0.07),\n",
    "                            (-0.13, 0.08),\n",
    "                            (-0.12, 0.1),\n",
    "                            (-0.11, 0.11),\n",
    "                            (-0.14, 0.1),\n",
    "                            (-0.17, 0.08),\n",
    "                            (-0.19, 0.06),\n",
    "                            (-0.2, 0.04),\n",
    "                            (-0.21, 0.01),\n",
    "                            (-0.21, -0.02),\n",
    "                            (-0.20, -0.05),\n",
    "                            (-0.19, -0.07),\n",
    "                            (-0.17, -0.09),\n",
    "                            (-0.14, -0.11),\n",
    "                            (-0.11, -0.12),\n",
    "                            (-0.12, -0.11),\n",
    "                            (-0.13, -0.09),\n",
    "                            (-0.13, -0.08),\n",
    "                            (-0.12, -0.06),\n",
    "                            (-0.11, -0.05),\n",
    "                            (-0.1, -0.05),\n",
    "                            (-0.09, -0.06),\n",
    "                            (-0.08, -0.08),\n",
    "                            (-0.07, -0.06),\n",
    "                            (-0.06, -0.05),\n",
    "                            (-0.05, -0.05),\n",
    "                            (-0.04, -0.06),\n",
    "                            (0, -0.12)\n",
    "                        ]"
   ]
  },
  {
   "cell_type": "code",
   "execution_count": 97,
   "metadata": {},
   "outputs": [],
   "source": [
    "# Request a buffer slot from GPU\n",
    "buffer = glGenBuffers(1)\n",
    "# Make this buffer the default one\n",
    "glBindBuffer(GL_ARRAY_BUFFER, buffer)\n",
    "\n",
    "# Upload data\n",
    "glBufferData(GL_ARRAY_BUFFER, vertices.nbytes, vertices, GL_DYNAMIC_DRAW)\n",
    "glBindBuffer(GL_ARRAY_BUFFER, buffer)\n",
    "\n",
    "# Bind the position attribute\n",
    "# --------------------------------------\n",
    "stride = vertices.strides[0]\n",
    "offset = ctypes.c_void_p(0)\n",
    "\n",
    "loc = glGetAttribLocation(program, \"position\")\n",
    "glEnableVertexAttribArray(loc)"
   ]
  },
  {
   "cell_type": "code",
   "execution_count": 98,
   "metadata": {},
   "outputs": [],
   "source": [
    "glVertexAttribPointer(loc, 2, GL_FLOAT, False, stride, offset)\n",
    "glfw.show_window(window)"
   ]
  },
  {
   "cell_type": "code",
   "execution_count": 99,
   "metadata": {},
   "outputs": [],
   "source": [
    "while not glfw.window_should_close(window):\n",
    "\n",
    "    glfw.poll_events() \n",
    "\n",
    "    \n",
    "    #glPolygonMode(GL_FRONT_AND_BACK,GL_LINE) ## ative esse comando para enxergar os triângulos\n",
    "    glClear(GL_COLOR_BUFFER_BIT) \n",
    "    glClearColor(1.0, 1.0, 1.0, 1.0)\n",
    "    \n",
    "    glDrawArrays(GL_LINE_LOOP, 0, 70)\n",
    "\n",
    "    glfw.swap_buffers(window)\n",
    "\n",
    "glfw.terminate()"
   ]
  }
 ],
 "metadata": {
  "kernelspec": {
   "display_name": "Python 3",
   "language": "python",
   "name": "python3"
  },
  "language_info": {
   "codemirror_mode": {
    "name": "ipython",
    "version": 3
   },
   "file_extension": ".py",
   "mimetype": "text/x-python",
   "name": "python",
   "nbconvert_exporter": "python",
   "pygments_lexer": "ipython3",
   "version": "3.8.10"
  }
 },
 "nbformat": 4,
 "nbformat_minor": 2
}
