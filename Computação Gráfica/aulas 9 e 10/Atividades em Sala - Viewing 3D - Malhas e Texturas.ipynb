{
 "cells": [
  {
   "cell_type": "markdown",
   "metadata": {},
   "source": [
    "# Aula 09.Ex01 - Malhas e Texturas - Mapeamento de Texturas"
   ]
  },
  {
   "cell_type": "markdown",
   "metadata": {},
   "source": [
    "### Primeiro, vamos importar as bibliotecas necessárias.\n",
    "Verifique no código anterior um script para instalar as dependências necessárias (OpenGL e GLFW) antes de prosseguir."
   ]
  },
  {
   "cell_type": "code",
   "execution_count": 1,
   "metadata": {},
   "outputs": [],
   "source": [
    "import glfw\n",
    "from OpenGL.GL import *\n",
    "import OpenGL.GL.shaders\n",
    "import numpy as np\n",
    "import glm\n",
    "import math\n",
    "from PIL import Image"
   ]
  },
  {
   "cell_type": "markdown",
   "metadata": {},
   "source": [
    "### Inicializando janela"
   ]
  },
  {
   "cell_type": "code",
   "execution_count": 2,
   "metadata": {},
   "outputs": [],
   "source": [
    "glfw.init()\n",
    "glfw.window_hint(glfw.VISIBLE, glfw.FALSE);\n",
    "altura = 1600\n",
    "largura = 1200\n",
    "window = glfw.create_window(largura, altura, \"Malhas e Texturas\", None, None)\n",
    "glfw.make_context_current(window)"
   ]
  },
  {
   "cell_type": "markdown",
   "metadata": {},
   "source": [
    "### GLSL (OpenGL Shading Language)\n",
    "\n",
    "Aqui veremos nosso primeiro código GLSL.\n",
    "\n",
    "É uma linguagem de shading de alto nível baseada na linguagem de programação C.\n",
    "\n",
    "Nós estamos escrevendo código GLSL como se \"strings\" de uma variável (mas podemos ler de arquivos texto). Esse código, depois, terá que ser compilado e linkado ao nosso programa. \n",
    "\n",
    "Iremos aprender GLSL conforme a necessidade do curso. Usarmos uma versão do GLSL mais antiga, compatível com muitos dispositivos."
   ]
  },
  {
   "cell_type": "markdown",
   "metadata": {},
   "source": [
    "### GLSL para Vertex Shader\n",
    "\n",
    "No Pipeline programável, podemos interagir com Vertex Shaders.\n",
    "\n",
    "No código abaixo, estamos fazendo o seguinte:\n",
    "\n",
    "* Definindo uma variável chamada position do tipo vec3.\n",
    "* Definindo matrizes Model, View e Projection que acumulam transformações geométricas 3D e permitem navegação no cenário.\n",
    "* void main() é o ponto de entrada do nosso programa (função principal)\n",
    "* gl_Position é uma variável especial do GLSL. Variáveis que começam com 'gl_' são desse tipo. Nesse caso, determina a posição de um vértice. Observe que todo vértice tem 4 coordenadas, por isso nós combinamos nossa variável vec2 com uma variável vec4. Além disso, nós modificamos nosso vetor com base nas transformações Model, View e Projection."
   ]
  },
  {
   "cell_type": "code",
   "execution_count": 3,
   "metadata": {},
   "outputs": [],
   "source": [
    "vertex_code = \"\"\"\n",
    "        attribute vec3 position;\n",
    "        attribute vec2 texture_coord;\n",
    "        varying vec2 out_texture;\n",
    "                \n",
    "        uniform mat4 model;\n",
    "        uniform mat4 view;\n",
    "        uniform mat4 projection;        \n",
    "        \n",
    "        void main(){\n",
    "            gl_Position = projection * view * model * vec4(position,1.0);\n",
    "            out_texture = vec2(texture_coord);\n",
    "        }\n",
    "        \"\"\""
   ]
  },
  {
   "cell_type": "markdown",
   "metadata": {},
   "source": [
    "### GLSL para Fragment Shader\n",
    "\n",
    "No Pipeline programável, podemos interagir com Fragment Shaders.\n",
    "\n",
    "No código abaixo, estamos fazendo o seguinte:\n",
    "\n",
    "* void main() é o ponto de entrada do nosso programa (função principal)\n",
    "* gl_FragColor é uma variável especial do GLSL. Variáveis que começam com 'gl_' são desse tipo. Nesse caso, determina a cor de um fragmento. Nesse caso é um ponto, mas poderia ser outro objeto (ponto, linha, triangulos, etc)."
   ]
  },
  {
   "cell_type": "markdown",
   "metadata": {},
   "source": [
    "### Possibilitando modificar a cor.\n",
    "\n",
    "Nos exemplos anteriores, a variável gl_FragColor estava definida de forma fixa (com cor R=0, G=0, B=0).\n",
    "\n",
    "Agora, nós vamos criar uma variável do tipo \"uniform\", de quatro posições (vec4), para receber o dado de cor do nosso programa rodando em CPU."
   ]
  },
  {
   "cell_type": "code",
   "execution_count": 4,
   "metadata": {},
   "outputs": [],
   "source": [
    "fragment_code = \"\"\"\n",
    "        uniform vec4 color;\n",
    "        varying vec2 out_texture;\n",
    "        uniform sampler2D samplerTexture;\n",
    "        \n",
    "        void main(){\n",
    "            vec4 texture = texture2D(samplerTexture, out_texture);\n",
    "            gl_FragColor = texture;\n",
    "        }\n",
    "        \"\"\""
   ]
  },
  {
   "cell_type": "markdown",
   "metadata": {},
   "source": [
    "### Requisitando slot para a GPU para nossos programas Vertex e Fragment Shaders"
   ]
  },
  {
   "cell_type": "code",
   "execution_count": 5,
   "metadata": {},
   "outputs": [],
   "source": [
    "# Request a program and shader slots from GPU\n",
    "program  = glCreateProgram()\n",
    "vertex   = glCreateShader(GL_VERTEX_SHADER)\n",
    "fragment = glCreateShader(GL_FRAGMENT_SHADER)\n"
   ]
  },
  {
   "cell_type": "markdown",
   "metadata": {},
   "source": [
    "### Associando nosso código-fonte aos slots solicitados"
   ]
  },
  {
   "cell_type": "code",
   "execution_count": 6,
   "metadata": {},
   "outputs": [],
   "source": [
    "# Set shaders source\n",
    "glShaderSource(vertex, vertex_code)\n",
    "glShaderSource(fragment, fragment_code)"
   ]
  },
  {
   "cell_type": "markdown",
   "metadata": {},
   "source": [
    "### Compilando o Vertex Shader\n",
    "\n",
    "Se há algum erro em nosso programa Vertex Shader, nosso app para por aqui."
   ]
  },
  {
   "cell_type": "code",
   "execution_count": 7,
   "metadata": {},
   "outputs": [],
   "source": [
    "# Compile shaders\n",
    "glCompileShader(vertex)\n",
    "if not glGetShaderiv(vertex, GL_COMPILE_STATUS):\n",
    "    error = glGetShaderInfoLog(vertex).decode()\n",
    "    print(error)\n",
    "    raise RuntimeError(\"Erro de compilacao do Vertex Shader\")\n"
   ]
  },
  {
   "cell_type": "markdown",
   "metadata": {},
   "source": [
    "### Compilando o Fragment Shader\n",
    "\n",
    "Se há algum erro em nosso programa Fragment Shader, nosso app para por aqui."
   ]
  },
  {
   "cell_type": "code",
   "execution_count": 8,
   "metadata": {},
   "outputs": [],
   "source": [
    "glCompileShader(fragment)\n",
    "if not glGetShaderiv(fragment, GL_COMPILE_STATUS):\n",
    "    error = glGetShaderInfoLog(fragment).decode()\n",
    "    print(error)\n",
    "    raise RuntimeError(\"Erro de compilacao do Fragment Shader\")"
   ]
  },
  {
   "cell_type": "markdown",
   "metadata": {},
   "source": [
    "### Associando os programas compilado ao programa principal"
   ]
  },
  {
   "cell_type": "code",
   "execution_count": 9,
   "metadata": {},
   "outputs": [],
   "source": [
    "# Attach shader objects to the program\n",
    "glAttachShader(program, vertex)\n",
    "glAttachShader(program, fragment)\n"
   ]
  },
  {
   "cell_type": "markdown",
   "metadata": {},
   "source": [
    "### Linkagem do programa"
   ]
  },
  {
   "cell_type": "code",
   "execution_count": 10,
   "metadata": {},
   "outputs": [],
   "source": [
    "# Build program\n",
    "glLinkProgram(program)\n",
    "if not glGetProgramiv(program, GL_LINK_STATUS):\n",
    "    print(glGetProgramInfoLog(program))\n",
    "    raise RuntimeError('Linking error')\n",
    "    \n",
    "# Make program the default program\n",
    "glUseProgram(program)"
   ]
  },
  {
   "cell_type": "markdown",
   "metadata": {},
   "source": [
    "### Preparando dados para enviar a GPU\n",
    "\n",
    "Nesse momento, nós compilamos nossos Vertex e Program Shaders para que a GPU possa processá-los.\n",
    "\n",
    "Por outro lado, as informações de vértices geralmente estão na CPU e devem ser transmitidas para a GPU.\n"
   ]
  },
  {
   "cell_type": "markdown",
   "metadata": {},
   "source": [
    "### Carregando Modelos (vértices e texturas) a partir de Arquivos\n",
    "\n",
    "A função abaixo carrega modelos a partir de arquivos no formato WaveFront.\n",
    "\n",
    "\n",
    "Para saber mais sobre o modelo, acesse: https://en.wikipedia.org/wiki/Wavefront_.obj_file\n",
    "\n",
    "\n",
    "Nos slides e vídeo-aula da Aula 11 - Parte 1, nós descrevemos o funcionamento desse formato."
   ]
  },
  {
   "cell_type": "code",
   "execution_count": 11,
   "metadata": {},
   "outputs": [],
   "source": [
    "def load_model_from_file(filename):\n",
    "    \"\"\"Loads a Wavefront OBJ file. \"\"\"\n",
    "    objects = {}\n",
    "    vertices = []\n",
    "    texture_coords = []\n",
    "    faces = []\n",
    "\n",
    "    material = None\n",
    "\n",
    "    # abre o arquivo obj para leitura\n",
    "    for line in open(filename, \"r\"): ## para cada linha do arquivo .obj\n",
    "        if line.startswith('#'): continue ## ignora comentarios\n",
    "        values = line.split() # quebra a linha por espaço\n",
    "        if not values: continue\n",
    "\n",
    "\n",
    "        ### recuperando vertices\n",
    "        if values[0] == 'v':\n",
    "            vertices.append(values[1:4])\n",
    "\n",
    "\n",
    "        ### recuperando coordenadas de textura\n",
    "        elif values[0] == 'vt':\n",
    "            texture_coords.append(values[1:3])\n",
    "\n",
    "        ### recuperando faces \n",
    "        elif values[0] in ('usemtl', 'usemat'):\n",
    "            material = values[1]\n",
    "        elif values[0] == 'f':\n",
    "            face = []\n",
    "            face_texture = []\n",
    "            for v in values[1:]:\n",
    "                w = v.split('/')\n",
    "                face.append(int(w[0]))\n",
    "                if len(w) >= 2 and len(w[1]) > 0:\n",
    "                    face_texture.append(int(w[1]))\n",
    "                else:\n",
    "                    face_texture.append(0)\n",
    "\n",
    "            faces.append((face, face_texture, material))\n",
    "\n",
    "    model = {}\n",
    "    model['vertices'] = vertices\n",
    "    model['texture'] = texture_coords\n",
    "    model['faces'] = faces\n",
    "\n",
    "    return model\n",
    "\n"
   ]
  },
  {
   "cell_type": "code",
   "execution_count": 12,
   "metadata": {},
   "outputs": [],
   "source": [
    "glHint(GL_LINE_SMOOTH_HINT, GL_DONT_CARE)\n",
    "glEnable( GL_BLEND )\n",
    "glBlendFunc( GL_SRC_ALPHA, GL_ONE_MINUS_SRC_ALPHA )\n",
    "glEnable(GL_LINE_SMOOTH)\n",
    "glEnable(GL_TEXTURE_2D)\n",
    "qtd_texturas = 10\n",
    "textures = glGenTextures(qtd_texturas)\n",
    "\n",
    "def load_texture_from_file(texture_id, img_textura):\n",
    "    glBindTexture(GL_TEXTURE_2D, texture_id)\n",
    "    glTexParameteri(GL_TEXTURE_2D, GL_TEXTURE_WRAP_S, GL_REPEAT)\n",
    "    glTexParameteri(GL_TEXTURE_2D, GL_TEXTURE_WRAP_T, GL_REPEAT)\n",
    "    glTexParameteri(GL_TEXTURE_2D, GL_TEXTURE_MIN_FILTER, GL_LINEAR)\n",
    "    glTexParameteri(GL_TEXTURE_2D, GL_TEXTURE_MAG_FILTER, GL_LINEAR)\n",
    "    img = Image.open(img_textura)\n",
    "    print(img_textura,img.mode)\n",
    "    img_width = img.size[0]\n",
    "    img_height = img.size[1]\n",
    "    #image_data = img.tobytes(\"raw\", \"RGB\", 0, -1)\n",
    "    image_data = img.convert(\"RGBA\").tobytes(\"raw\", \"RGBA\",0,-1)\n",
    "\n",
    "    #image_data = np.array(list(img.getdata()), np.uint8)\n",
    "    glTexImage2D(GL_TEXTURE_2D, 0, GL_RGBA, img_width, img_height, 0, GL_RGBA, GL_UNSIGNED_BYTE, image_data)"
   ]
  },
  {
   "cell_type": "markdown",
   "metadata": {},
   "source": [
    "### A lista abaixo armazena todos os vertices carregados dos arquivos"
   ]
  },
  {
   "cell_type": "code",
   "execution_count": 13,
   "metadata": {},
   "outputs": [],
   "source": [
    "vertices_list = []    \n",
    "textures_coord_list = []"
   ]
  },
  {
   "cell_type": "markdown",
   "metadata": {},
   "source": [
    "### Vamos carregar cada modelo e definir funções para desenhá-los"
   ]
  },
  {
   "cell_type": "code",
   "execution_count": 14,
   "metadata": {},
   "outputs": [
    {
     "name": "stdout",
     "output_type": "stream",
     "text": [
      "Processando modelo cube.obj. Vertice inicial: 0\n",
      "Processando modelo cube.obj. Vertice final: 36\n",
      "caixa/caixa2.jpg RGB\n"
     ]
    }
   ],
   "source": [
    "modelo = load_model_from_file('caixa/caixa.obj')\n",
    "\n",
    "### inserindo vertices do modelo no vetor de vertices\n",
    "print('Processando modelo cube.obj. Vertice inicial:',len(vertices_list))\n",
    "for face in modelo['faces']:\n",
    "    for vertice_id in face[0]:\n",
    "        vertices_list.append( modelo['vertices'][vertice_id-1] )\n",
    "    for texture_id in face[1]:\n",
    "        textures_coord_list.append( modelo['texture'][texture_id-1] )\n",
    "print('Processando modelo cube.obj. Vertice final:',len(vertices_list))\n",
    "\n",
    "### inserindo coordenadas de textura do modelo no vetor de texturas\n",
    "\n",
    "\n",
    "### carregando textura equivalente e definindo um id (buffer): use um id por textura!\n",
    "load_texture_from_file(0,'caixa/caixa2.jpg')\n"
   ]
  },
  {
   "cell_type": "code",
   "execution_count": 15,
   "metadata": {},
   "outputs": [
    {
     "name": "stdout",
     "output_type": "stream",
     "text": [
      "Processando modelo terreno.obj. Vertice inicial: 36\n",
      "Processando modelo terreno.obj. Vertice final: 42\n",
      "terreno/pedra.jpg RGB\n"
     ]
    }
   ],
   "source": [
    "modelo = load_model_from_file('terreno/terreno2.obj')\n",
    "\n",
    "### inserindo vertices do modelo no vetor de vertices\n",
    "print('Processando modelo terreno.obj. Vertice inicial:',len(vertices_list))\n",
    "for face in modelo['faces']:\n",
    "    for vertice_id in face[0]:\n",
    "        vertices_list.append( modelo['vertices'][vertice_id-1] )\n",
    "    for texture_id in face[1]:\n",
    "        textures_coord_list.append( modelo['texture'][texture_id-1] )\n",
    "print('Processando modelo terreno.obj. Vertice final:',len(vertices_list))\n",
    "\n",
    "### inserindo coordenadas de textura do modelo no vetor de texturas\n",
    "\n",
    "\n",
    "### carregando textura equivalente e definindo um id (buffer): use um id por textura!\n",
    "load_texture_from_file(1,'terreno/pedra.jpg')\n"
   ]
  },
  {
   "cell_type": "code",
   "execution_count": 16,
   "metadata": {},
   "outputs": [
    {
     "name": "stdout",
     "output_type": "stream",
     "text": [
      "Processando modelo casa.obj. Vertice inicial: 42\n",
      "Processando modelo casa.obj. Vertice final: 1476\n",
      "casa/casa.jpg RGB\n"
     ]
    }
   ],
   "source": [
    "modelo = load_model_from_file('casa/casa.obj')\n",
    "\n",
    "### inserindo vertices do modelo no vetor de vertices\n",
    "print('Processando modelo casa.obj. Vertice inicial:',len(vertices_list))\n",
    "for face in modelo['faces']:\n",
    "    for vertice_id in face[0]:\n",
    "        vertices_list.append( modelo['vertices'][vertice_id-1] )\n",
    "    for texture_id in face[1]:\n",
    "        textures_coord_list.append( modelo['texture'][texture_id-1] )\n",
    "print('Processando modelo casa.obj. Vertice final:',len(vertices_list))\n",
    "\n",
    "### inserindo coordenadas de textura do modelo no vetor de texturas\n",
    "\n",
    "\n",
    "### carregando textura equivalente e definindo um id (buffer): use um id por textura!\n",
    "load_texture_from_file(2,'casa/casa.jpg')\n"
   ]
  },
  {
   "cell_type": "code",
   "execution_count": 17,
   "metadata": {},
   "outputs": [
    {
     "name": "stdout",
     "output_type": "stream",
     "text": [
      "Processando modelo monstro.obj. Vertice inicial: 1476\n",
      "Processando modelo monstro.obj. Vertice final: 7584\n",
      "monstro/monstro.jpg RGB\n"
     ]
    }
   ],
   "source": [
    "modelo = load_model_from_file('monstro/monstro.obj')\n",
    "\n",
    "### inserindo vertices do modelo no vetor de vertices\n",
    "print('Processando modelo monstro.obj. Vertice inicial:',len(vertices_list))\n",
    "for face in modelo['faces']:\n",
    "    for vertice_id in face[0]:\n",
    "        vertices_list.append( modelo['vertices'][vertice_id-1] )\n",
    "    for texture_id in face[1]:\n",
    "        textures_coord_list.append( modelo['texture'][texture_id-1] )\n",
    "print('Processando modelo monstro.obj. Vertice final:',len(vertices_list))\n",
    "\n",
    "### inserindo coordenadas de textura do modelo no vetor de texturas\n",
    "\n",
    "\n",
    "### carregando textura equivalente e definindo um id (buffer): use um id por textura!\n",
    "load_texture_from_file(3,'monstro/monstro.jpg')\n"
   ]
  },
  {
   "cell_type": "code",
   "execution_count": 18,
   "metadata": {},
   "outputs": [
    {
     "name": "stdout",
     "output_type": "stream",
     "text": [
      "Processando modelo monstro.obj. Vertice inicial: 7584\n",
      "Processando modelo monstro.obj. Vertice final: 13536\n",
      "sky/sky.png RGBA\n"
     ]
    }
   ],
   "source": [
    "modelo = load_model_from_file('sky/sky.obj')\n",
    "\n",
    "### inserindo vertices do modelo no vetor de vertices\n",
    "print('Processando modelo monstro.obj. Vertice inicial:',len(vertices_list))\n",
    "for face in modelo['faces']:\n",
    "    for vertice_id in face[0]:\n",
    "        vertices_list.append( modelo['vertices'][vertice_id-1] )\n",
    "    for texture_id in face[1]:\n",
    "        textures_coord_list.append( modelo['texture'][texture_id-1] )\n",
    "print('Processando modelo monstro.obj. Vertice final:',len(vertices_list))\n",
    "\n",
    "### inserindo coordenadas de textura do modelo no vetor de texturas\n",
    "\n",
    "\n",
    "### carregando textura equivalente e definindo um id (buffer): use um id por textura!\n",
    "load_texture_from_file(4,'sky/sky.png')\n"
   ]
  },
  {
   "cell_type": "code",
   "execution_count": 19,
   "metadata": {},
   "outputs": [
    {
     "name": "stdout",
     "output_type": "stream",
     "text": [
      "Processando modelo spiderman.obj. Vertice inicial: 13536\n",
      "Processando modelo spiderman.obj. Vertice final: 463518\n",
      "spiderman/spiderman.png RGB\n"
     ]
    }
   ],
   "source": [
    "modelo = load_model_from_file('spiderman/spiderman.obj')\n",
    "\n",
    "### inserindo vertices do modelo no vetor de vertices\n",
    "print('Processando modelo spiderman.obj. Vertice inicial:',len(vertices_list))\n",
    "for face in modelo['faces']:\n",
    "    for vertice_id in face[0]:\n",
    "        vertices_list.append( modelo['vertices'][vertice_id-1] )\n",
    "    for texture_id in face[1]:\n",
    "        textures_coord_list.append( modelo['texture'][texture_id-1] )\n",
    "print('Processando modelo spiderman.obj. Vertice final:',len(vertices_list))\n",
    "\n",
    "### inserindo coordenadas de textura do modelo no vetor de texturas\n",
    "\n",
    "\n",
    "### carregando textura equivalente e definindo um id (buffer): use um id por textura!\n",
    "load_texture_from_file(5,'spiderman/spiderman.png')\n"
   ]
  },
  {
   "cell_type": "code",
   "execution_count": 20,
   "metadata": {},
   "outputs": [
    {
     "name": "stdout",
     "output_type": "stream",
     "text": [
      "Processando modelo tanks.obj. Vertice inicial: 463518\n",
      "Processando modelo tanks.obj. Vertice final: 662985\n",
      "tanks/tanks.jpg RGB\n"
     ]
    }
   ],
   "source": [
    "modelo = load_model_from_file('tanks/tanks.obj')\n",
    "\n",
    "### inserindo vertices do modelo no vetor de vertices\n",
    "print('Processando modelo tanks.obj. Vertice inicial:',len(vertices_list))\n",
    "for face in modelo['faces']:\n",
    "    for vertice_id in face[0]:\n",
    "        vertices_list.append( modelo['vertices'][vertice_id-1] )\n",
    "    for texture_id in face[1]:\n",
    "        textures_coord_list.append( modelo['texture'][texture_id-1] )\n",
    "print('Processando modelo tanks.obj. Vertice final:',len(vertices_list))\n",
    "\n",
    "### inserindo coordenadas de textura do modelo no vetor de texturas\n",
    "\n",
    "\n",
    "### carregando textura equivalente e definindo um id (buffer): use um id por textura!\n",
    "load_texture_from_file(6,'tanks/tanks.jpg')\n"
   ]
  },
  {
   "cell_type": "code",
   "execution_count": 21,
   "metadata": {},
   "outputs": [
    {
     "name": "stdout",
     "output_type": "stream",
     "text": [
      "Processando modelo terreno2. Vertice inicial: 662985\n",
      "Processando modelo terreno2. Vertice final: 683871\n",
      "terreno2/terreno3.png RGBA\n"
     ]
    }
   ],
   "source": [
    "modelo = load_model_from_file('terreno2/terreno2.obj')\n",
    "\n",
    "### inserindo vertices do modelo no vetor de vertices\n",
    "print('Processando modelo terreno2. Vertice inicial:',len(vertices_list))\n",
    "for face in modelo['faces']:\n",
    "    for vertice_id in face[0]:\n",
    "        vertices_list.append( modelo['vertices'][vertice_id-1] )\n",
    "    for texture_id in face[1]:\n",
    "        textures_coord_list.append( modelo['texture'][texture_id-1] )\n",
    "print('Processando modelo terreno2. Vertice final:',len(vertices_list))\n",
    "\n",
    "### inserindo coordenadas de textura do modelo no vetor de texturas\n",
    "\n",
    "\n",
    "### carregando textura equivalente e definindo um id (buffer): use um id por textura!\n",
    "load_texture_from_file(7,'terreno2/terreno3.png')\n"
   ]
  },
  {
   "cell_type": "code",
   "execution_count": 22,
   "metadata": {},
   "outputs": [
    {
     "name": "stdout",
     "output_type": "stream",
     "text": [
      "Processando modelo arvore.obj. Vertice inicial: 683871\n",
      "Trank_bark  vertice inicial = 683871\n",
      "polySurface1SG1  vertice inicial = 704133\n",
      "Processando modelo arvore.obj. Vertice final: 725043\n",
      "arvore/bark_0021.jpg RGB\n",
      "arvore/DB2X2_L01.png RGBA\n"
     ]
    }
   ],
   "source": [
    "modelo = load_model_from_file('arvore/arvore10.obj')\n",
    "\n",
    "### inserindo vertices do modelo no vetor de vertices\n",
    "print('Processando modelo arvore.obj. Vertice inicial:',len(vertices_list))\n",
    "faces_visited = []\n",
    "for face in modelo['faces']:\n",
    "    if face[2] not in faces_visited:\n",
    "        print(face[2],' vertice inicial =',len(vertices_list))\n",
    "        faces_visited.append(face[2])\n",
    "    for vertice_id in face[0]:\n",
    "        vertices_list.append( modelo['vertices'][vertice_id-1] )\n",
    "    for texture_id in face[1]:\n",
    "        textures_coord_list.append( modelo['texture'][texture_id-1] )\n",
    "print('Processando modelo arvore.obj. Vertice final:',len(vertices_list))\n",
    "\n",
    "### inserindo coordenadas de textura do modelo no vetor de texturas\n",
    "\n",
    "\n",
    "### carregando textura equivalente e definindo um id (buffer): use um id por textura!\n",
    "load_texture_from_file(8,'arvore/bark_0021.jpg')\n",
    "load_texture_from_file(9,'arvore/DB2X2_L01.png')\n"
   ]
  },
  {
   "cell_type": "markdown",
   "metadata": {},
   "source": [
    "### Para enviar nossos dados da CPU para a GPU, precisamos requisitar slots.\n",
    "\n",
    "Nós agora vamos requisitar dois slots.\n",
    "* Um para enviar coordenadas dos vértices.\n",
    "* Outros para enviar coordenadas de texturas."
   ]
  },
  {
   "cell_type": "code",
   "execution_count": 23,
   "metadata": {},
   "outputs": [],
   "source": [
    "# Request a buffer slot from GPU\n",
    "buffer = glGenBuffers(2)\n"
   ]
  },
  {
   "cell_type": "markdown",
   "metadata": {},
   "source": [
    "###  Enviando coordenadas de vértices para a GPU"
   ]
  },
  {
   "cell_type": "code",
   "execution_count": 24,
   "metadata": {},
   "outputs": [],
   "source": [
    "vertices = np.zeros(len(vertices_list), [(\"position\", np.float32, 3)])\n",
    "vertices['position'] = vertices_list\n",
    "\n",
    "# Upload data\n",
    "glBindBuffer(GL_ARRAY_BUFFER, buffer[0])\n",
    "glBufferData(GL_ARRAY_BUFFER, vertices.nbytes, vertices, GL_STATIC_DRAW)\n",
    "stride = vertices.strides[0]\n",
    "offset = ctypes.c_void_p(0)\n",
    "loc_vertices = glGetAttribLocation(program, \"position\")\n",
    "glEnableVertexAttribArray(loc_vertices)\n",
    "glVertexAttribPointer(loc_vertices, 3, GL_FLOAT, False, stride, offset)\n"
   ]
  },
  {
   "cell_type": "markdown",
   "metadata": {},
   "source": [
    "###  Enviando coordenadas de textura para a GPU"
   ]
  },
  {
   "cell_type": "code",
   "execution_count": 25,
   "metadata": {},
   "outputs": [
    {
     "name": "stdout",
     "output_type": "stream",
     "text": [
      "([1., 0.],)\n"
     ]
    }
   ],
   "source": [
    "textures = np.zeros(len(textures_coord_list), [(\"position\", np.float32, 2)]) # duas coordenadas\n",
    "textures['position'] = textures_coord_list\n",
    "print(textures[0])\n",
    "\n",
    "\n",
    "# Upload data\n",
    "glBindBuffer(GL_ARRAY_BUFFER, buffer[1])\n",
    "glBufferData(GL_ARRAY_BUFFER, textures.nbytes, textures, GL_STATIC_DRAW)\n",
    "stride = textures.strides[0]\n",
    "offset = ctypes.c_void_p(0)\n",
    "loc_texture_coord = glGetAttribLocation(program, \"texture_coord\")\n",
    "glEnableVertexAttribArray(loc_texture_coord)\n",
    "glVertexAttribPointer(loc_texture_coord, 2, GL_FLOAT, False, stride, offset)\n",
    "\n",
    "\n",
    "\n"
   ]
  },
  {
   "cell_type": "markdown",
   "metadata": {},
   "source": [
    "### Desenhando nossos modelos\n",
    "* Cada modelo tem um Model para posicioná-los no mundo.\n",
    "* É necessário saber qual a posição inicial e total de vértices de cada modelo\n",
    "* É necessário indicar qual o ID da textura do modelo\n"
   ]
  },
  {
   "cell_type": "code",
   "execution_count": 26,
   "metadata": {},
   "outputs": [],
   "source": [
    "def desenha_caixa():\n",
    "    \n",
    "    \n",
    "    # aplica a matriz model\n",
    "    \n",
    "    # rotacao\n",
    "    angle = 0.0;\n",
    "    r_x = 0.0; r_y = 0.0; r_z = 1.0;\n",
    "    \n",
    "    # translacao\n",
    "    t_x = 0.0; t_y = 0.0; t_z = 15.0;\n",
    "    \n",
    "    # escala\n",
    "    s_x = 1.0; s_y = 1.0; s_z = 1.0;\n",
    "    \n",
    "    mat_model = model(angle, r_x, r_y, r_z, t_x, t_y, t_z, s_x, s_y, s_z)\n",
    "    loc_model = glGetUniformLocation(program, \"model\")\n",
    "    glUniformMatrix4fv(loc_model, 1, GL_TRUE, mat_model)\n",
    "       \n",
    "    #define id da textura do modelo\n",
    "    glBindTexture(GL_TEXTURE_2D, 0)\n",
    "    \n",
    "    \n",
    "    # desenha o modelo\n",
    "    glDrawArrays(GL_TRIANGLES, 0, 36) ## renderizando\n",
    "    \n",
    "\n",
    "    "
   ]
  },
  {
   "cell_type": "code",
   "execution_count": 27,
   "metadata": {},
   "outputs": [],
   "source": [
    "def desenha_terreno():\n",
    "    \n",
    "    \n",
    "    # aplica a matriz model\n",
    "    \n",
    "    # rotacao\n",
    "    angle = 0.0;\n",
    "    r_x = 0.0; r_y = 0.0; r_z = 1.0;\n",
    "    \n",
    "    # translacao\n",
    "    t_x = 0.0; t_y = -1.01; t_z = 0.0;\n",
    "    \n",
    "    # escala\n",
    "    s_x = 200.0; s_y = 200.0; s_z = 200.0;\n",
    "    \n",
    "    mat_model = model(angle, r_x, r_y, r_z, t_x, t_y, t_z, s_x, s_y, s_z)\n",
    "    loc_model = glGetUniformLocation(program, \"model\")\n",
    "    glUniformMatrix4fv(loc_model, 1, GL_TRUE, mat_model)\n",
    "       \n",
    "    #define id da textura do modelo\n",
    "    glBindTexture(GL_TEXTURE_2D, 1)\n",
    "    \n",
    "    \n",
    "    # desenha o modelo\n",
    "    glDrawArrays(GL_TRIANGLES, 36, 42-36) ## renderizando\n",
    "    \n",
    "\n",
    "    "
   ]
  },
  {
   "cell_type": "code",
   "execution_count": 28,
   "metadata": {},
   "outputs": [],
   "source": [
    "def desenha_casa():\n",
    "    \n",
    "    \n",
    "    # aplica a matriz model\n",
    "    \n",
    "    # rotacao\n",
    "    angle = 0.0;\n",
    "    r_x = 0.0; r_y = 0.0; r_z = 1.0;\n",
    "    \n",
    "    # translacao\n",
    "    t_x = 0.0; t_y = -1.0; t_z = 0.0;\n",
    "    \n",
    "    # escala\n",
    "    s_x = 1.0; s_y = 1.0; s_z = 1.0;\n",
    "    \n",
    "    mat_model = model(angle, r_x, r_y, r_z, t_x, t_y, t_z, s_x, s_y, s_z)\n",
    "    loc_model = glGetUniformLocation(program, \"model\")\n",
    "    glUniformMatrix4fv(loc_model, 1, GL_TRUE, mat_model)\n",
    "       \n",
    "    #define id da textura do modelo\n",
    "    glBindTexture(GL_TEXTURE_2D, 2)\n",
    "    \n",
    "    \n",
    "    # desenha o modelo\n",
    "    glDrawArrays(GL_TRIANGLES, 42, 1476-42) ## renderizando\n",
    "    \n",
    "\n",
    "    "
   ]
  },
  {
   "cell_type": "code",
   "execution_count": 29,
   "metadata": {},
   "outputs": [],
   "source": [
    "def desenha_monstro(rotacao_inc):\n",
    "    \n",
    "    \n",
    "    # aplica a matriz model\n",
    "    \n",
    "    # rotacao\n",
    "    angle = rotacao_inc;\n",
    "    r_x = 0.0; r_y = 1.0; r_z = 0.0;\n",
    "    \n",
    "    # translacao\n",
    "    t_x = 0.0; t_y = -1.0; t_z = 0.0;\n",
    "    \n",
    "    # escala\n",
    "    s_x = 1.0; s_y = 1.0; s_z = 1.0;\n",
    "    \n",
    "    mat_model = model(angle, r_x, r_y, r_z, t_x, t_y, t_z, s_x, s_y, s_z)\n",
    "    loc_model = glGetUniformLocation(program, \"model\")\n",
    "    glUniformMatrix4fv(loc_model, 1, GL_TRUE, mat_model)\n",
    "       \n",
    "    #define id da textura do modelo\n",
    "    glBindTexture(GL_TEXTURE_2D, 3)\n",
    "    \n",
    "    \n",
    "    # desenha o modelo\n",
    "    glDrawArrays(GL_TRIANGLES, 1476, 7584-1476) ## renderizando\n",
    "    \n",
    "\n",
    "    "
   ]
  },
  {
   "cell_type": "code",
   "execution_count": 30,
   "metadata": {},
   "outputs": [],
   "source": [
    "def desenha_sky(rotacao_inc):\n",
    "    \n",
    "    \n",
    "    # aplica a matriz model\n",
    "    \n",
    "    # rotacao\n",
    "    angle = rotacao_inc;\n",
    "    r_x = 0.0; r_y = 1.0; r_z = 0.0;\n",
    "    \n",
    "    # translacao\n",
    "    t_x = 0.0; t_y = 0.0; t_z = 0.0;\n",
    "    \n",
    "    # escala\n",
    "    s_x = 3.0; s_y = 3.0; s_z = 3.0;\n",
    "    \n",
    "    mat_model = model(angle, r_x, r_y, r_z, t_x, t_y, t_z, s_x, s_y, s_z)\n",
    "    loc_model = glGetUniformLocation(program, \"model\")\n",
    "    glUniformMatrix4fv(loc_model, 1, GL_TRUE, mat_model)\n",
    "       \n",
    "    #define id da textura do modelo\n",
    "    glBindTexture(GL_TEXTURE_2D, 4)\n",
    "    \n",
    "    \n",
    "    # desenha o modelo\n",
    "    glDrawArrays(GL_TRIANGLES, 7584 , 13536-7584) ## renderizando\n",
    "    \n",
    "\n",
    "    "
   ]
  },
  {
   "cell_type": "code",
   "execution_count": 31,
   "metadata": {},
   "outputs": [],
   "source": [
    " \n",
    "\n",
    "def desenha_spiderman():\n",
    "    \n",
    "    \n",
    "    # aplica a matriz model\n",
    "    \n",
    "    # rotacao\n",
    "    angle = 0;\n",
    "    r_x = 0.0; r_y = 1.0; r_z = 0.0;\n",
    "    \n",
    "    # translacao\n",
    "    t_x = 50.0; t_y = 0.0; t_z = 0.0;\n",
    "    \n",
    "    # escala\n",
    "    s_x = 1.0; s_y = 1.0; s_z = 1.0;\n",
    "    \n",
    "    mat_model = model(angle, r_x, r_y, r_z, t_x, t_y, t_z, s_x, s_y, s_z)\n",
    "    loc_model = glGetUniformLocation(program, \"model\")\n",
    "    glUniformMatrix4fv(loc_model, 1, GL_TRUE, mat_model)\n",
    "       \n",
    "    #define id da textura do modelo\n",
    "    glBindTexture(GL_TEXTURE_2D, 5)\n",
    "    \n",
    "    \n",
    "    # desenha o modelo\n",
    "    glDrawArrays(GL_TRIANGLES, 13536 , 463518-13536) ## renderizando\n",
    "    \n",
    "\n",
    "    "
   ]
  },
  {
   "cell_type": "code",
   "execution_count": 32,
   "metadata": {},
   "outputs": [],
   "source": [
    " \n",
    "\n",
    "def desenha_tanks(inc_t):\n",
    "    \n",
    "    \n",
    "    # aplica a matriz model\n",
    "    \n",
    "    # rotacao\n",
    "    angle = -90;\n",
    "    r_x = 1.0; r_y = 0.0; r_z = 0.0;\n",
    "    \n",
    "    # translacao\n",
    "    t_x = 50.0; t_y = 0.0; t_z = 0.0+inc_t;\n",
    "    \n",
    "    # escala\n",
    "    s_x = 4.0; s_y = 4.0; s_z = 4.0;\n",
    "    \n",
    "    mat_model = model(angle, r_x, r_y, r_z, t_x, t_y, t_z, s_x, s_y, s_z)\n",
    "    loc_model = glGetUniformLocation(program, \"model\")\n",
    "    glUniformMatrix4fv(loc_model, 1, GL_TRUE, mat_model)\n",
    "       \n",
    "    #define id da textura do modelo\n",
    "    glBindTexture(GL_TEXTURE_2D, 6)\n",
    "    \n",
    "    \n",
    "    # desenha o modelo\n",
    "    glDrawArrays(GL_TRIANGLES, 463518 , 662985-463518) ## renderizando\n",
    "     \n",
    "\n",
    "    "
   ]
  },
  {
   "cell_type": "code",
   "execution_count": 33,
   "metadata": {},
   "outputs": [],
   "source": [
    " \n",
    "\n",
    "def desenha_terreno2():\n",
    "    \n",
    "    \n",
    "    # aplica a matriz model\n",
    "    \n",
    "    # rotacao\n",
    "    angle = 0;\n",
    "    r_x = 1.0; r_y = 0.0; r_z = 0.0;\n",
    "    \n",
    "    # translacao\n",
    "    t_x = 50.0; t_y = 0.0; t_z = 0.0;\n",
    "    \n",
    "    # escala\n",
    "    s_x = 2.0; s_y = 2.0; s_z = 2.0;\n",
    "    \n",
    "    mat_model = model(angle, r_x, r_y, r_z, t_x, t_y, t_z, s_x, s_y, s_z)\n",
    "    loc_model = glGetUniformLocation(program, \"model\")\n",
    "    glUniformMatrix4fv(loc_model, 1, GL_TRUE, mat_model)\n",
    "       \n",
    "    #define id da textura do modelo\n",
    "    glBindTexture(GL_TEXTURE_2D, 7)\n",
    "    \n",
    "    \n",
    "    # desenha o modelo\n",
    "    glDrawArrays(GL_TRIANGLES, 662985 , 683871-662985) ## renderizando\n",
    "     \n"
   ]
  },
  {
   "cell_type": "code",
   "execution_count": 34,
   "metadata": {},
   "outputs": [],
   "source": [
    "def desenha_arvore():\n",
    "    \n",
    "    \n",
    "    # aplica a matriz model\n",
    "    \n",
    "    # rotacao\n",
    "    angle = 0.0;\n",
    "    r_x = 0.0; r_y = 0.0; r_z = 1.0;\n",
    "    \n",
    "    # translacao\n",
    "    t_x = -10.0; t_y = -1.0; t_z = 15.0;\n",
    "    \n",
    "    # escala\n",
    "    s_x = 7.0; s_y = 7.0; s_z = 7.0;\n",
    "    \n",
    "    mat_model = model(angle, r_x, r_y, r_z, t_x, t_y, t_z, s_x, s_y, s_z)\n",
    "    loc_model = glGetUniformLocation(program, \"model\")\n",
    "    glUniformMatrix4fv(loc_model, 1, GL_TRUE, mat_model)\n",
    "       \n",
    "    \n",
    "    ### desenho o tronco da arvore\n",
    "    #define id da textura do modelo\n",
    "    glBindTexture(GL_TEXTURE_2D, 8)\n",
    "    # desenha o modelo\n",
    "    glDrawArrays(GL_TRIANGLES, 683871, 704133-683871) ## renderizando\n",
    "    \n",
    "    ### desenho as folhas\n",
    "    #define id da textura do modelo\n",
    "    glBindTexture(GL_TEXTURE_2D, 9)\n",
    "    # desenha o modelo\n",
    "    glDrawArrays(GL_TRIANGLES, 704133, 725043-704133) ## renderizando\n",
    "\n"
   ]
  },
  {
   "cell_type": "markdown",
   "metadata": {},
   "source": [
    "### Eventos para modificar a posição da câmera.\n",
    "\n",
    "* Usei as teclas A, S, D e W para movimentação no espaço tridimensional\n",
    "* Usei a posição do mouse para \"direcionar\" a câmera"
   ]
  },
  {
   "cell_type": "code",
   "execution_count": 35,
   "metadata": {},
   "outputs": [],
   "source": [
    "cameraPos   = glm.vec3(0.0,  0.0,  1.0);\n",
    "cameraFront = glm.vec3(0.0,  0.0, -1.0);\n",
    "cameraUp    = glm.vec3(0.0,  1.0,  0.0);\n",
    "\n",
    "\n",
    "polygonal_mode = False\n",
    "\n",
    "\n",
    "inc_fov = 0\n",
    "inc_near = 0\n",
    "inc_far = 0\n",
    "inc_view_up = 0\n",
    "\n",
    "def key_event(window,key,scancode,action,mods):\n",
    "    global cameraPos, cameraFront, cameraUp, polygonal_mode, inc_fov, inc_near, inc_far, cameraUp, inc_view_up\n",
    "    \n",
    "    print(key)\n",
    "    if key == 66:\n",
    "        inc_view_up += 0.1\n",
    "        #cameraUp    = glm.vec3(0.0+inc_view_up,  1.0+inc_view_up,  0.0+inc_view_up);\n",
    "    if key == 78: inc_near += 0.1\n",
    "    if key == 77: inc_far -= 5\n",
    "        \n",
    "    \n",
    "        \n",
    "    cameraSpeed = 0.2\n",
    "    if key == 87 and (action==1 or action==2): # tecla W\n",
    "        cameraPos += cameraSpeed * cameraFront\n",
    "    \n",
    "    if key == 83 and (action==1 or action==2): # tecla S\n",
    "        cameraPos -= cameraSpeed * cameraFront\n",
    "    \n",
    "    if key == 65 and (action==1 or action==2): # tecla A\n",
    "        cameraPos -= glm.normalize(glm.cross(cameraFront, cameraUp)) * cameraSpeed\n",
    "        \n",
    "    if key == 68 and (action==1 or action==2): # tecla D\n",
    "        cameraPos += glm.normalize(glm.cross(cameraFront, cameraUp)) * cameraSpeed\n",
    "        \n",
    "    if key == 80 and action==1 and polygonal_mode==True:\n",
    "        polygonal_mode=False\n",
    "    else:\n",
    "        if key == 80 and action==1 and polygonal_mode==False:\n",
    "            polygonal_mode=True\n",
    "        \n",
    "        \n",
    "        \n",
    "firstMouse = True\n",
    "yaw = -90.0 \n",
    "pitch = 0.0\n",
    "lastX =  largura/2\n",
    "lastY =  altura/2\n",
    "\n",
    "def mouse_event(window, xpos, ypos):\n",
    "    global firstMouse, cameraFront, yaw, pitch, lastX, lastY\n",
    "    if firstMouse:\n",
    "        lastX = xpos\n",
    "        lastY = ypos\n",
    "        firstMouse = False\n",
    "\n",
    "    xoffset = xpos - lastX\n",
    "    yoffset = lastY - ypos\n",
    "    lastX = xpos\n",
    "    lastY = ypos\n",
    "\n",
    "    sensitivity = 0.3 \n",
    "    xoffset *= sensitivity\n",
    "    yoffset *= sensitivity\n",
    "\n",
    "    yaw += xoffset;\n",
    "    pitch += yoffset;\n",
    "\n",
    "    \n",
    "    if pitch >= 90.0: pitch = 90.0\n",
    "    if pitch <= -90.0: pitch = -90.0\n",
    "\n",
    "    front = glm.vec3()\n",
    "    front.x = math.cos(glm.radians(yaw)) * math.cos(glm.radians(pitch))\n",
    "    front.y = math.sin(glm.radians(pitch))\n",
    "    front.z = math.sin(glm.radians(yaw)) * math.cos(glm.radians(pitch))\n",
    "    cameraFront = glm.normalize(front)\n",
    "\n",
    "\n",
    "    \n",
    "glfw.set_key_callback(window,key_event)\n",
    "glfw.set_cursor_pos_callback(window, mouse_event)\n"
   ]
  },
  {
   "cell_type": "markdown",
   "metadata": {},
   "source": [
    "### Matrizes Model, View e Projection\n",
    "\n",
    "Teremos uma aula específica para entender o seu funcionamento."
   ]
  },
  {
   "cell_type": "code",
   "execution_count": 36,
   "metadata": {},
   "outputs": [],
   "source": [
    "def model(angle, r_x, r_y, r_z, t_x, t_y, t_z, s_x, s_y, s_z):\n",
    "    \n",
    "    angle = math.radians(angle)\n",
    "    \n",
    "    matrix_transform = glm.mat4(1.0) # instanciando uma matriz identidade\n",
    "\n",
    "    \n",
    "    # aplicando translacao\n",
    "    matrix_transform = glm.translate(matrix_transform, glm.vec3(t_x, t_y, t_z))    \n",
    "    \n",
    "    # aplicando rotacao\n",
    "    matrix_transform = glm.rotate(matrix_transform, angle, glm.vec3(r_x, r_y, r_z))\n",
    "    \n",
    "    # aplicando escala\n",
    "    matrix_transform = glm.scale(matrix_transform, glm.vec3(s_x, s_y, s_z))\n",
    "    \n",
    "    matrix_transform = np.array(matrix_transform).T # pegando a transposta da matriz (glm trabalha com ela invertida)\n",
    "    \n",
    "    return matrix_transform\n",
    "\n",
    "def view():\n",
    "    global cameraPos, cameraFront, cameraUp\n",
    "    mat_view = glm.lookAt(cameraPos, cameraPos + cameraFront, cameraUp);\n",
    "    mat_view = np.array(mat_view)\n",
    "    return mat_view\n",
    "\n",
    "def projection():\n",
    "    global altura, largura, inc_fov, inc_near, inc_far\n",
    "    # perspective parameters: fovy, aspect, near, far\n",
    "    mat_projection = glm.perspective(glm.radians(45.0), largura/altura, 0.1, 1000.0)\n",
    "    mat_projection = np.array(mat_projection)    \n",
    "    return mat_projection"
   ]
  },
  {
   "cell_type": "markdown",
   "metadata": {},
   "source": [
    "### Nesse momento, nós exibimos a janela!\n"
   ]
  },
  {
   "cell_type": "code",
   "execution_count": 37,
   "metadata": {},
   "outputs": [],
   "source": [
    "glfw.show_window(window)\n",
    "glfw.set_cursor_pos(window, lastX, lastY)"
   ]
  },
  {
   "cell_type": "markdown",
   "metadata": {},
   "source": [
    "### Loop principal da janela.\n",
    "Enquanto a janela não for fechada, esse laço será executado. É neste espaço que trabalhamos com algumas interações com a OpenGL."
   ]
  },
  {
   "cell_type": "code",
   "execution_count": 38,
   "metadata": {},
   "outputs": [
    {
     "name": "stdout",
     "output_type": "stream",
     "text": [
      "83\n",
      "83\n",
      "83\n",
      "83\n",
      "83\n",
      "83\n",
      "83\n",
      "83\n",
      "83\n",
      "83\n",
      "83\n",
      "83\n",
      "83\n",
      "83\n",
      "83\n",
      "83\n",
      "83\n",
      "83\n",
      "83\n",
      "83\n",
      "83\n",
      "83\n",
      "83\n",
      "83\n",
      "83\n"
     ]
    },
    {
     "ename": "",
     "evalue": "",
     "output_type": "error",
     "traceback": [
      "\u001b[1;31mThe Kernel crashed while executing code in the current cell or a previous cell. \n",
      "\u001b[1;31mPlease review the code in the cell(s) to identify a possible cause of the failure. \n",
      "\u001b[1;31mClick <a href='https://aka.ms/vscodeJupyterKernelCrash'>here</a> for more info. \n",
      "\u001b[1;31mView Jupyter <a href='command:jupyter.viewOutput'>log</a> for further details."
     ]
    }
   ],
   "source": [
    "glEnable(GL_DEPTH_TEST) ### importante para 3D\n",
    "   \n",
    "\n",
    "rotacao_inc = 0\n",
    "while not glfw.window_should_close(window):\n",
    "\n",
    "    glfw.poll_events() \n",
    "    \n",
    "    \n",
    "    glClear(GL_COLOR_BUFFER_BIT | GL_DEPTH_BUFFER_BIT)\n",
    "    \n",
    "    glClearColor(1.0, 1.0, 1.0, 1.0)\n",
    "    \n",
    "    if polygonal_mode==True:\n",
    "        glPolygonMode(GL_FRONT_AND_BACK,GL_LINE)\n",
    "    if polygonal_mode==False:\n",
    "        glPolygonMode(GL_FRONT_AND_BACK,GL_FILL)\n",
    "    \n",
    "    \n",
    "    rotacao_inc += 0.1\n",
    "#     desenha_caixa()   \n",
    "    desenha_terreno()\n",
    "    desenha_casa()\n",
    "    desenha_sky(rotacao_inc)\n",
    "    \n",
    "    \n",
    "    desenha_monstro(rotacao_inc)\n",
    "    desenha_spiderman()\n",
    "    desenha_tanks(rotacao_inc)\n",
    "  \n",
    "    desenha_terreno2()\n",
    "    \n",
    "    desenha_arvore()\n",
    "    \n",
    "    mat_view = view()\n",
    "    loc_view = glGetUniformLocation(program, \"view\")\n",
    "    glUniformMatrix4fv(loc_view, 1, GL_FALSE, mat_view)\n",
    "\n",
    "#     mat_projection = projection()\n",
    "#     loc_projection = glGetUniformLocation(program, \"projection\")\n",
    "#     glUniformMatrix4fv(loc_projection, 1, GL_FALSE, mat_projection)    \n",
    "    \n",
    "    \n",
    "\n",
    "    \n",
    "#     glfw.swap_buffers(window)\n",
    "\n",
    "glfw.terminate()"
   ]
  },
  {
   "cell_type": "markdown",
   "metadata": {},
   "source": [
    "# Exercício\n",
    "\n",
    "* Adicione mais 2 modelos no cenário com suas respectivas texturas. Procure em repositórios abertos/gratuitos por modelos no formato Wavefront (extensão .obj). Verifique se o conteúdo das faces do modelo é baseado em triângulos. Verifique se o modelo acompanha alguma imagem (.jpg, png, etc) com a textura. Evite modelos compostos por múltiplos objetos/texturas.\n",
    "\n",
    "* Coloque um cubo para \"encapsular\" todo o seu cenário. A face inferior do cubo será seu terreno. A face superior será o céu. As faces laterais serão horizontes. Crie um único arquivo de textura (imagem png ou jpg) com todas as faces. No arquivo .obj do modelo, define as coordenadas de textura para cada triângulo."
   ]
  }
 ],
 "metadata": {
  "finalized": {
   "timestamp": 1589232864147,
   "trusted": true
  },
  "kernelspec": {
   "display_name": "Python 3",
   "language": "python",
   "name": "python3"
  },
  "language_info": {
   "codemirror_mode": {
    "name": "ipython",
    "version": 3
   },
   "file_extension": ".py",
   "mimetype": "text/x-python",
   "name": "python",
   "nbconvert_exporter": "python",
   "pygments_lexer": "ipython3",
   "version": "3.11.5"
  }
 },
 "nbformat": 4,
 "nbformat_minor": 2
}
