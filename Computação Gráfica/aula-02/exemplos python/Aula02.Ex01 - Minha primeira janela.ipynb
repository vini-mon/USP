{
 "cells": [
  {
   "cell_type": "markdown",
   "metadata": {},
   "source": [
    "# Aula02.Ex01 - Minha primeira janela\n",
    "\n",
    "Neste exemplo, nós utilizaremos a biblioteca GLFW para construir nossa primeira janela.\n",
    "\n",
    "Esta janela será capaz de processar instruções OpenGL"
   ]
  },
  {
   "cell_type": "markdown",
   "metadata": {},
   "source": [
    "### Primeiro, vamos importar as bibliotecas necessárias.\n",
    "Verifique no código anterior um script para instalar as dependências necessárias (OpenGL e GLFW) antes de prosseguir."
   ]
  },
  {
   "cell_type": "code",
   "execution_count": 1,
   "metadata": {},
   "outputs": [],
   "source": [
    "import glfw\n",
    "from OpenGL.GL import *\n",
    "import OpenGL.GL.shaders\n",
    "import numpy as np"
   ]
  },
  {
   "cell_type": "markdown",
   "metadata": {},
   "source": [
    "### Inicializando o sistema de janela GLFW"
   ]
  },
  {
   "cell_type": "code",
   "execution_count": 2,
   "metadata": {},
   "outputs": [
    {
     "data": {
      "text/plain": [
       "1"
      ]
     },
     "execution_count": 2,
     "metadata": {},
     "output_type": "execute_result"
    }
   ],
   "source": [
    "glfw.init()"
   ]
  },
  {
   "cell_type": "markdown",
   "metadata": {},
   "source": [
    "### Criando a primeira janela.\n",
    "* Linha 1: indica que a janela será criada mas NÃO será exibida imediatamente.\n",
    "* Linha 2: cria a janela com tamanho (width e height) e título da janela. Outros parâmetros definem se a janela será exibida em modo full (tela inteira) e controles de monitor.\n",
    "* Linha 3: a janela que criamos se a principal no momento (contexto)\n",
    "\n",
    "Mais detalhes: https://www.glfw.org/docs/latest/window_guide.html"
   ]
  },
  {
   "cell_type": "code",
   "execution_count": 3,
   "metadata": {},
   "outputs": [],
   "source": [
    "glfw.window_hint(glfw.VISIBLE, glfw.FALSE)\n",
    "window = glfw.create_window(720, 600, \"Minha Primeira Janela\", None, None)\n",
    "glfw.make_context_current(window)"
   ]
  },
  {
   "cell_type": "markdown",
   "metadata": {},
   "source": [
    "### Função para capturar eventos de teclado.\n",
    "Em determinado momento será interessante tomar decisões com base em entrada do teclado. A função (key_event) é genérica e apenas imprime no terminal quais teclas estão sendo pressionadas."
   ]
  },
  {
   "cell_type": "code",
   "execution_count": 4,
   "metadata": {},
   "outputs": [],
   "source": [
    "def key_event(window,key,scancode,action,mods):\n",
    "    print('[key event] key=',key)\n",
    "    print('[key event] scancode=',scancode)\n",
    "    print('[key event] action=',action)\n",
    "    print('[key event] mods=',mods)\n",
    "    print('-------')\n",
    "    \n",
    "glfw.set_key_callback(window,key_event)"
   ]
  },
  {
   "cell_type": "markdown",
   "metadata": {},
   "source": [
    "### Função para capturar eventos de mouse.\n",
    "Cliques do mouse também serão importantes. A função (mouse_event) apenas exibe qual botão do mouse foi pressionado. De forma análoga, também é possível coletar eventos de coordenadas do ponteiro/cursor do mouse.\n",
    "\n",
    "Mais detalhes: https://www.glfw.org/docs/3.3.2/input_guide.html"
   ]
  },
  {
   "cell_type": "code",
   "execution_count": 5,
   "metadata": {},
   "outputs": [],
   "source": [
    "def mouse_event(window,button,action,mods):\n",
    "    print('[mouse event] button=',button)\n",
    "    print('[mouse event] action=',action)\n",
    "    print('[mouse event] mods=',mods)\n",
    "    print('-------')\n",
    "glfw.set_mouse_button_callback(window,mouse_event)"
   ]
  },
  {
   "cell_type": "markdown",
   "metadata": {},
   "source": [
    "### Nesse momento, nós exibimos a janela!"
   ]
  },
  {
   "cell_type": "code",
   "execution_count": 6,
   "metadata": {},
   "outputs": [],
   "source": [
    "glfw.show_window(window)"
   ]
  },
  {
   "cell_type": "markdown",
   "metadata": {},
   "source": [
    "### Loop principal da janela.\n",
    "Enquanto a janela não for fechada, esse laço será executado. É neste espaço que trabalhamos com algumas interações com a OpenGL."
   ]
  },
  {
   "cell_type": "code",
   "execution_count": 7,
   "metadata": {},
   "outputs": [],
   "source": [
    "R = 1.0\n",
    "G = 1.0\n",
    "B = 1.0\n",
    "inc = 0.01\n",
    "while not glfw.window_should_close(window):\n",
    "\n",
    "    \n",
    "    # funcao interna do glfw para gerenciar eventos de mouse, teclado, etc\n",
    "    glfw.poll_events() \n",
    "\n",
    "    # limpa a cor de fundo da janela e preenche com outra no sistema RGBA\n",
    "    glClear(GL_COLOR_BUFFER_BIT)   \n",
    "    \n",
    "    # definindo a cor da janela      \n",
    "    glClearColor(R, G, B, 1.0)\n",
    "\n",
    "    # gerencia troca de dados entre janela e o OpenGL\n",
    "    glfw.swap_buffers(window)\n"
   ]
  },
  {
   "cell_type": "markdown",
   "metadata": {},
   "source": [
    "### Vamos finalizar o sistema de janela GLFW\n",
    "O sistema é finalizado assim que a janela é fechada e/ou o laço acima é interrompido."
   ]
  },
  {
   "cell_type": "code",
   "execution_count": 8,
   "metadata": {},
   "outputs": [],
   "source": [
    "glfw.terminate()"
   ]
  },
  {
   "cell_type": "markdown",
   "metadata": {},
   "source": [
    "# Exercício\n",
    "\n",
    "Modifique esse código para que a janela mude de cor dinamicamente, em cada iteração do laço principal\n",
    "\n",
    "Dica: incrementar +0.01 as componentes R, G e B até atingir 1.0. Em seguida, faça o processo inverso (-0.01)"
   ]
  }
 ],
 "metadata": {
  "kernelspec": {
   "display_name": "Python 3",
   "language": "python",
   "name": "python3"
  },
  "language_info": {
   "codemirror_mode": {
    "name": "ipython",
    "version": 3
   },
   "file_extension": ".py",
   "mimetype": "text/x-python",
   "name": "python",
   "nbconvert_exporter": "python",
   "pygments_lexer": "ipython3",
   "version": "3.8.5"
  }
 },
 "nbformat": 4,
 "nbformat_minor": 2
}
