{
  "cells": [
    {
      "cell_type": "markdown",
      "metadata": {
        "id": "AvY906sOvgPQ"
      },
      "source": [
        "# **Coloque aqui as Bibliotecas Necessárias**"
      ]
    },
    {
      "cell_type": "code",
      "execution_count": 126,
      "metadata": {
        "id": "lHO0IZYxvRB5"
      },
      "outputs": [],
      "source": [
        "import pandas as pd\n",
        "import seaborn as sns"
      ]
    },
    {
      "cell_type": "markdown",
      "metadata": {
        "id": "w40zMDTJuo-b"
      },
      "source": [
        "# **Conjunto de Dados com Estatísticas do Brasil**"
      ]
    },
    {
      "cell_type": "code",
      "execution_count": 127,
      "metadata": {
        "colab": {
          "base_uri": "https://localhost:8080/",
          "height": 308
        },
        "id": "lxk2ZLzUuVAG",
        "outputId": "628659fc-5a36-4511-faa5-f839e879f2c6"
      },
      "outputs": [
        {
          "data": {
            "text/html": [
              "<div>\n",
              "<style scoped>\n",
              "    .dataframe tbody tr th:only-of-type {\n",
              "        vertical-align: middle;\n",
              "    }\n",
              "\n",
              "    .dataframe tbody tr th {\n",
              "        vertical-align: top;\n",
              "    }\n",
              "\n",
              "    .dataframe thead th {\n",
              "        text-align: right;\n",
              "    }\n",
              "</style>\n",
              "<table border=\"1\" class=\"dataframe\">\n",
              "  <thead>\n",
              "    <tr style=\"text-align: right;\">\n",
              "      <th></th>\n",
              "      <th>CITY</th>\n",
              "      <th>STATE</th>\n",
              "      <th>CAPITAL</th>\n",
              "      <th>IBGE_RES_POP</th>\n",
              "      <th>IBGE_RES_POP_BRAS</th>\n",
              "      <th>IBGE_RES_POP_ESTR</th>\n",
              "      <th>IBGE_DU</th>\n",
              "      <th>IBGE_DU_URBAN</th>\n",
              "      <th>IBGE_DU_RURAL</th>\n",
              "      <th>IBGE_POP</th>\n",
              "      <th>...</th>\n",
              "      <th>Pu_Bank</th>\n",
              "      <th>Pr_Assets</th>\n",
              "      <th>Pu_Assets</th>\n",
              "      <th>Cars</th>\n",
              "      <th>Motorcycles</th>\n",
              "      <th>Wheeled_tractor</th>\n",
              "      <th>UBER</th>\n",
              "      <th>MAC</th>\n",
              "      <th>WAL.MART</th>\n",
              "      <th>POST_OFFICES</th>\n",
              "    </tr>\n",
              "  </thead>\n",
              "  <tbody>\n",
              "    <tr>\n",
              "      <th>0</th>\n",
              "      <td>Abadia De Goiás</td>\n",
              "      <td>GO</td>\n",
              "      <td>0</td>\n",
              "      <td>6876.0</td>\n",
              "      <td>6876.0</td>\n",
              "      <td>0.0</td>\n",
              "      <td>2137.0</td>\n",
              "      <td>1546.0</td>\n",
              "      <td>591.0</td>\n",
              "      <td>5300.0</td>\n",
              "      <td>...</td>\n",
              "      <td>NaN</td>\n",
              "      <td>NaN</td>\n",
              "      <td>NaN</td>\n",
              "      <td>2158.0</td>\n",
              "      <td>1246.0</td>\n",
              "      <td>0.0</td>\n",
              "      <td>NaN</td>\n",
              "      <td>NaN</td>\n",
              "      <td>NaN</td>\n",
              "      <td>1.0</td>\n",
              "    </tr>\n",
              "    <tr>\n",
              "      <th>1</th>\n",
              "      <td>Abadia Dos Dourados</td>\n",
              "      <td>MG</td>\n",
              "      <td>0</td>\n",
              "      <td>6704.0</td>\n",
              "      <td>6704.0</td>\n",
              "      <td>0.0</td>\n",
              "      <td>2328.0</td>\n",
              "      <td>1481.0</td>\n",
              "      <td>847.0</td>\n",
              "      <td>4154.0</td>\n",
              "      <td>...</td>\n",
              "      <td>NaN</td>\n",
              "      <td>NaN</td>\n",
              "      <td>NaN</td>\n",
              "      <td>2227.0</td>\n",
              "      <td>1142.0</td>\n",
              "      <td>0.0</td>\n",
              "      <td>NaN</td>\n",
              "      <td>NaN</td>\n",
              "      <td>NaN</td>\n",
              "      <td>1.0</td>\n",
              "    </tr>\n",
              "    <tr>\n",
              "      <th>2</th>\n",
              "      <td>Abadiânia</td>\n",
              "      <td>GO</td>\n",
              "      <td>0</td>\n",
              "      <td>15757.0</td>\n",
              "      <td>15609.0</td>\n",
              "      <td>148.0</td>\n",
              "      <td>4655.0</td>\n",
              "      <td>3233.0</td>\n",
              "      <td>1422.0</td>\n",
              "      <td>10656.0</td>\n",
              "      <td>...</td>\n",
              "      <td>1.0</td>\n",
              "      <td>33724584.0</td>\n",
              "      <td>67091904.0</td>\n",
              "      <td>2838.0</td>\n",
              "      <td>1426.0</td>\n",
              "      <td>0.0</td>\n",
              "      <td>NaN</td>\n",
              "      <td>NaN</td>\n",
              "      <td>NaN</td>\n",
              "      <td>3.0</td>\n",
              "    </tr>\n",
              "    <tr>\n",
              "      <th>3</th>\n",
              "      <td>Abaeté</td>\n",
              "      <td>MG</td>\n",
              "      <td>0</td>\n",
              "      <td>22690.0</td>\n",
              "      <td>22690.0</td>\n",
              "      <td>0.0</td>\n",
              "      <td>7694.0</td>\n",
              "      <td>6667.0</td>\n",
              "      <td>1027.0</td>\n",
              "      <td>18464.0</td>\n",
              "      <td>...</td>\n",
              "      <td>2.0</td>\n",
              "      <td>44974716.0</td>\n",
              "      <td>371922572.0</td>\n",
              "      <td>6928.0</td>\n",
              "      <td>2953.0</td>\n",
              "      <td>0.0</td>\n",
              "      <td>NaN</td>\n",
              "      <td>NaN</td>\n",
              "      <td>NaN</td>\n",
              "      <td>4.0</td>\n",
              "    </tr>\n",
              "    <tr>\n",
              "      <th>4</th>\n",
              "      <td>Abaetetuba</td>\n",
              "      <td>PA</td>\n",
              "      <td>0</td>\n",
              "      <td>141100.0</td>\n",
              "      <td>141040.0</td>\n",
              "      <td>60.0</td>\n",
              "      <td>31061.0</td>\n",
              "      <td>19057.0</td>\n",
              "      <td>12004.0</td>\n",
              "      <td>82956.0</td>\n",
              "      <td>...</td>\n",
              "      <td>4.0</td>\n",
              "      <td>76181384.0</td>\n",
              "      <td>800078483.0</td>\n",
              "      <td>5277.0</td>\n",
              "      <td>25661.0</td>\n",
              "      <td>0.0</td>\n",
              "      <td>NaN</td>\n",
              "      <td>NaN</td>\n",
              "      <td>NaN</td>\n",
              "      <td>2.0</td>\n",
              "    </tr>\n",
              "  </tbody>\n",
              "</table>\n",
              "<p>5 rows × 81 columns</p>\n",
              "</div>"
            ],
            "text/plain": [
              "                  CITY STATE  CAPITAL  IBGE_RES_POP  IBGE_RES_POP_BRAS  \\\n",
              "0      Abadia De Goiás    GO        0        6876.0             6876.0   \n",
              "1  Abadia Dos Dourados    MG        0        6704.0             6704.0   \n",
              "2            Abadiânia    GO        0       15757.0            15609.0   \n",
              "3               Abaeté    MG        0       22690.0            22690.0   \n",
              "4           Abaetetuba    PA        0      141100.0           141040.0   \n",
              "\n",
              "   IBGE_RES_POP_ESTR  IBGE_DU  IBGE_DU_URBAN  IBGE_DU_RURAL  IBGE_POP  ...  \\\n",
              "0                0.0   2137.0         1546.0          591.0    5300.0  ...   \n",
              "1                0.0   2328.0         1481.0          847.0    4154.0  ...   \n",
              "2              148.0   4655.0         3233.0         1422.0   10656.0  ...   \n",
              "3                0.0   7694.0         6667.0         1027.0   18464.0  ...   \n",
              "4               60.0  31061.0        19057.0        12004.0   82956.0  ...   \n",
              "\n",
              "   Pu_Bank   Pr_Assets    Pu_Assets    Cars  Motorcycles  Wheeled_tractor  \\\n",
              "0      NaN         NaN          NaN  2158.0       1246.0              0.0   \n",
              "1      NaN         NaN          NaN  2227.0       1142.0              0.0   \n",
              "2      1.0  33724584.0   67091904.0  2838.0       1426.0              0.0   \n",
              "3      2.0  44974716.0  371922572.0  6928.0       2953.0              0.0   \n",
              "4      4.0  76181384.0  800078483.0  5277.0      25661.0              0.0   \n",
              "\n",
              "   UBER  MAC  WAL.MART  POST_OFFICES  \n",
              "0   NaN  NaN       NaN           1.0  \n",
              "1   NaN  NaN       NaN           1.0  \n",
              "2   NaN  NaN       NaN           3.0  \n",
              "3   NaN  NaN       NaN           4.0  \n",
              "4   NaN  NaN       NaN           2.0  \n",
              "\n",
              "[5 rows x 81 columns]"
            ]
          },
          "execution_count": 127,
          "metadata": {},
          "output_type": "execute_result"
        }
      ],
      "source": [
        "data = pd.read_csv('BRAZIL_CITIES.csv',sep=\";\", decimal=\".\",)\n",
        "data.head()"
      ]
    },
    {
      "cell_type": "code",
      "execution_count": 128,
      "metadata": {
        "colab": {
          "base_uri": "https://localhost:8080/",
          "height": 325
        },
        "id": "heh_vuDEv7gC",
        "outputId": "aef50577-26c5-4cec-9641-c9206ded17d1"
      },
      "outputs": [
        {
          "data": {
            "text/html": [
              "<div>\n",
              "<style scoped>\n",
              "    .dataframe tbody tr th:only-of-type {\n",
              "        vertical-align: middle;\n",
              "    }\n",
              "\n",
              "    .dataframe tbody tr th {\n",
              "        vertical-align: top;\n",
              "    }\n",
              "\n",
              "    .dataframe thead th {\n",
              "        text-align: right;\n",
              "    }\n",
              "</style>\n",
              "<table border=\"1\" class=\"dataframe\">\n",
              "  <thead>\n",
              "    <tr style=\"text-align: right;\">\n",
              "      <th></th>\n",
              "      <th>CITY</th>\n",
              "      <th>STATE</th>\n",
              "      <th>CAPITAL</th>\n",
              "      <th>MUN_EXPENDIT</th>\n",
              "      <th>IBGE_RES_POP</th>\n",
              "      <th>AREA</th>\n",
              "      <th>IDHM</th>\n",
              "      <th>LONG</th>\n",
              "      <th>LAT</th>\n",
              "      <th>ALT</th>\n",
              "      <th>...</th>\n",
              "      <th>GDP</th>\n",
              "      <th>GDP_CAPITA</th>\n",
              "      <th>COMP_TOT</th>\n",
              "      <th>Cars</th>\n",
              "      <th>Motorcycles</th>\n",
              "      <th>UBER</th>\n",
              "      <th>Wheeled_tractor</th>\n",
              "      <th>POST_OFFICES</th>\n",
              "      <th>IBGE_PLANTED_AREA</th>\n",
              "      <th>RURAL_URBAN</th>\n",
              "    </tr>\n",
              "  </thead>\n",
              "  <tbody>\n",
              "    <tr>\n",
              "      <th>0</th>\n",
              "      <td>Abadia De Goiás</td>\n",
              "      <td>GO</td>\n",
              "      <td>0</td>\n",
              "      <td>28227691.0</td>\n",
              "      <td>6876.0</td>\n",
              "      <td>147.26</td>\n",
              "      <td>0.708</td>\n",
              "      <td>-49.440548</td>\n",
              "      <td>-16.758812</td>\n",
              "      <td>893.60</td>\n",
              "      <td>...</td>\n",
              "      <td>166.41</td>\n",
              "      <td>20664.57</td>\n",
              "      <td>284.0</td>\n",
              "      <td>2158.0</td>\n",
              "      <td>1246.0</td>\n",
              "      <td>NaN</td>\n",
              "      <td>0.0</td>\n",
              "      <td>1.0</td>\n",
              "      <td>319.0</td>\n",
              "      <td>Urbano</td>\n",
              "    </tr>\n",
              "    <tr>\n",
              "      <th>1</th>\n",
              "      <td>Abadia Dos Dourados</td>\n",
              "      <td>MG</td>\n",
              "      <td>0</td>\n",
              "      <td>17909274.0</td>\n",
              "      <td>6704.0</td>\n",
              "      <td>881.06</td>\n",
              "      <td>0.690</td>\n",
              "      <td>-47.396832</td>\n",
              "      <td>-18.487565</td>\n",
              "      <td>753.12</td>\n",
              "      <td>...</td>\n",
              "      <td>180.09</td>\n",
              "      <td>25591.70</td>\n",
              "      <td>476.0</td>\n",
              "      <td>2227.0</td>\n",
              "      <td>1142.0</td>\n",
              "      <td>NaN</td>\n",
              "      <td>0.0</td>\n",
              "      <td>1.0</td>\n",
              "      <td>4479.0</td>\n",
              "      <td>Rural Adjacente</td>\n",
              "    </tr>\n",
              "    <tr>\n",
              "      <th>2</th>\n",
              "      <td>Abadiânia</td>\n",
              "      <td>GO</td>\n",
              "      <td>0</td>\n",
              "      <td>37513019.0</td>\n",
              "      <td>15757.0</td>\n",
              "      <td>1045.13</td>\n",
              "      <td>0.690</td>\n",
              "      <td>-48.718812</td>\n",
              "      <td>-16.182672</td>\n",
              "      <td>1017.55</td>\n",
              "      <td>...</td>\n",
              "      <td>287984.49</td>\n",
              "      <td>15628.40</td>\n",
              "      <td>288.0</td>\n",
              "      <td>2838.0</td>\n",
              "      <td>1426.0</td>\n",
              "      <td>NaN</td>\n",
              "      <td>0.0</td>\n",
              "      <td>3.0</td>\n",
              "      <td>10307.0</td>\n",
              "      <td>Rural Adjacente</td>\n",
              "    </tr>\n",
              "    <tr>\n",
              "      <th>3</th>\n",
              "      <td>Abaeté</td>\n",
              "      <td>MG</td>\n",
              "      <td>0</td>\n",
              "      <td>NaN</td>\n",
              "      <td>22690.0</td>\n",
              "      <td>1817.07</td>\n",
              "      <td>0.698</td>\n",
              "      <td>-45.446191</td>\n",
              "      <td>-19.155848</td>\n",
              "      <td>644.74</td>\n",
              "      <td>...</td>\n",
              "      <td>430235.36</td>\n",
              "      <td>18250.42</td>\n",
              "      <td>621.0</td>\n",
              "      <td>6928.0</td>\n",
              "      <td>2953.0</td>\n",
              "      <td>NaN</td>\n",
              "      <td>0.0</td>\n",
              "      <td>4.0</td>\n",
              "      <td>1862.0</td>\n",
              "      <td>Urbano</td>\n",
              "    </tr>\n",
              "    <tr>\n",
              "      <th>4</th>\n",
              "      <td>Abaetetuba</td>\n",
              "      <td>PA</td>\n",
              "      <td>0</td>\n",
              "      <td>NaN</td>\n",
              "      <td>141100.0</td>\n",
              "      <td>1610.65</td>\n",
              "      <td>0.628</td>\n",
              "      <td>-48.884404</td>\n",
              "      <td>-1.723470</td>\n",
              "      <td>10.12</td>\n",
              "      <td>...</td>\n",
              "      <td>1249255.29</td>\n",
              "      <td>8222.36</td>\n",
              "      <td>931.0</td>\n",
              "      <td>5277.0</td>\n",
              "      <td>25661.0</td>\n",
              "      <td>NaN</td>\n",
              "      <td>0.0</td>\n",
              "      <td>2.0</td>\n",
              "      <td>25200.0</td>\n",
              "      <td>Urbano</td>\n",
              "    </tr>\n",
              "  </tbody>\n",
              "</table>\n",
              "<p>5 rows × 22 columns</p>\n",
              "</div>"
            ],
            "text/plain": [
              "                  CITY STATE  CAPITAL  MUN_EXPENDIT  IBGE_RES_POP     AREA  \\\n",
              "0      Abadia De Goiás    GO        0    28227691.0        6876.0   147.26   \n",
              "1  Abadia Dos Dourados    MG        0    17909274.0        6704.0   881.06   \n",
              "2            Abadiânia    GO        0    37513019.0       15757.0  1045.13   \n",
              "3               Abaeté    MG        0           NaN       22690.0  1817.07   \n",
              "4           Abaetetuba    PA        0           NaN      141100.0  1610.65   \n",
              "\n",
              "    IDHM       LONG        LAT      ALT  ...         GDP  GDP_CAPITA  \\\n",
              "0  0.708 -49.440548 -16.758812   893.60  ...      166.41    20664.57   \n",
              "1  0.690 -47.396832 -18.487565   753.12  ...      180.09    25591.70   \n",
              "2  0.690 -48.718812 -16.182672  1017.55  ...   287984.49    15628.40   \n",
              "3  0.698 -45.446191 -19.155848   644.74  ...   430235.36    18250.42   \n",
              "4  0.628 -48.884404  -1.723470    10.12  ...  1249255.29     8222.36   \n",
              "\n",
              "   COMP_TOT    Cars  Motorcycles  UBER  Wheeled_tractor  POST_OFFICES  \\\n",
              "0     284.0  2158.0       1246.0   NaN              0.0           1.0   \n",
              "1     476.0  2227.0       1142.0   NaN              0.0           1.0   \n",
              "2     288.0  2838.0       1426.0   NaN              0.0           3.0   \n",
              "3     621.0  6928.0       2953.0   NaN              0.0           4.0   \n",
              "4     931.0  5277.0      25661.0   NaN              0.0           2.0   \n",
              "\n",
              "   IBGE_PLANTED_AREA      RURAL_URBAN  \n",
              "0              319.0           Urbano  \n",
              "1             4479.0  Rural Adjacente  \n",
              "2            10307.0  Rural Adjacente  \n",
              "3             1862.0           Urbano  \n",
              "4            25200.0           Urbano  \n",
              "\n",
              "[5 rows x 22 columns]"
            ]
          },
          "execution_count": 128,
          "metadata": {},
          "output_type": "execute_result"
        }
      ],
      "source": [
        "# Pega colunas específicas\n",
        "columns = ['CITY', 'STATE', 'CAPITAL', 'MUN_EXPENDIT', 'IBGE_RES_POP','AREA',\n",
        "           'IDHM','LONG','LAT','ALT','ESTIMATED_POP','TAXES','GDP','GDP_CAPITA','COMP_TOT',\n",
        "           'Cars','Motorcycles','UBER','Wheeled_tractor','POST_OFFICES','IBGE_PLANTED_AREA','RURAL_URBAN']\n",
        "df = data[columns]\n",
        "df.head()"
      ]
    },
    {
      "cell_type": "code",
      "execution_count": 129,
      "metadata": {
        "colab": {
          "base_uri": "https://localhost:8080/"
        },
        "id": "LHFQ7JEQwTO3",
        "outputId": "24d3edb5-d5c3-430a-efcf-b2ce1d06f87c"
      },
      "outputs": [
        {
          "name": "stdout",
          "output_type": "stream",
          "text": [
            "Informação do conjunto de dados\n",
            "<class 'pandas.core.frame.DataFrame'>\n",
            "RangeIndex: 5573 entries, 0 to 5572\n",
            "Data columns (total 22 columns):\n",
            " #   Column             Non-Null Count  Dtype  \n",
            "---  ------             --------------  -----  \n",
            " 0   CITY               5573 non-null   object \n",
            " 1   STATE              5573 non-null   object \n",
            " 2   CAPITAL            5573 non-null   int64  \n",
            " 3   MUN_EXPENDIT       4081 non-null   float64\n",
            " 4   IBGE_RES_POP       5565 non-null   float64\n",
            " 5   AREA               5570 non-null   float64\n",
            " 6   IDHM               5565 non-null   float64\n",
            " 7   LONG               5564 non-null   float64\n",
            " 8   LAT                5564 non-null   float64\n",
            " 9   ALT                5564 non-null   float64\n",
            " 10  ESTIMATED_POP      5570 non-null   float64\n",
            " 11  TAXES              5570 non-null   float64\n",
            " 12  GDP                5570 non-null   float64\n",
            " 13  GDP_CAPITA         5570 non-null   float64\n",
            " 14  COMP_TOT           5570 non-null   float64\n",
            " 15  Cars               5562 non-null   float64\n",
            " 16  Motorcycles        5562 non-null   float64\n",
            " 17  UBER               125 non-null    float64\n",
            " 18  Wheeled_tractor    5562 non-null   float64\n",
            " 19  POST_OFFICES       5453 non-null   float64\n",
            " 20  IBGE_PLANTED_AREA  5570 non-null   float64\n",
            " 21  RURAL_URBAN        5570 non-null   object \n",
            "dtypes: float64(18), int64(1), object(3)\n",
            "memory usage: 958.0+ KB\n"
          ]
        }
      ],
      "source": [
        "print(\"Informação do conjunto de dados\")\n",
        "df.info()"
      ]
    },
    {
      "cell_type": "code",
      "execution_count": 130,
      "metadata": {
        "colab": {
          "base_uri": "https://localhost:8080/"
        },
        "id": "eyKkojj1wGRd",
        "outputId": "0c471eac-4751-441d-c49a-71aaa4fe26f9"
      },
      "outputs": [
        {
          "name": "stdout",
          "output_type": "stream",
          "text": [
            "Porcentagem e valores null ou NA no dataframe\n"
          ]
        },
        {
          "data": {
            "text/plain": [
              "CITY                  0.00\n",
              "STATE                 0.00\n",
              "CAPITAL               0.00\n",
              "MUN_EXPENDIT         26.77\n",
              "IBGE_RES_POP          0.14\n",
              "AREA                  0.05\n",
              "IDHM                  0.14\n",
              "LONG                  0.16\n",
              "LAT                   0.16\n",
              "ALT                   0.16\n",
              "ESTIMATED_POP         0.05\n",
              "TAXES                 0.05\n",
              "GDP                   0.05\n",
              "GDP_CAPITA            0.05\n",
              "COMP_TOT              0.05\n",
              "Cars                  0.20\n",
              "Motorcycles           0.20\n",
              "UBER                 97.76\n",
              "Wheeled_tractor       0.20\n",
              "POST_OFFICES          2.15\n",
              "IBGE_PLANTED_AREA     0.05\n",
              "RURAL_URBAN           0.05\n",
              "dtype: float64"
            ]
          },
          "execution_count": 130,
          "metadata": {},
          "output_type": "execute_result"
        }
      ],
      "source": [
        "print(\"Porcentagem e valores null ou NA no dataframe\")\n",
        "((df.isnull() | df.isna()).sum() * 100 / df.index.size).round(2)"
      ]
    },
    {
      "cell_type": "code",
      "execution_count": 131,
      "metadata": {
        "colab": {
          "base_uri": "https://localhost:8080/",
          "height": 262
        },
        "id": "Ew4A6FgwwbmR",
        "outputId": "1e9848cb-e90e-4c85-fb5b-7e1370aa87d9"
      },
      "outputs": [
        {
          "data": {
            "text/html": [
              "<div>\n",
              "<style scoped>\n",
              "    .dataframe tbody tr th:only-of-type {\n",
              "        vertical-align: middle;\n",
              "    }\n",
              "\n",
              "    .dataframe tbody tr th {\n",
              "        vertical-align: top;\n",
              "    }\n",
              "\n",
              "    .dataframe thead th {\n",
              "        text-align: right;\n",
              "    }\n",
              "</style>\n",
              "<table border=\"1\" class=\"dataframe\">\n",
              "  <thead>\n",
              "    <tr style=\"text-align: right;\">\n",
              "      <th></th>\n",
              "      <th>CITY</th>\n",
              "      <th>STATE</th>\n",
              "      <th>CAPITAL</th>\n",
              "      <th>MUN_EXPENDIT</th>\n",
              "      <th>IBGE_RES_POP</th>\n",
              "      <th>AREA</th>\n",
              "      <th>IDHM</th>\n",
              "      <th>LONG</th>\n",
              "      <th>LAT</th>\n",
              "      <th>ALT</th>\n",
              "      <th>...</th>\n",
              "      <th>GDP</th>\n",
              "      <th>GDP_CAPITA</th>\n",
              "      <th>COMP_TOT</th>\n",
              "      <th>Cars</th>\n",
              "      <th>Motorcycles</th>\n",
              "      <th>UBER</th>\n",
              "      <th>Wheeled_tractor</th>\n",
              "      <th>POST_OFFICES</th>\n",
              "      <th>IBGE_PLANTED_AREA</th>\n",
              "      <th>RURAL_URBAN</th>\n",
              "    </tr>\n",
              "  </thead>\n",
              "  <tbody>\n",
              "    <tr>\n",
              "      <th>2701</th>\n",
              "      <td>Lagoa Dos Patos</td>\n",
              "      <td>RS</td>\n",
              "      <td>0</td>\n",
              "      <td>NaN</td>\n",
              "      <td>NaN</td>\n",
              "      <td>10158.75</td>\n",
              "      <td>NaN</td>\n",
              "      <td>NaN</td>\n",
              "      <td>NaN</td>\n",
              "      <td>NaN</td>\n",
              "      <td>...</td>\n",
              "      <td>NaN</td>\n",
              "      <td>NaN</td>\n",
              "      <td>NaN</td>\n",
              "      <td>NaN</td>\n",
              "      <td>NaN</td>\n",
              "      <td>NaN</td>\n",
              "      <td>NaN</td>\n",
              "      <td>NaN</td>\n",
              "      <td>NaN</td>\n",
              "      <td>NaN</td>\n",
              "    </tr>\n",
              "    <tr>\n",
              "      <th>4481</th>\n",
              "      <td>Santa Teresinha</td>\n",
              "      <td>BA</td>\n",
              "      <td>0</td>\n",
              "      <td>22225531.0</td>\n",
              "      <td>NaN</td>\n",
              "      <td>NaN</td>\n",
              "      <td>0.59</td>\n",
              "      <td>-39.52114</td>\n",
              "      <td>-12.772852</td>\n",
              "      <td>222.51</td>\n",
              "      <td>...</td>\n",
              "      <td>NaN</td>\n",
              "      <td>NaN</td>\n",
              "      <td>NaN</td>\n",
              "      <td>810.0</td>\n",
              "      <td>453.0</td>\n",
              "      <td>NaN</td>\n",
              "      <td>0.0</td>\n",
              "      <td>NaN</td>\n",
              "      <td>NaN</td>\n",
              "      <td>NaN</td>\n",
              "    </tr>\n",
              "    <tr>\n",
              "      <th>4605</th>\n",
              "      <td>São Caetano</td>\n",
              "      <td>PE</td>\n",
              "      <td>0</td>\n",
              "      <td>53609740.0</td>\n",
              "      <td>NaN</td>\n",
              "      <td>NaN</td>\n",
              "      <td>NaN</td>\n",
              "      <td>NaN</td>\n",
              "      <td>NaN</td>\n",
              "      <td>NaN</td>\n",
              "      <td>...</td>\n",
              "      <td>NaN</td>\n",
              "      <td>NaN</td>\n",
              "      <td>NaN</td>\n",
              "      <td>NaN</td>\n",
              "      <td>NaN</td>\n",
              "      <td>NaN</td>\n",
              "      <td>NaN</td>\n",
              "      <td>NaN</td>\n",
              "      <td>NaN</td>\n",
              "      <td>NaN</td>\n",
              "    </tr>\n",
              "  </tbody>\n",
              "</table>\n",
              "<p>3 rows × 22 columns</p>\n",
              "</div>"
            ],
            "text/plain": [
              "                 CITY STATE  CAPITAL  MUN_EXPENDIT  IBGE_RES_POP      AREA  \\\n",
              "2701  Lagoa Dos Patos    RS        0           NaN           NaN  10158.75   \n",
              "4481  Santa Teresinha    BA        0    22225531.0           NaN       NaN   \n",
              "4605      São Caetano    PE        0    53609740.0           NaN       NaN   \n",
              "\n",
              "      IDHM      LONG        LAT     ALT  ...  GDP  GDP_CAPITA  COMP_TOT  \\\n",
              "2701   NaN       NaN        NaN     NaN  ...  NaN         NaN       NaN   \n",
              "4481  0.59 -39.52114 -12.772852  222.51  ...  NaN         NaN       NaN   \n",
              "4605   NaN       NaN        NaN     NaN  ...  NaN         NaN       NaN   \n",
              "\n",
              "       Cars  Motorcycles  UBER  Wheeled_tractor  POST_OFFICES  \\\n",
              "2701    NaN          NaN   NaN              NaN           NaN   \n",
              "4481  810.0        453.0   NaN              0.0           NaN   \n",
              "4605    NaN          NaN   NaN              NaN           NaN   \n",
              "\n",
              "      IBGE_PLANTED_AREA  RURAL_URBAN  \n",
              "2701                NaN          NaN  \n",
              "4481                NaN          NaN  \n",
              "4605                NaN          NaN  \n",
              "\n",
              "[3 rows x 22 columns]"
            ]
          },
          "execution_count": 131,
          "metadata": {},
          "output_type": "execute_result"
        }
      ],
      "source": [
        "df[df['RURAL_URBAN'].isna()]"
      ]
    },
    {
      "cell_type": "markdown",
      "metadata": {
        "id": "4RuClAdyvm5L"
      },
      "source": [
        "# **Tarefa 1: Faça a inputação de atributos usando média, moda e mediana**"
      ]
    },
    {
      "cell_type": "code",
      "execution_count": 132,
      "metadata": {
        "id": "KVxZKzINvzB0"
      },
      "outputs": [
        {
          "data": {
            "text/plain": [
              "CITY                    0\n",
              "STATE                   0\n",
              "CAPITAL                 0\n",
              "MUN_EXPENDIT         1492\n",
              "IBGE_RES_POP            8\n",
              "AREA                    3\n",
              "IDHM                    8\n",
              "LONG                    9\n",
              "LAT                     9\n",
              "ALT                     9\n",
              "ESTIMATED_POP           3\n",
              "TAXES                   3\n",
              "GDP                     3\n",
              "GDP_CAPITA              3\n",
              "COMP_TOT                3\n",
              "Cars                   11\n",
              "Motorcycles            11\n",
              "UBER                 5448\n",
              "Wheeled_tractor        11\n",
              "POST_OFFICES          120\n",
              "IBGE_PLANTED_AREA       3\n",
              "RURAL_URBAN             3\n",
              "dtype: int64"
            ]
          },
          "execution_count": 132,
          "metadata": {},
          "output_type": "execute_result"
        }
      ],
      "source": [
        "new_df = df\n",
        "# new_df['CITY'].count() # 5573\n",
        "new_df.isnull().sum()"
      ]
    },
    {
      "cell_type": "code",
      "execution_count": 137,
      "metadata": {},
      "outputs": [
        {
          "data": {
            "text/plain": [
              "<seaborn.axisgrid.FacetGrid at 0x7f45db650490>"
            ]
          },
          "execution_count": 137,
          "metadata": {},
          "output_type": "execute_result"
        },
        {
          "data": {
            "image/png": "[encoded data removed]",
            "text/plain": [
              "<Figure size 500x500 with 1 Axes>"
            ]
          },
          "metadata": {},
          "output_type": "display_data"
        }
      ],
      "source": [
        "# Verificar se o atributo tem outliers\n",
        "\n",
        "sns.displot(new_df['IBGE_RES_POP'], kde=True)\n",
        "\n",
        "# Preencher valores nulos com a mediana\n",
        "# new_df['MUN_EXPENDIT'] = new_df['MUN_EXPENDIT'].loc[new_df['MUN_EXPENDIT'] < 1e8]\n",
        "# new_df['MUN_EXPENDIT'] = new_df['MUN_EXPENDIT'].fillna(new_df['MUN_EXPENDIT'].median())\n",
        "# sns.displot(new_df['MUN_EXPENDIT'], kde=True).set(xlim=(0, 1e8))\n",
        "\n",
        "\n"
      ]
    },
    {
      "cell_type": "code",
      "execution_count": 134,
      "metadata": {},
      "outputs": [
        {
          "data": {
            "text/plain": [
              "CITY                    0\n",
              "STATE                   0\n",
              "CAPITAL                 0\n",
              "MUN_EXPENDIT            0\n",
              "IBGE_RES_POP            8\n",
              "AREA                    3\n",
              "IDHM                    8\n",
              "LONG                    9\n",
              "LAT                     9\n",
              "ALT                     9\n",
              "ESTIMATED_POP           3\n",
              "TAXES                   3\n",
              "GDP                     3\n",
              "GDP_CAPITA              3\n",
              "COMP_TOT                3\n",
              "Cars                   11\n",
              "Motorcycles            11\n",
              "UBER                 5448\n",
              "Wheeled_tractor        11\n",
              "POST_OFFICES          120\n",
              "IBGE_PLANTED_AREA       3\n",
              "RURAL_URBAN             3\n",
              "dtype: int64"
            ]
          },
          "execution_count": 134,
          "metadata": {},
          "output_type": "execute_result"
        }
      ],
      "source": [
        "new_df.isnull().sum()\n"
      ]
    },
    {
      "cell_type": "markdown",
      "metadata": {
        "id": "NvsuilFUxLVV"
      },
      "source": [
        "# **Tarefa 2: Faça a inputação de atributos explorando correlação entre variáveis**"
      ]
    },
    {
      "cell_type": "code",
      "execution_count": 135,
      "metadata": {
        "id": "FBPiRjpxxWIO"
      },
      "outputs": [],
      "source": [
        "# Coloque seu código aqui"
      ]
    },
    {
      "cell_type": "markdown",
      "metadata": {
        "id": "2xQWFkmKxYrA"
      },
      "source": [
        "# **Tarefa 3: Faça a inputação de atributos explorando similaridade entre os exemplos**"
      ]
    },
    {
      "cell_type": "code",
      "execution_count": 136,
      "metadata": {
        "id": "M7nLvyboxgdu"
      },
      "outputs": [],
      "source": [
        "# Coloque seu código aqui"
      ]
    }
  ],
  "metadata": {
    "colab": {
      "provenance": []
    },
    "kernelspec": {
      "display_name": "Python 3",
      "name": "python3"
    },
    "language_info": {
      "codemirror_mode": {
        "name": "ipython",
        "version": 3
      },
      "file_extension": ".py",
      "mimetype": "text/x-python",
      "name": "python",
      "nbconvert_exporter": "python",
      "pygments_lexer": "ipython3",
      "version": "3.8.10"
    }
  },
  "nbformat": 4,
  "nbformat_minor": 0
}
