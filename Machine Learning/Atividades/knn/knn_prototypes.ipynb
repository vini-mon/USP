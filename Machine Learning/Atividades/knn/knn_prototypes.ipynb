{
  "cells": [
    {
      "cell_type": "markdown",
      "metadata": {
        "id": "1wPR7gMi4850"
      },
      "source": [
        "# Protótipos (centróides)\n",
        "\n",
        "O método dos vizinhos mais próximos é um dos algoritmos de classificação mais simples e amplamente utilizados. No entanto, sofre de desvantagens como alto armazenamento de dados e baixa tolerância a ruído."
      ]
    },
    {
      "cell_type": "markdown",
      "metadata": {
        "id": "2GV2ITbY5UWm"
      },
      "source": [
        "# Exercício: Use clustering para selecionar um subconjunto de dados (protótipos)"
      ]
    },
    {
      "cell_type": "markdown",
      "metadata": {
        "id": "khIincVD5mry"
      },
      "source": [
        "Escolha um conjunto de dados (menos o Iris) e separe os dados de cada classe\n",
        "\n",
        "- https://archive.ics.uci.edu/datasets?Task=Classification"
      ]
    },
    {
      "cell_type": "code",
      "execution_count": 2,
      "metadata": {
        "id": "6mBFH3F14zVl"
      },
      "outputs": [
        {
          "name": "stdout",
          "output_type": "stream",
          "text": [
            "{'uci_id': 17, 'name': 'Breast Cancer Wisconsin (Diagnostic)', 'repository_url': 'https://archive.ics.uci.edu/dataset/17/breast+cancer+wisconsin+diagnostic', 'data_url': 'https://archive.ics.uci.edu/static/public/17/data.csv', 'abstract': 'Diagnostic Wisconsin Breast Cancer Database.', 'area': 'Health and Medicine', 'tasks': ['Classification'], 'characteristics': ['Multivariate'], 'num_instances': 569, 'num_features': 30, 'feature_types': ['Real'], 'demographics': [], 'target_col': ['Diagnosis'], 'index_col': ['ID'], 'has_missing_values': 'no', 'missing_values_symbol': None, 'year_of_dataset_creation': 1993, 'last_updated': 'Fri Nov 03 2023', 'dataset_doi': '10.24432/C5DW2B', 'creators': ['William Wolberg', 'Olvi Mangasarian', 'Nick Street', 'W. Street'], 'intro_paper': {'title': 'Nuclear feature extraction for breast tumor diagnosis', 'authors': 'W. Street, W. Wolberg, O. Mangasarian', 'published_in': 'Electronic imaging', 'year': 1993, 'url': 'https://www.semanticscholar.org/paper/53f0fbb425bc14468eb3bf96b2e1d41ba8087f36', 'doi': '10.1117/12.148698'}, 'additional_info': {'summary': 'Features are computed from a digitized image of a fine needle aspirate (FNA) of a breast mass.  They describe characteristics of the cell nuclei present in the image. A few of the images can be found at http://www.cs.wisc.edu/~street/images/\\r\\n\\r\\nSeparating plane described above was obtained using Multisurface Method-Tree (MSM-T) [K. P. Bennett, \"Decision Tree Construction Via Linear Programming.\" Proceedings of the 4th Midwest Artificial Intelligence and Cognitive Science Society, pp. 97-101, 1992], a classification method which uses linear programming to construct a decision tree.  Relevant features were selected using an exhaustive search in the space of 1-4 features and 1-3 separating planes.\\r\\n\\r\\nThe actual linear program used to obtain the separating plane in the 3-dimensional space is that described in: [K. P. Bennett and O. L. Mangasarian: \"Robust Linear Programming Discrimination of Two Linearly Inseparable Sets\", Optimization Methods and Software 1, 1992, 23-34].\\r\\n\\r\\nThis database is also available through the UW CS ftp server:\\r\\nftp ftp.cs.wisc.edu\\r\\ncd math-prog/cpo-dataset/machine-learn/WDBC/', 'purpose': None, 'funded_by': None, 'instances_represent': None, 'recommended_data_splits': None, 'sensitive_data': None, 'preprocessing_description': None, 'variable_info': '1) ID number\\r\\n2) Diagnosis (M = malignant, B = benign)\\r\\n3-32)\\r\\n\\r\\nTen real-valued features are computed for each cell nucleus:\\r\\n\\r\\n\\ta) radius (mean of distances from center to points on the perimeter)\\r\\n\\tb) texture (standard deviation of gray-scale values)\\r\\n\\tc) perimeter\\r\\n\\td) area\\r\\n\\te) smoothness (local variation in radius lengths)\\r\\n\\tf) compactness (perimeter^2 / area - 1.0)\\r\\n\\tg) concavity (severity of concave portions of the contour)\\r\\n\\th) concave points (number of concave portions of the contour)\\r\\n\\ti) symmetry \\r\\n\\tj) fractal dimension (\"coastline approximation\" - 1)', 'citation': None}}\n",
            "                  name     role         type demographic description units  \\\n",
            "0                   ID       ID  Categorical        None        None  None   \n",
            "1            Diagnosis   Target  Categorical        None        None  None   \n",
            "2              radius1  Feature   Continuous        None        None  None   \n",
            "3             texture1  Feature   Continuous        None        None  None   \n",
            "4           perimeter1  Feature   Continuous        None        None  None   \n",
            "5                area1  Feature   Continuous        None        None  None   \n",
            "6          smoothness1  Feature   Continuous        None        None  None   \n",
            "7         compactness1  Feature   Continuous        None        None  None   \n",
            "8           concavity1  Feature   Continuous        None        None  None   \n",
            "9      concave_points1  Feature   Continuous        None        None  None   \n",
            "10           symmetry1  Feature   Continuous        None        None  None   \n",
            "11  fractal_dimension1  Feature   Continuous        None        None  None   \n",
            "12             radius2  Feature   Continuous        None        None  None   \n",
            "13            texture2  Feature   Continuous        None        None  None   \n",
            "14          perimeter2  Feature   Continuous        None        None  None   \n",
            "15               area2  Feature   Continuous        None        None  None   \n",
            "16         smoothness2  Feature   Continuous        None        None  None   \n",
            "17        compactness2  Feature   Continuous        None        None  None   \n",
            "18          concavity2  Feature   Continuous        None        None  None   \n",
            "19     concave_points2  Feature   Continuous        None        None  None   \n",
            "20           symmetry2  Feature   Continuous        None        None  None   \n",
            "21  fractal_dimension2  Feature   Continuous        None        None  None   \n",
            "22             radius3  Feature   Continuous        None        None  None   \n",
            "23            texture3  Feature   Continuous        None        None  None   \n",
            "24          perimeter3  Feature   Continuous        None        None  None   \n",
            "25               area3  Feature   Continuous        None        None  None   \n",
            "26         smoothness3  Feature   Continuous        None        None  None   \n",
            "27        compactness3  Feature   Continuous        None        None  None   \n",
            "28          concavity3  Feature   Continuous        None        None  None   \n",
            "29     concave_points3  Feature   Continuous        None        None  None   \n",
            "30           symmetry3  Feature   Continuous        None        None  None   \n",
            "31  fractal_dimension3  Feature   Continuous        None        None  None   \n",
            "\n",
            "   missing_values  \n",
            "0              no  \n",
            "1              no  \n",
            "2              no  \n",
            "3              no  \n",
            "4              no  \n",
            "5              no  \n",
            "6              no  \n",
            "7              no  \n",
            "8              no  \n",
            "9              no  \n",
            "10             no  \n",
            "11             no  \n",
            "12             no  \n",
            "13             no  \n",
            "14             no  \n",
            "15             no  \n",
            "16             no  \n",
            "17             no  \n",
            "18             no  \n",
            "19             no  \n",
            "20             no  \n",
            "21             no  \n",
            "22             no  \n",
            "23             no  \n",
            "24             no  \n",
            "25             no  \n",
            "26             no  \n",
            "27             no  \n",
            "28             no  \n",
            "29             no  \n",
            "30             no  \n",
            "31             no  \n"
          ]
        }
      ],
      "source": [
        "# Exemplo: classe_0 = dados_treino[classes==0]\n",
        "# ...\n",
        "\n",
        "from ucimlrepo import fetch_ucirepo \n",
        "  \n",
        "# fetch dataset \n",
        "breast_cancer_wisconsin_diagnostic = fetch_ucirepo(id=17) \n",
        "  \n",
        "# data (as pandas dataframes) \n",
        "X = breast_cancer_wisconsin_diagnostic.data.features \n",
        "y = breast_cancer_wisconsin_diagnostic.data.targets \n",
        "  \n",
        "# metadata \n",
        "print(breast_cancer_wisconsin_diagnostic.metadata) \n",
        "  \n",
        "# variable information \n",
        "print(breast_cancer_wisconsin_diagnostic.variables) "
      ]
    },
    {
      "cell_type": "markdown",
      "metadata": {
        "id": "Ixqy9E0F6Hrh"
      },
      "source": [
        "Agrupe os dados de cada classe separadamente e use os protótipos como dados de treinamento (centróides)."
      ]
    },
    {
      "cell_type": "code",
      "execution_count": 12,
      "metadata": {
        "id": "h9ZvXWJn6YNf"
      },
      "outputs": [
        {
          "name": "stdout",
          "output_type": "stream",
          "text": [
            "{'data': {'ids':            ID\n",
            "0      842302\n",
            "1      842517\n",
            "2    84300903\n",
            "3    84348301\n",
            "4    84358402\n",
            "..        ...\n",
            "564    926424\n",
            "565    926682\n",
            "566    926954\n",
            "567    927241\n",
            "568     92751\n",
            "\n",
            "[569 rows x 1 columns], 'features':      radius1  texture1  perimeter1   area1  smoothness1  compactness1  \\\n",
            "0      17.99     10.38      122.80  1001.0      0.11840       0.27760   \n",
            "1      20.57     17.77      132.90  1326.0      0.08474       0.07864   \n",
            "2      19.69     21.25      130.00  1203.0      0.10960       0.15990   \n",
            "3      11.42     20.38       77.58   386.1      0.14250       0.28390   \n",
            "4      20.29     14.34      135.10  1297.0      0.10030       0.13280   \n",
            "..       ...       ...         ...     ...          ...           ...   \n",
            "564    21.56     22.39      142.00  1479.0      0.11100       0.11590   \n",
            "565    20.13     28.25      131.20  1261.0      0.09780       0.10340   \n",
            "566    16.60     28.08      108.30   858.1      0.08455       0.10230   \n",
            "567    20.60     29.33      140.10  1265.0      0.11780       0.27700   \n",
            "568     7.76     24.54       47.92   181.0      0.05263       0.04362   \n",
            "\n",
            "     concavity1  concave_points1  symmetry1  fractal_dimension1  ...  radius3  \\\n",
            "0       0.30010          0.14710     0.2419             0.07871  ...   25.380   \n",
            "1       0.08690          0.07017     0.1812             0.05667  ...   24.990   \n",
            "2       0.19740          0.12790     0.2069             0.05999  ...   23.570   \n",
            "3       0.24140          0.10520     0.2597             0.09744  ...   14.910   \n",
            "4       0.19800          0.10430     0.1809             0.05883  ...   22.540   \n",
            "..          ...              ...        ...                 ...  ...      ...   \n",
            "564     0.24390          0.13890     0.1726             0.05623  ...   25.450   \n",
            "565     0.14400          0.09791     0.1752             0.05533  ...   23.690   \n",
            "566     0.09251          0.05302     0.1590             0.05648  ...   18.980   \n",
            "567     0.35140          0.15200     0.2397             0.07016  ...   25.740   \n",
            "568     0.00000          0.00000     0.1587             0.05884  ...    9.456   \n",
            "\n",
            "     texture3  perimeter3   area3  smoothness3  compactness3  concavity3  \\\n",
            "0       17.33      184.60  2019.0      0.16220       0.66560      0.7119   \n",
            "1       23.41      158.80  1956.0      0.12380       0.18660      0.2416   \n",
            "2       25.53      152.50  1709.0      0.14440       0.42450      0.4504   \n",
            "3       26.50       98.87   567.7      0.20980       0.86630      0.6869   \n",
            "4       16.67      152.20  1575.0      0.13740       0.20500      0.4000   \n",
            "..        ...         ...     ...          ...           ...         ...   \n",
            "564     26.40      166.10  2027.0      0.14100       0.21130      0.4107   \n",
            "565     38.25      155.00  1731.0      0.11660       0.19220      0.3215   \n",
            "566     34.12      126.70  1124.0      0.11390       0.30940      0.3403   \n",
            "567     39.42      184.60  1821.0      0.16500       0.86810      0.9387   \n",
            "568     30.37       59.16   268.6      0.08996       0.06444      0.0000   \n",
            "\n",
            "     concave_points3  symmetry3  fractal_dimension3  \n",
            "0             0.2654     0.4601             0.11890  \n",
            "1             0.1860     0.2750             0.08902  \n",
            "2             0.2430     0.3613             0.08758  \n",
            "3             0.2575     0.6638             0.17300  \n",
            "4             0.1625     0.2364             0.07678  \n",
            "..               ...        ...                 ...  \n",
            "564           0.2216     0.2060             0.07115  \n",
            "565           0.1628     0.2572             0.06637  \n",
            "566           0.1418     0.2218             0.07820  \n",
            "567           0.2650     0.4087             0.12400  \n",
            "568           0.0000     0.2871             0.07039  \n",
            "\n",
            "[569 rows x 30 columns], 'targets':     Diagnosis\n",
            "0           M\n",
            "1           M\n",
            "2           M\n",
            "3           M\n",
            "4           M\n",
            "..        ...\n",
            "564         M\n",
            "565         M\n",
            "566         M\n",
            "567         M\n",
            "568         B\n",
            "\n",
            "[569 rows x 1 columns], 'original':            ID  radius1  texture1  perimeter1   area1  smoothness1  \\\n",
            "0      842302    17.99     10.38      122.80  1001.0      0.11840   \n",
            "1      842517    20.57     17.77      132.90  1326.0      0.08474   \n",
            "2    84300903    19.69     21.25      130.00  1203.0      0.10960   \n",
            "3    84348301    11.42     20.38       77.58   386.1      0.14250   \n",
            "4    84358402    20.29     14.34      135.10  1297.0      0.10030   \n",
            "..        ...      ...       ...         ...     ...          ...   \n",
            "564    926424    21.56     22.39      142.00  1479.0      0.11100   \n",
            "565    926682    20.13     28.25      131.20  1261.0      0.09780   \n",
            "566    926954    16.60     28.08      108.30   858.1      0.08455   \n",
            "567    927241    20.60     29.33      140.10  1265.0      0.11780   \n",
            "568     92751     7.76     24.54       47.92   181.0      0.05263   \n",
            "\n",
            "     compactness1  concavity1  concave_points1  symmetry1  ...  texture3  \\\n",
            "0         0.27760     0.30010          0.14710     0.2419  ...     17.33   \n",
            "1         0.07864     0.08690          0.07017     0.1812  ...     23.41   \n",
            "2         0.15990     0.19740          0.12790     0.2069  ...     25.53   \n",
            "3         0.28390     0.24140          0.10520     0.2597  ...     26.50   \n",
            "4         0.13280     0.19800          0.10430     0.1809  ...     16.67   \n",
            "..            ...         ...              ...        ...  ...       ...   \n",
            "564       0.11590     0.24390          0.13890     0.1726  ...     26.40   \n",
            "565       0.10340     0.14400          0.09791     0.1752  ...     38.25   \n",
            "566       0.10230     0.09251          0.05302     0.1590  ...     34.12   \n",
            "567       0.27700     0.35140          0.15200     0.2397  ...     39.42   \n",
            "568       0.04362     0.00000          0.00000     0.1587  ...     30.37   \n",
            "\n",
            "     perimeter3   area3  smoothness3  compactness3  concavity3  \\\n",
            "0        184.60  2019.0      0.16220       0.66560      0.7119   \n",
            "1        158.80  1956.0      0.12380       0.18660      0.2416   \n",
            "2        152.50  1709.0      0.14440       0.42450      0.4504   \n",
            "3         98.87   567.7      0.20980       0.86630      0.6869   \n",
            "4        152.20  1575.0      0.13740       0.20500      0.4000   \n",
            "..          ...     ...          ...           ...         ...   \n",
            "564      166.10  2027.0      0.14100       0.21130      0.4107   \n",
            "565      155.00  1731.0      0.11660       0.19220      0.3215   \n",
            "566      126.70  1124.0      0.11390       0.30940      0.3403   \n",
            "567      184.60  1821.0      0.16500       0.86810      0.9387   \n",
            "568       59.16   268.6      0.08996       0.06444      0.0000   \n",
            "\n",
            "     concave_points3  symmetry3  fractal_dimension3  Diagnosis  \n",
            "0             0.2654     0.4601             0.11890          M  \n",
            "1             0.1860     0.2750             0.08902          M  \n",
            "2             0.2430     0.3613             0.08758          M  \n",
            "3             0.2575     0.6638             0.17300          M  \n",
            "4             0.1625     0.2364             0.07678          M  \n",
            "..               ...        ...                 ...        ...  \n",
            "564           0.2216     0.2060             0.07115          M  \n",
            "565           0.1628     0.2572             0.06637          M  \n",
            "566           0.1418     0.2218             0.07820          M  \n",
            "567           0.2650     0.4087             0.12400          M  \n",
            "568           0.0000     0.2871             0.07039          B  \n",
            "\n",
            "[569 rows x 32 columns], 'headers': Index(['ID', 'radius1', 'texture1', 'perimeter1', 'area1', 'smoothness1',\n",
            "       'compactness1', 'concavity1', 'concave_points1', 'symmetry1',\n",
            "       'fractal_dimension1', 'radius2', 'texture2', 'perimeter2', 'area2',\n",
            "       'smoothness2', 'compactness2', 'concavity2', 'concave_points2',\n",
            "       'symmetry2', 'fractal_dimension2', 'radius3', 'texture3', 'perimeter3',\n",
            "       'area3', 'smoothness3', 'compactness3', 'concavity3', 'concave_points3',\n",
            "       'symmetry3', 'fractal_dimension3', 'Diagnosis'],\n",
            "      dtype='object')}, 'metadata': {'uci_id': 17, 'name': 'Breast Cancer Wisconsin (Diagnostic)', 'repository_url': 'https://archive.ics.uci.edu/dataset/17/breast+cancer+wisconsin+diagnostic', 'data_url': 'https://archive.ics.uci.edu/static/public/17/data.csv', 'abstract': 'Diagnostic Wisconsin Breast Cancer Database.', 'area': 'Health and Medicine', 'tasks': ['Classification'], 'characteristics': ['Multivariate'], 'num_instances': 569, 'num_features': 30, 'feature_types': ['Real'], 'demographics': [], 'target_col': ['Diagnosis'], 'index_col': ['ID'], 'has_missing_values': 'no', 'missing_values_symbol': None, 'year_of_dataset_creation': 1993, 'last_updated': 'Fri Nov 03 2023', 'dataset_doi': '10.24432/C5DW2B', 'creators': ['William Wolberg', 'Olvi Mangasarian', 'Nick Street', 'W. Street'], 'intro_paper': {'title': 'Nuclear feature extraction for breast tumor diagnosis', 'authors': 'W. Street, W. Wolberg, O. Mangasarian', 'published_in': 'Electronic imaging', 'year': 1993, 'url': 'https://www.semanticscholar.org/paper/53f0fbb425bc14468eb3bf96b2e1d41ba8087f36', 'doi': '10.1117/12.148698'}, 'additional_info': {'summary': 'Features are computed from a digitized image of a fine needle aspirate (FNA) of a breast mass.  They describe characteristics of the cell nuclei present in the image. A few of the images can be found at http://www.cs.wisc.edu/~street/images/\\r\\n\\r\\nSeparating plane described above was obtained using Multisurface Method-Tree (MSM-T) [K. P. Bennett, \"Decision Tree Construction Via Linear Programming.\" Proceedings of the 4th Midwest Artificial Intelligence and Cognitive Science Society, pp. 97-101, 1992], a classification method which uses linear programming to construct a decision tree.  Relevant features were selected using an exhaustive search in the space of 1-4 features and 1-3 separating planes.\\r\\n\\r\\nThe actual linear program used to obtain the separating plane in the 3-dimensional space is that described in: [K. P. Bennett and O. L. Mangasarian: \"Robust Linear Programming Discrimination of Two Linearly Inseparable Sets\", Optimization Methods and Software 1, 1992, 23-34].\\r\\n\\r\\nThis database is also available through the UW CS ftp server:\\r\\nftp ftp.cs.wisc.edu\\r\\ncd math-prog/cpo-dataset/machine-learn/WDBC/', 'purpose': None, 'funded_by': None, 'instances_represent': None, 'recommended_data_splits': None, 'sensitive_data': None, 'preprocessing_description': None, 'variable_info': '1) ID number\\r\\n2) Diagnosis (M = malignant, B = benign)\\r\\n3-32)\\r\\n\\r\\nTen real-valued features are computed for each cell nucleus:\\r\\n\\r\\n\\ta) radius (mean of distances from center to points on the perimeter)\\r\\n\\tb) texture (standard deviation of gray-scale values)\\r\\n\\tc) perimeter\\r\\n\\td) area\\r\\n\\te) smoothness (local variation in radius lengths)\\r\\n\\tf) compactness (perimeter^2 / area - 1.0)\\r\\n\\tg) concavity (severity of concave portions of the contour)\\r\\n\\th) concave points (number of concave portions of the contour)\\r\\n\\ti) symmetry \\r\\n\\tj) fractal dimension (\"coastline approximation\" - 1)', 'citation': None}}, 'variables':                   name     role         type demographic description units  \\\n",
            "0                   ID       ID  Categorical        None        None  None   \n",
            "1            Diagnosis   Target  Categorical        None        None  None   \n",
            "2              radius1  Feature   Continuous        None        None  None   \n",
            "3             texture1  Feature   Continuous        None        None  None   \n",
            "4           perimeter1  Feature   Continuous        None        None  None   \n",
            "5                area1  Feature   Continuous        None        None  None   \n",
            "6          smoothness1  Feature   Continuous        None        None  None   \n",
            "7         compactness1  Feature   Continuous        None        None  None   \n",
            "8           concavity1  Feature   Continuous        None        None  None   \n",
            "9      concave_points1  Feature   Continuous        None        None  None   \n",
            "10           symmetry1  Feature   Continuous        None        None  None   \n",
            "11  fractal_dimension1  Feature   Continuous        None        None  None   \n",
            "12             radius2  Feature   Continuous        None        None  None   \n",
            "13            texture2  Feature   Continuous        None        None  None   \n",
            "14          perimeter2  Feature   Continuous        None        None  None   \n",
            "15               area2  Feature   Continuous        None        None  None   \n",
            "16         smoothness2  Feature   Continuous        None        None  None   \n",
            "17        compactness2  Feature   Continuous        None        None  None   \n",
            "18          concavity2  Feature   Continuous        None        None  None   \n",
            "19     concave_points2  Feature   Continuous        None        None  None   \n",
            "20           symmetry2  Feature   Continuous        None        None  None   \n",
            "21  fractal_dimension2  Feature   Continuous        None        None  None   \n",
            "22             radius3  Feature   Continuous        None        None  None   \n",
            "23            texture3  Feature   Continuous        None        None  None   \n",
            "24          perimeter3  Feature   Continuous        None        None  None   \n",
            "25               area3  Feature   Continuous        None        None  None   \n",
            "26         smoothness3  Feature   Continuous        None        None  None   \n",
            "27        compactness3  Feature   Continuous        None        None  None   \n",
            "28          concavity3  Feature   Continuous        None        None  None   \n",
            "29     concave_points3  Feature   Continuous        None        None  None   \n",
            "30           symmetry3  Feature   Continuous        None        None  None   \n",
            "31  fractal_dimension3  Feature   Continuous        None        None  None   \n",
            "\n",
            "   missing_values  \n",
            "0              no  \n",
            "1              no  \n",
            "2              no  \n",
            "3              no  \n",
            "4              no  \n",
            "5              no  \n",
            "6              no  \n",
            "7              no  \n",
            "8              no  \n",
            "9              no  \n",
            "10             no  \n",
            "11             no  \n",
            "12             no  \n",
            "13             no  \n",
            "14             no  \n",
            "15             no  \n",
            "16             no  \n",
            "17             no  \n",
            "18             no  \n",
            "19             no  \n",
            "20             no  \n",
            "21             no  \n",
            "22             no  \n",
            "23             no  \n",
            "24             no  \n",
            "25             no  \n",
            "26             no  \n",
            "27             no  \n",
            "28             no  \n",
            "29             no  \n",
            "30             no  \n",
            "31             no  }\n"
          ]
        }
      ],
      "source": [
        "from sklearn.cluster import KMeans\n",
        "\n",
        "\n",
        "# ..."
      ]
    },
    {
      "cell_type": "markdown",
      "metadata": {
        "id": "IbLAqEI36etd"
      },
      "source": [
        "Coloque todos os centróides em uma única matriz (dados de treinamento)"
      ]
    },
    {
      "cell_type": "code",
      "execution_count": 4,
      "metadata": {
        "id": "3xDjlH8B6rnW"
      },
      "outputs": [],
      "source": [
        "# ..."
      ]
    },
    {
      "cell_type": "markdown",
      "metadata": {
        "id": "-rOCjrDn62l-"
      },
      "source": [
        "Pegue as classes correspondentes e use como as classes dos exemplos (centróides)"
      ]
    },
    {
      "cell_type": "code",
      "execution_count": 5,
      "metadata": {
        "id": "1juM35dw7FKK"
      },
      "outputs": [],
      "source": [
        "# ..."
      ]
    },
    {
      "cell_type": "markdown",
      "metadata": {
        "id": "yxoO5MWe7GfI"
      },
      "source": [
        "# Faça o mesmo procedimento, mas escolhendo centróides aleatoriamente\n",
        "\n",
        "Escolha aleatoriamente M exemplos e suas classes correspondentes. Use os exemplos como centróides"
      ]
    },
    {
      "cell_type": "code",
      "execution_count": 6,
      "metadata": {
        "id": "S6uILa2t7gCO"
      },
      "outputs": [],
      "source": [
        "# ..."
      ]
    },
    {
      "cell_type": "markdown",
      "metadata": {
        "id": "JFpqYPa3703T"
      },
      "source": [
        "# Agora execute o k-NN convencional"
      ]
    },
    {
      "cell_type": "code",
      "execution_count": 7,
      "metadata": {
        "id": "xxf-0vRh8D1q"
      },
      "outputs": [],
      "source": [
        "# ..."
      ]
    },
    {
      "cell_type": "markdown",
      "metadata": {
        "id": "HSM9rKyr8Qqe"
      },
      "source": [
        "# Faça um gráfico comparando as três estratégias"
      ]
    },
    {
      "cell_type": "code",
      "execution_count": 8,
      "metadata": {
        "id": "MxNhTUci8VzI"
      },
      "outputs": [],
      "source": [
        "# ..."
      ]
    }
  ],
  "metadata": {
    "colab": {
      "provenance": [],
      "toc_visible": true
    },
    "kernelspec": {
      "display_name": "Python 3",
      "name": "python3"
    },
    "language_info": {
      "codemirror_mode": {
        "name": "ipython",
        "version": 3
      },
      "file_extension": ".py",
      "mimetype": "text/x-python",
      "name": "python",
      "nbconvert_exporter": "python",
      "pygments_lexer": "ipython3",
      "version": "3.8.10"
    }
  },
  "nbformat": 4,
  "nbformat_minor": 0
}
