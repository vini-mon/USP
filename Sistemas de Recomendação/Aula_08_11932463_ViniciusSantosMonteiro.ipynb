{
  "cells": [
    {
      "cell_type": "markdown",
      "id": "93b8d1ed",
      "metadata": {
        "id": "93b8d1ed"
      },
      "source": [
        "# Aula 08 - Aprendendo a Ranquear - Exercícios"
      ]
    },
    {
      "cell_type": "code",
      "source": [
        "!pip install \"numpy<2\""
      ],
      "metadata": {
        "colab": {
          "base_uri": "https://localhost:8080/"
        },
        "id": "3wqacYFlZ4jr",
        "outputId": "4ad88190-bcb1-4205-8769-15f3ebe73149"
      },
      "id": "3wqacYFlZ4jr",
      "execution_count": 1,
      "outputs": [
        {
          "output_type": "stream",
          "name": "stdout",
          "text": [
            "Requirement already satisfied: numpy<2 in /usr/local/lib/python3.12/dist-packages (1.26.4)\n"
          ]
        }
      ]
    },
    {
      "cell_type": "code",
      "execution_count": 2,
      "id": "8459b6aa",
      "metadata": {
        "id": "8459b6aa"
      },
      "outputs": [],
      "source": [
        "import pandas as pd\n",
        "import numpy as np\n",
        "import random"
      ]
    },
    {
      "cell_type": "code",
      "source": [
        "from surprise import Dataset, Reader, SVD\n",
        "from collections import defaultdict"
      ],
      "metadata": {
        "id": "2vt4TrEzcrdi"
      },
      "id": "2vt4TrEzcrdi",
      "execution_count": 3,
      "outputs": []
    },
    {
      "cell_type": "code",
      "source": [
        "!pip install scikit-surprise"
      ],
      "metadata": {
        "colab": {
          "base_uri": "https://localhost:8080/"
        },
        "id": "-C91zVDtSXuk",
        "outputId": "d252c51b-e2f9-4fd6-c9af-35b56e46a2ac"
      },
      "id": "-C91zVDtSXuk",
      "execution_count": 4,
      "outputs": [
        {
          "output_type": "stream",
          "name": "stdout",
          "text": [
            "Requirement already satisfied: scikit-surprise in /usr/local/lib/python3.12/dist-packages (1.1.4)\n",
            "Requirement already satisfied: joblib>=1.2.0 in /usr/local/lib/python3.12/dist-packages (from scikit-surprise) (1.5.2)\n",
            "Requirement already satisfied: numpy>=1.19.5 in /usr/local/lib/python3.12/dist-packages (from scikit-surprise) (1.26.4)\n",
            "Requirement already satisfied: scipy>=1.6.0 in /usr/local/lib/python3.12/dist-packages (from scikit-surprise) (1.16.2)\n"
          ]
        }
      ]
    },
    {
      "cell_type": "markdown",
      "id": "0838bce8",
      "metadata": {
        "id": "0838bce8"
      },
      "source": [
        "### Importar base de dados"
      ]
    },
    {
      "cell_type": "code",
      "execution_count": 5,
      "id": "8dcf3068",
      "metadata": {
        "colab": {
          "base_uri": "https://localhost:8080/"
        },
        "id": "8dcf3068",
        "outputId": "a991eb20-ed9b-4988-dfa5-6fc62b818936"
      },
      "outputs": [
        {
          "output_type": "stream",
          "name": "stdout",
          "text": [
            "--2025-09-29 17:09:31--  https://github.com/mmanzato/MBABigData/raw/master/ml-20m-compact.tar.gz\n",
            "Resolving github.com (github.com)... 140.82.113.3\n",
            "Connecting to github.com (github.com)|140.82.113.3|:443... connected.\n",
            "HTTP request sent, awaiting response... 302 Found\n",
            "Location: https://raw.githubusercontent.com/mmanzato/MBABigData/master/ml-20m-compact.tar.gz [following]\n",
            "--2025-09-29 17:09:31--  https://raw.githubusercontent.com/mmanzato/MBABigData/master/ml-20m-compact.tar.gz\n",
            "Resolving raw.githubusercontent.com (raw.githubusercontent.com)... 185.199.108.133, 185.199.109.133, 185.199.110.133, ...\n",
            "Connecting to raw.githubusercontent.com (raw.githubusercontent.com)|185.199.108.133|:443... connected.\n",
            "HTTP request sent, awaiting response... 200 OK\n",
            "Length: 65019041 (62M) [application/octet-stream]\n",
            "Saving to: ‘ml-20m-compact.tar.gz.6’\n",
            "\n",
            "ml-20m-compact.tar. 100%[===================>]  62.01M   377MB/s    in 0.2s    \n",
            "\n",
            "2025-09-29 17:09:32 (377 MB/s) - ‘ml-20m-compact.tar.gz.6’ saved [65019041/65019041]\n",
            "\n",
            "dataset/\n",
            "dataset/tags_sample.csv\n",
            "dataset/._.DS_Store\n",
            "dataset/.DS_Store\n",
            "dataset/movies_sample.csv\n",
            "dataset/._genome-tags.csv\n",
            "dataset/genome-tags.csv\n",
            "dataset/._ml-youtube.csv\n",
            "dataset/ml-youtube.csv\n",
            "dataset/._genome-scores.csv\n",
            "dataset/genome-scores.csv\n",
            "dataset/ratings_sample.csv\n"
          ]
        }
      ],
      "source": [
        "!wget https://github.com/mmanzato/MBABigData/raw/master/ml-20m-compact.tar.gz\n",
        "!tar -xvzf ml-20m-compact.tar.gz"
      ]
    },
    {
      "cell_type": "code",
      "execution_count": 6,
      "id": "cb5b9f2f",
      "metadata": {
        "colab": {
          "base_uri": "https://localhost:8080/",
          "height": 424
        },
        "id": "cb5b9f2f",
        "outputId": "d8cbe8b0-33fb-419b-c78f-119a3bc03229"
      },
      "outputs": [
        {
          "output_type": "execute_result",
          "data": {
            "text/plain": [
              "        userId  itemId  rating                         title\n",
              "0           11    7481     5.0             Enemy Mine (1985)\n",
              "1           11    1046     4.5        Beautiful Thing (1996)\n",
              "2           11     616     4.0        Aristocats, The (1970)\n",
              "3           11    3535     2.0        American Psycho (2000)\n",
              "4           11    5669     5.0  Bowling for Columbine (2002)\n",
              "...        ...     ...     ...                           ...\n",
              "190616  138493     288     5.0   Natural Born Killers (1994)\n",
              "190617  138493    1748     5.0              Dark City (1998)\n",
              "190618  138493     616     4.0        Aristocats, The (1970)\n",
              "190619  138493    1597     4.5      Conspiracy Theory (1997)\n",
              "190620  138493    7371     5.0               Dogville (2003)\n",
              "\n",
              "[190621 rows x 4 columns]"
            ],
            "text/html": [
              "\n",
              "  <div id=\"df-656d8136-7ac8-40aa-b1ee-0fa76bb28790\" class=\"colab-df-container\">\n",
              "    <div>\n",
              "<style scoped>\n",
              "    .dataframe tbody tr th:only-of-type {\n",
              "        vertical-align: middle;\n",
              "    }\n",
              "\n",
              "    .dataframe tbody tr th {\n",
              "        vertical-align: top;\n",
              "    }\n",
              "\n",
              "    .dataframe thead th {\n",
              "        text-align: right;\n",
              "    }\n",
              "</style>\n",
              "<table border=\"1\" class=\"dataframe\">\n",
              "  <thead>\n",
              "    <tr style=\"text-align: right;\">\n",
              "      <th></th>\n",
              "      <th>userId</th>\n",
              "      <th>itemId</th>\n",
              "      <th>rating</th>\n",
              "      <th>title</th>\n",
              "    </tr>\n",
              "  </thead>\n",
              "  <tbody>\n",
              "    <tr>\n",
              "      <th>0</th>\n",
              "      <td>11</td>\n",
              "      <td>7481</td>\n",
              "      <td>5.0</td>\n",
              "      <td>Enemy Mine (1985)</td>\n",
              "    </tr>\n",
              "    <tr>\n",
              "      <th>1</th>\n",
              "      <td>11</td>\n",
              "      <td>1046</td>\n",
              "      <td>4.5</td>\n",
              "      <td>Beautiful Thing (1996)</td>\n",
              "    </tr>\n",
              "    <tr>\n",
              "      <th>2</th>\n",
              "      <td>11</td>\n",
              "      <td>616</td>\n",
              "      <td>4.0</td>\n",
              "      <td>Aristocats, The (1970)</td>\n",
              "    </tr>\n",
              "    <tr>\n",
              "      <th>3</th>\n",
              "      <td>11</td>\n",
              "      <td>3535</td>\n",
              "      <td>2.0</td>\n",
              "      <td>American Psycho (2000)</td>\n",
              "    </tr>\n",
              "    <tr>\n",
              "      <th>4</th>\n",
              "      <td>11</td>\n",
              "      <td>5669</td>\n",
              "      <td>5.0</td>\n",
              "      <td>Bowling for Columbine (2002)</td>\n",
              "    </tr>\n",
              "    <tr>\n",
              "      <th>...</th>\n",
              "      <td>...</td>\n",
              "      <td>...</td>\n",
              "      <td>...</td>\n",
              "      <td>...</td>\n",
              "    </tr>\n",
              "    <tr>\n",
              "      <th>190616</th>\n",
              "      <td>138493</td>\n",
              "      <td>288</td>\n",
              "      <td>5.0</td>\n",
              "      <td>Natural Born Killers (1994)</td>\n",
              "    </tr>\n",
              "    <tr>\n",
              "      <th>190617</th>\n",
              "      <td>138493</td>\n",
              "      <td>1748</td>\n",
              "      <td>5.0</td>\n",
              "      <td>Dark City (1998)</td>\n",
              "    </tr>\n",
              "    <tr>\n",
              "      <th>190618</th>\n",
              "      <td>138493</td>\n",
              "      <td>616</td>\n",
              "      <td>4.0</td>\n",
              "      <td>Aristocats, The (1970)</td>\n",
              "    </tr>\n",
              "    <tr>\n",
              "      <th>190619</th>\n",
              "      <td>138493</td>\n",
              "      <td>1597</td>\n",
              "      <td>4.5</td>\n",
              "      <td>Conspiracy Theory (1997)</td>\n",
              "    </tr>\n",
              "    <tr>\n",
              "      <th>190620</th>\n",
              "      <td>138493</td>\n",
              "      <td>7371</td>\n",
              "      <td>5.0</td>\n",
              "      <td>Dogville (2003)</td>\n",
              "    </tr>\n",
              "  </tbody>\n",
              "</table>\n",
              "<p>190621 rows × 4 columns</p>\n",
              "</div>\n",
              "    <div class=\"colab-df-buttons\">\n",
              "\n",
              "  <div class=\"colab-df-container\">\n",
              "    <button class=\"colab-df-convert\" onclick=\"convertToInteractive('df-656d8136-7ac8-40aa-b1ee-0fa76bb28790')\"\n",
              "            title=\"Convert this dataframe to an interactive table.\"\n",
              "            style=\"display:none;\">\n",
              "\n",
              "  <svg xmlns=\"http://www.w3.org/2000/svg\" height=\"24px\" viewBox=\"0 -960 960 960\">\n",
              "    <path d=\"M120-120v-720h720v720H120Zm60-500h600v-160H180v160Zm220 220h160v-160H400v160Zm0 220h160v-160H400v160ZM180-400h160v-160H180v160Zm440 0h160v-160H620v160ZM180-180h160v-160H180v160Zm440 0h160v-160H620v160Z\"/>\n",
              "  </svg>\n",
              "    </button>\n",
              "\n",
              "  <style>\n",
              "    .colab-df-container {\n",
              "      display:flex;\n",
              "      gap: 12px;\n",
              "    }\n",
              "\n",
              "    .colab-df-convert {\n",
              "      background-color: #E8F0FE;\n",
              "      border: none;\n",
              "      border-radius: 50%;\n",
              "      cursor: pointer;\n",
              "      display: none;\n",
              "      fill: #1967D2;\n",
              "      height: 32px;\n",
              "      padding: 0 0 0 0;\n",
              "      width: 32px;\n",
              "    }\n",
              "\n",
              "    .colab-df-convert:hover {\n",
              "      background-color: #E2EBFA;\n",
              "      box-shadow: 0px 1px 2px rgba(60, 64, 67, 0.3), 0px 1px 3px 1px rgba(60, 64, 67, 0.15);\n",
              "      fill: #174EA6;\n",
              "    }\n",
              "\n",
              "    .colab-df-buttons div {\n",
              "      margin-bottom: 4px;\n",
              "    }\n",
              "\n",
              "    [theme=dark] .colab-df-convert {\n",
              "      background-color: #3B4455;\n",
              "      fill: #D2E3FC;\n",
              "    }\n",
              "\n",
              "    [theme=dark] .colab-df-convert:hover {\n",
              "      background-color: #434B5C;\n",
              "      box-shadow: 0px 1px 3px 1px rgba(0, 0, 0, 0.15);\n",
              "      filter: drop-shadow(0px 1px 2px rgba(0, 0, 0, 0.3));\n",
              "      fill: #FFFFFF;\n",
              "    }\n",
              "  </style>\n",
              "\n",
              "    <script>\n",
              "      const buttonEl =\n",
              "        document.querySelector('#df-656d8136-7ac8-40aa-b1ee-0fa76bb28790 button.colab-df-convert');\n",
              "      buttonEl.style.display =\n",
              "        google.colab.kernel.accessAllowed ? 'block' : 'none';\n",
              "\n",
              "      async function convertToInteractive(key) {\n",
              "        const element = document.querySelector('#df-656d8136-7ac8-40aa-b1ee-0fa76bb28790');\n",
              "        const dataTable =\n",
              "          await google.colab.kernel.invokeFunction('convertToInteractive',\n",
              "                                                    [key], {});\n",
              "        if (!dataTable) return;\n",
              "\n",
              "        const docLinkHtml = 'Like what you see? Visit the ' +\n",
              "          '<a target=\"_blank\" href=https://colab.research.google.com/notebooks/data_table.ipynb>data table notebook</a>'\n",
              "          + ' to learn more about interactive tables.';\n",
              "        element.innerHTML = '';\n",
              "        dataTable['output_type'] = 'display_data';\n",
              "        await google.colab.output.renderOutput(dataTable, element);\n",
              "        const docLink = document.createElement('div');\n",
              "        docLink.innerHTML = docLinkHtml;\n",
              "        element.appendChild(docLink);\n",
              "      }\n",
              "    </script>\n",
              "  </div>\n",
              "\n",
              "\n",
              "    <div id=\"df-9e0b4602-cf4a-49d1-a32a-a726f4bab851\">\n",
              "      <button class=\"colab-df-quickchart\" onclick=\"quickchart('df-9e0b4602-cf4a-49d1-a32a-a726f4bab851')\"\n",
              "                title=\"Suggest charts\"\n",
              "                style=\"display:none;\">\n",
              "\n",
              "<svg xmlns=\"http://www.w3.org/2000/svg\" height=\"24px\"viewBox=\"0 0 24 24\"\n",
              "     width=\"24px\">\n",
              "    <g>\n",
              "        <path d=\"M19 3H5c-1.1 0-2 .9-2 2v14c0 1.1.9 2 2 2h14c1.1 0 2-.9 2-2V5c0-1.1-.9-2-2-2zM9 17H7v-7h2v7zm4 0h-2V7h2v10zm4 0h-2v-4h2v4z\"/>\n",
              "    </g>\n",
              "</svg>\n",
              "      </button>\n",
              "\n",
              "<style>\n",
              "  .colab-df-quickchart {\n",
              "      --bg-color: #E8F0FE;\n",
              "      --fill-color: #1967D2;\n",
              "      --hover-bg-color: #E2EBFA;\n",
              "      --hover-fill-color: #174EA6;\n",
              "      --disabled-fill-color: #AAA;\n",
              "      --disabled-bg-color: #DDD;\n",
              "  }\n",
              "\n",
              "  [theme=dark] .colab-df-quickchart {\n",
              "      --bg-color: #3B4455;\n",
              "      --fill-color: #D2E3FC;\n",
              "      --hover-bg-color: #434B5C;\n",
              "      --hover-fill-color: #FFFFFF;\n",
              "      --disabled-bg-color: #3B4455;\n",
              "      --disabled-fill-color: #666;\n",
              "  }\n",
              "\n",
              "  .colab-df-quickchart {\n",
              "    background-color: var(--bg-color);\n",
              "    border: none;\n",
              "    border-radius: 50%;\n",
              "    cursor: pointer;\n",
              "    display: none;\n",
              "    fill: var(--fill-color);\n",
              "    height: 32px;\n",
              "    padding: 0;\n",
              "    width: 32px;\n",
              "  }\n",
              "\n",
              "  .colab-df-quickchart:hover {\n",
              "    background-color: var(--hover-bg-color);\n",
              "    box-shadow: 0 1px 2px rgba(60, 64, 67, 0.3), 0 1px 3px 1px rgba(60, 64, 67, 0.15);\n",
              "    fill: var(--button-hover-fill-color);\n",
              "  }\n",
              "\n",
              "  .colab-df-quickchart-complete:disabled,\n",
              "  .colab-df-quickchart-complete:disabled:hover {\n",
              "    background-color: var(--disabled-bg-color);\n",
              "    fill: var(--disabled-fill-color);\n",
              "    box-shadow: none;\n",
              "  }\n",
              "\n",
              "  .colab-df-spinner {\n",
              "    border: 2px solid var(--fill-color);\n",
              "    border-color: transparent;\n",
              "    border-bottom-color: var(--fill-color);\n",
              "    animation:\n",
              "      spin 1s steps(1) infinite;\n",
              "  }\n",
              "\n",
              "  @keyframes spin {\n",
              "    0% {\n",
              "      border-color: transparent;\n",
              "      border-bottom-color: var(--fill-color);\n",
              "      border-left-color: var(--fill-color);\n",
              "    }\n",
              "    20% {\n",
              "      border-color: transparent;\n",
              "      border-left-color: var(--fill-color);\n",
              "      border-top-color: var(--fill-color);\n",
              "    }\n",
              "    30% {\n",
              "      border-color: transparent;\n",
              "      border-left-color: var(--fill-color);\n",
              "      border-top-color: var(--fill-color);\n",
              "      border-right-color: var(--fill-color);\n",
              "    }\n",
              "    40% {\n",
              "      border-color: transparent;\n",
              "      border-right-color: var(--fill-color);\n",
              "      border-top-color: var(--fill-color);\n",
              "    }\n",
              "    60% {\n",
              "      border-color: transparent;\n",
              "      border-right-color: var(--fill-color);\n",
              "    }\n",
              "    80% {\n",
              "      border-color: transparent;\n",
              "      border-right-color: var(--fill-color);\n",
              "      border-bottom-color: var(--fill-color);\n",
              "    }\n",
              "    90% {\n",
              "      border-color: transparent;\n",
              "      border-bottom-color: var(--fill-color);\n",
              "    }\n",
              "  }\n",
              "</style>\n",
              "\n",
              "      <script>\n",
              "        async function quickchart(key) {\n",
              "          const quickchartButtonEl =\n",
              "            document.querySelector('#' + key + ' button');\n",
              "          quickchartButtonEl.disabled = true;  // To prevent multiple clicks.\n",
              "          quickchartButtonEl.classList.add('colab-df-spinner');\n",
              "          try {\n",
              "            const charts = await google.colab.kernel.invokeFunction(\n",
              "                'suggestCharts', [key], {});\n",
              "          } catch (error) {\n",
              "            console.error('Error during call to suggestCharts:', error);\n",
              "          }\n",
              "          quickchartButtonEl.classList.remove('colab-df-spinner');\n",
              "          quickchartButtonEl.classList.add('colab-df-quickchart-complete');\n",
              "        }\n",
              "        (() => {\n",
              "          let quickchartButtonEl =\n",
              "            document.querySelector('#df-9e0b4602-cf4a-49d1-a32a-a726f4bab851 button');\n",
              "          quickchartButtonEl.style.display =\n",
              "            google.colab.kernel.accessAllowed ? 'block' : 'none';\n",
              "        })();\n",
              "      </script>\n",
              "    </div>\n",
              "\n",
              "  <div id=\"id_f1691501-4d2e-4c4f-a52b-f9d2a5690d66\">\n",
              "    <style>\n",
              "      .colab-df-generate {\n",
              "        background-color: #E8F0FE;\n",
              "        border: none;\n",
              "        border-radius: 50%;\n",
              "        cursor: pointer;\n",
              "        display: none;\n",
              "        fill: #1967D2;\n",
              "        height: 32px;\n",
              "        padding: 0 0 0 0;\n",
              "        width: 32px;\n",
              "      }\n",
              "\n",
              "      .colab-df-generate:hover {\n",
              "        background-color: #E2EBFA;\n",
              "        box-shadow: 0px 1px 2px rgba(60, 64, 67, 0.3), 0px 1px 3px 1px rgba(60, 64, 67, 0.15);\n",
              "        fill: #174EA6;\n",
              "      }\n",
              "\n",
              "      [theme=dark] .colab-df-generate {\n",
              "        background-color: #3B4455;\n",
              "        fill: #D2E3FC;\n",
              "      }\n",
              "\n",
              "      [theme=dark] .colab-df-generate:hover {\n",
              "        background-color: #434B5C;\n",
              "        box-shadow: 0px 1px 3px 1px rgba(0, 0, 0, 0.15);\n",
              "        filter: drop-shadow(0px 1px 2px rgba(0, 0, 0, 0.3));\n",
              "        fill: #FFFFFF;\n",
              "      }\n",
              "    </style>\n",
              "    <button class=\"colab-df-generate\" onclick=\"generateWithVariable('df')\"\n",
              "            title=\"Generate code using this dataframe.\"\n",
              "            style=\"display:none;\">\n",
              "\n",
              "  <svg xmlns=\"http://www.w3.org/2000/svg\" height=\"24px\"viewBox=\"0 0 24 24\"\n",
              "       width=\"24px\">\n",
              "    <path d=\"M7,19H8.4L18.45,9,17,7.55,7,17.6ZM5,21V16.75L18.45,3.32a2,2,0,0,1,2.83,0l1.4,1.43a1.91,1.91,0,0,1,.58,1.4,1.91,1.91,0,0,1-.58,1.4L9.25,21ZM18.45,9,17,7.55Zm-12,3A5.31,5.31,0,0,0,4.9,8.1,5.31,5.31,0,0,0,1,6.5,5.31,5.31,0,0,0,4.9,4.9,5.31,5.31,0,0,0,6.5,1,5.31,5.31,0,0,0,8.1,4.9,5.31,5.31,0,0,0,12,6.5,5.46,5.46,0,0,0,6.5,12Z\"/>\n",
              "  </svg>\n",
              "    </button>\n",
              "    <script>\n",
              "      (() => {\n",
              "      const buttonEl =\n",
              "        document.querySelector('#id_f1691501-4d2e-4c4f-a52b-f9d2a5690d66 button.colab-df-generate');\n",
              "      buttonEl.style.display =\n",
              "        google.colab.kernel.accessAllowed ? 'block' : 'none';\n",
              "\n",
              "      buttonEl.onclick = () => {\n",
              "        google.colab.notebook.generateWithVariable('df');\n",
              "      }\n",
              "      })();\n",
              "    </script>\n",
              "  </div>\n",
              "\n",
              "    </div>\n",
              "  </div>\n"
            ],
            "application/vnd.google.colaboratory.intrinsic+json": {
              "type": "dataframe",
              "variable_name": "df"
            }
          },
          "metadata": {},
          "execution_count": 6
        }
      ],
      "source": [
        "movies = pd.read_csv('./dataset/movies_sample.csv', names=['itemId', 'title', 'genre'], header=0)\n",
        "ratings = pd.read_csv('./dataset/ratings_sample.csv', names=['userId', 'itemId', 'rating', 'timestamp'], header=0)\n",
        "df = ratings[['userId', 'itemId', 'rating']]\n",
        "df = df.merge(movies[['itemId', 'title']])\n",
        "df"
      ]
    },
    {
      "cell_type": "markdown",
      "id": "0dfce1af",
      "metadata": {
        "id": "0dfce1af"
      },
      "source": [
        "### Mapeamento de ids"
      ]
    },
    {
      "cell_type": "code",
      "execution_count": 7,
      "id": "05575bb1",
      "metadata": {
        "id": "05575bb1"
      },
      "outputs": [],
      "source": [
        "map_users = {user: idx for idx, user in enumerate(df.userId.unique())}\n",
        "map_items = {item: idx for idx, item in enumerate(df.itemId.unique())}\n",
        "df['userId'] = df['userId'].map(map_users)\n",
        "df['itemId'] = df['itemId'].map(map_items)\n",
        "map_title = {}\n",
        "\n",
        "for _, row in df.iterrows():\n",
        "    map_title[row.itemId] = row.title\n"
      ]
    },
    {
      "cell_type": "markdown",
      "id": "3e57fdc1",
      "metadata": {
        "id": "3e57fdc1"
      },
      "source": [
        "### Divisão da base em treino e teste"
      ]
    },
    {
      "cell_type": "code",
      "execution_count": 8,
      "id": "fdf6d2a2",
      "metadata": {
        "id": "fdf6d2a2"
      },
      "outputs": [],
      "source": [
        "from sklearn.model_selection import train_test_split\n",
        "train, test = train_test_split(df, test_size=.2, random_state=2)"
      ]
    },
    {
      "cell_type": "code",
      "source": [
        "## Funções que vimmos na aula 8\n",
        "\n",
        "# Lista de todos os itens que um usuário avalia\n",
        "def get_item_ids(df, userId):\n",
        "\n",
        "    if userId not in df['userId'].values:\n",
        "        return []\n",
        "\n",
        "    return (df.loc[(df.userId==userId),'itemId'].tolist())\n",
        "\n",
        "get_item_ids(df, 0)\n",
        "\n",
        "observed = dict()\n",
        "unobserved = dict()\n",
        "all_users = df['userId'].unique().tolist()\n",
        "all_items = df['itemId'].unique().tolist()\n",
        "\n",
        "for u in all_users:\n",
        "\n",
        "    observed[u] = get_item_ids(train, u)\n",
        "    unobserved[u] = list(set(all_items)-set(observed[u]))\n",
        "\n",
        "def draw(userId):\n",
        "\n",
        "    i = random.choice(observed[userId])\n",
        "    j = random.choice(unobserved[userId])\n",
        "    return i, j\n",
        "\n",
        "draw(2)"
      ],
      "metadata": {
        "colab": {
          "base_uri": "https://localhost:8080/"
        },
        "id": "f6Z1itVkPd3n",
        "outputId": "2942028f-8220-4cd7-d618-dd3549e483fa"
      },
      "id": "f6Z1itVkPd3n",
      "execution_count": 9,
      "outputs": [
        {
          "output_type": "execute_result",
          "data": {
            "text/plain": [
              "(18, 407)"
            ]
          },
          "metadata": {},
          "execution_count": 9
        }
      ]
    },
    {
      "cell_type": "code",
      "source": [
        "# User para a validação\n",
        "user_id = 1\n",
        "\n",
        "# o que usuário realmente gostou no teste (ground-truth)\n",
        "ground_truth = test[test['userId'] == user_id]['itemId'].tolist()"
      ],
      "metadata": {
        "id": "gBK5aKWuR9ht"
      },
      "id": "gBK5aKWuR9ht",
      "execution_count": 10,
      "outputs": []
    },
    {
      "cell_type": "markdown",
      "id": "2e485b82",
      "metadata": {
        "id": "2e485b82"
      },
      "source": [
        "### Nesta aula, você podera escolher entre implementar o primeiro, o segundo ou ambos os exercícios abaixo."
      ]
    },
    {
      "cell_type": "markdown",
      "id": "d4d46661",
      "metadata": {
        "id": "d4d46661"
      },
      "source": [
        "***Exercício 01:*** Comparação entre um algoritmo pair-wise e point-wise:\n",
        "- Utilizando o BPR implementado em aula, gere uma lista de 10 recomendações para um determinado usuário da base.\n",
        "- Calcule a precisão média dessas recomendações usando como ground-truth o conjunto de teste.\n",
        "- Utilize o algoritmo MatrixFactorization (SVD otimizado) de predição de notas para prever as notas dos itens que aquele usuário não avaliou ainda.\n",
        "- Ordene inversamente esses itens pela nota predita, e recomende os 10 primeiros filmes.\n",
        "- Calcule a precisão média dessas recomendações e compare o resultado com o resultado obtido pelo BPR."
      ]
    },
    {
      "cell_type": "code",
      "source": [
        "# Sortear um par visto não visto\n",
        "def draw(userId):\n",
        "\n",
        "    i = random.choice(observed[userId])\n",
        "    j = random.choice(unobserved[userId])\n",
        "    return i, j\n",
        "\n",
        "# Função de treinamento do BPRMF\n",
        "def train_bprmf(train_df, n_factors, lr=0.01, reg=0.05, miter=50):\n",
        "\n",
        "    n_users = df['userId'].max()+1\n",
        "    n_items = df['itemId'].max()+1\n",
        "    item_bias = np.zeros(n_items)\n",
        "    p = np.random.normal(0, 0.1, (n_users, n_factors))\n",
        "    q = np.random.normal(0, 0.1, (n_items, n_factors))\n",
        "\n",
        "    print(f'BPR de range {miter}')\n",
        "\n",
        "    for t in range(miter):\n",
        "\n",
        "        random_users = random.choices(train_df['userId'].unique(), k=len(train_df))\n",
        "        for u in random_users:\n",
        "\n",
        "            i, j = draw(u)\n",
        "            x_uij = item_bias[i] - item_bias[j] + (np.dot(p[u], q[i]) - np.dot(p[u], q[j]))\n",
        "            eps = 1 / (1 + np.exp(x_uij))\n",
        "\n",
        "            item_bias[i] += lr * (eps - reg * item_bias[i])\n",
        "            item_bias[j] += lr * (-eps - reg * item_bias[j])\n",
        "\n",
        "            u_f, i_f, j_f = p[u], q[i], q[j]\n",
        "            p[u] += lr * ((i_f - j_f) * eps - reg * u_f)\n",
        "            q[i] += lr * (u_f * eps - reg * i_f)\n",
        "            q[j] += lr * (-u_f * eps - reg * j_f)\n",
        "\n",
        "    return item_bias, p, q\n",
        "\n",
        "# Função para gerar recomendações\n",
        "def predict_bpr(item_bias, p, q, user_id, N=10):\n",
        "\n",
        "    w = item_bias.T + np.dot(p, q.T)\n",
        "    # Ordena os scores para o usuário específico\n",
        "    scores = w[user_id]\n",
        "    candidate_items = sorted(range(len(scores)), key=lambda k: scores[k], reverse=True)\n",
        "\n",
        "    # Filtra itens que o usuário já viu no treino\n",
        "    partial_ranking = []\n",
        "    for i in candidate_items:\n",
        "\n",
        "        if i not in observed[user_id]:\n",
        "            partial_ranking.append(i)\n",
        "\n",
        "        if len(partial_ranking) == N:\n",
        "            break\n",
        "\n",
        "    return partial_ranking"
      ],
      "metadata": {
        "id": "_YiSSyJbP0xH"
      },
      "id": "_YiSSyJbP0xH",
      "execution_count": 11,
      "outputs": []
    },
    {
      "cell_type": "code",
      "execution_count": 13,
      "id": "f01a2348",
      "metadata": {
        "colab": {
          "base_uri": "https://localhost:8080/"
        },
        "id": "f01a2348",
        "outputId": "a6ce5416-bf0a-4d9e-d2b3-a72b4de8b409"
      },
      "outputs": [
        {
          "output_type": "stream",
          "name": "stdout",
          "text": [
            "BPR de range 50\n",
            "Recomendações para o usuário 1: ['Reservoir Dogs (1992)', 'Bowling for Columbine (2002)', 'North by Northwest (1959)', 'Dark City (1998)', 'Karate Kid, The (1984)', \"My Best Friend's Wedding (1997)\", 'Go (1999)', 'I, Robot (2004)', 'While You Were Sleeping (1995)', 'Rush Hour 2 (2001)']\n",
            "Ground Truth: ['Sliding Doors (1998)', 'Rush Hour 2 (2001)', 'Go (1999)', 'Reservoir Dogs (1992)', 'Deep End of the Ocean, The (1999)', 'While You Were Sleeping (1995)']\n",
            "Acertos: 4\n",
            "Precisão@10 (BPR): 0.40\n"
          ]
        }
      ],
      "source": [
        "# BPR\n",
        "b, p, q = train_bprmf(train, n_factors=15, miter=50)\n",
        "recommendations_bpr = predict_bpr(b, p, q, user_id, N=10)\n",
        "\n",
        "# # o que usuário realmente gostou no teste (ground-truth)\n",
        "# ground_truth = test[test['userId'] == user_id]['itemId'].tolist()\n",
        "\n",
        "# Precisão@10\n",
        "hits_bpr = len(set(recommendations_bpr) & set(ground_truth))\n",
        "precision_bpr = hits_bpr / 10.0\n",
        "\n",
        "print(f\"Recomendações para o usuário {user_id}: {[map_title[i] for i in recommendations_bpr]}\")\n",
        "print(f\"Ground Truth: {[map_title[i] for i in ground_truth]}\")\n",
        "print(f\"Acertos: {hits_bpr}\")\n",
        "print(f\"Precisão@10 (BPR): {precision_bpr:.2f}\")"
      ]
    },
    {
      "cell_type": "markdown",
      "id": "97238620",
      "metadata": {
        "id": "97238620"
      },
      "source": [
        "***Exercicio 02:*** Na aula vimos a implementação do método draw() do algoritmo BPR tradicional. Para um dado usuário, este método retorna aleatoriamente um item que ele viu (**item i**) e um outro item que ele não conhece (**item j**). O algoritmo assume que o item visto é preferível ao que ele não viu, e isso é usado para maximizar a diferença entre os scores desses itens (veja a variável **x_uij** da implementação).\n",
        "\n",
        "Um problema dessa abordagem é que os itens não vistos são necessariamente encarados como menos relevante pelo algoritmo, o que nem sempre acontece pois pode ser que o usuário não tenha interagido com aquele item pois não o conhece, mas que poderia gostar. Um outro problema é quando ambos os itens i e j foram vistos pelo usuário, o que numa estratégia com feedback exclusivamente implícito o BPR não consegue diferenciar qual item é preferível ao usuário.\n",
        "\n",
        "Você consegue pensar numa estratégia aperfeiçoada para o método draw()? Exemplos:\n",
        "- Se tivermos acesso aos metadados, podemos construir um perfil para o usuário de modo que o método draw() vai retornar itens j que estão mais distantes desse perfil.\n",
        "- Se dois itens i e j foram vistos, use os metadados (ou as notas, caso use feedback explícito) para decidir qual deles deve ser o i e qual deve ser o j.\n",
        "- Etc.\n",
        "\n",
        "Implemente pelo menos uma estratégia de aperfeiçoamento do BPR, e compare com a versão original."
      ]
    },
    {
      "cell_type": "code",
      "execution_count": 18,
      "id": "99fc5e1e",
      "metadata": {
        "colab": {
          "base_uri": "https://localhost:8080/"
        },
        "id": "99fc5e1e",
        "outputId": "0226f8d1-fa7d-4395-e25e-9688b5e106fc"
      },
      "outputs": [
        {
          "output_type": "stream",
          "name": "stdout",
          "text": [
            "Recomendações para o usuário 1: ['Balance (1989)', 'Love Streams (1984)', 'Into the Woods (1991)', 'Dark City (1998)', 'Earrings of Madame de..., The (Madame de...) (1953)', 'Reservoir Dogs (1992)', \"Muriel, or The Time of Return (Muriel ou Le temps d'un retour) (1963)\", 'Hearts and Minds (1974)', 'Diamond Men (2001)', 'Samouraï, Le (Godson, The) (1967)']\n",
            "Ground Truth: ['Sliding Doors (1998)', 'Rush Hour 2 (2001)', 'Go (1999)', 'Reservoir Dogs (1992)', 'Deep End of the Ocean, The (1999)', 'While You Were Sleeping (1995)']\n",
            "Acertos: 1\n",
            "Precisão@10 (SVD): 0.10\n"
          ]
        }
      ],
      "source": [
        "reader = Reader(rating_scale=(0.5, 5.0))\n",
        "data = Dataset.load_from_df(train[['userId', 'itemId', 'rating']], reader)\n",
        "trainset = data.build_full_trainset()\n",
        "\n",
        "# SVD\n",
        "svd = SVD(n_factors=100, n_epochs=100, random_state=2)\n",
        "svd.fit(trainset)\n",
        "\n",
        "# recomendações do mesmo usuário\n",
        "unobserved_items_svd = unobserved[user_id]\n",
        "predictions = [svd.predict(user_id, item_id) for item_id in unobserved_items_svd]\n",
        "\n",
        "# Ordenar pela nota\n",
        "recommendations_svd_obj = sorted(predictions, key=lambda x: x.est, reverse=True)[:10]\n",
        "recommendations_svd = [pred.iid for pred in recommendations_svd_obj]\n",
        "\n",
        "# Precisão@10 para o SVD\n",
        "hits_svd = len(set(recommendations_svd) & set(ground_truth))\n",
        "precision_svd = hits_svd / 10.0\n",
        "\n",
        "print(f\"Recomendações para o usuário {user_id}: {[map_title[i] for i in recommendations_svd]}\")\n",
        "print(f\"Ground Truth: {[map_title[i] for i in ground_truth]}\")\n",
        "print(f\"Acertos: {hits_svd}\")\n",
        "print(f\"Precisão@10 (SVD): {precision_svd:.2f}\")"
      ]
    }
  ],
  "metadata": {
    "kernelspec": {
      "display_name": "Python 3",
      "language": "python",
      "name": "python3"
    },
    "language_info": {
      "codemirror_mode": {
        "name": "ipython",
        "version": 3
      },
      "file_extension": ".py",
      "mimetype": "text/x-python",
      "name": "python",
      "nbconvert_exporter": "python",
      "pygments_lexer": "ipython3",
      "version": "3.8.5"
    },
    "colab": {
      "provenance": []
    }
  },
  "nbformat": 4,
  "nbformat_minor": 5
}