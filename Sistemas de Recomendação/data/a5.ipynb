{
  "cells": [
    {
      "cell_type": "markdown",
      "id": "64cca0ec",
      "metadata": {
        "id": "64cca0ec"
      },
      "source": [
        "## Aula 05 - Filtragem Híbrida - Exercícios"
      ]
    },
    {
      "cell_type": "code",
      "source": [
        "!pip install caserecommender"
      ],
      "metadata": {
        "colab": {
          "base_uri": "https://localhost:8080/"
        },
        "id": "c_QTN2uDceI-",
        "outputId": "5544dfde-754a-49cb-e457-7a0b1080fa89"
      },
      "id": "c_QTN2uDceI-",
      "execution_count": 1,
      "outputs": [
        {
          "output_type": "stream",
          "name": "stdout",
          "text": [
            "Requirement already satisfied: caserecommender in /usr/local/lib/python3.12/dist-packages (1.1.1)\n",
            "Requirement already satisfied: numpy in /usr/local/lib/python3.12/dist-packages (from caserecommender) (1.26.4)\n",
            "Requirement already satisfied: scipy in /usr/local/lib/python3.12/dist-packages (from caserecommender) (1.16.1)\n",
            "Requirement already satisfied: scikit-learn in /usr/local/lib/python3.12/dist-packages (from caserecommender) (1.6.1)\n",
            "Requirement already satisfied: pandas in /usr/local/lib/python3.12/dist-packages (from caserecommender) (2.2.2)\n",
            "Requirement already satisfied: python-dateutil>=2.8.2 in /usr/local/lib/python3.12/dist-packages (from pandas->caserecommender) (2.9.0.post0)\n",
            "Requirement already satisfied: pytz>=2020.1 in /usr/local/lib/python3.12/dist-packages (from pandas->caserecommender) (2025.2)\n",
            "Requirement already satisfied: tzdata>=2022.7 in /usr/local/lib/python3.12/dist-packages (from pandas->caserecommender) (2025.2)\n",
            "Requirement already satisfied: joblib>=1.2.0 in /usr/local/lib/python3.12/dist-packages (from scikit-learn->caserecommender) (1.5.2)\n",
            "Requirement already satisfied: threadpoolctl>=3.1.0 in /usr/local/lib/python3.12/dist-packages (from scikit-learn->caserecommender) (3.6.0)\n",
            "Requirement already satisfied: six>=1.5 in /usr/local/lib/python3.12/dist-packages (from python-dateutil>=2.8.2->pandas->caserecommender) (1.17.0)\n"
          ]
        }
      ]
    },
    {
      "cell_type": "code",
      "source": [
        "# # versão compatível com caserecommender\n",
        "# %pip uninstall -y numpy\n",
        "%pip install numpy==1.26.4"
      ],
      "metadata": {
        "id": "SecdJFHegsHM"
      },
      "id": "SecdJFHegsHM",
      "execution_count": null,
      "outputs": []
    },
    {
      "cell_type": "code",
      "execution_count": 16,
      "id": "f284caf4",
      "metadata": {
        "id": "f284caf4"
      },
      "outputs": [],
      "source": [
        "import pandas as pd\n",
        "import numpy as np\n",
        "from sklearn.model_selection import train_test_split\n",
        "from caserec.recommenders.item_recommendation.bprmf import BprMF\n",
        "from caserec.recommenders.item_recommendation.itemknn import ItemKNN"
      ]
    },
    {
      "cell_type": "markdown",
      "id": "cc0a0e18",
      "metadata": {
        "id": "cc0a0e18"
      },
      "source": [
        "### Importar base de dados"
      ]
    },
    {
      "cell_type": "code",
      "execution_count": 3,
      "id": "7e46c021",
      "metadata": {
        "colab": {
          "base_uri": "https://localhost:8080/"
        },
        "id": "7e46c021",
        "outputId": "23f6b83b-4b6f-4778-b62b-d4e7b8f269a9"
      },
      "outputs": [
        {
          "output_type": "stream",
          "name": "stdout",
          "text": [
            "--2025-09-08 18:08:16--  https://github.com/mmanzato/MBABigData/raw/master/ml-20m-compact.tar.gz\n",
            "Resolving github.com (github.com)... 140.82.113.3\n",
            "Connecting to github.com (github.com)|140.82.113.3|:443... connected.\n",
            "HTTP request sent, awaiting response... 302 Found\n",
            "Location: https://raw.githubusercontent.com/mmanzato/MBABigData/master/ml-20m-compact.tar.gz [following]\n",
            "--2025-09-08 18:08:16--  https://raw.githubusercontent.com/mmanzato/MBABigData/master/ml-20m-compact.tar.gz\n",
            "Resolving raw.githubusercontent.com (raw.githubusercontent.com)... 185.199.110.133, 185.199.108.133, 185.199.109.133, ...\n",
            "Connecting to raw.githubusercontent.com (raw.githubusercontent.com)|185.199.110.133|:443... connected.\n",
            "HTTP request sent, awaiting response... 200 OK\n",
            "Length: 65019041 (62M) [application/octet-stream]\n",
            "Saving to: ‘ml-20m-compact.tar.gz.1’\n",
            "\n",
            "ml-20m-compact.tar. 100%[===================>]  62.01M   218MB/s    in 0.3s    \n",
            "\n",
            "2025-09-08 18:08:17 (218 MB/s) - ‘ml-20m-compact.tar.gz.1’ saved [65019041/65019041]\n",
            "\n",
            "dataset/\n",
            "dataset/tags_sample.csv\n",
            "dataset/._.DS_Store\n",
            "dataset/.DS_Store\n",
            "dataset/movies_sample.csv\n",
            "dataset/._genome-tags.csv\n",
            "dataset/genome-tags.csv\n",
            "dataset/._ml-youtube.csv\n",
            "dataset/ml-youtube.csv\n",
            "dataset/._genome-scores.csv\n",
            "dataset/genome-scores.csv\n",
            "dataset/ratings_sample.csv\n"
          ]
        }
      ],
      "source": [
        "!wget https://github.com/mmanzato/MBABigData/raw/master/ml-20m-compact.tar.gz\n",
        "!tar -xvzf ml-20m-compact.tar.gz"
      ]
    },
    {
      "cell_type": "code",
      "source": [
        "movies = pd.read_csv('./dataset/movies_sample.csv')\n",
        "rating = pd.read_csv('./dataset/ratings_sample.csv')\n",
        "\n",
        "df = rating[['userId', 'movieId', 'rating']]\n",
        "df = df.merge(movies, on='movieId')\n",
        "\n",
        "print(df)"
      ],
      "metadata": {
        "colab": {
          "base_uri": "https://localhost:8080/"
        },
        "id": "qv0QABd1YRAG",
        "outputId": "3e803ada-ca32-4fc6-8ad3-f4caf7cbf5b8"
      },
      "id": "qv0QABd1YRAG",
      "execution_count": 3,
      "outputs": [
        {
          "output_type": "stream",
          "name": "stdout",
          "text": [
            "        userId  movieId  rating                         title  \\\n",
            "0           11     7481     5.0             Enemy Mine (1985)   \n",
            "1           11     1046     4.5        Beautiful Thing (1996)   \n",
            "2           11      616     4.0        Aristocats, The (1970)   \n",
            "3           11     3535     2.0        American Psycho (2000)   \n",
            "4           11     5669     5.0  Bowling for Columbine (2002)   \n",
            "...        ...      ...     ...                           ...   \n",
            "190616  138493      288     5.0   Natural Born Killers (1994)   \n",
            "190617  138493     1748     5.0              Dark City (1998)   \n",
            "190618  138493      616     4.0        Aristocats, The (1970)   \n",
            "190619  138493     1597     4.5      Conspiracy Theory (1997)   \n",
            "190620  138493     7371     5.0               Dogville (2003)   \n",
            "\n",
            "                                     genres  \n",
            "0                    Adventure|Drama|Sci-Fi  \n",
            "1                             Drama|Romance  \n",
            "2                        Animation|Children  \n",
            "3             Crime|Horror|Mystery|Thriller  \n",
            "4                               Documentary  \n",
            "...                                     ...  \n",
            "190616                Action|Crime|Thriller  \n",
            "190617  Adventure|Film-Noir|Sci-Fi|Thriller  \n",
            "190618                   Animation|Children  \n",
            "190619       Drama|Mystery|Romance|Thriller  \n",
            "190620               Drama|Mystery|Thriller  \n",
            "\n",
            "[190621 rows x 5 columns]\n"
          ]
        }
      ]
    },
    {
      "cell_type": "code",
      "source": [
        "map_user = {user: idx for idx, user in enumerate(df.userId.unique())}\n",
        "map_item = {item: idx for idx, item in enumerate(df.movieId.unique())}\n",
        "\n",
        "df['userId'] = df['userId'].map(map_user)\n",
        "df['movieId'] = df['movieId'].map(map_item)\n",
        "\n",
        "maped_movies = df[['movieId', 'title']]\n",
        "df = df[['userId', 'movieId', 'rating']]\n",
        "\n",
        "print(df)\n",
        "print(maped_movies)"
      ],
      "metadata": {
        "colab": {
          "base_uri": "https://localhost:8080/"
        },
        "id": "3nWfzQjkZSrC",
        "outputId": "fe573ff7-5873-48f8-92ed-953c1f1ff396"
      },
      "id": "3nWfzQjkZSrC",
      "execution_count": 4,
      "outputs": [
        {
          "output_type": "stream",
          "name": "stdout",
          "text": [
            "        userId  movieId  rating\n",
            "0            0        0     5.0\n",
            "1            0        1     4.5\n",
            "2            0        2     4.0\n",
            "3            0        3     2.0\n",
            "4            0        4     5.0\n",
            "...        ...      ...     ...\n",
            "190616   11089       22     5.0\n",
            "190617   11089       10     5.0\n",
            "190618   11089        2     4.0\n",
            "190619   11089       21     4.5\n",
            "190620   11089      108     5.0\n",
            "\n",
            "[190621 rows x 3 columns]\n",
            "        movieId                         title\n",
            "0             0             Enemy Mine (1985)\n",
            "1             1        Beautiful Thing (1996)\n",
            "2             2        Aristocats, The (1970)\n",
            "3             3        American Psycho (2000)\n",
            "4             4  Bowling for Columbine (2002)\n",
            "...         ...                           ...\n",
            "190616       22   Natural Born Killers (1994)\n",
            "190617       10              Dark City (1998)\n",
            "190618        2        Aristocats, The (1970)\n",
            "190619       21      Conspiracy Theory (1997)\n",
            "190620      108               Dogville (2003)\n",
            "\n",
            "[190621 rows x 2 columns]\n"
          ]
        }
      ]
    },
    {
      "cell_type": "markdown",
      "id": "b05032c2",
      "metadata": {
        "id": "b05032c2"
      },
      "source": [
        "### Obs. Nesta aula, você poderá escolher entre implementar o exercício 1 **OU** o exercício 2."
      ]
    },
    {
      "cell_type": "markdown",
      "id": "600cc2e6",
      "metadata": {
        "id": "600cc2e6"
      },
      "source": [
        "***Exercício 01:*** Implemente uma hibridização monolítica/combinação usando a seguinte heurística:\n",
        "- Uso do algoritmo ItemAtributeKNN, sendo a hibridização feita no cálculo das similaridades entre os itens.\n",
        "- Se a quantidade de usuários que avaliaram ambos os itens for maior que um limiar L1, calcule a similaridade entre esses itens usando cosseno aplicado à representação baseada em notas.\n",
        "- Caso contrário, calcule a similaridade entre os itens usando metadados (gêneros por exemplo).  \n",
        "\n",
        "Compare os resultados do algoritmo híbrido com as versões isoladas do mesmo algoritmo."
      ]
    },
    {
      "cell_type": "code",
      "execution_count": null,
      "id": "fafc2940",
      "metadata": {
        "id": "fafc2940"
      },
      "outputs": [],
      "source": [
        "# TODO"
      ]
    },
    {
      "cell_type": "markdown",
      "id": "78ae3aa0",
      "metadata": {
        "id": "78ae3aa0"
      },
      "source": [
        "***Exercício 02:*** Vamos implementar um recomendador híbrido canalizado em cascata, no cenário de ranqueamento. A ideia é que um primeiro algoritmo gere uma lista C1 de N=50 itens candidatos à recomendação para cada usuário. Em seguida, um outro recomendador irá gerar uma outra lista C2 também de N=50 itens candidatos à rcomendação para cada usuário. Por fim, o ranking final será a intersecção entre C1 e C2, sendo o score de cada itens formado pela média aritmética dos scores de cada lista. Avalie o desempenho.\n",
        "\n",
        "Dica 1: utilize o parâmetro rank_length disponível nos algoritmos de ranqueamento do CaseRecommender para especificar o tamanho N de recomendações para cada usuário.\n",
        "\n",
        "Dica 2: você pode gravar num arquivo os rankings gerados por um algoritmo para cada usuário especificando o nome do arquivo no parâmetro output_file.\n",
        "\n",
        "Dica 3: consulte a Aula 04 que contém algumas métricas de avaliação de ranqueamento. Como você irá gerar o ranking final externamente ao CaseRecommender, será necessário avaliá-lo usando funções próprias."
      ]
    },
    {
      "cell_type": "code",
      "execution_count": 5,
      "id": "a682b8c4",
      "metadata": {
        "colab": {
          "base_uri": "https://localhost:8080/"
        },
        "id": "a682b8c4",
        "outputId": "1e11cf31-9857-452e-dd1c-765582de91df"
      },
      "outputs": [
        {
          "output_type": "stream",
          "name": "stdout",
          "text": [
            "        userId  movieId  rating\n",
            "42230     2456       17     4.5\n",
            "180153   10488       33     3.0\n",
            "37837     2203       81     3.0\n",
            "46742     2728       98     2.5\n",
            "68476     3999       93     2.5\n",
            "...        ...      ...     ...\n",
            "119879    6961      109     3.0\n",
            "103694    6012       18     3.0\n",
            "131932    7665       21     4.0\n",
            "146867    8545       26     4.5\n",
            "121958    7085       12     5.0\n",
            "\n",
            "[133434 rows x 3 columns]\n",
            "        userId  movieId  rating\n",
            "36611     2131       45     3.5\n",
            "188442   10963      102     4.0\n",
            "77452     4494       86     4.0\n",
            "178362   10385       17     4.0\n",
            "107132    6208      155     1.0\n",
            "...        ...      ...     ...\n",
            "38444     2235       16     2.0\n",
            "125319    7285        2     4.0\n",
            "144432    8399       63     3.0\n",
            "107193    6213       33     5.0\n",
            "84815     4921       12     4.5\n",
            "\n",
            "[57187 rows x 3 columns]\n"
          ]
        }
      ],
      "source": [
        "# Dividindo entre treino e teste\n",
        "train, test =  train_test_split(df, test_size = 0.3, random_state = 42)\n",
        "\n",
        "train.to_csv('./dataset/train.dat', index = False, header = False, sep = '\\t')\n",
        "test.to_csv('./dataset/test.dat', index = False, header = False, sep = '\\t')\n",
        "\n",
        "print(train)\n",
        "print(test)"
      ]
    },
    {
      "cell_type": "code",
      "source": [
        "# Gerando a lista C1 com BprMF\n",
        "BprMF(\n",
        "\n",
        "      train_file = './dataset/train.dat',\n",
        "      test_file = './dataset/test.dat',\n",
        "      output_file = './dataset/C1.dat',\n",
        "      rank_length = 50,\n",
        "      factors = 10\n",
        "\n",
        ").compute()"
      ],
      "metadata": {
        "colab": {
          "base_uri": "https://localhost:8080/"
        },
        "id": "mR-66Z7UbQma",
        "outputId": "f1d8549f-0b2b-468b-fc4e-357c9f7a3b34"
      },
      "id": "mR-66Z7UbQma",
      "execution_count": 97,
      "outputs": [
        {
          "output_type": "stream",
          "name": "stdout",
          "text": [
            "[Case Recommender: Item Recommendation > BPRMF]\n",
            "\n",
            "train data:: 11090 users and 409 items (133434 interactions) | sparsity:: 97.06%\n",
            "test data:: 10979 users and 352 items (57187 interactions) | sparsity:: 98.52%\n",
            "\n",
            "training_time:: 141.750314 sec\n",
            "prediction_time:: 4.430203 sec\n",
            "\n",
            "\n",
            "Eval:: PREC@1: 0.448857 PREC@3: 0.347421 PREC@5: 0.303106 PREC@10: 0.237481 RECALL@1: 0.10181 RECALL@3: 0.226366 RECALL@5: 0.322817 RECALL@10: 0.489179 MAP@1: 0.448857 MAP@3: 0.551044 MAP@5: 0.549222 MAP@10: 0.508833 NDCG@1: 0.448857 NDCG@3: 0.646445 NDCG@5: 0.655917 NDCG@10: 0.635182 \n"
          ]
        }
      ]
    },
    {
      "cell_type": "code",
      "source": [
        "# Gerando a lista C2 com itemKnn\n",
        "ItemKNN(\n",
        "\n",
        "      train_file = './dataset/train.csv',\n",
        "      test_file = './dataset/test.csv',\n",
        "      output_file = './dataset/C2.dat',\n",
        "      rank_length = 50\n",
        "\n",
        ").compute()"
      ],
      "metadata": {
        "colab": {
          "base_uri": "https://localhost:8080/"
        },
        "id": "e0RZTCrxh-Ff",
        "outputId": "6289a731-7aba-408a-e24f-2476eadcab75"
      },
      "id": "e0RZTCrxh-Ff",
      "execution_count": 98,
      "outputs": [
        {
          "output_type": "stream",
          "name": "stdout",
          "text": [
            "[Case Recommender: Item Recommendation > ItemKNN Algorithm]\n",
            "\n",
            "train data:: 11090 users and 409 items (133434 interactions) | sparsity:: 97.06%\n",
            "test data:: 10979 users and 352 items (57187 interactions) | sparsity:: 98.52%\n",
            "\n",
            "training_time:: 1.210406 sec\n",
            "prediction_time:: 54.784863 sec\n",
            "\n",
            "\n",
            "Eval:: PREC@1: 0.519355 PREC@3: 0.392082 PREC@5: 0.331451 PREC@10: 0.252764 RECALL@1: 0.119481 RECALL@3: 0.256537 RECALL@5: 0.351709 RECALL@10: 0.520371 MAP@1: 0.519355 MAP@3: 0.609876 MAP@5: 0.602802 MAP@10: 0.553398 NDCG@1: 0.519355 NDCG@3: 0.695422 NDCG@5: 0.697392 NDCG@10: 0.67019 \n"
          ]
        }
      ]
    },
    {
      "cell_type": "code",
      "source": [
        "c1 = pd.read_csv('./dataset/C1.dat', sep = '\\t', names = ['userId', 'movieId', 'score_c1',])\n",
        "c2 = pd.read_csv('./dataset/C2.dat', sep = '\\t', names = ['userId', 'movieId', 'score_c2',])\n",
        "\n",
        "print(c1)\n",
        "print(c2)"
      ],
      "metadata": {
        "colab": {
          "base_uri": "https://localhost:8080/"
        },
        "id": "_1Uy4LmEhDE-",
        "outputId": "dd16d53f-2162-493d-d432-e9dd620c6d0d"
      },
      "id": "_1Uy4LmEhDE-",
      "execution_count": 6,
      "outputs": [
        {
          "output_type": "stream",
          "name": "stdout",
          "text": [
            "        userId  movieId  score_c1\n",
            "0            0       12  7.623054\n",
            "1            0       53  7.604010\n",
            "2            0       54  7.089645\n",
            "3            0       58  7.075533\n",
            "4            0       57  7.045490\n",
            "...        ...      ...       ...\n",
            "554495   11089       85  3.062658\n",
            "554496   11089       15  3.060329\n",
            "554497   11089       50  3.052280\n",
            "554498   11089       26  2.966875\n",
            "554499   11089       70  2.938511\n",
            "\n",
            "[554500 rows x 3 columns]\n",
            "        userId  movieId  score_c2\n",
            "0            0       12  2.105752\n",
            "1            0       19  2.033722\n",
            "2            0       22  1.753062\n",
            "3            0       30  1.731572\n",
            "4            0       57  1.582416\n",
            "...        ...      ...       ...\n",
            "554495   11089       84  0.444308\n",
            "554496   11089       70  0.417550\n",
            "554497   11089       67  0.411513\n",
            "554498   11089       34  0.403456\n",
            "554499   11089      131  0.399002\n",
            "\n",
            "[554500 rows x 3 columns]\n"
          ]
        }
      ]
    },
    {
      "cell_type": "code",
      "source": [
        "hybrid = pd.merge(c1, c2, how = 'inner', on = ['userId', 'movieId'])\n",
        "\n",
        "hybrid['final_score'] = (hybrid['score_c1'] + hybrid['score_c2']) / 2\n",
        "\n",
        "hybrid = hybrid.sort_values( ['userId', 'final_score'], ascending = [True, False] )\n",
        "\n",
        "# hybrid = hybrid.merge(maped_movies, how='left', on='movieId')\n",
        "\n",
        "print(hybrid)"
      ],
      "metadata": {
        "colab": {
          "base_uri": "https://localhost:8080/"
        },
        "id": "gV5WGJggjadM",
        "outputId": "a84e6aa0-528a-4255-d56c-673c44472485"
      },
      "id": "gV5WGJggjadM",
      "execution_count": 10,
      "outputs": [
        {
          "output_type": "stream",
          "name": "stdout",
          "text": [
            "        userId  movieId  score_c1  score_c2  final_score\n",
            "0            0       12  7.623054  2.105752     4.864403\n",
            "5            0       19  6.975483  2.033722     4.504602\n",
            "1            0       53  7.604010  1.159696     4.381853\n",
            "4            0       57  7.045490  1.582416     4.313953\n",
            "7            0       22  6.590465  1.753062     4.171763\n",
            "...        ...      ...       ...       ...          ...\n",
            "413568   11089       52  3.215318  0.580810     1.898064\n",
            "413570   11089       50  3.052280  0.700733     1.876507\n",
            "413569   11089       15  3.060329  0.692609     1.876469\n",
            "413571   11089       26  2.966875  0.643513     1.805194\n",
            "413572   11089       70  2.938511  0.417550     1.678030\n",
            "\n",
            "[413573 rows x 5 columns]\n"
          ]
        }
      ]
    },
    {
      "cell_type": "code",
      "source": [
        "test = pd.read_csv('./dataset/test.dat', sep = '\\t', names = ['userId', 'movieId', 'rating'])\n",
        "\n",
        "ground_truth = test.groupby('userId')['movieId'].apply(list).to_dict()\n",
        "\n",
        "# Testando para o usuário 10\n",
        "if 10 in ground_truth:\n",
        "\n",
        "  print(f\"Itens relevantes para o usuário 10: {ground_truth[10]}\")"
      ],
      "metadata": {
        "colab": {
          "base_uri": "https://localhost:8080/"
        },
        "id": "K1PTHi8HnQOd",
        "outputId": "d1fd657f-4a88-4f70-efe3-0986882ff3a2"
      },
      "id": "K1PTHi8HnQOd",
      "execution_count": 23,
      "outputs": [
        {
          "output_type": "stream",
          "name": "stdout",
          "text": [
            "Itens relevantes para o usuário 10: [63, 28, 53]\n"
          ]
        }
      ]
    },
    {
      "cell_type": "code",
      "source": [
        "# Métricas de avaliação\n",
        "def precision_at_k(recommended_items, ground_truth, k):\n",
        "\n",
        "  recs_at_k = recommended_items[:k]\n",
        "  intersection = set(recs_at_k) & set(ground_truth)\n",
        "  return len(intersection) / k\n",
        "\n",
        "def recall_at_k(recommended_items, ground_truth, k):\n",
        "\n",
        "  recs_at_k = recommended_items[:k]\n",
        "  intersection = set(recs_at_k) & set(ground_truth)\n",
        "\n",
        "  if len(ground_truth) == 0:\n",
        "    return 0\n",
        "\n",
        "  return len(intersection) / len(ground_truth)\n",
        "\n",
        "hybrid_grouped = hybrid.groupby('userId')['movieId'].apply(list).to_dict()"
      ],
      "metadata": {
        "id": "F4JXtf_r5t5o"
      },
      "id": "F4JXtf_r5t5o",
      "execution_count": 24,
      "outputs": []
    },
    {
      "cell_type": "code",
      "source": [
        "# Testar as métricas\n",
        "k = 50\n",
        "precisions = []\n",
        "recalls = []\n",
        "\n",
        "for user_id, true_items in ground_truth.items():\n",
        "\n",
        "  if user_id in hybrid_grouped:\n",
        "\n",
        "    recommended_items = hybrid_grouped[user_id]\n",
        "    precisions.append(precision_at_k(recommended_items, true_items, k))\n",
        "    recalls.append(recall_at_k(recommended_items, true_items, k))\n",
        "\n",
        "mean_precision = np.mean(precisions) if precisions else 0\n",
        "mean_recall = np.mean(recalls) if recalls else 0\n",
        "\n",
        "print(f\"Avaliação do Modelo Híbrido (K={k}):\")\n",
        "print(f\"Precision@{k}: {mean_precision}\")\n",
        "print(f\"Recall@{k}: {mean_recall}\")"
      ],
      "metadata": {
        "colab": {
          "base_uri": "https://localhost:8080/"
        },
        "id": "VDcf6ftS60T-",
        "outputId": "ea737737-3d8e-4a0c-bbbe-048be6fcebcc"
      },
      "id": "VDcf6ftS60T-",
      "execution_count": 22,
      "outputs": [
        {
          "output_type": "stream",
          "name": "stdout",
          "text": [
            "Avaliação do Modelo Híbrido (K=50):\n",
            "Precision@50: 0.0855742781674105\n",
            "Recall@50: 0.8465832943047771\n"
          ]
        }
      ]
    },
    {
      "cell_type": "code",
      "source": [
        "# Testar as métricas\n",
        "k = 20\n",
        "precisions = []\n",
        "recalls = []\n",
        "\n",
        "for user_id, true_items in ground_truth.items():\n",
        "\n",
        "  if user_id in hybrid_grouped:\n",
        "\n",
        "    recommended_items = hybrid_grouped[user_id]\n",
        "    precisions.append(precision_at_k(recommended_items, true_items, k))\n",
        "    recalls.append(recall_at_k(recommended_items, true_items, k))\n",
        "\n",
        "mean_precision = np.mean(precisions) if precisions else 0\n",
        "mean_recall = np.mean(recalls) if recalls else 0\n",
        "\n",
        "print(f\"Avaliação do Modelo Híbrido (K={k}):\")\n",
        "print(f\"Precision@{k}: {mean_precision}\")\n",
        "print(f\"Recall@{k}: {mean_recall}\")"
      ],
      "metadata": {
        "colab": {
          "base_uri": "https://localhost:8080/"
        },
        "id": "Y0HP0chb9F3i",
        "outputId": "448d813b-c1e6-42d1-8196-ec199689f2ea"
      },
      "id": "Y0HP0chb9F3i",
      "execution_count": 31,
      "outputs": [
        {
          "output_type": "stream",
          "name": "stdout",
          "text": [
            "Avaliação do Modelo Híbrido (K=20):\n",
            "Precision@20: 0.17512523909281355\n",
            "Recall@20: 0.703246047047353\n"
          ]
        }
      ]
    }
  ],
  "metadata": {
    "kernelspec": {
      "display_name": "Python 3 (ipykernel)",
      "language": "python",
      "name": "python3"
    },
    "language_info": {
      "codemirror_mode": {
        "name": "ipython",
        "version": 3
      },
      "file_extension": ".py",
      "mimetype": "text/x-python",
      "name": "python",
      "nbconvert_exporter": "python",
      "pygments_lexer": "ipython3",
      "version": "3.8.5"
    },
    "colab": {
      "provenance": []
    }
  },
  "nbformat": 4,
  "nbformat_minor": 5
}