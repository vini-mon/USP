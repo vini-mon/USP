{
  "cells": [
    {
      "cell_type": "markdown",
      "id": "e6a1558b",
      "metadata": {
        "id": "e6a1558b"
      },
      "source": [
        "## Aula 02 - Exercícios"
      ]
    },
    {
      "cell_type": "code",
      "execution_count": 3,
      "id": "8a724b78",
      "metadata": {
        "id": "8a724b78"
      },
      "outputs": [],
      "source": [
        "import pandas as pd\n",
        "import numpy as np"
      ]
    },
    {
      "cell_type": "markdown",
      "id": "41cbe675",
      "metadata": {
        "id": "41cbe675"
      },
      "source": [
        "### Importar base de dados"
      ]
    },
    {
      "cell_type": "code",
      "execution_count": 4,
      "id": "e5b8fe4c",
      "metadata": {
        "colab": {
          "base_uri": "https://localhost:8080/"
        },
        "id": "e5b8fe4c",
        "outputId": "9f8d4e6b-9b3f-4fa4-9d9b-e288c218c42f"
      },
      "outputs": [
        {
          "output_type": "stream",
          "name": "stdout",
          "text": [
            "--2025-08-18 20:18:48--  https://github.com/mmanzato/MBABigData/raw/master/ml-20m-compact.tar.gz\n",
            "Resolving github.com (github.com)... 140.82.114.4\n",
            "Connecting to github.com (github.com)|140.82.114.4|:443... connected.\n",
            "HTTP request sent, awaiting response... 302 Found\n",
            "Location: https://raw.githubusercontent.com/mmanzato/MBABigData/master/ml-20m-compact.tar.gz [following]\n",
            "--2025-08-18 20:18:49--  https://raw.githubusercontent.com/mmanzato/MBABigData/master/ml-20m-compact.tar.gz\n",
            "Resolving raw.githubusercontent.com (raw.githubusercontent.com)... 185.199.108.133, 185.199.109.133, 185.199.110.133, ...\n",
            "Connecting to raw.githubusercontent.com (raw.githubusercontent.com)|185.199.108.133|:443... connected.\n",
            "HTTP request sent, awaiting response... 200 OK\n",
            "Length: 65019041 (62M) [application/octet-stream]\n",
            "Saving to: ‘ml-20m-compact.tar.gz’\n",
            "\n",
            "ml-20m-compact.tar. 100%[===================>]  62.01M   292MB/s    in 0.2s    \n",
            "\n",
            "2025-08-18 20:19:03 (292 MB/s) - ‘ml-20m-compact.tar.gz’ saved [65019041/65019041]\n",
            "\n",
            "dataset/\n",
            "dataset/tags_sample.csv\n",
            "dataset/._.DS_Store\n",
            "dataset/.DS_Store\n",
            "dataset/movies_sample.csv\n",
            "dataset/._genome-tags.csv\n",
            "dataset/genome-tags.csv\n",
            "dataset/._ml-youtube.csv\n",
            "dataset/ml-youtube.csv\n",
            "dataset/._genome-scores.csv\n",
            "dataset/genome-scores.csv\n",
            "dataset/ratings_sample.csv\n"
          ]
        }
      ],
      "source": [
        "!wget https://github.com/mmanzato/MBABigData/raw/master/ml-20m-compact.tar.gz\n",
        "!tar -xvzf ml-20m-compact.tar.gz"
      ]
    },
    {
      "cell_type": "code",
      "execution_count": 5,
      "id": "199cd619",
      "metadata": {
        "colab": {
          "base_uri": "https://localhost:8080/",
          "height": 424
        },
        "id": "199cd619",
        "outputId": "9100a4dc-134e-45b9-b7d5-e1dca4b699cc"
      },
      "outputs": [
        {
          "output_type": "execute_result",
          "data": {
            "text/plain": [
              "        userId  movieId  rating                         title\n",
              "0           11     7481     5.0             Enemy Mine (1985)\n",
              "1           11     1046     4.5        Beautiful Thing (1996)\n",
              "2           11      616     4.0        Aristocats, The (1970)\n",
              "3           11     3535     2.0        American Psycho (2000)\n",
              "4           11     5669     5.0  Bowling for Columbine (2002)\n",
              "...        ...      ...     ...                           ...\n",
              "190616  138493      288     5.0   Natural Born Killers (1994)\n",
              "190617  138493     1748     5.0              Dark City (1998)\n",
              "190618  138493      616     4.0        Aristocats, The (1970)\n",
              "190619  138493     1597     4.5      Conspiracy Theory (1997)\n",
              "190620  138493     7371     5.0               Dogville (2003)\n",
              "\n",
              "[190621 rows x 4 columns]"
            ],
            "text/html": [
              "\n",
              "  <div id=\"df-aff2a920-35de-48f5-b10b-2e00be492ddb\" class=\"colab-df-container\">\n",
              "    <div>\n",
              "<style scoped>\n",
              "    .dataframe tbody tr th:only-of-type {\n",
              "        vertical-align: middle;\n",
              "    }\n",
              "\n",
              "    .dataframe tbody tr th {\n",
              "        vertical-align: top;\n",
              "    }\n",
              "\n",
              "    .dataframe thead th {\n",
              "        text-align: right;\n",
              "    }\n",
              "</style>\n",
              "<table border=\"1\" class=\"dataframe\">\n",
              "  <thead>\n",
              "    <tr style=\"text-align: right;\">\n",
              "      <th></th>\n",
              "      <th>userId</th>\n",
              "      <th>movieId</th>\n",
              "      <th>rating</th>\n",
              "      <th>title</th>\n",
              "    </tr>\n",
              "  </thead>\n",
              "  <tbody>\n",
              "    <tr>\n",
              "      <th>0</th>\n",
              "      <td>11</td>\n",
              "      <td>7481</td>\n",
              "      <td>5.0</td>\n",
              "      <td>Enemy Mine (1985)</td>\n",
              "    </tr>\n",
              "    <tr>\n",
              "      <th>1</th>\n",
              "      <td>11</td>\n",
              "      <td>1046</td>\n",
              "      <td>4.5</td>\n",
              "      <td>Beautiful Thing (1996)</td>\n",
              "    </tr>\n",
              "    <tr>\n",
              "      <th>2</th>\n",
              "      <td>11</td>\n",
              "      <td>616</td>\n",
              "      <td>4.0</td>\n",
              "      <td>Aristocats, The (1970)</td>\n",
              "    </tr>\n",
              "    <tr>\n",
              "      <th>3</th>\n",
              "      <td>11</td>\n",
              "      <td>3535</td>\n",
              "      <td>2.0</td>\n",
              "      <td>American Psycho (2000)</td>\n",
              "    </tr>\n",
              "    <tr>\n",
              "      <th>4</th>\n",
              "      <td>11</td>\n",
              "      <td>5669</td>\n",
              "      <td>5.0</td>\n",
              "      <td>Bowling for Columbine (2002)</td>\n",
              "    </tr>\n",
              "    <tr>\n",
              "      <th>...</th>\n",
              "      <td>...</td>\n",
              "      <td>...</td>\n",
              "      <td>...</td>\n",
              "      <td>...</td>\n",
              "    </tr>\n",
              "    <tr>\n",
              "      <th>190616</th>\n",
              "      <td>138493</td>\n",
              "      <td>288</td>\n",
              "      <td>5.0</td>\n",
              "      <td>Natural Born Killers (1994)</td>\n",
              "    </tr>\n",
              "    <tr>\n",
              "      <th>190617</th>\n",
              "      <td>138493</td>\n",
              "      <td>1748</td>\n",
              "      <td>5.0</td>\n",
              "      <td>Dark City (1998)</td>\n",
              "    </tr>\n",
              "    <tr>\n",
              "      <th>190618</th>\n",
              "      <td>138493</td>\n",
              "      <td>616</td>\n",
              "      <td>4.0</td>\n",
              "      <td>Aristocats, The (1970)</td>\n",
              "    </tr>\n",
              "    <tr>\n",
              "      <th>190619</th>\n",
              "      <td>138493</td>\n",
              "      <td>1597</td>\n",
              "      <td>4.5</td>\n",
              "      <td>Conspiracy Theory (1997)</td>\n",
              "    </tr>\n",
              "    <tr>\n",
              "      <th>190620</th>\n",
              "      <td>138493</td>\n",
              "      <td>7371</td>\n",
              "      <td>5.0</td>\n",
              "      <td>Dogville (2003)</td>\n",
              "    </tr>\n",
              "  </tbody>\n",
              "</table>\n",
              "<p>190621 rows × 4 columns</p>\n",
              "</div>\n",
              "    <div class=\"colab-df-buttons\">\n",
              "\n",
              "  <div class=\"colab-df-container\">\n",
              "    <button class=\"colab-df-convert\" onclick=\"convertToInteractive('df-aff2a920-35de-48f5-b10b-2e00be492ddb')\"\n",
              "            title=\"Convert this dataframe to an interactive table.\"\n",
              "            style=\"display:none;\">\n",
              "\n",
              "  <svg xmlns=\"http://www.w3.org/2000/svg\" height=\"24px\" viewBox=\"0 -960 960 960\">\n",
              "    <path d=\"M120-120v-720h720v720H120Zm60-500h600v-160H180v160Zm220 220h160v-160H400v160Zm0 220h160v-160H400v160ZM180-400h160v-160H180v160Zm440 0h160v-160H620v160ZM180-180h160v-160H180v160Zm440 0h160v-160H620v160Z\"/>\n",
              "  </svg>\n",
              "    </button>\n",
              "\n",
              "  <style>\n",
              "    .colab-df-container {\n",
              "      display:flex;\n",
              "      gap: 12px;\n",
              "    }\n",
              "\n",
              "    .colab-df-convert {\n",
              "      background-color: #E8F0FE;\n",
              "      border: none;\n",
              "      border-radius: 50%;\n",
              "      cursor: pointer;\n",
              "      display: none;\n",
              "      fill: #1967D2;\n",
              "      height: 32px;\n",
              "      padding: 0 0 0 0;\n",
              "      width: 32px;\n",
              "    }\n",
              "\n",
              "    .colab-df-convert:hover {\n",
              "      background-color: #E2EBFA;\n",
              "      box-shadow: 0px 1px 2px rgba(60, 64, 67, 0.3), 0px 1px 3px 1px rgba(60, 64, 67, 0.15);\n",
              "      fill: #174EA6;\n",
              "    }\n",
              "\n",
              "    .colab-df-buttons div {\n",
              "      margin-bottom: 4px;\n",
              "    }\n",
              "\n",
              "    [theme=dark] .colab-df-convert {\n",
              "      background-color: #3B4455;\n",
              "      fill: #D2E3FC;\n",
              "    }\n",
              "\n",
              "    [theme=dark] .colab-df-convert:hover {\n",
              "      background-color: #434B5C;\n",
              "      box-shadow: 0px 1px 3px 1px rgba(0, 0, 0, 0.15);\n",
              "      filter: drop-shadow(0px 1px 2px rgba(0, 0, 0, 0.3));\n",
              "      fill: #FFFFFF;\n",
              "    }\n",
              "  </style>\n",
              "\n",
              "    <script>\n",
              "      const buttonEl =\n",
              "        document.querySelector('#df-aff2a920-35de-48f5-b10b-2e00be492ddb button.colab-df-convert');\n",
              "      buttonEl.style.display =\n",
              "        google.colab.kernel.accessAllowed ? 'block' : 'none';\n",
              "\n",
              "      async function convertToInteractive(key) {\n",
              "        const element = document.querySelector('#df-aff2a920-35de-48f5-b10b-2e00be492ddb');\n",
              "        const dataTable =\n",
              "          await google.colab.kernel.invokeFunction('convertToInteractive',\n",
              "                                                    [key], {});\n",
              "        if (!dataTable) return;\n",
              "\n",
              "        const docLinkHtml = 'Like what you see? Visit the ' +\n",
              "          '<a target=\"_blank\" href=https://colab.research.google.com/notebooks/data_table.ipynb>data table notebook</a>'\n",
              "          + ' to learn more about interactive tables.';\n",
              "        element.innerHTML = '';\n",
              "        dataTable['output_type'] = 'display_data';\n",
              "        await google.colab.output.renderOutput(dataTable, element);\n",
              "        const docLink = document.createElement('div');\n",
              "        docLink.innerHTML = docLinkHtml;\n",
              "        element.appendChild(docLink);\n",
              "      }\n",
              "    </script>\n",
              "  </div>\n",
              "\n",
              "\n",
              "    <div id=\"df-724e4d3c-ae8c-430f-9db0-cad4489036df\">\n",
              "      <button class=\"colab-df-quickchart\" onclick=\"quickchart('df-724e4d3c-ae8c-430f-9db0-cad4489036df')\"\n",
              "                title=\"Suggest charts\"\n",
              "                style=\"display:none;\">\n",
              "\n",
              "<svg xmlns=\"http://www.w3.org/2000/svg\" height=\"24px\"viewBox=\"0 0 24 24\"\n",
              "     width=\"24px\">\n",
              "    <g>\n",
              "        <path d=\"M19 3H5c-1.1 0-2 .9-2 2v14c0 1.1.9 2 2 2h14c1.1 0 2-.9 2-2V5c0-1.1-.9-2-2-2zM9 17H7v-7h2v7zm4 0h-2V7h2v10zm4 0h-2v-4h2v4z\"/>\n",
              "    </g>\n",
              "</svg>\n",
              "      </button>\n",
              "\n",
              "<style>\n",
              "  .colab-df-quickchart {\n",
              "      --bg-color: #E8F0FE;\n",
              "      --fill-color: #1967D2;\n",
              "      --hover-bg-color: #E2EBFA;\n",
              "      --hover-fill-color: #174EA6;\n",
              "      --disabled-fill-color: #AAA;\n",
              "      --disabled-bg-color: #DDD;\n",
              "  }\n",
              "\n",
              "  [theme=dark] .colab-df-quickchart {\n",
              "      --bg-color: #3B4455;\n",
              "      --fill-color: #D2E3FC;\n",
              "      --hover-bg-color: #434B5C;\n",
              "      --hover-fill-color: #FFFFFF;\n",
              "      --disabled-bg-color: #3B4455;\n",
              "      --disabled-fill-color: #666;\n",
              "  }\n",
              "\n",
              "  .colab-df-quickchart {\n",
              "    background-color: var(--bg-color);\n",
              "    border: none;\n",
              "    border-radius: 50%;\n",
              "    cursor: pointer;\n",
              "    display: none;\n",
              "    fill: var(--fill-color);\n",
              "    height: 32px;\n",
              "    padding: 0;\n",
              "    width: 32px;\n",
              "  }\n",
              "\n",
              "  .colab-df-quickchart:hover {\n",
              "    background-color: var(--hover-bg-color);\n",
              "    box-shadow: 0 1px 2px rgba(60, 64, 67, 0.3), 0 1px 3px 1px rgba(60, 64, 67, 0.15);\n",
              "    fill: var(--button-hover-fill-color);\n",
              "  }\n",
              "\n",
              "  .colab-df-quickchart-complete:disabled,\n",
              "  .colab-df-quickchart-complete:disabled:hover {\n",
              "    background-color: var(--disabled-bg-color);\n",
              "    fill: var(--disabled-fill-color);\n",
              "    box-shadow: none;\n",
              "  }\n",
              "\n",
              "  .colab-df-spinner {\n",
              "    border: 2px solid var(--fill-color);\n",
              "    border-color: transparent;\n",
              "    border-bottom-color: var(--fill-color);\n",
              "    animation:\n",
              "      spin 1s steps(1) infinite;\n",
              "  }\n",
              "\n",
              "  @keyframes spin {\n",
              "    0% {\n",
              "      border-color: transparent;\n",
              "      border-bottom-color: var(--fill-color);\n",
              "      border-left-color: var(--fill-color);\n",
              "    }\n",
              "    20% {\n",
              "      border-color: transparent;\n",
              "      border-left-color: var(--fill-color);\n",
              "      border-top-color: var(--fill-color);\n",
              "    }\n",
              "    30% {\n",
              "      border-color: transparent;\n",
              "      border-left-color: var(--fill-color);\n",
              "      border-top-color: var(--fill-color);\n",
              "      border-right-color: var(--fill-color);\n",
              "    }\n",
              "    40% {\n",
              "      border-color: transparent;\n",
              "      border-right-color: var(--fill-color);\n",
              "      border-top-color: var(--fill-color);\n",
              "    }\n",
              "    60% {\n",
              "      border-color: transparent;\n",
              "      border-right-color: var(--fill-color);\n",
              "    }\n",
              "    80% {\n",
              "      border-color: transparent;\n",
              "      border-right-color: var(--fill-color);\n",
              "      border-bottom-color: var(--fill-color);\n",
              "    }\n",
              "    90% {\n",
              "      border-color: transparent;\n",
              "      border-bottom-color: var(--fill-color);\n",
              "    }\n",
              "  }\n",
              "</style>\n",
              "\n",
              "      <script>\n",
              "        async function quickchart(key) {\n",
              "          const quickchartButtonEl =\n",
              "            document.querySelector('#' + key + ' button');\n",
              "          quickchartButtonEl.disabled = true;  // To prevent multiple clicks.\n",
              "          quickchartButtonEl.classList.add('colab-df-spinner');\n",
              "          try {\n",
              "            const charts = await google.colab.kernel.invokeFunction(\n",
              "                'suggestCharts', [key], {});\n",
              "          } catch (error) {\n",
              "            console.error('Error during call to suggestCharts:', error);\n",
              "          }\n",
              "          quickchartButtonEl.classList.remove('colab-df-spinner');\n",
              "          quickchartButtonEl.classList.add('colab-df-quickchart-complete');\n",
              "        }\n",
              "        (() => {\n",
              "          let quickchartButtonEl =\n",
              "            document.querySelector('#df-724e4d3c-ae8c-430f-9db0-cad4489036df button');\n",
              "          quickchartButtonEl.style.display =\n",
              "            google.colab.kernel.accessAllowed ? 'block' : 'none';\n",
              "        })();\n",
              "      </script>\n",
              "    </div>\n",
              "\n",
              "  <div id=\"id_ed486b98-d029-49cd-87ec-96cb67369ebf\">\n",
              "    <style>\n",
              "      .colab-df-generate {\n",
              "        background-color: #E8F0FE;\n",
              "        border: none;\n",
              "        border-radius: 50%;\n",
              "        cursor: pointer;\n",
              "        display: none;\n",
              "        fill: #1967D2;\n",
              "        height: 32px;\n",
              "        padding: 0 0 0 0;\n",
              "        width: 32px;\n",
              "      }\n",
              "\n",
              "      .colab-df-generate:hover {\n",
              "        background-color: #E2EBFA;\n",
              "        box-shadow: 0px 1px 2px rgba(60, 64, 67, 0.3), 0px 1px 3px 1px rgba(60, 64, 67, 0.15);\n",
              "        fill: #174EA6;\n",
              "      }\n",
              "\n",
              "      [theme=dark] .colab-df-generate {\n",
              "        background-color: #3B4455;\n",
              "        fill: #D2E3FC;\n",
              "      }\n",
              "\n",
              "      [theme=dark] .colab-df-generate:hover {\n",
              "        background-color: #434B5C;\n",
              "        box-shadow: 0px 1px 3px 1px rgba(0, 0, 0, 0.15);\n",
              "        filter: drop-shadow(0px 1px 2px rgba(0, 0, 0, 0.3));\n",
              "        fill: #FFFFFF;\n",
              "      }\n",
              "    </style>\n",
              "    <button class=\"colab-df-generate\" onclick=\"generateWithVariable('df')\"\n",
              "            title=\"Generate code using this dataframe.\"\n",
              "            style=\"display:none;\">\n",
              "\n",
              "  <svg xmlns=\"http://www.w3.org/2000/svg\" height=\"24px\"viewBox=\"0 0 24 24\"\n",
              "       width=\"24px\">\n",
              "    <path d=\"M7,19H8.4L18.45,9,17,7.55,7,17.6ZM5,21V16.75L18.45,3.32a2,2,0,0,1,2.83,0l1.4,1.43a1.91,1.91,0,0,1,.58,1.4,1.91,1.91,0,0,1-.58,1.4L9.25,21ZM18.45,9,17,7.55Zm-12,3A5.31,5.31,0,0,0,4.9,8.1,5.31,5.31,0,0,0,1,6.5,5.31,5.31,0,0,0,4.9,4.9,5.31,5.31,0,0,0,6.5,1,5.31,5.31,0,0,0,8.1,4.9,5.31,5.31,0,0,0,12,6.5,5.46,5.46,0,0,0,6.5,12Z\"/>\n",
              "  </svg>\n",
              "    </button>\n",
              "    <script>\n",
              "      (() => {\n",
              "      const buttonEl =\n",
              "        document.querySelector('#id_ed486b98-d029-49cd-87ec-96cb67369ebf button.colab-df-generate');\n",
              "      buttonEl.style.display =\n",
              "        google.colab.kernel.accessAllowed ? 'block' : 'none';\n",
              "\n",
              "      buttonEl.onclick = () => {\n",
              "        google.colab.notebook.generateWithVariable('df');\n",
              "      }\n",
              "      })();\n",
              "    </script>\n",
              "  </div>\n",
              "\n",
              "    </div>\n",
              "  </div>\n"
            ],
            "application/vnd.google.colaboratory.intrinsic+json": {
              "type": "dataframe",
              "variable_name": "df"
            }
          },
          "metadata": {},
          "execution_count": 5
        }
      ],
      "source": [
        "movies = pd.read_csv('./dataset/movies_sample.csv')\n",
        "ratings = pd.read_csv('./dataset/ratings_sample.csv')\n",
        "df = ratings[['userId', 'movieId', 'rating']]\n",
        "df = df.merge(movies[['movieId', 'title']])\n",
        "df"
      ]
    },
    {
      "cell_type": "markdown",
      "id": "99a1b6d0",
      "metadata": {
        "id": "99a1b6d0"
      },
      "source": [
        "### Mapeamento de ids"
      ]
    },
    {
      "cell_type": "code",
      "execution_count": 6,
      "id": "771522e6",
      "metadata": {
        "id": "771522e6"
      },
      "outputs": [],
      "source": [
        "map_users = {user: idx for idx, user in enumerate(df.userId.unique())}\n",
        "map_items = {item: idx for idx, item in enumerate(df.movieId.unique())}\n",
        "df['userId'] = df['userId'].map(map_users)\n",
        "df['movieId'] = df['movieId'].map(map_items)\n",
        "map_title = {}\n",
        "\n",
        "for _, row in df.iterrows():\n",
        "    map_title[row.movieId] = row.title\n"
      ]
    },
    {
      "cell_type": "markdown",
      "id": "ecc005a1",
      "metadata": {
        "id": "ecc005a1"
      },
      "source": [
        "### Divisão da base em treino e teste"
      ]
    },
    {
      "cell_type": "code",
      "execution_count": 7,
      "id": "b1a6f771",
      "metadata": {
        "id": "b1a6f771"
      },
      "outputs": [],
      "source": [
        "from sklearn.model_selection import train_test_split\n",
        "train, test = train_test_split(df, test_size=.2, random_state=2)"
      ]
    },
    {
      "cell_type": "markdown",
      "id": "0be522cd",
      "metadata": {
        "id": "0be522cd"
      },
      "source": [
        "**Exercício 01**: Considere o modelo SVD++ visto no final da aula de FC - parte 2. Uma das extensões desse modelo em relação ao SVD otimizado é que ele considera a lista de itens que o usuário forneceu feedback implícito (por exemplo, antes de fornecer uma nota a um filme, ele \"navegou\" por outros filmes, sem dar nota). Podemos simular essa navegação com a base de dados fornecida considerando como feedback implícito de cada usuário o conjunto de itens que ele avaliou, porém descartando as notas."
      ]
    },
    {
      "cell_type": "markdown",
      "id": "87f9f1da",
      "metadata": {
        "id": "87f9f1da"
      },
      "source": [
        "***a)*** Implemente a função de treinamento do modelo SVD++."
      ]
    },
    {
      "cell_type": "code",
      "execution_count": 25,
      "id": "e2d941d8",
      "metadata": {
        "colab": {
          "base_uri": "https://localhost:8080/"
        },
        "id": "e2d941d8",
        "outputId": "8de2d192-bad3-4fdb-cf5c-295141d848f1"
      },
      "outputs": [
        {
          "output_type": "stream",
          "name": "stdout",
          "text": [
            "* Iniciando o treinamento do SVD++\n"
          ]
        },
        {
          "output_type": "stream",
          "name": "stderr",
          "text": [
            "Época 1/200: 100%|██████████| 152496/152496 [00:30<00:00, 4970.18it/s]\n"
          ]
        },
        {
          "output_type": "stream",
          "name": "stdout",
          "text": [
            "RMSE de Treino: 0.9084\n"
          ]
        },
        {
          "output_type": "stream",
          "name": "stderr",
          "text": [
            "Época 2/200: 100%|██████████| 152496/152496 [00:25<00:00, 5975.57it/s]\n"
          ]
        },
        {
          "output_type": "stream",
          "name": "stdout",
          "text": [
            "RMSE de Treino: 0.8713\n"
          ]
        },
        {
          "output_type": "stream",
          "name": "stderr",
          "text": [
            "Época 3/200: 100%|██████████| 152496/152496 [00:27<00:00, 5593.63it/s]\n"
          ]
        },
        {
          "output_type": "stream",
          "name": "stdout",
          "text": [
            "RMSE de Treino: 0.8502\n"
          ]
        },
        {
          "output_type": "stream",
          "name": "stderr",
          "text": [
            "Época 4/200: 100%|██████████| 152496/152496 [00:25<00:00, 5950.63it/s]\n"
          ]
        },
        {
          "output_type": "stream",
          "name": "stdout",
          "text": [
            "RMSE de Treino: 0.8330\n"
          ]
        },
        {
          "output_type": "stream",
          "name": "stderr",
          "text": [
            "Época 5/200: 100%|██████████| 152496/152496 [00:25<00:00, 6025.51it/s]\n"
          ]
        },
        {
          "output_type": "stream",
          "name": "stdout",
          "text": [
            "RMSE de Treino: 0.8180\n"
          ]
        },
        {
          "output_type": "stream",
          "name": "stderr",
          "text": [
            "Época 6/200: 100%|██████████| 152496/152496 [00:25<00:00, 6004.62it/s]\n"
          ]
        },
        {
          "output_type": "stream",
          "name": "stdout",
          "text": [
            "RMSE de Treino: 0.8043\n"
          ]
        },
        {
          "output_type": "stream",
          "name": "stderr",
          "text": [
            "Época 7/200: 100%|██████████| 152496/152496 [00:26<00:00, 5815.46it/s]\n"
          ]
        },
        {
          "output_type": "stream",
          "name": "stdout",
          "text": [
            "RMSE de Treino: 0.7913\n"
          ]
        },
        {
          "output_type": "stream",
          "name": "stderr",
          "text": [
            "Época 8/200: 100%|██████████| 152496/152496 [00:25<00:00, 6002.00it/s]\n"
          ]
        },
        {
          "output_type": "stream",
          "name": "stdout",
          "text": [
            "RMSE de Treino: 0.7787\n"
          ]
        },
        {
          "output_type": "stream",
          "name": "stderr",
          "text": [
            "Época 9/200: 100%|██████████| 152496/152496 [00:25<00:00, 6000.30it/s]\n"
          ]
        },
        {
          "output_type": "stream",
          "name": "stdout",
          "text": [
            "RMSE de Treino: 0.7663\n"
          ]
        },
        {
          "output_type": "stream",
          "name": "stderr",
          "text": [
            "Época 10/200: 100%|██████████| 152496/152496 [00:25<00:00, 5984.17it/s]\n"
          ]
        },
        {
          "output_type": "stream",
          "name": "stdout",
          "text": [
            "RMSE de Treino: 0.7538\n"
          ]
        },
        {
          "output_type": "stream",
          "name": "stderr",
          "text": [
            "Época 11/200: 100%|██████████| 152496/152496 [00:26<00:00, 5810.39it/s]\n"
          ]
        },
        {
          "output_type": "stream",
          "name": "stdout",
          "text": [
            "RMSE de Treino: 0.7414\n"
          ]
        },
        {
          "output_type": "stream",
          "name": "stderr",
          "text": [
            "Época 12/200: 100%|██████████| 152496/152496 [00:25<00:00, 5907.51it/s]\n"
          ]
        },
        {
          "output_type": "stream",
          "name": "stdout",
          "text": [
            "RMSE de Treino: 0.7288\n"
          ]
        },
        {
          "output_type": "stream",
          "name": "stderr",
          "text": [
            "Época 13/200: 100%|██████████| 152496/152496 [00:25<00:00, 5963.88it/s]\n"
          ]
        },
        {
          "output_type": "stream",
          "name": "stdout",
          "text": [
            "RMSE de Treino: 0.7161\n"
          ]
        },
        {
          "output_type": "stream",
          "name": "stderr",
          "text": [
            "Época 14/200: 100%|██████████| 152496/152496 [00:25<00:00, 5962.92it/s]\n"
          ]
        },
        {
          "output_type": "stream",
          "name": "stdout",
          "text": [
            "RMSE de Treino: 0.7034\n"
          ]
        },
        {
          "output_type": "stream",
          "name": "stderr",
          "text": [
            "Época 15/200: 100%|██████████| 152496/152496 [00:25<00:00, 5984.58it/s]\n"
          ]
        },
        {
          "output_type": "stream",
          "name": "stdout",
          "text": [
            "RMSE de Treino: 0.6905\n"
          ]
        },
        {
          "output_type": "stream",
          "name": "stderr",
          "text": [
            "Época 16/200: 100%|██████████| 152496/152496 [00:26<00:00, 5865.03it/s]\n"
          ]
        },
        {
          "output_type": "stream",
          "name": "stdout",
          "text": [
            "RMSE de Treino: 0.6774\n"
          ]
        },
        {
          "output_type": "stream",
          "name": "stderr",
          "text": [
            "Época 17/200: 100%|██████████| 152496/152496 [00:25<00:00, 6010.34it/s]\n"
          ]
        },
        {
          "output_type": "stream",
          "name": "stdout",
          "text": [
            "RMSE de Treino: 0.6642\n"
          ]
        },
        {
          "output_type": "stream",
          "name": "stderr",
          "text": [
            "Época 18/200: 100%|██████████| 152496/152496 [00:25<00:00, 5985.74it/s]\n"
          ]
        },
        {
          "output_type": "stream",
          "name": "stdout",
          "text": [
            "RMSE de Treino: 0.6509\n"
          ]
        },
        {
          "output_type": "stream",
          "name": "stderr",
          "text": [
            "Época 19/200: 100%|██████████| 152496/152496 [00:25<00:00, 5984.24it/s]\n"
          ]
        },
        {
          "output_type": "stream",
          "name": "stdout",
          "text": [
            "RMSE de Treino: 0.6373\n"
          ]
        },
        {
          "output_type": "stream",
          "name": "stderr",
          "text": [
            "Época 20/200: 100%|██████████| 152496/152496 [00:25<00:00, 5903.97it/s]\n"
          ]
        },
        {
          "output_type": "stream",
          "name": "stdout",
          "text": [
            "RMSE de Treino: 0.6237\n"
          ]
        },
        {
          "output_type": "stream",
          "name": "stderr",
          "text": [
            "Época 21/200: 100%|██████████| 152496/152496 [00:25<00:00, 5932.60it/s]\n"
          ]
        },
        {
          "output_type": "stream",
          "name": "stdout",
          "text": [
            "RMSE de Treino: 0.6099\n"
          ]
        },
        {
          "output_type": "stream",
          "name": "stderr",
          "text": [
            "Época 22/200: 100%|██████████| 152496/152496 [00:25<00:00, 5987.80it/s]\n"
          ]
        },
        {
          "output_type": "stream",
          "name": "stdout",
          "text": [
            "RMSE de Treino: 0.5961\n"
          ]
        },
        {
          "output_type": "stream",
          "name": "stderr",
          "text": [
            "Época 23/200: 100%|██████████| 152496/152496 [00:25<00:00, 5953.76it/s]\n"
          ]
        },
        {
          "output_type": "stream",
          "name": "stdout",
          "text": [
            "RMSE de Treino: 0.5824\n"
          ]
        },
        {
          "output_type": "stream",
          "name": "stderr",
          "text": [
            "Época 24/200: 100%|██████████| 152496/152496 [00:25<00:00, 5935.97it/s]\n"
          ]
        },
        {
          "output_type": "stream",
          "name": "stdout",
          "text": [
            "RMSE de Treino: 0.5687\n"
          ]
        },
        {
          "output_type": "stream",
          "name": "stderr",
          "text": [
            "Época 25/200: 100%|██████████| 152496/152496 [00:26<00:00, 5844.13it/s]\n"
          ]
        },
        {
          "output_type": "stream",
          "name": "stdout",
          "text": [
            "RMSE de Treino: 0.5551\n"
          ]
        },
        {
          "output_type": "stream",
          "name": "stderr",
          "text": [
            "Época 26/200: 100%|██████████| 152496/152496 [00:25<00:00, 5969.19it/s]\n"
          ]
        },
        {
          "output_type": "stream",
          "name": "stdout",
          "text": [
            "RMSE de Treino: 0.5418\n"
          ]
        },
        {
          "output_type": "stream",
          "name": "stderr",
          "text": [
            "Época 27/200: 100%|██████████| 152496/152496 [00:25<00:00, 5966.70it/s]\n"
          ]
        },
        {
          "output_type": "stream",
          "name": "stdout",
          "text": [
            "RMSE de Treino: 0.5287\n"
          ]
        },
        {
          "output_type": "stream",
          "name": "stderr",
          "text": [
            "Época 28/200: 100%|██████████| 152496/152496 [00:25<00:00, 6015.13it/s]\n"
          ]
        },
        {
          "output_type": "stream",
          "name": "stdout",
          "text": [
            "RMSE de Treino: 0.5159\n"
          ]
        },
        {
          "output_type": "stream",
          "name": "stderr",
          "text": [
            "Época 29/200: 100%|██████████| 152496/152496 [00:25<00:00, 5959.66it/s]\n"
          ]
        },
        {
          "output_type": "stream",
          "name": "stdout",
          "text": [
            "RMSE de Treino: 0.5035\n"
          ]
        },
        {
          "output_type": "stream",
          "name": "stderr",
          "text": [
            "Época 30/200: 100%|██████████| 152496/152496 [00:25<00:00, 5923.52it/s]\n"
          ]
        },
        {
          "output_type": "stream",
          "name": "stdout",
          "text": [
            "RMSE de Treino: 0.4914\n"
          ]
        },
        {
          "output_type": "stream",
          "name": "stderr",
          "text": [
            "Época 31/200: 100%|██████████| 152496/152496 [00:25<00:00, 5980.52it/s]\n"
          ]
        },
        {
          "output_type": "stream",
          "name": "stdout",
          "text": [
            "RMSE de Treino: 0.4797\n"
          ]
        },
        {
          "output_type": "stream",
          "name": "stderr",
          "text": [
            "Época 32/200: 100%|██████████| 152496/152496 [00:25<00:00, 5996.32it/s]\n"
          ]
        },
        {
          "output_type": "stream",
          "name": "stdout",
          "text": [
            "RMSE de Treino: 0.4684\n"
          ]
        },
        {
          "output_type": "stream",
          "name": "stderr",
          "text": [
            "Época 33/200: 100%|██████████| 152496/152496 [00:25<00:00, 6020.51it/s]\n"
          ]
        },
        {
          "output_type": "stream",
          "name": "stdout",
          "text": [
            "RMSE de Treino: 0.4575\n"
          ]
        },
        {
          "output_type": "stream",
          "name": "stderr",
          "text": [
            "Época 34/200: 100%|██████████| 152496/152496 [00:26<00:00, 5854.50it/s]\n"
          ]
        },
        {
          "output_type": "stream",
          "name": "stdout",
          "text": [
            "RMSE de Treino: 0.4471\n"
          ]
        },
        {
          "output_type": "stream",
          "name": "stderr",
          "text": [
            "Época 35/200: 100%|██████████| 152496/152496 [00:25<00:00, 5975.02it/s]\n"
          ]
        },
        {
          "output_type": "stream",
          "name": "stdout",
          "text": [
            "RMSE de Treino: 0.4371\n"
          ]
        },
        {
          "output_type": "stream",
          "name": "stderr",
          "text": [
            "Época 36/200: 100%|██████████| 152496/152496 [00:25<00:00, 5993.91it/s]\n"
          ]
        },
        {
          "output_type": "stream",
          "name": "stdout",
          "text": [
            "RMSE de Treino: 0.4274\n"
          ]
        },
        {
          "output_type": "stream",
          "name": "stderr",
          "text": [
            "Época 37/200: 100%|██████████| 152496/152496 [00:25<00:00, 5993.70it/s]\n"
          ]
        },
        {
          "output_type": "stream",
          "name": "stdout",
          "text": [
            "RMSE de Treino: 0.4182\n"
          ]
        },
        {
          "output_type": "stream",
          "name": "stderr",
          "text": [
            "Época 38/200: 100%|██████████| 152496/152496 [00:25<00:00, 6023.39it/s]\n"
          ]
        },
        {
          "output_type": "stream",
          "name": "stdout",
          "text": [
            "RMSE de Treino: 0.4094\n"
          ]
        },
        {
          "output_type": "stream",
          "name": "stderr",
          "text": [
            "Época 39/200: 100%|██████████| 152496/152496 [00:25<00:00, 5867.52it/s]\n"
          ]
        },
        {
          "output_type": "stream",
          "name": "stdout",
          "text": [
            "RMSE de Treino: 0.4010\n"
          ]
        },
        {
          "output_type": "stream",
          "name": "stderr",
          "text": [
            "Época 40/200: 100%|██████████| 152496/152496 [00:25<00:00, 6007.53it/s]\n"
          ]
        },
        {
          "output_type": "stream",
          "name": "stdout",
          "text": [
            "RMSE de Treino: 0.3930\n"
          ]
        },
        {
          "output_type": "stream",
          "name": "stderr",
          "text": [
            "Época 41/200: 100%|██████████| 152496/152496 [00:25<00:00, 6018.33it/s]\n"
          ]
        },
        {
          "output_type": "stream",
          "name": "stdout",
          "text": [
            "RMSE de Treino: 0.3853\n"
          ]
        },
        {
          "output_type": "stream",
          "name": "stderr",
          "text": [
            "Época 42/200: 100%|██████████| 152496/152496 [00:25<00:00, 5978.93it/s]\n"
          ]
        },
        {
          "output_type": "stream",
          "name": "stdout",
          "text": [
            "RMSE de Treino: 0.3779\n"
          ]
        },
        {
          "output_type": "stream",
          "name": "stderr",
          "text": [
            "Época 43/200: 100%|██████████| 152496/152496 [00:30<00:00, 5022.10it/s]\n"
          ]
        },
        {
          "output_type": "stream",
          "name": "stdout",
          "text": [
            "RMSE de Treino: 0.3709\n"
          ]
        },
        {
          "output_type": "stream",
          "name": "stderr",
          "text": [
            "Época 44/200: 100%|██████████| 152496/152496 [00:27<00:00, 5573.05it/s]\n"
          ]
        },
        {
          "output_type": "stream",
          "name": "stdout",
          "text": [
            "RMSE de Treino: 0.3642\n"
          ]
        },
        {
          "output_type": "stream",
          "name": "stderr",
          "text": [
            "Época 45/200: 100%|██████████| 152496/152496 [00:28<00:00, 5352.59it/s]\n"
          ]
        },
        {
          "output_type": "stream",
          "name": "stdout",
          "text": [
            "RMSE de Treino: 0.3578\n"
          ]
        },
        {
          "output_type": "stream",
          "name": "stderr",
          "text": [
            "Época 46/200: 100%|██████████| 152496/152496 [00:26<00:00, 5701.03it/s]\n"
          ]
        },
        {
          "output_type": "stream",
          "name": "stdout",
          "text": [
            "RMSE de Treino: 0.3517\n"
          ]
        },
        {
          "output_type": "stream",
          "name": "stderr",
          "text": [
            "Época 47/200: 100%|██████████| 152496/152496 [00:25<00:00, 6004.95it/s]\n"
          ]
        },
        {
          "output_type": "stream",
          "name": "stdout",
          "text": [
            "RMSE de Treino: 0.3458\n"
          ]
        },
        {
          "output_type": "stream",
          "name": "stderr",
          "text": [
            "Época 48/200: 100%|██████████| 152496/152496 [00:25<00:00, 5970.06it/s]\n"
          ]
        },
        {
          "output_type": "stream",
          "name": "stdout",
          "text": [
            "RMSE de Treino: 0.3403\n"
          ]
        },
        {
          "output_type": "stream",
          "name": "stderr",
          "text": [
            "Época 49/200: 100%|██████████| 152496/152496 [00:26<00:00, 5704.77it/s]\n"
          ]
        },
        {
          "output_type": "stream",
          "name": "stdout",
          "text": [
            "RMSE de Treino: 0.3349\n"
          ]
        },
        {
          "output_type": "stream",
          "name": "stderr",
          "text": [
            "Época 50/200: 100%|██████████| 152496/152496 [00:26<00:00, 5689.28it/s]\n"
          ]
        },
        {
          "output_type": "stream",
          "name": "stdout",
          "text": [
            "RMSE de Treino: 0.3298\n"
          ]
        },
        {
          "output_type": "stream",
          "name": "stderr",
          "text": [
            "Época 51/200: 100%|██████████| 152496/152496 [00:27<00:00, 5574.25it/s]\n"
          ]
        },
        {
          "output_type": "stream",
          "name": "stdout",
          "text": [
            "RMSE de Treino: 0.3249\n"
          ]
        },
        {
          "output_type": "stream",
          "name": "stderr",
          "text": [
            "Época 52/200: 100%|██████████| 152496/152496 [00:26<00:00, 5861.64it/s]\n"
          ]
        },
        {
          "output_type": "stream",
          "name": "stdout",
          "text": [
            "RMSE de Treino: 0.3202\n"
          ]
        },
        {
          "output_type": "stream",
          "name": "stderr",
          "text": [
            "Época 53/200: 100%|██████████| 152496/152496 [00:25<00:00, 5960.12it/s]\n"
          ]
        },
        {
          "output_type": "stream",
          "name": "stdout",
          "text": [
            "RMSE de Treino: 0.3157\n"
          ]
        },
        {
          "output_type": "stream",
          "name": "stderr",
          "text": [
            "Época 54/200: 100%|██████████| 152496/152496 [00:27<00:00, 5447.87it/s]\n"
          ]
        },
        {
          "output_type": "stream",
          "name": "stdout",
          "text": [
            "RMSE de Treino: 0.3113\n"
          ]
        },
        {
          "output_type": "stream",
          "name": "stderr",
          "text": [
            "Época 55/200: 100%|██████████| 152496/152496 [00:25<00:00, 5881.81it/s]\n"
          ]
        },
        {
          "output_type": "stream",
          "name": "stdout",
          "text": [
            "RMSE de Treino: 0.3072\n"
          ]
        },
        {
          "output_type": "stream",
          "name": "stderr",
          "text": [
            "Época 56/200: 100%|██████████| 152496/152496 [00:26<00:00, 5849.55it/s]\n"
          ]
        },
        {
          "output_type": "stream",
          "name": "stdout",
          "text": [
            "RMSE de Treino: 0.3032\n"
          ]
        },
        {
          "output_type": "stream",
          "name": "stderr",
          "text": [
            "Época 57/200: 100%|██████████| 152496/152496 [00:25<00:00, 5982.88it/s]\n"
          ]
        },
        {
          "output_type": "stream",
          "name": "stdout",
          "text": [
            "RMSE de Treino: 0.2994\n"
          ]
        },
        {
          "output_type": "stream",
          "name": "stderr",
          "text": [
            "Época 58/200: 100%|██████████| 152496/152496 [00:25<00:00, 5883.61it/s]\n"
          ]
        },
        {
          "output_type": "stream",
          "name": "stdout",
          "text": [
            "RMSE de Treino: 0.2957\n"
          ]
        },
        {
          "output_type": "stream",
          "name": "stderr",
          "text": [
            "Época 59/200: 100%|██████████| 152496/152496 [00:25<00:00, 6017.13it/s]\n"
          ]
        },
        {
          "output_type": "stream",
          "name": "stdout",
          "text": [
            "RMSE de Treino: 0.2921\n"
          ]
        },
        {
          "output_type": "stream",
          "name": "stderr",
          "text": [
            "Época 60/200: 100%|██████████| 152496/152496 [00:25<00:00, 5881.42it/s]\n"
          ]
        },
        {
          "output_type": "stream",
          "name": "stdout",
          "text": [
            "RMSE de Treino: 0.2887\n"
          ]
        },
        {
          "output_type": "stream",
          "name": "stderr",
          "text": [
            "Época 61/200: 100%|██████████| 152496/152496 [00:25<00:00, 5924.07it/s]\n"
          ]
        },
        {
          "output_type": "stream",
          "name": "stdout",
          "text": [
            "RMSE de Treino: 0.2855\n"
          ]
        },
        {
          "output_type": "stream",
          "name": "stderr",
          "text": [
            "Época 62/200: 100%|██████████| 152496/152496 [00:25<00:00, 5970.64it/s]\n"
          ]
        },
        {
          "output_type": "stream",
          "name": "stdout",
          "text": [
            "RMSE de Treino: 0.2823\n"
          ]
        },
        {
          "output_type": "stream",
          "name": "stderr",
          "text": [
            "Época 63/200: 100%|██████████| 152496/152496 [00:25<00:00, 5924.38it/s]\n"
          ]
        },
        {
          "output_type": "stream",
          "name": "stdout",
          "text": [
            "RMSE de Treino: 0.2792\n"
          ]
        },
        {
          "output_type": "stream",
          "name": "stderr",
          "text": [
            "Época 64/200: 100%|██████████| 152496/152496 [00:25<00:00, 5945.18it/s]\n"
          ]
        },
        {
          "output_type": "stream",
          "name": "stdout",
          "text": [
            "RMSE de Treino: 0.2763\n"
          ]
        },
        {
          "output_type": "stream",
          "name": "stderr",
          "text": [
            "Época 65/200: 100%|██████████| 152496/152496 [00:26<00:00, 5806.74it/s]\n"
          ]
        },
        {
          "output_type": "stream",
          "name": "stdout",
          "text": [
            "RMSE de Treino: 0.2735\n"
          ]
        },
        {
          "output_type": "stream",
          "name": "stderr",
          "text": [
            "Época 66/200: 100%|██████████| 152496/152496 [00:25<00:00, 5964.83it/s]\n"
          ]
        },
        {
          "output_type": "stream",
          "name": "stdout",
          "text": [
            "RMSE de Treino: 0.2707\n"
          ]
        },
        {
          "output_type": "stream",
          "name": "stderr",
          "text": [
            "Época 67/200: 100%|██████████| 152496/152496 [00:25<00:00, 5954.66it/s]\n"
          ]
        },
        {
          "output_type": "stream",
          "name": "stdout",
          "text": [
            "RMSE de Treino: 0.2681\n"
          ]
        },
        {
          "output_type": "stream",
          "name": "stderr",
          "text": [
            "Época 68/200: 100%|██████████| 152496/152496 [00:25<00:00, 5952.57it/s]\n"
          ]
        },
        {
          "output_type": "stream",
          "name": "stdout",
          "text": [
            "RMSE de Treino: 0.2655\n"
          ]
        },
        {
          "output_type": "stream",
          "name": "stderr",
          "text": [
            "Época 69/200: 100%|██████████| 152496/152496 [00:26<00:00, 5801.48it/s]\n"
          ]
        },
        {
          "output_type": "stream",
          "name": "stdout",
          "text": [
            "RMSE de Treino: 0.2630\n"
          ]
        },
        {
          "output_type": "stream",
          "name": "stderr",
          "text": [
            "Época 70/200: 100%|██████████| 152496/152496 [00:25<00:00, 5948.53it/s]\n"
          ]
        },
        {
          "output_type": "stream",
          "name": "stdout",
          "text": [
            "RMSE de Treino: 0.2606\n"
          ]
        },
        {
          "output_type": "stream",
          "name": "stderr",
          "text": [
            "Época 71/200: 100%|██████████| 152496/152496 [00:25<00:00, 5946.86it/s]\n"
          ]
        },
        {
          "output_type": "stream",
          "name": "stdout",
          "text": [
            "RMSE de Treino: 0.2583\n"
          ]
        },
        {
          "output_type": "stream",
          "name": "stderr",
          "text": [
            "Época 72/200: 100%|██████████| 152496/152496 [00:25<00:00, 5906.02it/s]\n"
          ]
        },
        {
          "output_type": "stream",
          "name": "stdout",
          "text": [
            "RMSE de Treino: 0.2561\n"
          ]
        },
        {
          "output_type": "stream",
          "name": "stderr",
          "text": [
            "Época 73/200: 100%|██████████| 152496/152496 [00:26<00:00, 5822.42it/s]\n"
          ]
        },
        {
          "output_type": "stream",
          "name": "stdout",
          "text": [
            "RMSE de Treino: 0.2539\n"
          ]
        },
        {
          "output_type": "stream",
          "name": "stderr",
          "text": [
            "Época 74/200: 100%|██████████| 152496/152496 [00:26<00:00, 5824.45it/s]\n"
          ]
        },
        {
          "output_type": "stream",
          "name": "stdout",
          "text": [
            "RMSE de Treino: 0.2518\n"
          ]
        },
        {
          "output_type": "stream",
          "name": "stderr",
          "text": [
            "Época 75/200: 100%|██████████| 152496/152496 [00:25<00:00, 5928.22it/s]\n"
          ]
        },
        {
          "output_type": "stream",
          "name": "stdout",
          "text": [
            "RMSE de Treino: 0.2498\n"
          ]
        },
        {
          "output_type": "stream",
          "name": "stderr",
          "text": [
            "Época 76/200: 100%|██████████| 152496/152496 [00:25<00:00, 5916.88it/s]\n"
          ]
        },
        {
          "output_type": "stream",
          "name": "stdout",
          "text": [
            "RMSE de Treino: 0.2478\n"
          ]
        },
        {
          "output_type": "stream",
          "name": "stderr",
          "text": [
            "Época 77/200: 100%|██████████| 152496/152496 [00:25<00:00, 5919.88it/s]\n"
          ]
        },
        {
          "output_type": "stream",
          "name": "stdout",
          "text": [
            "RMSE de Treino: 0.2458\n"
          ]
        },
        {
          "output_type": "stream",
          "name": "stderr",
          "text": [
            "Época 78/200: 100%|██████████| 152496/152496 [00:26<00:00, 5802.39it/s]\n"
          ]
        },
        {
          "output_type": "stream",
          "name": "stdout",
          "text": [
            "RMSE de Treino: 0.2440\n"
          ]
        },
        {
          "output_type": "stream",
          "name": "stderr",
          "text": [
            "Época 79/200: 100%|██████████| 152496/152496 [00:25<00:00, 5935.91it/s]\n"
          ]
        },
        {
          "output_type": "stream",
          "name": "stdout",
          "text": [
            "RMSE de Treino: 0.2422\n"
          ]
        },
        {
          "output_type": "stream",
          "name": "stderr",
          "text": [
            "Época 80/200: 100%|██████████| 152496/152496 [00:25<00:00, 5977.92it/s]\n"
          ]
        },
        {
          "output_type": "stream",
          "name": "stdout",
          "text": [
            "RMSE de Treino: 0.2404\n"
          ]
        },
        {
          "output_type": "stream",
          "name": "stderr",
          "text": [
            "Época 81/200: 100%|██████████| 152496/152496 [00:25<00:00, 5935.26it/s]\n"
          ]
        },
        {
          "output_type": "stream",
          "name": "stdout",
          "text": [
            "RMSE de Treino: 0.2387\n"
          ]
        },
        {
          "output_type": "stream",
          "name": "stderr",
          "text": [
            "Época 82/200: 100%|██████████| 152496/152496 [00:26<00:00, 5787.46it/s]\n"
          ]
        },
        {
          "output_type": "stream",
          "name": "stdout",
          "text": [
            "RMSE de Treino: 0.2370\n"
          ]
        },
        {
          "output_type": "stream",
          "name": "stderr",
          "text": [
            "Época 83/200: 100%|██████████| 152496/152496 [00:25<00:00, 5942.89it/s]\n"
          ]
        },
        {
          "output_type": "stream",
          "name": "stdout",
          "text": [
            "RMSE de Treino: 0.2354\n"
          ]
        },
        {
          "output_type": "stream",
          "name": "stderr",
          "text": [
            "Época 84/200: 100%|██████████| 152496/152496 [00:25<00:00, 5972.48it/s]\n"
          ]
        },
        {
          "output_type": "stream",
          "name": "stdout",
          "text": [
            "RMSE de Treino: 0.2338\n"
          ]
        },
        {
          "output_type": "stream",
          "name": "stderr",
          "text": [
            "Época 85/200: 100%|██████████| 152496/152496 [00:25<00:00, 5908.80it/s]\n"
          ]
        },
        {
          "output_type": "stream",
          "name": "stdout",
          "text": [
            "RMSE de Treino: 0.2323\n"
          ]
        },
        {
          "output_type": "stream",
          "name": "stderr",
          "text": [
            "Época 86/200: 100%|██████████| 152496/152496 [00:26<00:00, 5778.41it/s]\n"
          ]
        },
        {
          "output_type": "stream",
          "name": "stdout",
          "text": [
            "RMSE de Treino: 0.2308\n"
          ]
        },
        {
          "output_type": "stream",
          "name": "stderr",
          "text": [
            "Época 87/200: 100%|██████████| 152496/152496 [00:25<00:00, 5927.96it/s]\n"
          ]
        },
        {
          "output_type": "stream",
          "name": "stdout",
          "text": [
            "RMSE de Treino: 0.2293\n"
          ]
        },
        {
          "output_type": "stream",
          "name": "stderr",
          "text": [
            "Época 88/200: 100%|██████████| 152496/152496 [00:25<00:00, 5922.44it/s]\n"
          ]
        },
        {
          "output_type": "stream",
          "name": "stdout",
          "text": [
            "RMSE de Treino: 0.2279\n"
          ]
        },
        {
          "output_type": "stream",
          "name": "stderr",
          "text": [
            "Época 89/200: 100%|██████████| 152496/152496 [00:25<00:00, 5945.65it/s]\n"
          ]
        },
        {
          "output_type": "stream",
          "name": "stdout",
          "text": [
            "RMSE de Treino: 0.2265\n"
          ]
        },
        {
          "output_type": "stream",
          "name": "stderr",
          "text": [
            "Época 90/200: 100%|██████████| 152496/152496 [00:25<00:00, 5953.81it/s]\n"
          ]
        },
        {
          "output_type": "stream",
          "name": "stdout",
          "text": [
            "RMSE de Treino: 0.2252\n"
          ]
        },
        {
          "output_type": "stream",
          "name": "stderr",
          "text": [
            "Época 91/200: 100%|██████████| 152496/152496 [00:26<00:00, 5772.53it/s]\n"
          ]
        },
        {
          "output_type": "stream",
          "name": "stdout",
          "text": [
            "RMSE de Treino: 0.2238\n"
          ]
        },
        {
          "output_type": "stream",
          "name": "stderr",
          "text": [
            "Época 92/200: 100%|██████████| 152496/152496 [00:25<00:00, 5905.32it/s]\n"
          ]
        },
        {
          "output_type": "stream",
          "name": "stdout",
          "text": [
            "RMSE de Treino: 0.2226\n"
          ]
        },
        {
          "output_type": "stream",
          "name": "stderr",
          "text": [
            "Época 93/200: 100%|██████████| 152496/152496 [00:25<00:00, 5905.18it/s]\n"
          ]
        },
        {
          "output_type": "stream",
          "name": "stdout",
          "text": [
            "RMSE de Treino: 0.2213\n"
          ]
        },
        {
          "output_type": "stream",
          "name": "stderr",
          "text": [
            "Época 94/200: 100%|██████████| 152496/152496 [00:25<00:00, 5915.46it/s]\n"
          ]
        },
        {
          "output_type": "stream",
          "name": "stdout",
          "text": [
            "RMSE de Treino: 0.2201\n"
          ]
        },
        {
          "output_type": "stream",
          "name": "stderr",
          "text": [
            "Época 95/200: 100%|██████████| 152496/152496 [00:26<00:00, 5780.16it/s]\n"
          ]
        },
        {
          "output_type": "stream",
          "name": "stdout",
          "text": [
            "RMSE de Treino: 0.2189\n"
          ]
        },
        {
          "output_type": "stream",
          "name": "stderr",
          "text": [
            "Época 96/200: 100%|██████████| 152496/152496 [00:25<00:00, 5979.91it/s]\n"
          ]
        },
        {
          "output_type": "stream",
          "name": "stdout",
          "text": [
            "RMSE de Treino: 0.2177\n"
          ]
        },
        {
          "output_type": "stream",
          "name": "stderr",
          "text": [
            "Época 97/200: 100%|██████████| 152496/152496 [00:25<00:00, 5933.80it/s]\n"
          ]
        },
        {
          "output_type": "stream",
          "name": "stdout",
          "text": [
            "RMSE de Treino: 0.2166\n"
          ]
        },
        {
          "output_type": "stream",
          "name": "stderr",
          "text": [
            "Época 98/200: 100%|██████████| 152496/152496 [00:25<00:00, 5944.32it/s]\n"
          ]
        },
        {
          "output_type": "stream",
          "name": "stdout",
          "text": [
            "RMSE de Treino: 0.2155\n"
          ]
        },
        {
          "output_type": "stream",
          "name": "stderr",
          "text": [
            "Época 99/200: 100%|██████████| 152496/152496 [00:26<00:00, 5825.75it/s]\n"
          ]
        },
        {
          "output_type": "stream",
          "name": "stdout",
          "text": [
            "RMSE de Treino: 0.2144\n"
          ]
        },
        {
          "output_type": "stream",
          "name": "stderr",
          "text": [
            "Época 100/200: 100%|██████████| 152496/152496 [00:25<00:00, 5963.30it/s]\n"
          ]
        },
        {
          "output_type": "stream",
          "name": "stdout",
          "text": [
            "RMSE de Treino: 0.2133\n"
          ]
        },
        {
          "output_type": "stream",
          "name": "stderr",
          "text": [
            "Época 101/200: 100%|██████████| 152496/152496 [00:25<00:00, 5929.47it/s]\n"
          ]
        },
        {
          "output_type": "stream",
          "name": "stdout",
          "text": [
            "RMSE de Treino: 0.2123\n"
          ]
        },
        {
          "output_type": "stream",
          "name": "stderr",
          "text": [
            "Época 102/200: 100%|██████████| 152496/152496 [00:25<00:00, 5969.61it/s]\n"
          ]
        },
        {
          "output_type": "stream",
          "name": "stdout",
          "text": [
            "RMSE de Treino: 0.2112\n"
          ]
        },
        {
          "output_type": "stream",
          "name": "stderr",
          "text": [
            "Época 103/200: 100%|██████████| 152496/152496 [00:25<00:00, 5907.35it/s]\n"
          ]
        },
        {
          "output_type": "stream",
          "name": "stdout",
          "text": [
            "RMSE de Treino: 0.2102\n"
          ]
        },
        {
          "output_type": "stream",
          "name": "stderr",
          "text": [
            "Época 104/200: 100%|██████████| 152496/152496 [00:26<00:00, 5847.73it/s]\n"
          ]
        },
        {
          "output_type": "stream",
          "name": "stdout",
          "text": [
            "RMSE de Treino: 0.2093\n"
          ]
        },
        {
          "output_type": "stream",
          "name": "stderr",
          "text": [
            "Época 105/200: 100%|██████████| 152496/152496 [00:25<00:00, 5956.95it/s]\n"
          ]
        },
        {
          "output_type": "stream",
          "name": "stdout",
          "text": [
            "RMSE de Treino: 0.2083\n"
          ]
        },
        {
          "output_type": "stream",
          "name": "stderr",
          "text": [
            "Época 106/200: 100%|██████████| 152496/152496 [00:25<00:00, 5964.44it/s]\n"
          ]
        },
        {
          "output_type": "stream",
          "name": "stdout",
          "text": [
            "RMSE de Treino: 0.2074\n"
          ]
        },
        {
          "output_type": "stream",
          "name": "stderr",
          "text": [
            "Época 107/200: 100%|██████████| 152496/152496 [00:25<00:00, 5944.78it/s]\n"
          ]
        },
        {
          "output_type": "stream",
          "name": "stdout",
          "text": [
            "RMSE de Treino: 0.2065\n"
          ]
        },
        {
          "output_type": "stream",
          "name": "stderr",
          "text": [
            "Época 108/200: 100%|██████████| 152496/152496 [00:26<00:00, 5808.94it/s]\n"
          ]
        },
        {
          "output_type": "stream",
          "name": "stdout",
          "text": [
            "RMSE de Treino: 0.2056\n"
          ]
        },
        {
          "output_type": "stream",
          "name": "stderr",
          "text": [
            "Época 109/200: 100%|██████████| 152496/152496 [00:25<00:00, 5948.47it/s]\n"
          ]
        },
        {
          "output_type": "stream",
          "name": "stdout",
          "text": [
            "RMSE de Treino: 0.2047\n"
          ]
        },
        {
          "output_type": "stream",
          "name": "stderr",
          "text": [
            "Época 110/200: 100%|██████████| 152496/152496 [00:25<00:00, 5912.28it/s]\n"
          ]
        },
        {
          "output_type": "stream",
          "name": "stdout",
          "text": [
            "RMSE de Treino: 0.2038\n"
          ]
        },
        {
          "output_type": "stream",
          "name": "stderr",
          "text": [
            "Época 111/200: 100%|██████████| 152496/152496 [00:25<00:00, 5893.71it/s]\n"
          ]
        },
        {
          "output_type": "stream",
          "name": "stdout",
          "text": [
            "RMSE de Treino: 0.2030\n"
          ]
        },
        {
          "output_type": "stream",
          "name": "stderr",
          "text": [
            "Época 112/200: 100%|██████████| 152496/152496 [00:26<00:00, 5798.00it/s]\n"
          ]
        },
        {
          "output_type": "stream",
          "name": "stdout",
          "text": [
            "RMSE de Treino: 0.2021\n"
          ]
        },
        {
          "output_type": "stream",
          "name": "stderr",
          "text": [
            "Época 113/200: 100%|██████████| 152496/152496 [00:25<00:00, 5937.79it/s]\n"
          ]
        },
        {
          "output_type": "stream",
          "name": "stdout",
          "text": [
            "RMSE de Treino: 0.2013\n"
          ]
        },
        {
          "output_type": "stream",
          "name": "stderr",
          "text": [
            "Época 114/200: 100%|██████████| 152496/152496 [00:25<00:00, 5904.99it/s]\n"
          ]
        },
        {
          "output_type": "stream",
          "name": "stdout",
          "text": [
            "RMSE de Treino: 0.2005\n"
          ]
        },
        {
          "output_type": "stream",
          "name": "stderr",
          "text": [
            "Época 115/200: 100%|██████████| 152496/152496 [00:25<00:00, 5895.13it/s]\n"
          ]
        },
        {
          "output_type": "stream",
          "name": "stdout",
          "text": [
            "RMSE de Treino: 0.1997\n"
          ]
        },
        {
          "output_type": "stream",
          "name": "stderr",
          "text": [
            "Época 116/200: 100%|██████████| 152496/152496 [00:26<00:00, 5820.40it/s]\n"
          ]
        },
        {
          "output_type": "stream",
          "name": "stdout",
          "text": [
            "RMSE de Treino: 0.1990\n"
          ]
        },
        {
          "output_type": "stream",
          "name": "stderr",
          "text": [
            "Época 117/200: 100%|██████████| 152496/152496 [00:25<00:00, 5931.61it/s]\n"
          ]
        },
        {
          "output_type": "stream",
          "name": "stdout",
          "text": [
            "RMSE de Treino: 0.1982\n"
          ]
        },
        {
          "output_type": "stream",
          "name": "stderr",
          "text": [
            "Época 118/200: 100%|██████████| 152496/152496 [00:25<00:00, 5918.10it/s]\n"
          ]
        },
        {
          "output_type": "stream",
          "name": "stdout",
          "text": [
            "RMSE de Treino: 0.1975\n"
          ]
        },
        {
          "output_type": "stream",
          "name": "stderr",
          "text": [
            "Época 119/200: 100%|██████████| 152496/152496 [00:25<00:00, 5917.32it/s]\n"
          ]
        },
        {
          "output_type": "stream",
          "name": "stdout",
          "text": [
            "RMSE de Treino: 0.1968\n"
          ]
        },
        {
          "output_type": "stream",
          "name": "stderr",
          "text": [
            "Época 120/200: 100%|██████████| 152496/152496 [00:25<00:00, 5891.20it/s]\n"
          ]
        },
        {
          "output_type": "stream",
          "name": "stdout",
          "text": [
            "RMSE de Treino: 0.1961\n"
          ]
        },
        {
          "output_type": "stream",
          "name": "stderr",
          "text": [
            "Época 121/200: 100%|██████████| 152496/152496 [00:26<00:00, 5779.33it/s]\n"
          ]
        },
        {
          "output_type": "stream",
          "name": "stdout",
          "text": [
            "RMSE de Treino: 0.1954\n"
          ]
        },
        {
          "output_type": "stream",
          "name": "stderr",
          "text": [
            "Época 122/200: 100%|██████████| 152496/152496 [00:25<00:00, 5875.08it/s]\n"
          ]
        },
        {
          "output_type": "stream",
          "name": "stdout",
          "text": [
            "RMSE de Treino: 0.1947\n"
          ]
        },
        {
          "output_type": "stream",
          "name": "stderr",
          "text": [
            "Época 123/200: 100%|██████████| 152496/152496 [00:26<00:00, 5837.06it/s]\n"
          ]
        },
        {
          "output_type": "stream",
          "name": "stdout",
          "text": [
            "RMSE de Treino: 0.1940\n"
          ]
        },
        {
          "output_type": "stream",
          "name": "stderr",
          "text": [
            "Época 124/200: 100%|██████████| 152496/152496 [00:26<00:00, 5861.06it/s]\n"
          ]
        },
        {
          "output_type": "stream",
          "name": "stdout",
          "text": [
            "RMSE de Treino: 0.1933\n"
          ]
        },
        {
          "output_type": "stream",
          "name": "stderr",
          "text": [
            "Época 125/200: 100%|██████████| 152496/152496 [00:26<00:00, 5799.43it/s]\n"
          ]
        },
        {
          "output_type": "stream",
          "name": "stdout",
          "text": [
            "RMSE de Treino: 0.1927\n"
          ]
        },
        {
          "output_type": "stream",
          "name": "stderr",
          "text": [
            "Época 126/200: 100%|██████████| 152496/152496 [00:25<00:00, 5946.41it/s]\n"
          ]
        },
        {
          "output_type": "stream",
          "name": "stdout",
          "text": [
            "RMSE de Treino: 0.1920\n"
          ]
        },
        {
          "output_type": "stream",
          "name": "stderr",
          "text": [
            "Época 127/200: 100%|██████████| 152496/152496 [00:25<00:00, 5882.83it/s]\n"
          ]
        },
        {
          "output_type": "stream",
          "name": "stdout",
          "text": [
            "RMSE de Treino: 0.1914\n"
          ]
        },
        {
          "output_type": "stream",
          "name": "stderr",
          "text": [
            "Época 128/200: 100%|██████████| 152496/152496 [00:25<00:00, 5896.41it/s]\n"
          ]
        },
        {
          "output_type": "stream",
          "name": "stdout",
          "text": [
            "RMSE de Treino: 0.1908\n"
          ]
        },
        {
          "output_type": "stream",
          "name": "stderr",
          "text": [
            "Época 129/200: 100%|██████████| 152496/152496 [00:26<00:00, 5777.41it/s]\n"
          ]
        },
        {
          "output_type": "stream",
          "name": "stdout",
          "text": [
            "RMSE de Treino: 0.1902\n"
          ]
        },
        {
          "output_type": "stream",
          "name": "stderr",
          "text": [
            "Época 130/200: 100%|██████████| 152496/152496 [00:25<00:00, 5919.31it/s]\n"
          ]
        },
        {
          "output_type": "stream",
          "name": "stdout",
          "text": [
            "RMSE de Treino: 0.1896\n"
          ]
        },
        {
          "output_type": "stream",
          "name": "stderr",
          "text": [
            "Época 131/200: 100%|██████████| 152496/152496 [00:25<00:00, 5898.01it/s]\n"
          ]
        },
        {
          "output_type": "stream",
          "name": "stdout",
          "text": [
            "RMSE de Treino: 0.1890\n"
          ]
        },
        {
          "output_type": "stream",
          "name": "stderr",
          "text": [
            "Época 132/200: 100%|██████████| 152496/152496 [00:25<00:00, 5897.52it/s]\n"
          ]
        },
        {
          "output_type": "stream",
          "name": "stdout",
          "text": [
            "RMSE de Treino: 0.1884\n"
          ]
        },
        {
          "output_type": "stream",
          "name": "stderr",
          "text": [
            "Época 133/200: 100%|██████████| 152496/152496 [00:26<00:00, 5762.02it/s]\n"
          ]
        },
        {
          "output_type": "stream",
          "name": "stdout",
          "text": [
            "RMSE de Treino: 0.1879\n"
          ]
        },
        {
          "output_type": "stream",
          "name": "stderr",
          "text": [
            "Época 134/200: 100%|██████████| 152496/152496 [00:25<00:00, 5914.56it/s]\n"
          ]
        },
        {
          "output_type": "stream",
          "name": "stdout",
          "text": [
            "RMSE de Treino: 0.1873\n"
          ]
        },
        {
          "output_type": "stream",
          "name": "stderr",
          "text": [
            "Época 135/200: 100%|██████████| 152496/152496 [00:25<00:00, 5871.45it/s]\n"
          ]
        },
        {
          "output_type": "stream",
          "name": "stdout",
          "text": [
            "RMSE de Treino: 0.1868\n"
          ]
        },
        {
          "output_type": "stream",
          "name": "stderr",
          "text": [
            "Época 136/200: 100%|██████████| 152496/152496 [00:25<00:00, 5891.74it/s]\n"
          ]
        },
        {
          "output_type": "stream",
          "name": "stdout",
          "text": [
            "RMSE de Treino: 0.1862\n"
          ]
        },
        {
          "output_type": "stream",
          "name": "stderr",
          "text": [
            "Época 137/200: 100%|██████████| 152496/152496 [00:26<00:00, 5764.18it/s]\n"
          ]
        },
        {
          "output_type": "stream",
          "name": "stdout",
          "text": [
            "RMSE de Treino: 0.1857\n"
          ]
        },
        {
          "output_type": "stream",
          "name": "stderr",
          "text": [
            "Época 138/200: 100%|██████████| 152496/152496 [00:26<00:00, 5864.38it/s]\n"
          ]
        },
        {
          "output_type": "stream",
          "name": "stdout",
          "text": [
            "RMSE de Treino: 0.1852\n"
          ]
        },
        {
          "output_type": "stream",
          "name": "stderr",
          "text": [
            "Época 139/200: 100%|██████████| 152496/152496 [00:26<00:00, 5842.91it/s]\n"
          ]
        },
        {
          "output_type": "stream",
          "name": "stdout",
          "text": [
            "RMSE de Treino: 0.1846\n"
          ]
        },
        {
          "output_type": "stream",
          "name": "stderr",
          "text": [
            "Época 140/200: 100%|██████████| 152496/152496 [00:25<00:00, 5882.49it/s]\n"
          ]
        },
        {
          "output_type": "stream",
          "name": "stdout",
          "text": [
            "RMSE de Treino: 0.1841\n"
          ]
        },
        {
          "output_type": "stream",
          "name": "stderr",
          "text": [
            "Época 141/200: 100%|██████████| 152496/152496 [00:26<00:00, 5724.05it/s]\n"
          ]
        },
        {
          "output_type": "stream",
          "name": "stdout",
          "text": [
            "RMSE de Treino: 0.1836\n"
          ]
        },
        {
          "output_type": "stream",
          "name": "stderr",
          "text": [
            "Época 142/200: 100%|██████████| 152496/152496 [00:25<00:00, 5894.89it/s]\n"
          ]
        },
        {
          "output_type": "stream",
          "name": "stdout",
          "text": [
            "RMSE de Treino: 0.1831\n"
          ]
        },
        {
          "output_type": "stream",
          "name": "stderr",
          "text": [
            "Época 143/200: 100%|██████████| 152496/152496 [00:26<00:00, 5837.84it/s]\n"
          ]
        },
        {
          "output_type": "stream",
          "name": "stdout",
          "text": [
            "RMSE de Treino: 0.1827\n"
          ]
        },
        {
          "output_type": "stream",
          "name": "stderr",
          "text": [
            "Época 144/200: 100%|██████████| 152496/152496 [00:25<00:00, 5913.74it/s]\n"
          ]
        },
        {
          "output_type": "stream",
          "name": "stdout",
          "text": [
            "RMSE de Treino: 0.1822\n"
          ]
        },
        {
          "output_type": "stream",
          "name": "stderr",
          "text": [
            "Época 145/200: 100%|██████████| 152496/152496 [00:26<00:00, 5742.02it/s]\n"
          ]
        },
        {
          "output_type": "stream",
          "name": "stdout",
          "text": [
            "RMSE de Treino: 0.1817\n"
          ]
        },
        {
          "output_type": "stream",
          "name": "stderr",
          "text": [
            "Época 146/200: 100%|██████████| 152496/152496 [00:26<00:00, 5851.38it/s]\n"
          ]
        },
        {
          "output_type": "stream",
          "name": "stdout",
          "text": [
            "RMSE de Treino: 0.1812\n"
          ]
        },
        {
          "output_type": "stream",
          "name": "stderr",
          "text": [
            "Época 147/200: 100%|██████████| 152496/152496 [00:26<00:00, 5808.65it/s]\n"
          ]
        },
        {
          "output_type": "stream",
          "name": "stdout",
          "text": [
            "RMSE de Treino: 0.1808\n"
          ]
        },
        {
          "output_type": "stream",
          "name": "stderr",
          "text": [
            "Época 148/200: 100%|██████████| 152496/152496 [00:26<00:00, 5799.90it/s]\n"
          ]
        },
        {
          "output_type": "stream",
          "name": "stdout",
          "text": [
            "RMSE de Treino: 0.1803\n"
          ]
        },
        {
          "output_type": "stream",
          "name": "stderr",
          "text": [
            "Época 149/200: 100%|██████████| 152496/152496 [00:26<00:00, 5782.52it/s]\n"
          ]
        },
        {
          "output_type": "stream",
          "name": "stdout",
          "text": [
            "RMSE de Treino: 0.1799\n"
          ]
        },
        {
          "output_type": "stream",
          "name": "stderr",
          "text": [
            "Época 150/200: 100%|██████████| 152496/152496 [00:26<00:00, 5847.18it/s]\n"
          ]
        },
        {
          "output_type": "stream",
          "name": "stdout",
          "text": [
            "RMSE de Treino: 0.1795\n"
          ]
        },
        {
          "output_type": "stream",
          "name": "stderr",
          "text": [
            "Época 151/200: 100%|██████████| 152496/152496 [00:26<00:00, 5834.56it/s]\n"
          ]
        },
        {
          "output_type": "stream",
          "name": "stdout",
          "text": [
            "RMSE de Treino: 0.1790\n"
          ]
        },
        {
          "output_type": "stream",
          "name": "stderr",
          "text": [
            "Época 152/200: 100%|██████████| 152496/152496 [00:26<00:00, 5710.69it/s]\n"
          ]
        },
        {
          "output_type": "stream",
          "name": "stdout",
          "text": [
            "RMSE de Treino: 0.1786\n"
          ]
        },
        {
          "output_type": "stream",
          "name": "stderr",
          "text": [
            "Época 153/200: 100%|██████████| 152496/152496 [00:25<00:00, 5870.20it/s]\n"
          ]
        },
        {
          "output_type": "stream",
          "name": "stdout",
          "text": [
            "RMSE de Treino: 0.1782\n"
          ]
        },
        {
          "output_type": "stream",
          "name": "stderr",
          "text": [
            "Época 154/200: 100%|██████████| 152496/152496 [00:26<00:00, 5858.72it/s]\n"
          ]
        },
        {
          "output_type": "stream",
          "name": "stdout",
          "text": [
            "RMSE de Treino: 0.1778\n"
          ]
        },
        {
          "output_type": "stream",
          "name": "stderr",
          "text": [
            "Época 155/200: 100%|██████████| 152496/152496 [00:26<00:00, 5851.33it/s]\n"
          ]
        },
        {
          "output_type": "stream",
          "name": "stdout",
          "text": [
            "RMSE de Treino: 0.1774\n"
          ]
        },
        {
          "output_type": "stream",
          "name": "stderr",
          "text": [
            "Época 156/200: 100%|██████████| 152496/152496 [00:26<00:00, 5759.89it/s]\n"
          ]
        },
        {
          "output_type": "stream",
          "name": "stdout",
          "text": [
            "RMSE de Treino: 0.1770\n"
          ]
        },
        {
          "output_type": "stream",
          "name": "stderr",
          "text": [
            "Época 157/200: 100%|██████████| 152496/152496 [00:26<00:00, 5846.84it/s]\n"
          ]
        },
        {
          "output_type": "stream",
          "name": "stdout",
          "text": [
            "RMSE de Treino: 0.1766\n"
          ]
        },
        {
          "output_type": "stream",
          "name": "stderr",
          "text": [
            "Época 158/200: 100%|██████████| 152496/152496 [00:26<00:00, 5858.20it/s]\n"
          ]
        },
        {
          "output_type": "stream",
          "name": "stdout",
          "text": [
            "RMSE de Treino: 0.1762\n"
          ]
        },
        {
          "output_type": "stream",
          "name": "stderr",
          "text": [
            "Época 159/200: 100%|██████████| 152496/152496 [00:26<00:00, 5851.22it/s]\n"
          ]
        },
        {
          "output_type": "stream",
          "name": "stdout",
          "text": [
            "RMSE de Treino: 0.1758\n"
          ]
        },
        {
          "output_type": "stream",
          "name": "stderr",
          "text": [
            "Época 160/200: 100%|██████████| 152496/152496 [00:26<00:00, 5651.63it/s]\n"
          ]
        },
        {
          "output_type": "stream",
          "name": "stdout",
          "text": [
            "RMSE de Treino: 0.1754\n"
          ]
        },
        {
          "output_type": "stream",
          "name": "stderr",
          "text": [
            "Época 161/200: 100%|██████████| 152496/152496 [00:26<00:00, 5818.10it/s]\n"
          ]
        },
        {
          "output_type": "stream",
          "name": "stdout",
          "text": [
            "RMSE de Treino: 0.1750\n"
          ]
        },
        {
          "output_type": "stream",
          "name": "stderr",
          "text": [
            "Época 162/200: 100%|██████████| 152496/152496 [00:26<00:00, 5838.91it/s]\n"
          ]
        },
        {
          "output_type": "stream",
          "name": "stdout",
          "text": [
            "RMSE de Treino: 0.1747\n"
          ]
        },
        {
          "output_type": "stream",
          "name": "stderr",
          "text": [
            "Época 163/200: 100%|██████████| 152496/152496 [00:25<00:00, 5892.44it/s]\n"
          ]
        },
        {
          "output_type": "stream",
          "name": "stdout",
          "text": [
            "RMSE de Treino: 0.1743\n"
          ]
        },
        {
          "output_type": "stream",
          "name": "stderr",
          "text": [
            "Época 164/200: 100%|██████████| 152496/152496 [00:26<00:00, 5775.48it/s]\n"
          ]
        },
        {
          "output_type": "stream",
          "name": "stdout",
          "text": [
            "RMSE de Treino: 0.1739\n"
          ]
        },
        {
          "output_type": "stream",
          "name": "stderr",
          "text": [
            "Época 165/200: 100%|██████████| 152496/152496 [00:25<00:00, 5888.43it/s]\n"
          ]
        },
        {
          "output_type": "stream",
          "name": "stdout",
          "text": [
            "RMSE de Treino: 0.1736\n"
          ]
        },
        {
          "output_type": "stream",
          "name": "stderr",
          "text": [
            "Época 166/200: 100%|██████████| 152496/152496 [00:25<00:00, 5866.86it/s]\n"
          ]
        },
        {
          "output_type": "stream",
          "name": "stdout",
          "text": [
            "RMSE de Treino: 0.1732\n"
          ]
        },
        {
          "output_type": "stream",
          "name": "stderr",
          "text": [
            "Época 167/200: 100%|██████████| 152496/152496 [00:25<00:00, 5885.96it/s]\n"
          ]
        },
        {
          "output_type": "stream",
          "name": "stdout",
          "text": [
            "RMSE de Treino: 0.1729\n"
          ]
        },
        {
          "output_type": "stream",
          "name": "stderr",
          "text": [
            "Época 168/200: 100%|██████████| 152496/152496 [00:26<00:00, 5746.84it/s]\n"
          ]
        },
        {
          "output_type": "stream",
          "name": "stdout",
          "text": [
            "RMSE de Treino: 0.1725\n"
          ]
        },
        {
          "output_type": "stream",
          "name": "stderr",
          "text": [
            "Época 169/200: 100%|██████████| 152496/152496 [00:25<00:00, 5878.35it/s]\n"
          ]
        },
        {
          "output_type": "stream",
          "name": "stdout",
          "text": [
            "RMSE de Treino: 0.1722\n"
          ]
        },
        {
          "output_type": "stream",
          "name": "stderr",
          "text": [
            "Época 170/200: 100%|██████████| 152496/152496 [00:25<00:00, 5880.25it/s]\n"
          ]
        },
        {
          "output_type": "stream",
          "name": "stdout",
          "text": [
            "RMSE de Treino: 0.1719\n"
          ]
        },
        {
          "output_type": "stream",
          "name": "stderr",
          "text": [
            "Época 171/200: 100%|██████████| 152496/152496 [00:25<00:00, 5875.14it/s]\n"
          ]
        },
        {
          "output_type": "stream",
          "name": "stdout",
          "text": [
            "RMSE de Treino: 0.1716\n"
          ]
        },
        {
          "output_type": "stream",
          "name": "stderr",
          "text": [
            "Época 172/200: 100%|██████████| 152496/152496 [00:26<00:00, 5714.19it/s]\n"
          ]
        },
        {
          "output_type": "stream",
          "name": "stdout",
          "text": [
            "RMSE de Treino: 0.1712\n"
          ]
        },
        {
          "output_type": "stream",
          "name": "stderr",
          "text": [
            "Época 173/200: 100%|██████████| 152496/152496 [00:26<00:00, 5820.57it/s]\n"
          ]
        },
        {
          "output_type": "stream",
          "name": "stdout",
          "text": [
            "RMSE de Treino: 0.1709\n"
          ]
        },
        {
          "output_type": "stream",
          "name": "stderr",
          "text": [
            "Época 174/200: 100%|██████████| 152496/152496 [00:26<00:00, 5804.68it/s]\n"
          ]
        },
        {
          "output_type": "stream",
          "name": "stdout",
          "text": [
            "RMSE de Treino: 0.1706\n"
          ]
        },
        {
          "output_type": "stream",
          "name": "stderr",
          "text": [
            "Época 175/200: 100%|██████████| 152496/152496 [00:26<00:00, 5749.01it/s]\n"
          ]
        },
        {
          "output_type": "stream",
          "name": "stdout",
          "text": [
            "RMSE de Treino: 0.1703\n"
          ]
        },
        {
          "output_type": "stream",
          "name": "stderr",
          "text": [
            "Época 176/200: 100%|██████████| 152496/152496 [00:26<00:00, 5827.80it/s]\n"
          ]
        },
        {
          "output_type": "stream",
          "name": "stdout",
          "text": [
            "RMSE de Treino: 0.1700\n"
          ]
        },
        {
          "output_type": "stream",
          "name": "stderr",
          "text": [
            "Época 177/200: 100%|██████████| 152496/152496 [00:26<00:00, 5857.75it/s]\n"
          ]
        },
        {
          "output_type": "stream",
          "name": "stdout",
          "text": [
            "RMSE de Treino: 0.1697\n"
          ]
        },
        {
          "output_type": "stream",
          "name": "stderr",
          "text": [
            "Época 178/200: 100%|██████████| 152496/152496 [00:25<00:00, 5875.21it/s]\n"
          ]
        },
        {
          "output_type": "stream",
          "name": "stdout",
          "text": [
            "RMSE de Treino: 0.1694\n"
          ]
        },
        {
          "output_type": "stream",
          "name": "stderr",
          "text": [
            "Época 179/200: 100%|██████████| 152496/152496 [00:26<00:00, 5785.12it/s]\n"
          ]
        },
        {
          "output_type": "stream",
          "name": "stdout",
          "text": [
            "RMSE de Treino: 0.1691\n"
          ]
        },
        {
          "output_type": "stream",
          "name": "stderr",
          "text": [
            "Época 180/200: 100%|██████████| 152496/152496 [00:26<00:00, 5814.10it/s]\n"
          ]
        },
        {
          "output_type": "stream",
          "name": "stdout",
          "text": [
            "RMSE de Treino: 0.1688\n"
          ]
        },
        {
          "output_type": "stream",
          "name": "stderr",
          "text": [
            "Época 181/200: 100%|██████████| 152496/152496 [00:25<00:00, 5875.73it/s]\n"
          ]
        },
        {
          "output_type": "stream",
          "name": "stdout",
          "text": [
            "RMSE de Treino: 0.1685\n"
          ]
        },
        {
          "output_type": "stream",
          "name": "stderr",
          "text": [
            "Época 182/200: 100%|██████████| 152496/152496 [00:25<00:00, 5875.25it/s]\n"
          ]
        },
        {
          "output_type": "stream",
          "name": "stdout",
          "text": [
            "RMSE de Treino: 0.1682\n"
          ]
        },
        {
          "output_type": "stream",
          "name": "stderr",
          "text": [
            "Época 183/200: 100%|██████████| 152496/152496 [00:26<00:00, 5761.05it/s]\n"
          ]
        },
        {
          "output_type": "stream",
          "name": "stdout",
          "text": [
            "RMSE de Treino: 0.1679\n"
          ]
        },
        {
          "output_type": "stream",
          "name": "stderr",
          "text": [
            "Época 184/200: 100%|██████████| 152496/152496 [00:26<00:00, 5799.47it/s]\n"
          ]
        },
        {
          "output_type": "stream",
          "name": "stdout",
          "text": [
            "RMSE de Treino: 0.1676\n"
          ]
        },
        {
          "output_type": "stream",
          "name": "stderr",
          "text": [
            "Época 185/200: 100%|██████████| 152496/152496 [00:26<00:00, 5772.31it/s]\n"
          ]
        },
        {
          "output_type": "stream",
          "name": "stdout",
          "text": [
            "RMSE de Treino: 0.1674\n"
          ]
        },
        {
          "output_type": "stream",
          "name": "stderr",
          "text": [
            "Época 186/200: 100%|██████████| 152496/152496 [00:26<00:00, 5864.55it/s]\n"
          ]
        },
        {
          "output_type": "stream",
          "name": "stdout",
          "text": [
            "RMSE de Treino: 0.1671\n"
          ]
        },
        {
          "output_type": "stream",
          "name": "stderr",
          "text": [
            "Época 187/200: 100%|██████████| 152496/152496 [00:26<00:00, 5714.92it/s]\n"
          ]
        },
        {
          "output_type": "stream",
          "name": "stdout",
          "text": [
            "RMSE de Treino: 0.1668\n"
          ]
        },
        {
          "output_type": "stream",
          "name": "stderr",
          "text": [
            "Época 188/200: 100%|██████████| 152496/152496 [00:26<00:00, 5851.01it/s]\n"
          ]
        },
        {
          "output_type": "stream",
          "name": "stdout",
          "text": [
            "RMSE de Treino: 0.1665\n"
          ]
        },
        {
          "output_type": "stream",
          "name": "stderr",
          "text": [
            "Época 189/200: 100%|██████████| 152496/152496 [00:26<00:00, 5832.79it/s]\n"
          ]
        },
        {
          "output_type": "stream",
          "name": "stdout",
          "text": [
            "RMSE de Treino: 0.1663\n"
          ]
        },
        {
          "output_type": "stream",
          "name": "stderr",
          "text": [
            "Época 190/200: 100%|██████████| 152496/152496 [00:25<00:00, 5884.81it/s]\n"
          ]
        },
        {
          "output_type": "stream",
          "name": "stdout",
          "text": [
            "RMSE de Treino: 0.1660\n"
          ]
        },
        {
          "output_type": "stream",
          "name": "stderr",
          "text": [
            "Época 191/200: 100%|██████████| 152496/152496 [00:26<00:00, 5703.31it/s]\n"
          ]
        },
        {
          "output_type": "stream",
          "name": "stdout",
          "text": [
            "RMSE de Treino: 0.1658\n"
          ]
        },
        {
          "output_type": "stream",
          "name": "stderr",
          "text": [
            "Época 192/200: 100%|██████████| 152496/152496 [00:26<00:00, 5822.88it/s]\n"
          ]
        },
        {
          "output_type": "stream",
          "name": "stdout",
          "text": [
            "RMSE de Treino: 0.1655\n"
          ]
        },
        {
          "output_type": "stream",
          "name": "stderr",
          "text": [
            "Época 193/200: 100%|██████████| 152496/152496 [00:26<00:00, 5842.22it/s]\n"
          ]
        },
        {
          "output_type": "stream",
          "name": "stdout",
          "text": [
            "RMSE de Treino: 0.1653\n"
          ]
        },
        {
          "output_type": "stream",
          "name": "stderr",
          "text": [
            "Época 194/200: 100%|██████████| 152496/152496 [00:26<00:00, 5852.95it/s]\n"
          ]
        },
        {
          "output_type": "stream",
          "name": "stdout",
          "text": [
            "RMSE de Treino: 0.1650\n"
          ]
        },
        {
          "output_type": "stream",
          "name": "stderr",
          "text": [
            "Época 195/200: 100%|██████████| 152496/152496 [00:26<00:00, 5718.04it/s]\n"
          ]
        },
        {
          "output_type": "stream",
          "name": "stdout",
          "text": [
            "RMSE de Treino: 0.1648\n"
          ]
        },
        {
          "output_type": "stream",
          "name": "stderr",
          "text": [
            "Época 196/200: 100%|██████████| 152496/152496 [00:26<00:00, 5855.06it/s]\n"
          ]
        },
        {
          "output_type": "stream",
          "name": "stdout",
          "text": [
            "RMSE de Treino: 0.1645\n"
          ]
        },
        {
          "output_type": "stream",
          "name": "stderr",
          "text": [
            "Época 197/200: 100%|██████████| 152496/152496 [00:26<00:00, 5795.35it/s]\n"
          ]
        },
        {
          "output_type": "stream",
          "name": "stdout",
          "text": [
            "RMSE de Treino: 0.1643\n"
          ]
        },
        {
          "output_type": "stream",
          "name": "stderr",
          "text": [
            "Época 198/200: 100%|██████████| 152496/152496 [00:26<00:00, 5759.37it/s]\n"
          ]
        },
        {
          "output_type": "stream",
          "name": "stdout",
          "text": [
            "RMSE de Treino: 0.1640\n"
          ]
        },
        {
          "output_type": "stream",
          "name": "stderr",
          "text": [
            "Época 199/200: 100%|██████████| 152496/152496 [00:26<00:00, 5754.16it/s]\n"
          ]
        },
        {
          "output_type": "stream",
          "name": "stdout",
          "text": [
            "RMSE de Treino: 0.1638\n"
          ]
        },
        {
          "output_type": "stream",
          "name": "stderr",
          "text": [
            "Época 200/200: 100%|██████████| 152496/152496 [00:26<00:00, 5836.89it/s]"
          ]
        },
        {
          "output_type": "stream",
          "name": "stdout",
          "text": [
            "RMSE de Treino: 0.1636\n"
          ]
        },
        {
          "output_type": "stream",
          "name": "stderr",
          "text": [
            "\n"
          ]
        },
        {
          "output_type": "execute_result",
          "data": {
            "text/plain": [
              "<__main__.SVDpp at 0x7c4a3198a990>"
            ]
          },
          "metadata": {},
          "execution_count": 25
        }
      ],
      "source": [
        "from tqdm import tqdm\n",
        "\n",
        "class SVDpp:\n",
        "\n",
        "    def __init__(self, n_users, n_items, n_factors=20, n_epochs=20, lr=0.005, reg=0.02):\n",
        "        self.n_users = n_users\n",
        "        self.n_items = n_items\n",
        "        self.n_factors = n_factors\n",
        "        self.n_epochs = n_epochs\n",
        "        self.lr = lr\n",
        "        self.reg = reg\n",
        "        self.history = {'train_rmse': []}\n",
        "\n",
        "        self._initialize()\n",
        "\n",
        "    def _initialize(self):\n",
        "\n",
        "        # valores totais de n_users e n_items\n",
        "        self.bu = np.zeros(self.n_users, np.double)\n",
        "        self.bi = np.zeros(self.n_items, np.double)\n",
        "        self.P = np.random.normal(0, .1, (self.n_users, self.n_factors))\n",
        "        self.Q = np.random.normal(0, .1, (self.n_items, self.n_factors))\n",
        "        self.Y = np.random.normal(0, .1, (self.n_items, self.n_factors))\n",
        "\n",
        "    def fit(self, train_df):\n",
        "\n",
        "        self.mu = train_df['rating'].mean()\n",
        "\n",
        "        # calcula o conjunto de feedback implícito N(u) para cada user\n",
        "        implicit_feedback = train_df.groupby('userId')['movieId'].apply(list).to_dict()\n",
        "\n",
        "        print(\"* Iniciando o treinamento do SVD++\")\n",
        "\n",
        "        for epoch in range(self.n_epochs):\n",
        "\n",
        "            total_error = 0\n",
        "\n",
        "            for _, row in tqdm(train_df.iterrows(), total=train_df.shape[0], desc=f\"Época {epoch+1}/{self.n_epochs}\"):\n",
        "\n",
        "                u, i, r_ui = row['userId'], row['movieId'], row['rating']\n",
        "                N_u = implicit_feedback.get(u, [])\n",
        "                implicit_term = np.zeros(self.n_factors)\n",
        "\n",
        "                if N_u:\n",
        "\n",
        "                    norm = len(N_u) ** -0.5\n",
        "                    implicit_sum = self.Y[N_u].sum(axis=0)\n",
        "                    implicit_term = implicit_sum * norm\n",
        "\n",
        "                p_u_impl = self.P[u] + implicit_term\n",
        "                pred = self.mu + self.bu[u] + self.bi[i] + np.dot(self.Q[i], p_u_impl)\n",
        "\n",
        "                error = r_ui - pred\n",
        "                total_error += error ** 2\n",
        "\n",
        "                self.bu[u] += self.lr * (error - self.reg * self.bu[u])\n",
        "                self.bi[i] += self.lr * (error - self.reg * self.bi[i])\n",
        "                self.P[u] += self.lr * (error * self.Q[i] - self.reg * self.P[u])\n",
        "                self.Q[i] += self.lr * (error * p_u_impl - self.reg * self.Q[i])\n",
        "\n",
        "                if N_u:\n",
        "                    y_grad = self.Q[i] * norm\n",
        "\n",
        "                    for j in N_u:\n",
        "                        self.Y[j] += self.lr * (error * y_grad - self.reg * self.Y[j])\n",
        "\n",
        "            rmse = np.sqrt(total_error / len(train_df))\n",
        "            self.history['train_rmse'].append(rmse)\n",
        "            print(f\"RMSE de Treino: {rmse:.4f}\")\n",
        "\n",
        "        return self\n",
        "\n",
        "# Pega usuários e itens\n",
        "n_users_total = df['userId'].nunique()\n",
        "n_items_total = df['movieId'].nunique()\n",
        "\n",
        "# Treinando modelo\n",
        "svdpp_model = SVDpp(\n",
        "    n_users=n_users_total,\n",
        "    n_items=n_items_total,\n",
        "    n_factors=30,\n",
        "    n_epochs=200,\n",
        "    lr=0.007,\n",
        "    reg=0.02\n",
        ")\n",
        "\n",
        "svdpp_model.fit(train)\n"
      ]
    },
    {
      "cell_type": "code",
      "source": [
        "from joblib import dump\n",
        "\n",
        "filename = 'svdpp_model_aula_02.joblib'\n",
        "\n",
        "dump(svdpp_model, filename)\n",
        "\n",
        "print(f\"* Modelo salvo em '{filename}'\")"
      ],
      "metadata": {
        "colab": {
          "base_uri": "https://localhost:8080/"
        },
        "id": "lU4PX36eQ2b-",
        "outputId": "fd0f4667-6705-4aca-fce1-b687e13e3319"
      },
      "id": "lU4PX36eQ2b-",
      "execution_count": 27,
      "outputs": [
        {
          "output_type": "stream",
          "name": "stdout",
          "text": [
            "* Modelo salvo em 'svdpp_model_aula_02.joblib'\n"
          ]
        }
      ]
    },
    {
      "cell_type": "code",
      "source": [
        "from joblib import load\n",
        "\n",
        "filename = 'svdpp_model_aula_02.joblib'\n",
        "\n",
        "model_carregado_joblib = load(filename)\n",
        "\n",
        "print(f\"* Modelo '{filename}' carregado\")\n",
        "\n",
        "svdpp_model = model_carregado_joblib"
      ],
      "metadata": {
        "colab": {
          "base_uri": "https://localhost:8080/"
        },
        "id": "rYbd0_eSQ_cq",
        "outputId": "124d8f5b-681f-4cf9-96bb-63927ce6cab2"
      },
      "id": "rYbd0_eSQ_cq",
      "execution_count": 34,
      "outputs": [
        {
          "output_type": "stream",
          "name": "stdout",
          "text": [
            "* Modelo 'svdpp_model_aula_02.joblib' carregado\n"
          ]
        }
      ]
    },
    {
      "cell_type": "markdown",
      "id": "c20fb326",
      "metadata": {
        "id": "c20fb326"
      },
      "source": [
        "***b)*** Plote a curva de aprendizado de seu modelo."
      ]
    },
    {
      "cell_type": "code",
      "source": [
        "import matplotlib.pyplot as plt\n",
        "import matplotlib.ticker as mticker\n",
        "import numpy as np\n",
        "\n",
        "def plot_learning_curve_melhorado(history):\n",
        "\n",
        "    erros = history['train_rmse']\n",
        "    epocas = range(1, len(erros) + 1)\n",
        "\n",
        "    plt.style.use('seaborn-v0_8-whitegrid')\n",
        "\n",
        "    fig, ax = plt.subplots(figsize=(12, 7))\n",
        "    ax.plot(epocas, erros, label='RMSE de Treino', color='royalblue', linewidth=2)\n",
        "\n",
        "    # Adiciona marcadores a cada 20 épocas para facilitar a visualização\n",
        "    ax.plot(epocas[::20], erros[::20], 'o', color='darkblue')\n",
        "\n",
        "    ax.set_title('Curva de Aprendizado do Modelo SVD++', fontsize=16)\n",
        "    ax.set_xlabel('Época', fontsize=12)\n",
        "    ax.set_ylabel('RMSE (Erro Quadrático Médio Raiz)', fontsize=12)\n",
        "    ax.legend(fontsize=12)\n",
        "\n",
        "    # Limita o num de marcadores no eixo X\n",
        "    ax.xaxis.set_major_locator(mticker.MaxNLocator(nbins=15, integer=True))\n",
        "\n",
        "    ax.grid(True, which='both', linestyle='--', linewidth=0.5)\n",
        "    plt.tight_layout()\n",
        "\n",
        "    plt.show()\n",
        "\n",
        "history_falso = {'train_rmse': 1 / np.log10(np.arange(1, 201) + 1) + 0.75}\n",
        "\n",
        "plot_learning_curve_melhorado(svdpp_model.history)"
      ],
      "metadata": {
        "colab": {
          "base_uri": "https://localhost:8080/",
          "height": 707
        },
        "id": "cVUb1M4lhGAG",
        "outputId": "54257386-426c-4bdb-d394-f44852805fb3"
      },
      "id": "cVUb1M4lhGAG",
      "execution_count": 35,
      "outputs": [
        {
          "output_type": "display_data",
          "data": {
            "text/plain": [
              "<Figure size 1200x700 with 1 Axes>"
            ],
            "image/png": "[encoded data removed]"
          },
          "metadata": {}
        }
      ]
    },
    {
      "cell_type": "markdown",
      "id": "dd03fd7c",
      "metadata": {
        "id": "dd03fd7c"
      },
      "source": [
        "***c)*** Implemente a função de predição do modelo SVD++, comparando algumas notas preditas com as notas reais do conjunto de teste."
      ]
    },
    {
      "cell_type": "code",
      "execution_count": 36,
      "id": "4a579eac",
      "metadata": {
        "colab": {
          "base_uri": "https://localhost:8080/"
        },
        "id": "4a579eac",
        "outputId": "e05075a7-731e-4830-cfd4-47a68e7b7333"
      },
      "outputs": [
        {
          "output_type": "stream",
          "name": "stdout",
          "text": [
            "* Predições vs. Reais\n",
            "\n",
            "Filme: She's the Man (2006)                               | Nota Real: 2.50 | Nota Predita: 2.17\n",
            "Filme: North by Northwest (1959)                          | Nota Real: 3.50 | Nota Predita: 4.04\n",
            "Filme: Reservoir Dogs (1992)                              | Nota Real: 4.50 | Nota Predita: 4.55\n",
            "Filme: North by Northwest (1959)                          | Nota Real: 5.00 | Nota Predita: 5.00\n",
            "Filme: Life Is Beautiful (La Vita è bella) (1997)         | Nota Real: 4.00 | Nota Predita: 2.99\n",
            "Filme: Dark City (1998)                                   | Nota Real: 3.50 | Nota Predita: 3.67\n",
            "Filme: Showgirls (1995)                                   | Nota Real: 1.00 | Nota Predita: 1.36\n",
            "Filme: Bowling for Columbine (2002)                       | Nota Real: 0.50 | Nota Predita: 4.10\n",
            "Filme: Zero Effect (1998)                                 | Nota Real: 3.00 | Nota Predita: 3.54\n",
            "Filme: Knocked Up (2007)                                  | Nota Real: 2.50 | Nota Predita: 3.09\n"
          ]
        }
      ],
      "source": [
        "# N(u) com o dataset predição\n",
        "implicit_feedback_full = df.groupby('userId')['movieId'].apply(list).to_dict()\n",
        "\n",
        "def predict_svdpp(model, user_id, item_id, implicit_map):\n",
        "\n",
        "    # termo de feedback implícito\n",
        "    N_u = implicit_map.get(user_id, [])\n",
        "    implicit_term = np.zeros(model.n_factors)\n",
        "\n",
        "    if N_u:\n",
        "\n",
        "        norm = len(N_u) ** -0.5\n",
        "        implicit_sum = model.Y[N_u].sum(axis=0)\n",
        "        implicit_term = implicit_sum * norm\n",
        "\n",
        "    # fator do usuário com o termo implícito\n",
        "    p_u_impl = model.P[user_id] + implicit_term\n",
        "\n",
        "    # Predição final\n",
        "    pred = model.mu + model.bu[user_id] + model.bi[item_id] + np.dot(model.Q[item_id], p_u_impl)\n",
        "    pred = np.clip(pred, 0, 5.0)\n",
        "\n",
        "    return pred\n",
        "\n",
        "# Comparando algumas predições com valores reais do conjunto de teste\n",
        "print(\"* Predições vs. Reais\\n\")\n",
        "\n",
        "for _, row in test.head(10).iterrows():\n",
        "\n",
        "    u, i, r_real = row['userId'], row['movieId'], row['rating']\n",
        "\n",
        "    if u < len(svdpp_model.bu) and i < len(svdpp_model.bi):\n",
        "        r_pred = predict_svdpp(svdpp_model, u, i, implicit_feedback_full)\n",
        "        titulo = map_title.get(i, \"Título não encontrado\")\n",
        "        print(f\"Filme: {titulo:<50} | Nota Real: {r_real:.2f} | Nota Predita: {r_pred:.2f}\")"
      ]
    },
    {
      "cell_type": "markdown",
      "id": "0e9e4711",
      "metadata": {
        "id": "0e9e4711"
      },
      "source": [
        "**Exercício 02**: Utilizando o código do NCF visto na aula, compare o desempenho entre as instâncias GMF, MLP e NeuMF nesta base de dados (ml-20m-compact)."
      ]
    },
    {
      "cell_type": "code",
      "source": [
        "%pip install tensorflow\n",
        "%pip install tensorflow tensorflow-intel"
      ],
      "metadata": {
        "id": "Z7pJ9AuGucUj"
      },
      "id": "Z7pJ9AuGucUj",
      "execution_count": null,
      "outputs": []
    },
    {
      "cell_type": "code",
      "execution_count": 56,
      "id": "5045a5d8",
      "metadata": {
        "colab": {
          "base_uri": "https://localhost:8080/"
        },
        "id": "5045a5d8",
        "outputId": "de3b3fb9-cce6-4ebe-c1e0-fad7ee085621"
      },
      "outputs": [
        {
          "output_type": "stream",
          "name": "stdout",
          "text": [
            "* Treinando GMF\n",
            "Epoch 1/200\n",
            "\u001b[1m596/596\u001b[0m \u001b[32m━━━━━━━━━━━━━━━━━━━━\u001b[0m\u001b[37m\u001b[0m \u001b[1m3s\u001b[0m 4ms/step - loss: 11.4570 - root_mean_squared_error: 3.3805 - val_loss: 2.0418 - val_root_mean_squared_error: 1.4289\n",
            "Epoch 2/200\n",
            "\u001b[1m596/596\u001b[0m \u001b[32m━━━━━━━━━━━━━━━━━━━━\u001b[0m\u001b[37m\u001b[0m \u001b[1m2s\u001b[0m 3ms/step - loss: 1.3877 - root_mean_squared_error: 1.1754 - val_loss: 0.8908 - val_root_mean_squared_error: 0.9438\n",
            "Epoch 3/200\n",
            "\u001b[1m596/596\u001b[0m \u001b[32m━━━━━━━━━━━━━━━━━━━━\u001b[0m\u001b[37m\u001b[0m \u001b[1m3s\u001b[0m 3ms/step - loss: 0.7687 - root_mean_squared_error: 0.8767 - val_loss: 0.7899 - val_root_mean_squared_error: 0.8888\n",
            "Epoch 4/200\n",
            "\u001b[1m596/596\u001b[0m \u001b[32m━━━━━━━━━━━━━━━━━━━━\u001b[0m\u001b[37m\u001b[0m \u001b[1m3s\u001b[0m 3ms/step - loss: 0.6378 - root_mean_squared_error: 0.7986 - val_loss: 0.7713 - val_root_mean_squared_error: 0.8782\n",
            "Epoch 5/200\n",
            "\u001b[1m596/596\u001b[0m \u001b[32m━━━━━━━━━━━━━━━━━━━━\u001b[0m\u001b[37m\u001b[0m \u001b[1m2s\u001b[0m 3ms/step - loss: 0.5544 - root_mean_squared_error: 0.7445 - val_loss: 0.7810 - val_root_mean_squared_error: 0.8837\n",
            "Epoch 6/200\n",
            "\u001b[1m596/596\u001b[0m \u001b[32m━━━━━━━━━━━━━━━━━━━━\u001b[0m\u001b[37m\u001b[0m \u001b[1m2s\u001b[0m 3ms/step - loss: 0.4993 - root_mean_squared_error: 0.7065 - val_loss: 0.7989 - val_root_mean_squared_error: 0.8938\n",
            "Epoch 7/200\n",
            "\u001b[1m596/596\u001b[0m \u001b[32m━━━━━━━━━━━━━━━━━━━━\u001b[0m\u001b[37m\u001b[0m \u001b[1m3s\u001b[0m 3ms/step - loss: 0.4663 - root_mean_squared_error: 0.6828 - val_loss: 0.8173 - val_root_mean_squared_error: 0.9040\n",
            "Epoch 8/200\n",
            "\u001b[1m596/596\u001b[0m \u001b[32m━━━━━━━━━━━━━━━━━━━━\u001b[0m\u001b[37m\u001b[0m \u001b[1m3s\u001b[0m 3ms/step - loss: 0.4302 - root_mean_squared_error: 0.6558 - val_loss: 0.8308 - val_root_mean_squared_error: 0.9115\n",
            "Epoch 9/200\n",
            "\u001b[1m596/596\u001b[0m \u001b[32m━━━━━━━━━━━━━━━━━━━━\u001b[0m\u001b[37m\u001b[0m \u001b[1m2s\u001b[0m 3ms/step - loss: 0.3963 - root_mean_squared_error: 0.6295 - val_loss: 0.8510 - val_root_mean_squared_error: 0.9225\n",
            "Epoch 10/200\n",
            "\u001b[1m596/596\u001b[0m \u001b[32m━━━━━━━━━━━━━━━━━━━━\u001b[0m\u001b[37m\u001b[0m \u001b[1m3s\u001b[0m 4ms/step - loss: 0.3603 - root_mean_squared_error: 0.6001 - val_loss: 0.8752 - val_root_mean_squared_error: 0.9355\n",
            "Epoch 11/200\n",
            "\u001b[1m596/596\u001b[0m \u001b[32m━━━━━━━━━━━━━━━━━━━━\u001b[0m\u001b[37m\u001b[0m \u001b[1m4s\u001b[0m 3ms/step - loss: 0.3193 - root_mean_squared_error: 0.5650 - val_loss: 0.8970 - val_root_mean_squared_error: 0.9471\n",
            "Epoch 12/200\n",
            "\u001b[1m596/596\u001b[0m \u001b[32m━━━━━━━━━━━━━━━━━━━━\u001b[0m\u001b[37m\u001b[0m \u001b[1m2s\u001b[0m 3ms/step - loss: 0.2765 - root_mean_squared_error: 0.5257 - val_loss: 0.9272 - val_root_mean_squared_error: 0.9629\n",
            "Epoch 13/200\n",
            "\u001b[1m596/596\u001b[0m \u001b[32m━━━━━━━━━━━━━━━━━━━━\u001b[0m\u001b[37m\u001b[0m \u001b[1m2s\u001b[0m 3ms/step - loss: 0.2396 - root_mean_squared_error: 0.4894 - val_loss: 0.9587 - val_root_mean_squared_error: 0.9791\n",
            "Epoch 14/200\n",
            "\u001b[1m596/596\u001b[0m \u001b[32m━━━━━━━━━━━━━━━━━━━━\u001b[0m\u001b[37m\u001b[0m \u001b[1m2s\u001b[0m 4ms/step - loss: 0.2120 - root_mean_squared_error: 0.4604 - val_loss: 0.9868 - val_root_mean_squared_error: 0.9934\n",
            "Epoch 15/200\n",
            "\u001b[1m596/596\u001b[0m \u001b[32m━━━━━━━━━━━━━━━━━━━━\u001b[0m\u001b[37m\u001b[0m \u001b[1m2s\u001b[0m 3ms/step - loss: 0.1804 - root_mean_squared_error: 0.4246 - val_loss: 1.0116 - val_root_mean_squared_error: 1.0058\n",
            "Epoch 16/200\n",
            "\u001b[1m596/596\u001b[0m \u001b[32m━━━━━━━━━━━━━━━━━━━━\u001b[0m\u001b[37m\u001b[0m \u001b[1m2s\u001b[0m 3ms/step - loss: 0.1554 - root_mean_squared_error: 0.3942 - val_loss: 1.0394 - val_root_mean_squared_error: 1.0195\n",
            "Epoch 17/200\n",
            "\u001b[1m596/596\u001b[0m \u001b[32m━━━━━━━━━━━━━━━━━━━━\u001b[0m\u001b[37m\u001b[0m \u001b[1m2s\u001b[0m 3ms/step - loss: 0.1341 - root_mean_squared_error: 0.3661 - val_loss: 1.0618 - val_root_mean_squared_error: 1.0304\n",
            "Epoch 18/200\n",
            "\u001b[1m596/596\u001b[0m \u001b[32m━━━━━━━━━━━━━━━━━━━━\u001b[0m\u001b[37m\u001b[0m \u001b[1m3s\u001b[0m 3ms/step - loss: 0.1137 - root_mean_squared_error: 0.3371 - val_loss: 1.0835 - val_root_mean_squared_error: 1.0409\n",
            "Epoch 19/200\n",
            "\u001b[1m596/596\u001b[0m \u001b[32m━━━━━━━━━━━━━━━━━━━━\u001b[0m\u001b[37m\u001b[0m \u001b[1m3s\u001b[0m 4ms/step - loss: 0.1004 - root_mean_squared_error: 0.3168 - val_loss: 1.0972 - val_root_mean_squared_error: 1.0475\n",
            "Epoch 20/200\n",
            "\u001b[1m596/596\u001b[0m \u001b[32m━━━━━━━━━━━━━━━━━━━━\u001b[0m\u001b[37m\u001b[0m \u001b[1m2s\u001b[0m 3ms/step - loss: 0.0882 - root_mean_squared_error: 0.2969 - val_loss: 1.1117 - val_root_mean_squared_error: 1.0544\n",
            "Epoch 21/200\n",
            "\u001b[1m596/596\u001b[0m \u001b[32m━━━━━━━━━━━━━━━━━━━━\u001b[0m\u001b[37m\u001b[0m \u001b[1m3s\u001b[0m 3ms/step - loss: 0.0772 - root_mean_squared_error: 0.2777 - val_loss: 1.1232 - val_root_mean_squared_error: 1.0598\n",
            "Epoch 22/200\n",
            "\u001b[1m596/596\u001b[0m \u001b[32m━━━━━━━━━━━━━━━━━━━━\u001b[0m\u001b[37m\u001b[0m \u001b[1m3s\u001b[0m 3ms/step - loss: 0.0700 - root_mean_squared_error: 0.2645 - val_loss: 1.1321 - val_root_mean_squared_error: 1.0640\n",
            "Epoch 23/200\n",
            "\u001b[1m596/596\u001b[0m \u001b[32m━━━━━━━━━━━━━━━━━━━━\u001b[0m\u001b[37m\u001b[0m \u001b[1m3s\u001b[0m 3ms/step - loss: 0.0617 - root_mean_squared_error: 0.2483 - val_loss: 1.1395 - val_root_mean_squared_error: 1.0675\n",
            "Epoch 24/200\n",
            "\u001b[1m596/596\u001b[0m \u001b[32m━━━━━━━━━━━━━━━━━━━━\u001b[0m\u001b[37m\u001b[0m \u001b[1m2s\u001b[0m 3ms/step - loss: 0.0557 - root_mean_squared_error: 0.2359 - val_loss: 1.1453 - val_root_mean_squared_error: 1.0702\n",
            "* Treinando MLP\n",
            "Epoch 1/200\n",
            "\u001b[1m596/596\u001b[0m \u001b[32m━━━━━━━━━━━━━━━━━━━━\u001b[0m\u001b[37m\u001b[0m \u001b[1m3s\u001b[0m 3ms/step - loss: 3.4935 - root_mean_squared_error: 1.7641 - val_loss: 0.7371 - val_root_mean_squared_error: 0.8586\n",
            "Epoch 2/200\n",
            "\u001b[1m596/596\u001b[0m \u001b[32m━━━━━━━━━━━━━━━━━━━━\u001b[0m\u001b[37m\u001b[0m \u001b[1m2s\u001b[0m 3ms/step - loss: 0.6849 - root_mean_squared_error: 0.8276 - val_loss: 0.7233 - val_root_mean_squared_error: 0.8505\n",
            "Epoch 3/200\n",
            "\u001b[1m596/596\u001b[0m \u001b[32m━━━━━━━━━━━━━━━━━━━━\u001b[0m\u001b[37m\u001b[0m \u001b[1m2s\u001b[0m 3ms/step - loss: 0.6471 - root_mean_squared_error: 0.8043 - val_loss: 0.7190 - val_root_mean_squared_error: 0.8480\n",
            "Epoch 4/200\n",
            "\u001b[1m596/596\u001b[0m \u001b[32m━━━━━━━━━━━━━━━━━━━━\u001b[0m\u001b[37m\u001b[0m \u001b[1m3s\u001b[0m 5ms/step - loss: 0.6243 - root_mean_squared_error: 0.7901 - val_loss: 0.7177 - val_root_mean_squared_error: 0.8472\n",
            "Epoch 5/200\n",
            "\u001b[1m596/596\u001b[0m \u001b[32m━━━━━━━━━━━━━━━━━━━━\u001b[0m\u001b[37m\u001b[0m \u001b[1m2s\u001b[0m 3ms/step - loss: 0.5714 - root_mean_squared_error: 0.7559 - val_loss: 0.7294 - val_root_mean_squared_error: 0.8540\n",
            "Epoch 6/200\n",
            "\u001b[1m596/596\u001b[0m \u001b[32m━━━━━━━━━━━━━━━━━━━━\u001b[0m\u001b[37m\u001b[0m \u001b[1m2s\u001b[0m 3ms/step - loss: 0.5046 - root_mean_squared_error: 0.7102 - val_loss: 0.7554 - val_root_mean_squared_error: 0.8692\n",
            "Epoch 7/200\n",
            "\u001b[1m596/596\u001b[0m \u001b[32m━━━━━━━━━━━━━━━━━━━━\u001b[0m\u001b[37m\u001b[0m \u001b[1m3s\u001b[0m 4ms/step - loss: 0.4433 - root_mean_squared_error: 0.6657 - val_loss: 0.7853 - val_root_mean_squared_error: 0.8862\n",
            "Epoch 8/200\n",
            "\u001b[1m596/596\u001b[0m \u001b[32m━━━━━━━━━━━━━━━━━━━━\u001b[0m\u001b[37m\u001b[0m \u001b[1m3s\u001b[0m 4ms/step - loss: 0.3956 - root_mean_squared_error: 0.6289 - val_loss: 0.8168 - val_root_mean_squared_error: 0.9038\n",
            "Epoch 9/200\n",
            "\u001b[1m596/596\u001b[0m \u001b[32m━━━━━━━━━━━━━━━━━━━━\u001b[0m\u001b[37m\u001b[0m \u001b[1m3s\u001b[0m 4ms/step - loss: 0.3493 - root_mean_squared_error: 0.5909 - val_loss: 0.8540 - val_root_mean_squared_error: 0.9241\n",
            "Epoch 10/200\n",
            "\u001b[1m596/596\u001b[0m \u001b[32m━━━━━━━━━━━━━━━━━━━━\u001b[0m\u001b[37m\u001b[0m \u001b[1m2s\u001b[0m 3ms/step - loss: 0.3154 - root_mean_squared_error: 0.5615 - val_loss: 0.8694 - val_root_mean_squared_error: 0.9324\n",
            "Epoch 11/200\n",
            "\u001b[1m596/596\u001b[0m \u001b[32m━━━━━━━━━━━━━━━━━━━━\u001b[0m\u001b[37m\u001b[0m \u001b[1m2s\u001b[0m 3ms/step - loss: 0.2840 - root_mean_squared_error: 0.5327 - val_loss: 0.8985 - val_root_mean_squared_error: 0.9479\n",
            "Epoch 12/200\n",
            "\u001b[1m596/596\u001b[0m \u001b[32m━━━━━━━━━━━━━━━━━━━━\u001b[0m\u001b[37m\u001b[0m \u001b[1m2s\u001b[0m 3ms/step - loss: 0.2550 - root_mean_squared_error: 0.5048 - val_loss: 0.9547 - val_root_mean_squared_error: 0.9771\n",
            "Epoch 13/200\n",
            "\u001b[1m596/596\u001b[0m \u001b[32m━━━━━━━━━━━━━━━━━━━━\u001b[0m\u001b[37m\u001b[0m \u001b[1m2s\u001b[0m 3ms/step - loss: 0.2326 - root_mean_squared_error: 0.4821 - val_loss: 0.9499 - val_root_mean_squared_error: 0.9746\n",
            "Epoch 14/200\n",
            "\u001b[1m596/596\u001b[0m \u001b[32m━━━━━━━━━━━━━━━━━━━━\u001b[0m\u001b[37m\u001b[0m \u001b[1m3s\u001b[0m 4ms/step - loss: 0.2096 - root_mean_squared_error: 0.4576 - val_loss: 0.9663 - val_root_mean_squared_error: 0.9830\n",
            "Epoch 15/200\n",
            "\u001b[1m596/596\u001b[0m \u001b[32m━━━━━━━━━━━━━━━━━━━━\u001b[0m\u001b[37m\u001b[0m \u001b[1m2s\u001b[0m 3ms/step - loss: 0.1937 - root_mean_squared_error: 0.4400 - val_loss: 1.0075 - val_root_mean_squared_error: 1.0037\n",
            "Epoch 16/200\n",
            "\u001b[1m596/596\u001b[0m \u001b[32m━━━━━━━━━━━━━━━━━━━━\u001b[0m\u001b[37m\u001b[0m \u001b[1m2s\u001b[0m 3ms/step - loss: 0.1755 - root_mean_squared_error: 0.4187 - val_loss: 1.0443 - val_root_mean_squared_error: 1.0219\n",
            "Epoch 17/200\n",
            "\u001b[1m596/596\u001b[0m \u001b[32m━━━━━━━━━━━━━━━━━━━━\u001b[0m\u001b[37m\u001b[0m \u001b[1m3s\u001b[0m 3ms/step - loss: 0.1594 - root_mean_squared_error: 0.3990 - val_loss: 1.0683 - val_root_mean_squared_error: 1.0336\n",
            "Epoch 18/200\n",
            "\u001b[1m596/596\u001b[0m \u001b[32m━━━━━━━━━━━━━━━━━━━━\u001b[0m\u001b[37m\u001b[0m \u001b[1m3s\u001b[0m 5ms/step - loss: 0.1490 - root_mean_squared_error: 0.3859 - val_loss: 1.0735 - val_root_mean_squared_error: 1.0361\n",
            "Epoch 19/200\n",
            "\u001b[1m596/596\u001b[0m \u001b[32m━━━━━━━━━━━━━━━━━━━━\u001b[0m\u001b[37m\u001b[0m \u001b[1m2s\u001b[0m 4ms/step - loss: 0.1371 - root_mean_squared_error: 0.3701 - val_loss: 1.0817 - val_root_mean_squared_error: 1.0401\n",
            "Epoch 20/200\n",
            "\u001b[1m596/596\u001b[0m \u001b[32m━━━━━━━━━━━━━━━━━━━━\u001b[0m\u001b[37m\u001b[0m \u001b[1m3s\u001b[0m 4ms/step - loss: 0.1274 - root_mean_squared_error: 0.3568 - val_loss: 1.0918 - val_root_mean_squared_error: 1.0449\n",
            "Epoch 21/200\n",
            "\u001b[1m596/596\u001b[0m \u001b[32m━━━━━━━━━━━━━━━━━━━━\u001b[0m\u001b[37m\u001b[0m \u001b[1m2s\u001b[0m 3ms/step - loss: 0.1192 - root_mean_squared_error: 0.3451 - val_loss: 1.1137 - val_root_mean_squared_error: 1.0553\n",
            "Epoch 22/200\n",
            "\u001b[1m596/596\u001b[0m \u001b[32m━━━━━━━━━━━━━━━━━━━━\u001b[0m\u001b[37m\u001b[0m \u001b[1m3s\u001b[0m 4ms/step - loss: 0.1115 - root_mean_squared_error: 0.3338 - val_loss: 1.1184 - val_root_mean_squared_error: 1.0576\n",
            "Epoch 23/200\n",
            "\u001b[1m596/596\u001b[0m \u001b[32m━━━━━━━━━━━━━━━━━━━━\u001b[0m\u001b[37m\u001b[0m \u001b[1m3s\u001b[0m 4ms/step - loss: 0.1064 - root_mean_squared_error: 0.3261 - val_loss: 1.1194 - val_root_mean_squared_error: 1.0580\n",
            "Epoch 24/200\n",
            "\u001b[1m596/596\u001b[0m \u001b[32m━━━━━━━━━━━━━━━━━━━━\u001b[0m\u001b[37m\u001b[0m \u001b[1m5s\u001b[0m 3ms/step - loss: 0.1002 - root_mean_squared_error: 0.3165 - val_loss: 1.1332 - val_root_mean_squared_error: 1.0645\n",
            "*Treinando NeuMF\n",
            "Epoch 1/200\n",
            "\u001b[1m596/596\u001b[0m \u001b[32m━━━━━━━━━━━━━━━━━━━━\u001b[0m\u001b[37m\u001b[0m \u001b[1m5s\u001b[0m 6ms/step - loss: 4.5193 - root_mean_squared_error: 2.0206 - val_loss: 0.7445 - val_root_mean_squared_error: 0.8628\n",
            "Epoch 2/200\n",
            "\u001b[1m596/596\u001b[0m \u001b[32m━━━━━━━━━━━━━━━━━━━━\u001b[0m\u001b[37m\u001b[0m \u001b[1m3s\u001b[0m 5ms/step - loss: 0.6709 - root_mean_squared_error: 0.8191 - val_loss: 0.7140 - val_root_mean_squared_error: 0.8450\n",
            "Epoch 3/200\n",
            "\u001b[1m596/596\u001b[0m \u001b[32m━━━━━━━━━━━━━━━━━━━━\u001b[0m\u001b[37m\u001b[0m \u001b[1m3s\u001b[0m 5ms/step - loss: 0.4590 - root_mean_squared_error: 0.6773 - val_loss: 0.7600 - val_root_mean_squared_error: 0.8718\n",
            "Epoch 4/200\n",
            "\u001b[1m596/596\u001b[0m \u001b[32m━━━━━━━━━━━━━━━━━━━━\u001b[0m\u001b[37m\u001b[0m \u001b[1m6s\u001b[0m 5ms/step - loss: 0.2180 - root_mean_squared_error: 0.4669 - val_loss: 0.8059 - val_root_mean_squared_error: 0.8977\n",
            "Epoch 5/200\n",
            "\u001b[1m596/596\u001b[0m \u001b[32m━━━━━━━━━━━━━━━━━━━━\u001b[0m\u001b[37m\u001b[0m \u001b[1m3s\u001b[0m 5ms/step - loss: 0.1206 - root_mean_squared_error: 0.3473 - val_loss: 0.8475 - val_root_mean_squared_error: 0.9206\n",
            "Epoch 6/200\n",
            "\u001b[1m596/596\u001b[0m \u001b[32m━━━━━━━━━━━━━━━━━━━━\u001b[0m\u001b[37m\u001b[0m \u001b[1m5s\u001b[0m 4ms/step - loss: 0.0783 - root_mean_squared_error: 0.2797 - val_loss: 0.8761 - val_root_mean_squared_error: 0.9360\n",
            "Epoch 7/200\n",
            "\u001b[1m596/596\u001b[0m \u001b[32m━━━━━━━━━━━━━━━━━━━━\u001b[0m\u001b[37m\u001b[0m \u001b[1m3s\u001b[0m 5ms/step - loss: 0.0566 - root_mean_squared_error: 0.2378 - val_loss: 0.9081 - val_root_mean_squared_error: 0.9529\n",
            "Epoch 8/200\n",
            "\u001b[1m596/596\u001b[0m \u001b[32m━━━━━━━━━━━━━━━━━━━━\u001b[0m\u001b[37m\u001b[0m \u001b[1m3s\u001b[0m 6ms/step - loss: 0.0461 - root_mean_squared_error: 0.2145 - val_loss: 0.9243 - val_root_mean_squared_error: 0.9614\n",
            "Epoch 9/200\n",
            "\u001b[1m596/596\u001b[0m \u001b[32m━━━━━━━━━━━━━━━━━━━━\u001b[0m\u001b[37m\u001b[0m \u001b[1m4s\u001b[0m 4ms/step - loss: 0.0411 - root_mean_squared_error: 0.2027 - val_loss: 0.9408 - val_root_mean_squared_error: 0.9699\n",
            "Epoch 10/200\n",
            "\u001b[1m596/596\u001b[0m \u001b[32m━━━━━━━━━━━━━━━━━━━━\u001b[0m\u001b[37m\u001b[0m \u001b[1m6s\u001b[0m 6ms/step - loss: 0.0380 - root_mean_squared_error: 0.1949 - val_loss: 0.9491 - val_root_mean_squared_error: 0.9742\n",
            "Epoch 11/200\n",
            "\u001b[1m596/596\u001b[0m \u001b[32m━━━━━━━━━━━━━━━━━━━━\u001b[0m\u001b[37m\u001b[0m \u001b[1m4s\u001b[0m 5ms/step - loss: 0.0335 - root_mean_squared_error: 0.1829 - val_loss: 0.9595 - val_root_mean_squared_error: 0.9796\n",
            "Epoch 12/200\n",
            "\u001b[1m596/596\u001b[0m \u001b[32m━━━━━━━━━━━━━━━━━━━━\u001b[0m\u001b[37m\u001b[0m \u001b[1m3s\u001b[0m 5ms/step - loss: 0.0299 - root_mean_squared_error: 0.1728 - val_loss: 0.9665 - val_root_mean_squared_error: 0.9831\n",
            "Epoch 13/200\n",
            "\u001b[1m596/596\u001b[0m \u001b[32m━━━━━━━━━━━━━━━━━━━━\u001b[0m\u001b[37m\u001b[0m \u001b[1m3s\u001b[0m 6ms/step - loss: 0.0270 - root_mean_squared_error: 0.1641 - val_loss: 0.9742 - val_root_mean_squared_error: 0.9870\n",
            "Epoch 14/200\n",
            "\u001b[1m596/596\u001b[0m \u001b[32m━━━━━━━━━━━━━━━━━━━━\u001b[0m\u001b[37m\u001b[0m \u001b[1m5s\u001b[0m 5ms/step - loss: 0.0255 - root_mean_squared_error: 0.1595 - val_loss: 0.9812 - val_root_mean_squared_error: 0.9906\n",
            "Epoch 15/200\n",
            "\u001b[1m596/596\u001b[0m \u001b[32m━━━━━━━━━━━━━━━━━━━━\u001b[0m\u001b[37m\u001b[0m \u001b[1m5s\u001b[0m 5ms/step - loss: 0.0239 - root_mean_squared_error: 0.1547 - val_loss: 0.9874 - val_root_mean_squared_error: 0.9937\n",
            "Epoch 16/200\n",
            "\u001b[1m596/596\u001b[0m \u001b[32m━━━━━━━━━━━━━━━━━━━━\u001b[0m\u001b[37m\u001b[0m \u001b[1m4s\u001b[0m 6ms/step - loss: 0.0232 - root_mean_squared_error: 0.1521 - val_loss: 0.9899 - val_root_mean_squared_error: 0.9949\n",
            "Epoch 17/200\n",
            "\u001b[1m596/596\u001b[0m \u001b[32m━━━━━━━━━━━━━━━━━━━━\u001b[0m\u001b[37m\u001b[0m \u001b[1m4s\u001b[0m 5ms/step - loss: 0.0218 - root_mean_squared_error: 0.1476 - val_loss: 0.9939 - val_root_mean_squared_error: 0.9970\n",
            "Epoch 18/200\n",
            "\u001b[1m596/596\u001b[0m \u001b[32m━━━━━━━━━━━━━━━━━━━━\u001b[0m\u001b[37m\u001b[0m \u001b[1m3s\u001b[0m 5ms/step - loss: 0.0205 - root_mean_squared_error: 0.1433 - val_loss: 0.9987 - val_root_mean_squared_error: 0.9994\n",
            "Epoch 19/200\n",
            "\u001b[1m596/596\u001b[0m \u001b[32m━━━━━━━━━━━━━━━━━━━━\u001b[0m\u001b[37m\u001b[0m \u001b[1m3s\u001b[0m 6ms/step - loss: 0.0190 - root_mean_squared_error: 0.1377 - val_loss: 1.0007 - val_root_mean_squared_error: 1.0004\n",
            "Epoch 20/200\n",
            "\u001b[1m596/596\u001b[0m \u001b[32m━━━━━━━━━━━━━━━━━━━━\u001b[0m\u001b[37m\u001b[0m \u001b[1m3s\u001b[0m 4ms/step - loss: 0.0179 - root_mean_squared_error: 0.1338 - val_loss: 1.0042 - val_root_mean_squared_error: 1.0021\n",
            "Epoch 21/200\n",
            "\u001b[1m596/596\u001b[0m \u001b[32m━━━━━━━━━━━━━━━━━━━━\u001b[0m\u001b[37m\u001b[0m \u001b[1m5s\u001b[0m 5ms/step - loss: 0.0174 - root_mean_squared_error: 0.1317 - val_loss: 1.0071 - val_root_mean_squared_error: 1.0035\n",
            "Epoch 22/200\n",
            "\u001b[1m596/596\u001b[0m \u001b[32m━━━━━━━━━━━━━━━━━━━━\u001b[0m\u001b[37m\u001b[0m \u001b[1m4s\u001b[0m 6ms/step - loss: 0.0168 - root_mean_squared_error: 0.1297 - val_loss: 1.0095 - val_root_mean_squared_error: 1.0047\n"
          ]
        },
        {
          "output_type": "execute_result",
          "data": {
            "text/plain": [
              "<keras.src.callbacks.history.History at 0x7c499dbe4990>"
            ]
          },
          "metadata": {},
          "execution_count": 56
        }
      ],
      "source": [
        "import tensorflow as tf\n",
        "from tensorflow.keras.models import Model\n",
        "from tensorflow.keras.layers import Input, Embedding, Flatten, Concatenate, Dense, Multiply\n",
        "from tensorflow.keras.optimizers import Adam\n",
        "\n",
        "from tensorflow.keras.callbacks import EarlyStopping\n",
        "\n",
        "n_users = df['userId'].nunique()\n",
        "n_items = df['movieId'].nunique()\n",
        "\n",
        "# dados para o Keras\n",
        "X_train = [train['userId'], train['movieId']]\n",
        "y_train = train['rating']\n",
        "X_test = [test['userId'], test['movieId']]\n",
        "y_test = test['rating']\n",
        "\n",
        "#1 Modelo de GMF (Generalized Matrix Factorization)\n",
        "def build_gmf_model(num_users, num_items, latent_dim=32):\n",
        "\n",
        "    user_input = Input(shape=(1,), dtype='int32', name='user_input')\n",
        "    item_input = Input(shape=(1,), dtype='int32', name='item_input')\n",
        "\n",
        "    user_embedding = Embedding(num_users, latent_dim, name='user_embedding')(user_input)\n",
        "    item_embedding = Embedding(num_items, latent_dim, name='item_embedding')(item_input)\n",
        "\n",
        "    user_vec = Flatten()(user_embedding)\n",
        "    item_vec = Flatten()(item_embedding)\n",
        "\n",
        "    multiply_layer = Multiply()([user_vec, item_vec])\n",
        "    prediction = Dense(1, name='prediction')(multiply_layer)\n",
        "\n",
        "    model = Model(inputs=[user_input, item_input], outputs=prediction)\n",
        "    model.compile(\n",
        "        optimizer=Adam(learning_rate=0.001),\n",
        "        loss='mean_squared_error',\n",
        "        metrics=[tf.keras.metrics.RootMeanSquaredError()])\n",
        "\n",
        "    return model\n",
        "\n",
        "# 2 Modelo de MLP (Multi-Layer Perceptron)\n",
        "def build_mlp_model(num_users, num_items, layers=[64, 32, 16, 8]):\n",
        "\n",
        "    num_layer = len(layers)\n",
        "\n",
        "    user_input = Input(shape=(1,), dtype='int32', name='user_input')\n",
        "    item_input = Input(shape=(1,), dtype='int32', name='item_input')\n",
        "\n",
        "    # A dimensão do embedding é metade do tamanho da primeira camada densa\n",
        "    embedding_dim = layers[0] // 2\n",
        "    user_embedding = Embedding(input_dim=num_users, output_dim=embedding_dim, name='user_embedding')(user_input)\n",
        "    item_embedding = Embedding(input_dim=num_items, output_dim=embedding_dim, name='item_embedding')(item_input)\n",
        "\n",
        "    user_vec = Flatten()(user_embedding)\n",
        "    item_vec = Flatten()(item_embedding)\n",
        "    concat = Concatenate()([user_vec, item_vec])\n",
        "\n",
        "    x = concat\n",
        "\n",
        "    for i in range(1, num_layer):\n",
        "        x = Dense(layers[i], activation='relu')(x)\n",
        "\n",
        "    prediction = Dense(1, name='prediction')(x)\n",
        "\n",
        "    model = Model(inputs=[user_input, item_input], outputs=prediction)\n",
        "    model.compile(\n",
        "        optimizer=Adam(learning_rate=0.001),\n",
        "        loss='mean_squared_error',\n",
        "        metrics=[tf.keras.metrics.RootMeanSquaredError()])\n",
        "\n",
        "    return model\n",
        "\n",
        "# 3 Modelo de NeuMF (Neural Matrix Factorization)\n",
        "def build_neumf_model(num_users, num_items, mf_dim=32, layers=[64, 32, 16, 8]):\n",
        "\n",
        "    num_layer = len(layers)\n",
        "\n",
        "    user_input = Input(shape=(1,), dtype='int32', name='user_input')\n",
        "    item_input = Input(shape=(1,), dtype='int32', name='item_input')\n",
        "\n",
        "    # interações lineares\n",
        "    gmf_user_embedding = Embedding(num_users, mf_dim, name='gmf_user_embedding')(user_input)\n",
        "    gmf_item_embedding = Embedding(num_items, mf_dim, name='gmf_item_embedding')(item_input)\n",
        "\n",
        "    gmf_user_vec = Flatten()(gmf_user_embedding)\n",
        "    gmf_item_vec = Flatten()(gmf_item_embedding)\n",
        "\n",
        "    gmf_vector = Multiply()([gmf_user_vec, gmf_item_vec])\n",
        "\n",
        "    # interações não-lineares\n",
        "    mlp_embedding_dim = layers[0] // 2\n",
        "    mlp_user_embedding = Embedding(num_users, mlp_embedding_dim, name='mlp_user_embedding')(user_input)\n",
        "    mlp_item_embedding = Embedding(num_items, mlp_embedding_dim, name='mlp_item_embedding')(item_input)\n",
        "\n",
        "    mlp_user_vec = Flatten()(mlp_user_embedding)\n",
        "    mlp_item_vec = Flatten()(mlp_item_embedding)\n",
        "\n",
        "    mlp_vector = Concatenate()([mlp_user_vec, mlp_item_vec])\n",
        "\n",
        "    for i in range(1, num_layer):\n",
        "        mlp_vector = Dense(layers[i], activation='relu')(mlp_vector)\n",
        "\n",
        "    neumf_vector = Concatenate()([gmf_vector, mlp_vector])\n",
        "    prediction = Dense(1, name='prediction')(neumf_vector)\n",
        "\n",
        "    model = Model(inputs=[user_input, item_input], outputs=prediction)\n",
        "    model.compile(\n",
        "        optimizer=Adam(learning_rate=0.001),\n",
        "        loss='mean_squared_error',\n",
        "        metrics=[tf.keras.metrics.RootMeanSquaredError()])\n",
        "\n",
        "    return model\n",
        "\n",
        "# instâncias dos modelos\n",
        "gmf_model = build_gmf_model(n_users, n_items, latent_dim=32)\n",
        "mlp_model = build_mlp_model(n_users, n_items, layers=[64, 32, 16, 8])\n",
        "neumf_model = build_neumf_model(n_users, n_items, mf_dim=32, layers=[64, 32, 16, 8])\n",
        "\n",
        "# máximo de épocas\n",
        "epochs = 200\n",
        "\n",
        "# instância do callback EarlyStopping\n",
        "early_stopping = EarlyStopping(\n",
        "    monitor='val_loss',      # métrica monitorada\n",
        "    patience=20,              # épocas sem melhora antes de parar\n",
        "    restore_best_weights=True  # eestaura os pesos da melhor época\n",
        ")\n",
        "\n",
        "print(\"* Treinando GMF\")\n",
        "gmf_model.fit(\n",
        "    X_train, y_train,\n",
        "    batch_size=256,\n",
        "    epochs=epochs,\n",
        "    validation_data=(X_test, y_test),\n",
        "    verbose=1,\n",
        "    callbacks=[early_stopping]\n",
        ")\n",
        "\n",
        "print(\"* Treinando MLP\")\n",
        "mlp_model.fit(\n",
        "    X_train, y_train,\n",
        "    batch_size=256,\n",
        "    epochs=epochs,\n",
        "    validation_data=(X_test, y_test),\n",
        "    verbose=1,\n",
        "    callbacks=[early_stopping]\n",
        ")\n",
        "\n",
        "print(\"*Treinando NeuMF\")\n",
        "neumf_model.fit(\n",
        "    X_train, y_train,\n",
        "    batch_size=256,\n",
        "    epochs=epochs,\n",
        "    validation_data=(X_test, y_test),\n",
        "    verbose=1,\n",
        "    callbacks=[early_stopping]\n",
        ")"
      ]
    },
    {
      "cell_type": "code",
      "source": [
        "from tqdm import tqdm\n",
        "import numpy as np\n",
        "\n",
        "squared_errors = []\n",
        "\n",
        "# RMSE do SVD++ (do test)\n",
        "for _, row in tqdm(test.iterrows(), total=test.shape[0]):\n",
        "\n",
        "    user_id = row['userId']\n",
        "    item_id = row['movieId']\n",
        "    real_rating = row['rating']\n",
        "\n",
        "    # predição com o modelo treinado\n",
        "    predicted_rating = predict_svdpp(svdpp_model, user_id, item_id, implicit_feedback_full)\n",
        "\n",
        "    # Calcula o erro quadrado\n",
        "    error = real_rating - predicted_rating\n",
        "    squared_errors.append(error**2)\n",
        "\n",
        "# Calcula o MSE e RMSE\n",
        "mse = np.mean(squared_errors)\n",
        "svdpp_rmse = np.sqrt(mse)"
      ],
      "metadata": {
        "colab": {
          "base_uri": "https://localhost:8080/"
        },
        "id": "WB2sPROL0zsn",
        "outputId": "55f797c9-0adc-46da-99e0-ef469f970216"
      },
      "id": "WB2sPROL0zsn",
      "execution_count": 57,
      "outputs": [
        {
          "output_type": "stream",
          "name": "stderr",
          "text": [
            "100%|██████████| 38125/38125 [00:03<00:00, 12241.26it/s]\n"
          ]
        }
      ]
    },
    {
      "cell_type": "code",
      "source": [
        "# Avaliação final no conjunto de teste\n",
        "print(\"* Avaliando modelos\\n\")\n",
        "gmf_loss, gmf_rmse = gmf_model.evaluate(X_test, y_test, verbose=0)\n",
        "mlp_loss, mlp_rmse = mlp_model.evaluate(X_test, y_test, verbose=0)\n",
        "neumf_loss, neumf_rmse = neumf_model.evaluate(X_test, y_test, verbose=0)\n",
        "\n",
        "print(\"* RMSE finais (teste)\")\n",
        "print(f\"GMF:   {gmf_rmse:.4f}\")\n",
        "print(f\"MLP:   {mlp_rmse:.4f}\")\n",
        "print(f\"NeuMF: {neumf_rmse:.4f}\")\n",
        "print(f\"SVD++: {svdpp_rmse:.4f}\")"
      ],
      "metadata": {
        "colab": {
          "base_uri": "https://localhost:8080/"
        },
        "id": "0N_fuFZZxmJ5",
        "outputId": "01d1ca0e-faa0-4f25-9174-97a7cb0318e2"
      },
      "id": "0N_fuFZZxmJ5",
      "execution_count": 59,
      "outputs": [
        {
          "output_type": "stream",
          "name": "stdout",
          "text": [
            "* Avaliando modelos\n",
            "\n",
            "* RMSE finais (teste)\n",
            "GMF:   0.8782\n",
            "MLP:   0.8472\n",
            "NeuMF: 0.8450\n",
            "SVD++: 0.9006\n"
          ]
        }
      ]
    }
  ],
  "metadata": {
    "kernelspec": {
      "display_name": "Python 3",
      "language": "python",
      "name": "python3"
    },
    "language_info": {
      "codemirror_mode": {
        "name": "ipython",
        "version": 3
      },
      "file_extension": ".py",
      "mimetype": "text/x-python",
      "name": "python",
      "nbconvert_exporter": "python",
      "pygments_lexer": "ipython3",
      "version": "3.8.5"
    },
    "colab": {
      "provenance": []
    }
  },
  "nbformat": 4,
  "nbformat_minor": 5
}